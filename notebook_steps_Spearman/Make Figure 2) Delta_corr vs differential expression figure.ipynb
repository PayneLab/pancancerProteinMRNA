{
 "cells": [
  {
   "cell_type": "code",
   "execution_count": 1,
   "metadata": {},
   "outputs": [],
   "source": [
    "import cptac\n",
    "import seaborn as sns\n",
    "import matplotlib.pyplot as plt\n",
    "import pandas as pd\n",
    "import scipy.stats as stats\n",
    "import Delta_Correlation as dc\n",
    "from statannot import add_stat_annotation\n",
    "import numpy as np"
   ]
  },
  {
   "cell_type": "code",
   "execution_count": 2,
   "metadata": {},
   "outputs": [
    {
     "name": "stdout",
     "output_type": "stream",
     "text": [
      "                                         \r"
     ]
    }
   ],
   "source": [
    "luad = cptac.Luad()"
   ]
  },
  {
   "cell_type": "code",
   "execution_count": 3,
   "metadata": {},
   "outputs": [
    {
     "name": "stderr",
     "output_type": "stream",
     "text": [
      "cptac warning: Due to dropping the specified levels, dataframe now has 745 duplicated column headers. (C:\\Users\\nanel\\Documents\\GitHub\\pancancerProteinMRNA\\notebook_steps_Spearman\\Delta_Correlation.py, line 26)\n",
      "cptac warning: Due to dropping the specified levels, dataframe now has 745 duplicated column headers. (C:\\Users\\nanel\\Documents\\GitHub\\pancancerProteinMRNA\\notebook_steps_Spearman\\Delta_Correlation.py, line 36)\n"
     ]
    }
   ],
   "source": [
    "df = dc.get_prot_trans_df(luad)\n",
    "df.Tissue = [tissue.title() for tissue in df.Tissue]\n",
    "df = df.rename(columns = {'Proteomics': 'Protein Abundance', 'Transcriptomics': 'RNA Abundance'})"
   ]
  },
  {
   "cell_type": "code",
   "execution_count": 4,
   "metadata": {},
   "outputs": [],
   "source": [
    "genes = ['BANP', 'AURKB', 'MAP2K1']\n",
    "df = df[df.Gene.isin(genes)]"
   ]
  },
  {
   "cell_type": "code",
   "execution_count": 5,
   "metadata": {},
   "outputs": [],
   "source": [
    "diff_prot = pd.read_csv('data/Proteomics_differential_expression_df.csv')\n",
    "diff_prot = diff_prot[diff_prot.Gene.isin(genes)]\n",
    "diff_prot = diff_prot[diff_prot.Cancer == 'LUAD']\n",
    "diff_trans = pd.read_csv('data/Transcriptomics_differential_expression_df.csv')\n",
    "diff_trans = diff_trans[diff_trans.Gene.isin(genes)]\n",
    "diff_trans = diff_trans[diff_trans.Cancer == 'LUAD']"
   ]
  },
  {
   "cell_type": "code",
   "execution_count": 6,
   "metadata": {},
   "outputs": [],
   "source": [
    "a = 'Gene: BANP\\n' + 'Cancer: LUAD\\n'   + r'$\\Delta$' + ' Correlation:' + u'\\u2718' + '\\n' + 'Diff. Expression: ' + u'\\u2714'\n",
    "b = 'Gene: AURKB\\n' + 'Cancer: LUAD\\n' + r'$\\Delta$' + ' Correlation:' + u'\\u2714' + '\\n' + 'Diff. Expression:' + u'\\u2714'\n",
    "c = 'Gene: MAP2K1\\n' + 'Cancer: LUAD\\n'  + r'$\\Delta$' + ' Correlation:' + u'\\u2714' + '\\n' + 'Diff. Expression:' + u'\\u2718'\n",
    "notes = [a,b,c]"
   ]
  },
  {
   "cell_type": "code",
   "execution_count": 7,
   "metadata": {},
   "outputs": [],
   "source": [
    "sns.set_context(rc={\"font.size\":16,\"axes.titlesize\":16,\"axes.labelsize\":16, 'xtick.labelsize': 12, 'ytick.labelsize': 12}) "
   ]
  },
  {
   "cell_type": "code",
   "execution_count": null,
   "metadata": {},
   "outputs": [],
   "source": [
    "fig, ax = plt.subplots(nrows = 3, ncols = 3, figsize=(15,15))\n",
    "plt.subplots_adjust(hspace = 0.3)\n",
    "i = 0\n",
    "for gene, s in zip(genes, notes):\n",
    "    gene_df = df[df.Gene == gene]\n",
    "    trans_pval = diff_trans[diff_trans.Gene == gene].FDR\n",
    "    trans_pval = np.array(trans_pval)\n",
    "    prot_pval = diff_prot[diff_prot.Gene == gene].FDR\n",
    "    prot_pval = np.array(prot_pval)\n",
    "    plt.sca(ax[i][0])\n",
    "    plt.gca().text(-0.3, 1, s, transform = plt.gca().transAxes, \n",
    "                 fontsize = 16, va = 'top', ha = 'right')\n",
    "    sns.regplot(data = gene_df[gene_df.Tissue == 'Normal'], y = 'Protein Abundance', \n",
    "                   x = 'RNA Abundance')\n",
    "    sns.regplot(data = gene_df[gene_df.Tissue == 'Tumor'], y = 'Protein Abundance', \n",
    "                   x = 'RNA Abundance')\n",
    "    plt.sca(ax[i][1])\n",
    "    g = sns.boxplot(data = gene_df, x = 'Tissue', y = 'Protein Abundance', order = ['Normal', 'Tumor'], fliersize = 0)\n",
    "    test_results = add_stat_annotation(g, data=df, x='Tissue', y='Protein Abundance', order = ['Normal', 'Tumor'],\n",
    "                                   box_pairs=[('Normal', 'Tumor')],\n",
    "                                   pvalues = prot_pval, text_format='star',\n",
    "                                   loc='outside', perform_stat_test=False, verbose = False)\n",
    "    plt.sca(ax[i][2])\n",
    "    g2 = sns.boxplot(data = gene_df, x = 'Tissue', y = 'RNA Abundance', order = ['Normal', 'Tumor'], fliersize = 0)\n",
    "    test_results = add_stat_annotation(g2, data=df, x='Tissue', y='RNA Abundance', order = ['Normal', 'Tumor'],\n",
    "                                   box_pairs=[('Normal', 'Tumor')],\n",
    "                                   pvalues = trans_pval, text_format='star',\n",
    "                                   loc='outside', perform_stat_test=False, verbose = False)\n",
    "    i += 1\n",
    "\n",
    "fig.tight_layout()\n",
    "plt.savefig('Figures/Figure 2) Correlation vs Differential Expression.png')"
   ]
  },
  {
   "cell_type": "code",
   "execution_count": null,
   "metadata": {},
   "outputs": [],
   "source": []
  },
  {
   "cell_type": "code",
   "execution_count": null,
   "metadata": {},
   "outputs": [],
   "source": []
  },
  {
   "cell_type": "code",
   "execution_count": null,
   "metadata": {},
   "outputs": [],
   "source": []
  }
 ],
 "metadata": {
  "kernelspec": {
   "display_name": "Python 3",
   "language": "python",
   "name": "python3"
  },
  "language_info": {
   "codemirror_mode": {
    "name": "ipython",
    "version": 3
   },
   "file_extension": ".py",
   "mimetype": "text/x-python",
   "name": "python",
   "nbconvert_exporter": "python",
   "pygments_lexer": "ipython3",
   "version": "3.8.3"
  }
 },
 "nbformat": 4,
 "nbformat_minor": 4
}
