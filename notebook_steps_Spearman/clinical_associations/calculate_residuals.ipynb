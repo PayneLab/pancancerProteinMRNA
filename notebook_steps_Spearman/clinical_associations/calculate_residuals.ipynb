{
 "cells": [
  {
   "cell_type": "code",
   "execution_count": 10,
   "id": "ba8cd115",
   "metadata": {},
   "outputs": [],
   "source": [
    "import pandas as pd\n",
    "import pcprutils as ut\n",
    "import numpy as np\n",
    "import altair as alt"
   ]
  },
  {
   "cell_type": "code",
   "execution_count": 11,
   "id": "fe3fa997",
   "metadata": {},
   "outputs": [],
   "source": [
    "def get_resid(reg_df, prot_trans_df):\n",
    "    merged = prot_trans_df.merge(\n",
    "        reg_df,\n",
    "        on=[\"Gene\", \"Tissue\"],\n",
    "        how=\"inner\"\n",
    "    )\n",
    "    \n",
    "    x = merged[\"Transcriptomics\"]\n",
    "    y = merged[\"Proteomics\"]\n",
    "    m = merged[\"m\"]\n",
    "    b = merged[\"b\"]\n",
    "    \n",
    "    orth_m = -1 / m\n",
    "    orth_b = y - orth_m * x\n",
    "    int_x = (b - orth_b) / (orth_m - m)\n",
    "    int_y = m * int_x + b\n",
    "    \n",
    "    d = np.sqrt((int_x - x) ** 2 + (int_y - y) ** 2)\n",
    "    \n",
    "    above_line = y > int_y\n",
    "    \n",
    "    merged = merged.assign(\n",
    "        orth_resid=d,\n",
    "        intersect_x=int_x,\n",
    "        intersect_y=int_y,\n",
    "        above_reg_line = above_line\n",
    "    )\n",
    "    \n",
    "    return merged\n",
    "\n"
   ]
  },
  {
   "cell_type": "code",
   "execution_count": 12,
   "id": "4d638708",
   "metadata": {},
   "outputs": [],
   "source": [
    "def calculate_residuals(cancer_types):\n",
    "    prot_trans = ut.load_prot_trans(cancer_types)\n",
    "    for cancer_type in cancer_types:\n",
    "        reg_df = pd.read_csv(f'{cancer_type}_regression.tsv', sep=\"\\t\")\n",
    "        prot_trans_df = prot_trans[cancer_type]\n",
    "        resid_df = get_resid(reg_df, prot_trans_df)\n",
    "        resid_df.to_csv(\n",
    "            f'{cancer_type}_residuals.tsv.gz', \n",
    "            sep='\\t',\n",
    "            compression='gzip',\n",
    "            index=False\n",
    "        )"
   ]
  },
  {
   "cell_type": "code",
   "execution_count": 13,
   "id": "e660ed57",
   "metadata": {},
   "outputs": [
    {
     "name": "stdout",
     "output_type": "stream",
     "text": [
      "                                          \r"
     ]
    },
    {
     "name": "stderr",
     "output_type": "stream",
     "text": [
      "cptac warning: Due to dropping the specified levels, dataframe now has 907 duplicated column headers. (/Library/Frameworks/Python.framework/Versions/3.9/lib/python3.9/site-packages/pcprutils/__init__.py, line 27)\n",
      "cptac warning: Due to dropping the specified levels, dataframe now has 907 duplicated column headers. (/Library/Frameworks/Python.framework/Versions/3.9/lib/python3.9/site-packages/pcprutils/__init__.py, line 41)\n"
     ]
    },
    {
     "name": "stdout",
     "output_type": "stream",
     "text": [
      "                                                \r"
     ]
    },
    {
     "name": "stderr",
     "output_type": "stream",
     "text": [
      "cptac warning: The LSCC data is currently strictly reserved for CPTAC investigators. Otherwise, you are not authorized to access these data. Additionally, even after these data become publicly available, they will be subject to a publication embargo (see https://proteomics.cancer.gov/data-portal/about/data-use-agreement or enter cptac.embargo() to open the webpage for more details). (/Library/Frameworks/Python.framework/Versions/3.9/lib/python3.9/site-packages/pcprutils/__init__.py, line 163)\n",
      "cptac warning: Due to dropping the specified levels, dataframe now has 858 duplicated column headers. (/Library/Frameworks/Python.framework/Versions/3.9/lib/python3.9/site-packages/pcprutils/__init__.py, line 27)\n",
      "cptac warning: Due to dropping the specified levels, dataframe now has 858 duplicated column headers. (/Library/Frameworks/Python.framework/Versions/3.9/lib/python3.9/site-packages/pcprutils/__init__.py, line 41)\n"
     ]
    },
    {
     "name": "stdout",
     "output_type": "stream",
     "text": [
      "                                         \r"
     ]
    },
    {
     "name": "stderr",
     "output_type": "stream",
     "text": [
      "cptac warning: Due to dropping the specified levels, dataframe now has 745 duplicated column headers. (/Library/Frameworks/Python.framework/Versions/3.9/lib/python3.9/site-packages/pcprutils/__init__.py, line 27)\n",
      "cptac warning: Due to dropping the specified levels, dataframe now has 745 duplicated column headers. (/Library/Frameworks/Python.framework/Versions/3.9/lib/python3.9/site-packages/pcprutils/__init__.py, line 41)\n"
     ]
    }
   ],
   "source": [
    "calculate_residuals([\n",
    "    \"ccrcc\",\n",
    "    \"endometrial\",\n",
    "    \"hnscc\",\n",
    "    \"lscc\",\n",
    "    \"luad\",\n",
    "])"
   ]
  }
 ],
 "metadata": {
  "kernelspec": {
   "display_name": "Python 3 (ipykernel)",
   "language": "python",
   "name": "python3"
  },
  "language_info": {
   "codemirror_mode": {
    "name": "ipython",
    "version": 3
   },
   "file_extension": ".py",
   "mimetype": "text/x-python",
   "name": "python",
   "nbconvert_exporter": "python",
   "pygments_lexer": "ipython3",
   "version": "3.9.1"
  }
 },
 "nbformat": 4,
 "nbformat_minor": 5
}
