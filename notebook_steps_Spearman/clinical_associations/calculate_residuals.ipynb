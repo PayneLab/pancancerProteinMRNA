{
 "cells": [
  {
   "cell_type": "code",
   "execution_count": 1,
   "metadata": {},
   "outputs": [],
   "source": [
    "import pandas as pd\n",
    "import pcprutils as ut\n",
    "import numpy as np\n",
    "import altair as alt"
   ]
  },
  {
   "cell_type": "code",
   "execution_count": 2,
   "metadata": {},
   "outputs": [],
   "source": [
    "def get_resid(reg_df, prot_trans_df):\n",
    "    merged = prot_trans_df.merge(\n",
    "        reg_df,\n",
    "        on=[\"Gene\", \"Tissue\"],\n",
    "        how=\"inner\"\n",
    "    )\n",
    "    \n",
    "    x = merged[\"Transcriptomics\"]\n",
    "    y = merged[\"Proteomics\"]\n",
    "    m = merged[\"m\"]\n",
    "    b = merged[\"b\"]\n",
    "    \n",
    "    orth_m = -1 / m\n",
    "    orth_b = y - orth_m * x\n",
    "    int_x = (b - orth_b) / (orth_m - m)\n",
    "    int_y = m * int_x + b\n",
    "    \n",
    "    d = np.sqrt((int_x - x) ** 2 + (int_y - y) ** 2)\n",
    "    \n",
    "    above_line = y > int_y\n",
    "    \n",
    "    merged = merged.assign(\n",
    "        orth_resid=d,\n",
    "        intersect_x=int_x,\n",
    "        intersect_y=int_y,\n",
    "        above_reg_line = above_line\n",
    "    )\n",
    "    \n",
    "    return merged\n",
    "\n"
   ]
  },
  {
   "cell_type": "code",
   "execution_count": 3,
   "metadata": {},
   "outputs": [],
   "source": [
    "def calculate_residuals(cancer_types):\n",
    "    prot_trans = ut.load_prot_trans(cancer_types, True)\n",
    "    for cancer_type in cancer_types:\n",
    "        reg_df = pd.read_csv(f'{cancer_type}_regression.tsv', sep=\"\\t\")\n",
    "        prot_trans_df = prot_trans[cancer_type]\n",
    "        resid_df = get_resid(reg_df, prot_trans_df)\n",
    "        resid_df.to_csv(\n",
    "            f'{cancer_type}_residuals.tsv.gz', \n",
    "            sep='\\t',\n",
    "            compression='gzip',\n",
    "            index=False\n",
    "        )"
   ]
  },
  {
   "cell_type": "code",
   "execution_count": null,
   "metadata": {},
   "outputs": [
    {
     "name": "stdout",
     "output_type": "stream",
     "text": [
      "Formatting bcmccrcc dataframes...            \r"
     ]
    },
    {
     "name": "stderr",
     "output_type": "stream",
     "text": [
      "/opt/anaconda3/lib/python3.8/site-packages/cptac/dataframe_tools.py:106: FutureWarning: The frame.append method is deprecated and will be removed from pandas in a future version. Use pandas.concat instead.\n",
      "  all_df = tumor.append(normal)\n",
      "/opt/anaconda3/lib/python3.8/site-packages/cptac/dataframe_tools.py:106: FutureWarning: The frame.append method is deprecated and will be removed from pandas in a future version. Use pandas.concat instead.\n",
      "  all_df = tumor.append(normal)\n"
     ]
    },
    {
     "name": "stdout",
     "output_type": "stream",
     "text": [
      "Loading broadccrcc v1.0...                     \r"
     ]
    },
    {
     "name": "stderr",
     "output_type": "stream",
     "text": [
      "/opt/anaconda3/lib/python3.8/site-packages/gtfparse/read_gtf.py:82: FutureWarning: The error_bad_lines argument has been deprecated and will be removed in a future version. Use on_bad_lines in the future.\n",
      "\n",
      "\n",
      "  chunk_iterator = pd.read_csv(\n",
      "/opt/anaconda3/lib/python3.8/site-packages/gtfparse/read_gtf.py:82: FutureWarning: The warn_bad_lines argument has been deprecated and will be removed in a future version. Use on_bad_lines in the future.\n",
      "\n",
      "\n",
      "  chunk_iterator = pd.read_csv(\n"
     ]
    },
    {
     "name": "stdout",
     "output_type": "stream",
     "text": [
      "                          \r",
      "Formatting broadccrcc dataframes...\r"
     ]
    },
    {
     "name": "stderr",
     "output_type": "stream",
     "text": [
      "/opt/anaconda3/lib/python3.8/site-packages/cptac/dataframe_tools.py:106: FutureWarning: The frame.append method is deprecated and will be removed from pandas in a future version. Use pandas.concat instead.\n",
      "  all_df = tumor.append(normal)\n"
     ]
    },
    {
     "name": "stdout",
     "output_type": "stream",
     "text": [
      "Formatting pdcccrcc dataframes...                \r"
     ]
    },
    {
     "name": "stderr",
     "output_type": "stream",
     "text": [
      "/opt/anaconda3/lib/python3.8/site-packages/cptac/dataframe_tools.py:106: FutureWarning: The frame.append method is deprecated and will be removed from pandas in a future version. Use pandas.concat instead.\n",
      "  all_df = tumor.append(normal)\n",
      "/opt/anaconda3/lib/python3.8/site-packages/cptac/dataframe_tools.py:106: FutureWarning: The frame.append method is deprecated and will be removed from pandas in a future version. Use pandas.concat instead.\n",
      "  all_df = tumor.append(normal)\n"
     ]
    },
    {
     "name": "stdout",
     "output_type": "stream",
     "text": [
      "Formatting dataframes...                       \r"
     ]
    },
    {
     "name": "stderr",
     "output_type": "stream",
     "text": [
      "/opt/anaconda3/lib/python3.8/site-packages/cptac/dataframe_tools.py:106: FutureWarning: The frame.append method is deprecated and will be removed from pandas in a future version. Use pandas.concat instead.\n",
      "  all_df = tumor.append(normal)\n",
      "/opt/anaconda3/lib/python3.8/site-packages/cptac/dataframe_tools.py:106: FutureWarning: The frame.append method is deprecated and will be removed from pandas in a future version. Use pandas.concat instead.\n",
      "  all_df = tumor.append(normal)\n",
      "/opt/anaconda3/lib/python3.8/site-packages/cptac/dataframe_tools.py:106: FutureWarning: The frame.append method is deprecated and will be removed from pandas in a future version. Use pandas.concat instead.\n",
      "  all_df = tumor.append(normal)\n"
     ]
    },
    {
     "name": "stdout",
     "output_type": "stream",
     "text": [
      "Loading washuccrcc v1.0........                  \r"
     ]
    },
    {
     "name": "stderr",
     "output_type": "stream",
     "text": [
      "/opt/anaconda3/lib/python3.8/site-packages/cptac/pancan/washuccrcc.py:136: FutureWarning: The frame.append method is deprecated and will be removed from pandas in a future version. Use pandas.concat instead.\n",
      "  all_df = tumor.append(normal)\n",
      "/opt/anaconda3/lib/python3.8/site-packages/cptac/pancan/washuccrcc.py:136: FutureWarning: The frame.append method is deprecated and will be removed from pandas in a future version. Use pandas.concat instead.\n",
      "  all_df = tumor.append(normal)\n",
      "/opt/anaconda3/lib/python3.8/site-packages/cptac/pancan/washuccrcc.py:136: FutureWarning: The frame.append method is deprecated and will be removed from pandas in a future version. Use pandas.concat instead.\n",
      "  all_df = tumor.append(normal)\n"
     ]
    },
    {
     "name": "stdout",
     "output_type": "stream",
     "text": [
      "Loading washuccrcc v1.0..........\r"
     ]
    },
    {
     "name": "stderr",
     "output_type": "stream",
     "text": [
      "/opt/anaconda3/lib/python3.8/site-packages/gtfparse/read_gtf.py:82: FutureWarning: The error_bad_lines argument has been deprecated and will be removed in a future version. Use on_bad_lines in the future.\n",
      "\n",
      "\n",
      "  chunk_iterator = pd.read_csv(\n",
      "/opt/anaconda3/lib/python3.8/site-packages/gtfparse/read_gtf.py:82: FutureWarning: The warn_bad_lines argument has been deprecated and will be removed in a future version. Use on_bad_lines in the future.\n",
      "\n",
      "\n",
      "  chunk_iterator = pd.read_csv(\n"
     ]
    },
    {
     "name": "stdout",
     "output_type": "stream",
     "text": [
      "Loading washuccrcc v1.0...........\r",
      "Loading washuccrcc v1.0............\r",
      "Loading washuccrcc v1.0.............\r",
      "Loading washuccrcc v1.0..............\r",
      "Loading washuccrcc v1.0...............\r",
      "Loading washuccrcc v1.0................\r",
      "Loading washuccrcc v1.0.................\r",
      "Loading washuccrcc v1.0..................\r",
      "                                         \r",
      "Formatting washuccrcc dataframes...\r"
     ]
    },
    {
     "name": "stderr",
     "output_type": "stream",
     "text": [
      "/opt/anaconda3/lib/python3.8/site-packages/cptac/pancan/washuccrcc.py:215: FutureWarning: The frame.append method is deprecated and will be removed from pandas in a future version. Use pandas.concat instead.\n",
      "  rna_combined = rna_tumor.append(rna_normal)\n",
      "/opt/anaconda3/lib/python3.8/site-packages/cptac/dataframe_tools.py:106: FutureWarning: The frame.append method is deprecated and will be removed from pandas in a future version. Use pandas.concat instead.\n",
      "  all_df = tumor.append(normal)\n",
      "/opt/anaconda3/lib/python3.8/site-packages/cptac/dataframe_tools.py:106: FutureWarning: The frame.append method is deprecated and will be removed from pandas in a future version. Use pandas.concat instead.\n",
      "  all_df = tumor.append(normal)\n",
      "/opt/anaconda3/lib/python3.8/site-packages/cptac/dataframe_tools.py:106: FutureWarning: The frame.append method is deprecated and will be removed from pandas in a future version. Use pandas.concat instead.\n",
      "  all_df = tumor.append(normal)\n",
      "/opt/anaconda3/lib/python3.8/site-packages/cptac/dataframe_tools.py:106: FutureWarning: The frame.append method is deprecated and will be removed from pandas in a future version. Use pandas.concat instead.\n",
      "  all_df = tumor.append(normal)\n",
      "/opt/anaconda3/lib/python3.8/site-packages/cptac/dataframe_tools.py:106: FutureWarning: The frame.append method is deprecated and will be removed from pandas in a future version. Use pandas.concat instead.\n",
      "  all_df = tumor.append(normal)\n",
      "/opt/anaconda3/lib/python3.8/site-packages/cptac/dataframe_tools.py:106: FutureWarning: The frame.append method is deprecated and will be removed from pandas in a future version. Use pandas.concat instead.\n",
      "  all_df = tumor.append(normal)\n",
      "/opt/anaconda3/lib/python3.8/site-packages/cptac/dataframe_tools.py:106: FutureWarning: The frame.append method is deprecated and will be removed from pandas in a future version. Use pandas.concat instead.\n",
      "  all_df = tumor.append(normal)\n",
      "/opt/anaconda3/lib/python3.8/site-packages/cptac/dataframe_tools.py:106: FutureWarning: The frame.append method is deprecated and will be removed from pandas in a future version. Use pandas.concat instead.\n",
      "  all_df = tumor.append(normal)\n",
      "/opt/anaconda3/lib/python3.8/site-packages/cptac/dataframe_tools.py:106: FutureWarning: The frame.append method is deprecated and will be removed from pandas in a future version. Use pandas.concat instead.\n",
      "  all_df = tumor.append(normal)\n"
     ]
    },
    {
     "name": "stdout",
     "output_type": "stream",
     "text": [
      "                                               \r"
     ]
    },
    {
     "name": "stderr",
     "output_type": "stream",
     "text": [
      "/opt/anaconda3/lib/python3.8/site-packages/cptac/dataframe_tools.py:106: FutureWarning: The frame.append method is deprecated and will be removed from pandas in a future version. Use pandas.concat instead.\n",
      "  all_df = tumor.append(normal)\n",
      "/opt/anaconda3/lib/python3.8/site-packages/cptac/dataframe_tools.py:106: FutureWarning: The frame.append method is deprecated and will be removed from pandas in a future version. Use pandas.concat instead.\n",
      "  all_df = tumor.append(normal)\n",
      "/opt/anaconda3/lib/python3.8/site-packages/cptac/dataframe_tools.py:106: FutureWarning: The frame.append method is deprecated and will be removed from pandas in a future version. Use pandas.concat instead.\n",
      "  all_df = tumor.append(normal)\n",
      "/opt/anaconda3/lib/python3.8/site-packages/cptac/dataframe_tools.py:106: FutureWarning: The frame.append method is deprecated and will be removed from pandas in a future version. Use pandas.concat instead.\n",
      "  all_df = tumor.append(normal)\n",
      "/opt/anaconda3/lib/python3.8/site-packages/cptac/dataframe_tools.py:106: FutureWarning: The frame.append method is deprecated and will be removed from pandas in a future version. Use pandas.concat instead.\n",
      "  all_df = tumor.append(normal)\n",
      "/opt/anaconda3/lib/python3.8/site-packages/cptac/dataframe_tools.py:106: FutureWarning: The frame.append method is deprecated and will be removed from pandas in a future version. Use pandas.concat instead.\n",
      "  all_df = tumor.append(normal)\n",
      "/opt/anaconda3/lib/python3.8/site-packages/cptac/dataframe_tools.py:106: FutureWarning: The frame.append method is deprecated and will be removed from pandas in a future version. Use pandas.concat instead.\n",
      "  all_df = tumor.append(normal)\n"
     ]
    },
    {
     "name": "stdout",
     "output_type": "stream",
     "text": [
      "Formatting bcmucec dataframes...            \r"
     ]
    },
    {
     "name": "stderr",
     "output_type": "stream",
     "text": [
      "/opt/anaconda3/lib/python3.8/site-packages/cptac/dataframe_tools.py:106: FutureWarning: The frame.append method is deprecated and will be removed from pandas in a future version. Use pandas.concat instead.\n",
      "  all_df = tumor.append(normal)\n",
      "/opt/anaconda3/lib/python3.8/site-packages/cptac/dataframe_tools.py:106: FutureWarning: The frame.append method is deprecated and will be removed from pandas in a future version. Use pandas.concat instead.\n",
      "  all_df = tumor.append(normal)\n"
     ]
    },
    {
     "name": "stdout",
     "output_type": "stream",
     "text": [
      "Loading broaducec v1.0...                     \r"
     ]
    },
    {
     "name": "stderr",
     "output_type": "stream",
     "text": [
      "/opt/anaconda3/lib/python3.8/site-packages/gtfparse/read_gtf.py:82: FutureWarning: The error_bad_lines argument has been deprecated and will be removed in a future version. Use on_bad_lines in the future.\n",
      "\n",
      "\n",
      "  chunk_iterator = pd.read_csv(\n",
      "/opt/anaconda3/lib/python3.8/site-packages/gtfparse/read_gtf.py:82: FutureWarning: The warn_bad_lines argument has been deprecated and will be removed in a future version. Use on_bad_lines in the future.\n",
      "\n",
      "\n",
      "  chunk_iterator = pd.read_csv(\n"
     ]
    },
    {
     "name": "stdout",
     "output_type": "stream",
     "text": [
      "Loading broaducec v1.0....\r",
      "                          \r",
      "Formatting broaducec dataframes...\r"
     ]
    },
    {
     "name": "stderr",
     "output_type": "stream",
     "text": [
      "/opt/anaconda3/lib/python3.8/site-packages/cptac/dataframe_tools.py:106: FutureWarning: The frame.append method is deprecated and will be removed from pandas in a future version. Use pandas.concat instead.\n",
      "  all_df = tumor.append(normal)\n"
     ]
    },
    {
     "name": "stdout",
     "output_type": "stream",
     "text": [
      "Formatting pdcucec dataframes...                 \r"
     ]
    },
    {
     "name": "stderr",
     "output_type": "stream",
     "text": [
      "/opt/anaconda3/lib/python3.8/site-packages/cptac/dataframe_tools.py:106: FutureWarning: The frame.append method is deprecated and will be removed from pandas in a future version. Use pandas.concat instead.\n",
      "  all_df = tumor.append(normal)\n",
      "/opt/anaconda3/lib/python3.8/site-packages/cptac/dataframe_tools.py:106: FutureWarning: The frame.append method is deprecated and will be removed from pandas in a future version. Use pandas.concat instead.\n",
      "  all_df = tumor.append(normal)\n",
      "/opt/anaconda3/lib/python3.8/site-packages/cptac/dataframe_tools.py:106: FutureWarning: The frame.append method is deprecated and will be removed from pandas in a future version. Use pandas.concat instead.\n",
      "  all_df = tumor.append(normal)\n",
      "/opt/anaconda3/lib/python3.8/site-packages/cptac/dataframe_tools.py:106: FutureWarning: The frame.append method is deprecated and will be removed from pandas in a future version. Use pandas.concat instead.\n",
      "  all_df = tumor.append(normal)\n"
     ]
    },
    {
     "name": "stdout",
     "output_type": "stream",
     "text": [
      "Formatting umichucec dataframes...            \r"
     ]
    },
    {
     "name": "stderr",
     "output_type": "stream",
     "text": [
      "/opt/anaconda3/lib/python3.8/site-packages/cptac/dataframe_tools.py:106: FutureWarning: The frame.append method is deprecated and will be removed from pandas in a future version. Use pandas.concat instead.\n",
      "  all_df = tumor.append(normal)\n",
      "/opt/anaconda3/lib/python3.8/site-packages/cptac/dataframe_tools.py:106: FutureWarning: The frame.append method is deprecated and will be removed from pandas in a future version. Use pandas.concat instead.\n",
      "  all_df = tumor.append(normal)\n"
     ]
    },
    {
     "name": "stdout",
     "output_type": "stream",
     "text": [
      "Loading washuucec v1.0..........                 \r"
     ]
    },
    {
     "name": "stderr",
     "output_type": "stream",
     "text": [
      "/opt/anaconda3/lib/python3.8/site-packages/gtfparse/read_gtf.py:82: FutureWarning: The error_bad_lines argument has been deprecated and will be removed in a future version. Use on_bad_lines in the future.\n",
      "\n",
      "\n",
      "  chunk_iterator = pd.read_csv(\n",
      "/opt/anaconda3/lib/python3.8/site-packages/gtfparse/read_gtf.py:82: FutureWarning: The warn_bad_lines argument has been deprecated and will be removed in a future version. Use on_bad_lines in the future.\n",
      "\n",
      "\n",
      "  chunk_iterator = pd.read_csv(\n"
     ]
    },
    {
     "name": "stdout",
     "output_type": "stream",
     "text": [
      "Loading washuucec v1.0...........\r",
      "Loading washuucec v1.0............\r",
      "Loading washuucec v1.0.............\r",
      "Loading washuucec v1.0..............\r",
      "Loading washuucec v1.0...............\r",
      "Loading washuucec v1.0................\r",
      "Loading washuucec v1.0.................\r",
      "Loading washuucec v1.0..................\r",
      "                                        \r",
      "Formatting washuucec dataframes...\r"
     ]
    },
    {
     "name": "stderr",
     "output_type": "stream",
     "text": [
      "/opt/anaconda3/lib/python3.8/site-packages/cptac/pancan/washuucec.py:210: FutureWarning: The frame.append method is deprecated and will be removed from pandas in a future version. Use pandas.concat instead.\n",
      "  rna_combined = rna_tumor.append(rna_normal)\n",
      "/opt/anaconda3/lib/python3.8/site-packages/cptac/dataframe_tools.py:106: FutureWarning: The frame.append method is deprecated and will be removed from pandas in a future version. Use pandas.concat instead.\n",
      "  all_df = tumor.append(normal)\n",
      "/opt/anaconda3/lib/python3.8/site-packages/cptac/dataframe_tools.py:106: FutureWarning: The frame.append method is deprecated and will be removed from pandas in a future version. Use pandas.concat instead.\n",
      "  all_df = tumor.append(normal)\n",
      "/opt/anaconda3/lib/python3.8/site-packages/cptac/dataframe_tools.py:106: FutureWarning: The frame.append method is deprecated and will be removed from pandas in a future version. Use pandas.concat instead.\n",
      "  all_df = tumor.append(normal)\n",
      "/opt/anaconda3/lib/python3.8/site-packages/cptac/dataframe_tools.py:106: FutureWarning: The frame.append method is deprecated and will be removed from pandas in a future version. Use pandas.concat instead.\n",
      "  all_df = tumor.append(normal)\n",
      "/opt/anaconda3/lib/python3.8/site-packages/cptac/dataframe_tools.py:106: FutureWarning: The frame.append method is deprecated and will be removed from pandas in a future version. Use pandas.concat instead.\n",
      "  all_df = tumor.append(normal)\n",
      "/opt/anaconda3/lib/python3.8/site-packages/cptac/dataframe_tools.py:106: FutureWarning: The frame.append method is deprecated and will be removed from pandas in a future version. Use pandas.concat instead.\n",
      "  all_df = tumor.append(normal)\n",
      "/opt/anaconda3/lib/python3.8/site-packages/cptac/dataframe_tools.py:106: FutureWarning: The frame.append method is deprecated and will be removed from pandas in a future version. Use pandas.concat instead.\n",
      "  all_df = tumor.append(normal)\n",
      "/opt/anaconda3/lib/python3.8/site-packages/cptac/dataframe_tools.py:106: FutureWarning: The frame.append method is deprecated and will be removed from pandas in a future version. Use pandas.concat instead.\n",
      "  all_df = tumor.append(normal)\n",
      "/opt/anaconda3/lib/python3.8/site-packages/cptac/dataframe_tools.py:106: FutureWarning: The frame.append method is deprecated and will be removed from pandas in a future version. Use pandas.concat instead.\n",
      "  all_df = tumor.append(normal)\n"
     ]
    },
    {
     "name": "stdout",
     "output_type": "stream",
     "text": [
      "Formatting harmonized dataframes...            \r"
     ]
    },
    {
     "name": "stderr",
     "output_type": "stream",
     "text": [
      "/opt/anaconda3/lib/python3.8/site-packages/cptac/dataframe_tools.py:106: FutureWarning: The frame.append method is deprecated and will be removed from pandas in a future version. Use pandas.concat instead.\n",
      "  all_df = tumor.append(normal)\n"
     ]
    },
    {
     "name": "stdout",
     "output_type": "stream",
     "text": [
      "                                   \r"
     ]
    },
    {
     "name": "stderr",
     "output_type": "stream",
     "text": [
      "/opt/anaconda3/lib/python3.8/site-packages/cptac/dataframe_tools.py:106: FutureWarning: The frame.append method is deprecated and will be removed from pandas in a future version. Use pandas.concat instead.\n",
      "  all_df = tumor.append(normal)\n",
      "/opt/anaconda3/lib/python3.8/site-packages/cptac/dataframe_tools.py:106: FutureWarning: The frame.append method is deprecated and will be removed from pandas in a future version. Use pandas.concat instead.\n",
      "  all_df = tumor.append(normal)\n",
      "/opt/anaconda3/lib/python3.8/site-packages/cptac/dataframe_tools.py:106: FutureWarning: The frame.append method is deprecated and will be removed from pandas in a future version. Use pandas.concat instead.\n",
      "  all_df = tumor.append(normal)\n",
      "/opt/anaconda3/lib/python3.8/site-packages/cptac/dataframe_tools.py:106: FutureWarning: The frame.append method is deprecated and will be removed from pandas in a future version. Use pandas.concat instead.\n",
      "  all_df = tumor.append(normal)\n",
      "/opt/anaconda3/lib/python3.8/site-packages/cptac/dataframe_tools.py:106: FutureWarning: The frame.append method is deprecated and will be removed from pandas in a future version. Use pandas.concat instead.\n",
      "  all_df = tumor.append(normal)\n",
      "/opt/anaconda3/lib/python3.8/site-packages/cptac/dataframe_tools.py:106: FutureWarning: The frame.append method is deprecated and will be removed from pandas in a future version. Use pandas.concat instead.\n",
      "  all_df = tumor.append(normal)\n"
     ]
    },
    {
     "name": "stdout",
     "output_type": "stream",
     "text": [
      "Formatting bcmhnscc dataframes...            \r"
     ]
    },
    {
     "name": "stderr",
     "output_type": "stream",
     "text": [
      "/opt/anaconda3/lib/python3.8/site-packages/cptac/dataframe_tools.py:106: FutureWarning: The frame.append method is deprecated and will be removed from pandas in a future version. Use pandas.concat instead.\n",
      "  all_df = tumor.append(normal)\n",
      "/opt/anaconda3/lib/python3.8/site-packages/cptac/dataframe_tools.py:106: FutureWarning: The frame.append method is deprecated and will be removed from pandas in a future version. Use pandas.concat instead.\n",
      "  all_df = tumor.append(normal)\n"
     ]
    },
    {
     "name": "stdout",
     "output_type": "stream",
     "text": [
      "Loading broadhnscc v1.0...                     \r"
     ]
    },
    {
     "name": "stderr",
     "output_type": "stream",
     "text": [
      "/opt/anaconda3/lib/python3.8/site-packages/gtfparse/read_gtf.py:82: FutureWarning: The error_bad_lines argument has been deprecated and will be removed in a future version. Use on_bad_lines in the future.\n",
      "\n",
      "\n",
      "  chunk_iterator = pd.read_csv(\n",
      "/opt/anaconda3/lib/python3.8/site-packages/gtfparse/read_gtf.py:82: FutureWarning: The warn_bad_lines argument has been deprecated and will be removed in a future version. Use on_bad_lines in the future.\n",
      "\n",
      "\n",
      "  chunk_iterator = pd.read_csv(\n"
     ]
    },
    {
     "name": "stdout",
     "output_type": "stream",
     "text": [
      "                          \r",
      "Formatting broadhnscc dataframes...\r"
     ]
    },
    {
     "name": "stderr",
     "output_type": "stream",
     "text": [
      "/opt/anaconda3/lib/python3.8/site-packages/cptac/dataframe_tools.py:106: FutureWarning: The frame.append method is deprecated and will be removed from pandas in a future version. Use pandas.concat instead.\n",
      "  all_df = tumor.append(normal)\n"
     ]
    },
    {
     "name": "stdout",
     "output_type": "stream",
     "text": [
      "Formatting pdchnscc dataframes...                \r"
     ]
    },
    {
     "name": "stderr",
     "output_type": "stream",
     "text": [
      "/opt/anaconda3/lib/python3.8/site-packages/cptac/dataframe_tools.py:106: FutureWarning: The frame.append method is deprecated and will be removed from pandas in a future version. Use pandas.concat instead.\n",
      "  all_df = tumor.append(normal)\n",
      "/opt/anaconda3/lib/python3.8/site-packages/cptac/dataframe_tools.py:106: FutureWarning: The frame.append method is deprecated and will be removed from pandas in a future version. Use pandas.concat instead.\n",
      "  all_df = tumor.append(normal)\n",
      "/opt/anaconda3/lib/python3.8/site-packages/cptac/dataframe_tools.py:106: FutureWarning: The frame.append method is deprecated and will be removed from pandas in a future version. Use pandas.concat instead.\n",
      "  all_df = tumor.append(normal)\n"
     ]
    },
    {
     "name": "stdout",
     "output_type": "stream",
     "text": [
      "Formatting umichhnscc dataframes...            \r"
     ]
    },
    {
     "name": "stderr",
     "output_type": "stream",
     "text": [
      "/opt/anaconda3/lib/python3.8/site-packages/cptac/dataframe_tools.py:106: FutureWarning: The frame.append method is deprecated and will be removed from pandas in a future version. Use pandas.concat instead.\n",
      "  all_df = tumor.append(normal)\n",
      "/opt/anaconda3/lib/python3.8/site-packages/cptac/dataframe_tools.py:106: FutureWarning: The frame.append method is deprecated and will be removed from pandas in a future version. Use pandas.concat instead.\n",
      "  all_df = tumor.append(normal)\n"
     ]
    },
    {
     "name": "stdout",
     "output_type": "stream",
     "text": [
      "Loading washuhnscc v1.0......                    \r"
     ]
    },
    {
     "name": "stderr",
     "output_type": "stream",
     "text": [
      "/opt/anaconda3/lib/python3.8/site-packages/cptac/pancan/washuhnscc.py:143: FutureWarning: The frame.append method is deprecated and will be removed from pandas in a future version. Use pandas.concat instead.\n",
      "  all_df = tumor.append(normal)\n",
      "/opt/anaconda3/lib/python3.8/site-packages/cptac/pancan/washuhnscc.py:143: FutureWarning: The frame.append method is deprecated and will be removed from pandas in a future version. Use pandas.concat instead.\n",
      "  all_df = tumor.append(normal)\n",
      "/opt/anaconda3/lib/python3.8/site-packages/cptac/pancan/washuhnscc.py:143: FutureWarning: The frame.append method is deprecated and will be removed from pandas in a future version. Use pandas.concat instead.\n",
      "  all_df = tumor.append(normal)\n"
     ]
    },
    {
     "name": "stdout",
     "output_type": "stream",
     "text": [
      "Loading washuhnscc v1.0..........\r"
     ]
    },
    {
     "name": "stderr",
     "output_type": "stream",
     "text": [
      "/opt/anaconda3/lib/python3.8/site-packages/gtfparse/read_gtf.py:82: FutureWarning: The error_bad_lines argument has been deprecated and will be removed in a future version. Use on_bad_lines in the future.\n",
      "\n",
      "\n",
      "  chunk_iterator = pd.read_csv(\n",
      "/opt/anaconda3/lib/python3.8/site-packages/gtfparse/read_gtf.py:82: FutureWarning: The warn_bad_lines argument has been deprecated and will be removed in a future version. Use on_bad_lines in the future.\n",
      "\n",
      "\n",
      "  chunk_iterator = pd.read_csv(\n"
     ]
    },
    {
     "name": "stdout",
     "output_type": "stream",
     "text": [
      "Loading washuhnscc v1.0...........\r",
      "Loading washuhnscc v1.0............\r",
      "Loading washuhnscc v1.0.............\r",
      "Loading washuhnscc v1.0..............\r",
      "Loading washuhnscc v1.0...............\r",
      "Loading washuhnscc v1.0................\r",
      "Loading washuhnscc v1.0.................\r",
      "Loading washuhnscc v1.0..................\r",
      "                                         \r",
      "Formatting washuhnscc dataframes...\r"
     ]
    },
    {
     "name": "stderr",
     "output_type": "stream",
     "text": [
      "/opt/anaconda3/lib/python3.8/site-packages/cptac/pancan/washuhnscc.py:222: FutureWarning: The frame.append method is deprecated and will be removed from pandas in a future version. Use pandas.concat instead.\n",
      "  rna_combined = rna_tumor.append(rna_normal)\n",
      "/opt/anaconda3/lib/python3.8/site-packages/cptac/dataframe_tools.py:106: FutureWarning: The frame.append method is deprecated and will be removed from pandas in a future version. Use pandas.concat instead.\n",
      "  all_df = tumor.append(normal)\n",
      "/opt/anaconda3/lib/python3.8/site-packages/cptac/dataframe_tools.py:106: FutureWarning: The frame.append method is deprecated and will be removed from pandas in a future version. Use pandas.concat instead.\n",
      "  all_df = tumor.append(normal)\n",
      "/opt/anaconda3/lib/python3.8/site-packages/cptac/dataframe_tools.py:106: FutureWarning: The frame.append method is deprecated and will be removed from pandas in a future version. Use pandas.concat instead.\n",
      "  all_df = tumor.append(normal)\n",
      "/opt/anaconda3/lib/python3.8/site-packages/cptac/dataframe_tools.py:106: FutureWarning: The frame.append method is deprecated and will be removed from pandas in a future version. Use pandas.concat instead.\n",
      "  all_df = tumor.append(normal)\n",
      "/opt/anaconda3/lib/python3.8/site-packages/cptac/dataframe_tools.py:106: FutureWarning: The frame.append method is deprecated and will be removed from pandas in a future version. Use pandas.concat instead.\n",
      "  all_df = tumor.append(normal)\n",
      "/opt/anaconda3/lib/python3.8/site-packages/cptac/dataframe_tools.py:106: FutureWarning: The frame.append method is deprecated and will be removed from pandas in a future version. Use pandas.concat instead.\n",
      "  all_df = tumor.append(normal)\n",
      "/opt/anaconda3/lib/python3.8/site-packages/cptac/dataframe_tools.py:106: FutureWarning: The frame.append method is deprecated and will be removed from pandas in a future version. Use pandas.concat instead.\n",
      "  all_df = tumor.append(normal)\n",
      "/opt/anaconda3/lib/python3.8/site-packages/cptac/dataframe_tools.py:106: FutureWarning: The frame.append method is deprecated and will be removed from pandas in a future version. Use pandas.concat instead.\n",
      "  all_df = tumor.append(normal)\n",
      "/opt/anaconda3/lib/python3.8/site-packages/cptac/dataframe_tools.py:106: FutureWarning: The frame.append method is deprecated and will be removed from pandas in a future version. Use pandas.concat instead.\n",
      "  all_df = tumor.append(normal)\n"
     ]
    },
    {
     "name": "stdout",
     "output_type": "stream",
     "text": [
      "Formatting harmonized dataframes...            \r"
     ]
    },
    {
     "name": "stderr",
     "output_type": "stream",
     "text": [
      "/opt/anaconda3/lib/python3.8/site-packages/cptac/dataframe_tools.py:106: FutureWarning: The frame.append method is deprecated and will be removed from pandas in a future version. Use pandas.concat instead.\n",
      "  all_df = tumor.append(normal)\n",
      "/opt/anaconda3/lib/python3.8/site-packages/cptac/dataframe_tools.py:106: FutureWarning: The frame.append method is deprecated and will be removed from pandas in a future version. Use pandas.concat instead.\n",
      "  all_df = tumor.append(normal)\n",
      "/opt/anaconda3/lib/python3.8/site-packages/cptac/dataframe_tools.py:106: FutureWarning: The frame.append method is deprecated and will be removed from pandas in a future version. Use pandas.concat instead.\n",
      "  all_df = tumor.append(normal)\n",
      "/opt/anaconda3/lib/python3.8/site-packages/cptac/dataframe_tools.py:106: FutureWarning: The frame.append method is deprecated and will be removed from pandas in a future version. Use pandas.concat instead.\n",
      "  all_df = tumor.append(normal)\n",
      "/opt/anaconda3/lib/python3.8/site-packages/cptac/dataframe_tools.py:106: FutureWarning: The frame.append method is deprecated and will be removed from pandas in a future version. Use pandas.concat instead.\n",
      "  all_df = tumor.append(normal)\n",
      "/opt/anaconda3/lib/python3.8/site-packages/cptac/dataframe_tools.py:106: FutureWarning: The frame.append method is deprecated and will be removed from pandas in a future version. Use pandas.concat instead.\n",
      "  all_df = tumor.append(normal)\n"
     ]
    },
    {
     "name": "stdout",
     "output_type": "stream",
     "text": [
      "                                   \r"
     ]
    },
    {
     "name": "stderr",
     "output_type": "stream",
     "text": [
      "/opt/anaconda3/lib/python3.8/site-packages/cptac/dataframe_tools.py:106: FutureWarning: The frame.append method is deprecated and will be removed from pandas in a future version. Use pandas.concat instead.\n",
      "  all_df = tumor.append(normal)\n"
     ]
    },
    {
     "name": "stdout",
     "output_type": "stream",
     "text": [
      "Formatting bcmlscc dataframes...            \r"
     ]
    },
    {
     "name": "stderr",
     "output_type": "stream",
     "text": [
      "/opt/anaconda3/lib/python3.8/site-packages/cptac/dataframe_tools.py:106: FutureWarning: The frame.append method is deprecated and will be removed from pandas in a future version. Use pandas.concat instead.\n",
      "  all_df = tumor.append(normal)\n",
      "/opt/anaconda3/lib/python3.8/site-packages/cptac/dataframe_tools.py:106: FutureWarning: The frame.append method is deprecated and will be removed from pandas in a future version. Use pandas.concat instead.\n",
      "  all_df = tumor.append(normal)\n"
     ]
    },
    {
     "name": "stdout",
     "output_type": "stream",
     "text": [
      "Loading broadlscc v1.0...                     \r"
     ]
    },
    {
     "name": "stderr",
     "output_type": "stream",
     "text": [
      "/opt/anaconda3/lib/python3.8/site-packages/gtfparse/read_gtf.py:82: FutureWarning: The error_bad_lines argument has been deprecated and will be removed in a future version. Use on_bad_lines in the future.\n",
      "\n",
      "\n",
      "  chunk_iterator = pd.read_csv(\n",
      "/opt/anaconda3/lib/python3.8/site-packages/gtfparse/read_gtf.py:82: FutureWarning: The warn_bad_lines argument has been deprecated and will be removed in a future version. Use on_bad_lines in the future.\n",
      "\n",
      "\n",
      "  chunk_iterator = pd.read_csv(\n"
     ]
    },
    {
     "name": "stdout",
     "output_type": "stream",
     "text": [
      "                         \r",
      "Formatting broadlscc dataframes...\r"
     ]
    },
    {
     "name": "stderr",
     "output_type": "stream",
     "text": [
      "/opt/anaconda3/lib/python3.8/site-packages/cptac/dataframe_tools.py:106: FutureWarning: The frame.append method is deprecated and will be removed from pandas in a future version. Use pandas.concat instead.\n",
      "  all_df = tumor.append(normal)\n"
     ]
    },
    {
     "name": "stdout",
     "output_type": "stream",
     "text": [
      "Formatting pdclscc dataframes...                 \r"
     ]
    },
    {
     "name": "stderr",
     "output_type": "stream",
     "text": [
      "/opt/anaconda3/lib/python3.8/site-packages/cptac/dataframe_tools.py:106: FutureWarning: The frame.append method is deprecated and will be removed from pandas in a future version. Use pandas.concat instead.\n",
      "  all_df = tumor.append(normal)\n",
      "/opt/anaconda3/lib/python3.8/site-packages/cptac/dataframe_tools.py:106: FutureWarning: The frame.append method is deprecated and will be removed from pandas in a future version. Use pandas.concat instead.\n",
      "  all_df = tumor.append(normal)\n",
      "/opt/anaconda3/lib/python3.8/site-packages/cptac/dataframe_tools.py:106: FutureWarning: The frame.append method is deprecated and will be removed from pandas in a future version. Use pandas.concat instead.\n",
      "  all_df = tumor.append(normal)\n",
      "/opt/anaconda3/lib/python3.8/site-packages/cptac/dataframe_tools.py:106: FutureWarning: The frame.append method is deprecated and will be removed from pandas in a future version. Use pandas.concat instead.\n",
      "  all_df = tumor.append(normal)\n",
      "/opt/anaconda3/lib/python3.8/site-packages/cptac/dataframe_tools.py:106: FutureWarning: The frame.append method is deprecated and will be removed from pandas in a future version. Use pandas.concat instead.\n",
      "  all_df = tumor.append(normal)\n"
     ]
    },
    {
     "name": "stdout",
     "output_type": "stream",
     "text": [
      "Formatting umichlscc dataframes...            \r"
     ]
    },
    {
     "name": "stderr",
     "output_type": "stream",
     "text": [
      "/opt/anaconda3/lib/python3.8/site-packages/cptac/dataframe_tools.py:106: FutureWarning: The frame.append method is deprecated and will be removed from pandas in a future version. Use pandas.concat instead.\n",
      "  all_df = tumor.append(normal)\n",
      "/opt/anaconda3/lib/python3.8/site-packages/cptac/dataframe_tools.py:106: FutureWarning: The frame.append method is deprecated and will be removed from pandas in a future version. Use pandas.concat instead.\n",
      "  all_df = tumor.append(normal)\n"
     ]
    },
    {
     "name": "stdout",
     "output_type": "stream",
     "text": [
      "Loading washulscc v1.0......                     \r"
     ]
    },
    {
     "name": "stderr",
     "output_type": "stream",
     "text": [
      "/opt/anaconda3/lib/python3.8/site-packages/cptac/pancan/washulscc.py:142: FutureWarning: The frame.append method is deprecated and will be removed from pandas in a future version. Use pandas.concat instead.\n",
      "  all_df = tumor.append(normal)\n",
      "/opt/anaconda3/lib/python3.8/site-packages/cptac/pancan/washulscc.py:142: FutureWarning: The frame.append method is deprecated and will be removed from pandas in a future version. Use pandas.concat instead.\n",
      "  all_df = tumor.append(normal)\n",
      "/opt/anaconda3/lib/python3.8/site-packages/cptac/pancan/washulscc.py:142: FutureWarning: The frame.append method is deprecated and will be removed from pandas in a future version. Use pandas.concat instead.\n",
      "  all_df = tumor.append(normal)\n"
     ]
    },
    {
     "name": "stdout",
     "output_type": "stream",
     "text": [
      "Loading washulscc v1.0..........\r"
     ]
    },
    {
     "name": "stderr",
     "output_type": "stream",
     "text": [
      "/opt/anaconda3/lib/python3.8/site-packages/gtfparse/read_gtf.py:82: FutureWarning: The error_bad_lines argument has been deprecated and will be removed in a future version. Use on_bad_lines in the future.\n",
      "\n",
      "\n",
      "  chunk_iterator = pd.read_csv(\n",
      "/opt/anaconda3/lib/python3.8/site-packages/gtfparse/read_gtf.py:82: FutureWarning: The warn_bad_lines argument has been deprecated and will be removed in a future version. Use on_bad_lines in the future.\n",
      "\n",
      "\n",
      "  chunk_iterator = pd.read_csv(\n"
     ]
    },
    {
     "name": "stdout",
     "output_type": "stream",
     "text": [
      "Loading washulscc v1.0...........\r",
      "Loading washulscc v1.0............\r",
      "Loading washulscc v1.0.............\r",
      "Loading washulscc v1.0..............\r",
      "Loading washulscc v1.0...............\r",
      "Loading washulscc v1.0................\r",
      "Loading washulscc v1.0.................\r",
      "Loading washulscc v1.0..................\r",
      "                                        \r",
      "Formatting washulscc dataframes...\r"
     ]
    },
    {
     "name": "stderr",
     "output_type": "stream",
     "text": [
      "/opt/anaconda3/lib/python3.8/site-packages/cptac/pancan/washulscc.py:221: FutureWarning: The frame.append method is deprecated and will be removed from pandas in a future version. Use pandas.concat instead.\n",
      "  rna_combined = rna_tumor.append(rna_normal)\n",
      "/opt/anaconda3/lib/python3.8/site-packages/cptac/dataframe_tools.py:106: FutureWarning: The frame.append method is deprecated and will be removed from pandas in a future version. Use pandas.concat instead.\n",
      "  all_df = tumor.append(normal)\n",
      "/opt/anaconda3/lib/python3.8/site-packages/cptac/dataframe_tools.py:106: FutureWarning: The frame.append method is deprecated and will be removed from pandas in a future version. Use pandas.concat instead.\n",
      "  all_df = tumor.append(normal)\n",
      "/opt/anaconda3/lib/python3.8/site-packages/cptac/dataframe_tools.py:106: FutureWarning: The frame.append method is deprecated and will be removed from pandas in a future version. Use pandas.concat instead.\n",
      "  all_df = tumor.append(normal)\n",
      "/opt/anaconda3/lib/python3.8/site-packages/cptac/dataframe_tools.py:106: FutureWarning: The frame.append method is deprecated and will be removed from pandas in a future version. Use pandas.concat instead.\n",
      "  all_df = tumor.append(normal)\n",
      "/opt/anaconda3/lib/python3.8/site-packages/cptac/dataframe_tools.py:106: FutureWarning: The frame.append method is deprecated and will be removed from pandas in a future version. Use pandas.concat instead.\n",
      "  all_df = tumor.append(normal)\n",
      "/opt/anaconda3/lib/python3.8/site-packages/cptac/dataframe_tools.py:106: FutureWarning: The frame.append method is deprecated and will be removed from pandas in a future version. Use pandas.concat instead.\n",
      "  all_df = tumor.append(normal)\n",
      "/opt/anaconda3/lib/python3.8/site-packages/cptac/dataframe_tools.py:106: FutureWarning: The frame.append method is deprecated and will be removed from pandas in a future version. Use pandas.concat instead.\n",
      "  all_df = tumor.append(normal)\n",
      "/opt/anaconda3/lib/python3.8/site-packages/cptac/dataframe_tools.py:106: FutureWarning: The frame.append method is deprecated and will be removed from pandas in a future version. Use pandas.concat instead.\n",
      "  all_df = tumor.append(normal)\n",
      "/opt/anaconda3/lib/python3.8/site-packages/cptac/dataframe_tools.py:106: FutureWarning: The frame.append method is deprecated and will be removed from pandas in a future version. Use pandas.concat instead.\n",
      "  all_df = tumor.append(normal)\n"
     ]
    },
    {
     "name": "stdout",
     "output_type": "stream",
     "text": [
      "Formatting harmonized dataframes...            \r"
     ]
    },
    {
     "name": "stderr",
     "output_type": "stream",
     "text": [
      "/opt/anaconda3/lib/python3.8/site-packages/cptac/dataframe_tools.py:106: FutureWarning: The frame.append method is deprecated and will be removed from pandas in a future version. Use pandas.concat instead.\n",
      "  all_df = tumor.append(normal)\n",
      "/opt/anaconda3/lib/python3.8/site-packages/cptac/dataframe_tools.py:106: FutureWarning: The frame.append method is deprecated and will be removed from pandas in a future version. Use pandas.concat instead.\n",
      "  all_df = tumor.append(normal)\n",
      "/opt/anaconda3/lib/python3.8/site-packages/cptac/dataframe_tools.py:106: FutureWarning: The frame.append method is deprecated and will be removed from pandas in a future version. Use pandas.concat instead.\n",
      "  all_df = tumor.append(normal)\n"
     ]
    },
    {
     "name": "stdout",
     "output_type": "stream",
     "text": [
      "                                   \r"
     ]
    },
    {
     "name": "stderr",
     "output_type": "stream",
     "text": [
      "/opt/anaconda3/lib/python3.8/site-packages/cptac/dataframe_tools.py:106: FutureWarning: The frame.append method is deprecated and will be removed from pandas in a future version. Use pandas.concat instead.\n",
      "  all_df = tumor.append(normal)\n",
      "/opt/anaconda3/lib/python3.8/site-packages/cptac/dataframe_tools.py:106: FutureWarning: The frame.append method is deprecated and will be removed from pandas in a future version. Use pandas.concat instead.\n",
      "  all_df = tumor.append(normal)\n",
      "/opt/anaconda3/lib/python3.8/site-packages/cptac/dataframe_tools.py:106: FutureWarning: The frame.append method is deprecated and will be removed from pandas in a future version. Use pandas.concat instead.\n",
      "  all_df = tumor.append(normal)\n",
      "/opt/anaconda3/lib/python3.8/site-packages/cptac/dataframe_tools.py:106: FutureWarning: The frame.append method is deprecated and will be removed from pandas in a future version. Use pandas.concat instead.\n",
      "  all_df = tumor.append(normal)\n"
     ]
    },
    {
     "name": "stdout",
     "output_type": "stream",
     "text": [
      "Formatting bcmluad dataframes...            \r"
     ]
    },
    {
     "name": "stderr",
     "output_type": "stream",
     "text": [
      "/opt/anaconda3/lib/python3.8/site-packages/cptac/dataframe_tools.py:106: FutureWarning: The frame.append method is deprecated and will be removed from pandas in a future version. Use pandas.concat instead.\n",
      "  all_df = tumor.append(normal)\n",
      "/opt/anaconda3/lib/python3.8/site-packages/cptac/dataframe_tools.py:106: FutureWarning: The frame.append method is deprecated and will be removed from pandas in a future version. Use pandas.concat instead.\n",
      "  all_df = tumor.append(normal)\n"
     ]
    },
    {
     "name": "stdout",
     "output_type": "stream",
     "text": [
      "Loading broadluad v1.0...                     \r"
     ]
    },
    {
     "name": "stderr",
     "output_type": "stream",
     "text": [
      "/opt/anaconda3/lib/python3.8/site-packages/gtfparse/read_gtf.py:82: FutureWarning: The error_bad_lines argument has been deprecated and will be removed in a future version. Use on_bad_lines in the future.\n",
      "\n",
      "\n",
      "  chunk_iterator = pd.read_csv(\n",
      "/opt/anaconda3/lib/python3.8/site-packages/gtfparse/read_gtf.py:82: FutureWarning: The warn_bad_lines argument has been deprecated and will be removed in a future version. Use on_bad_lines in the future.\n",
      "\n",
      "\n",
      "  chunk_iterator = pd.read_csv(\n"
     ]
    },
    {
     "name": "stdout",
     "output_type": "stream",
     "text": [
      "Loading broadluad v1.0....\r",
      "                          \r",
      "Formatting broadluad dataframes...\r"
     ]
    },
    {
     "name": "stderr",
     "output_type": "stream",
     "text": [
      "/opt/anaconda3/lib/python3.8/site-packages/cptac/dataframe_tools.py:106: FutureWarning: The frame.append method is deprecated and will be removed from pandas in a future version. Use pandas.concat instead.\n",
      "  all_df = tumor.append(normal)\n"
     ]
    },
    {
     "name": "stdout",
     "output_type": "stream",
     "text": [
      "Formatting pdcluad dataframes...                 \r"
     ]
    },
    {
     "name": "stderr",
     "output_type": "stream",
     "text": [
      "/opt/anaconda3/lib/python3.8/site-packages/cptac/dataframe_tools.py:106: FutureWarning: The frame.append method is deprecated and will be removed from pandas in a future version. Use pandas.concat instead.\n",
      "  all_df = tumor.append(normal)\n",
      "/opt/anaconda3/lib/python3.8/site-packages/cptac/dataframe_tools.py:106: FutureWarning: The frame.append method is deprecated and will be removed from pandas in a future version. Use pandas.concat instead.\n",
      "  all_df = tumor.append(normal)\n",
      "/opt/anaconda3/lib/python3.8/site-packages/cptac/dataframe_tools.py:106: FutureWarning: The frame.append method is deprecated and will be removed from pandas in a future version. Use pandas.concat instead.\n",
      "  all_df = tumor.append(normal)\n",
      "/opt/anaconda3/lib/python3.8/site-packages/cptac/dataframe_tools.py:106: FutureWarning: The frame.append method is deprecated and will be removed from pandas in a future version. Use pandas.concat instead.\n",
      "  all_df = tumor.append(normal)\n"
     ]
    },
    {
     "name": "stdout",
     "output_type": "stream",
     "text": [
      "Formatting umichluad dataframes...            \r"
     ]
    },
    {
     "name": "stderr",
     "output_type": "stream",
     "text": [
      "/opt/anaconda3/lib/python3.8/site-packages/cptac/dataframe_tools.py:106: FutureWarning: The frame.append method is deprecated and will be removed from pandas in a future version. Use pandas.concat instead.\n",
      "  all_df = tumor.append(normal)\n",
      "/opt/anaconda3/lib/python3.8/site-packages/cptac/dataframe_tools.py:106: FutureWarning: The frame.append method is deprecated and will be removed from pandas in a future version. Use pandas.concat instead.\n",
      "  all_df = tumor.append(normal)\n"
     ]
    },
    {
     "name": "stdout",
     "output_type": "stream",
     "text": [
      "Loading washuluad v1.0......                     \r"
     ]
    },
    {
     "name": "stderr",
     "output_type": "stream",
     "text": [
      "/opt/anaconda3/lib/python3.8/site-packages/cptac/pancan/washuluad.py:136: FutureWarning: The frame.append method is deprecated and will be removed from pandas in a future version. Use pandas.concat instead.\n",
      "  all_df = tumor.append(normal)\n",
      "/opt/anaconda3/lib/python3.8/site-packages/cptac/pancan/washuluad.py:136: FutureWarning: The frame.append method is deprecated and will be removed from pandas in a future version. Use pandas.concat instead.\n",
      "  all_df = tumor.append(normal)\n",
      "/opt/anaconda3/lib/python3.8/site-packages/cptac/pancan/washuluad.py:136: FutureWarning: The frame.append method is deprecated and will be removed from pandas in a future version. Use pandas.concat instead.\n",
      "  all_df = tumor.append(normal)\n"
     ]
    },
    {
     "name": "stdout",
     "output_type": "stream",
     "text": [
      "Loading washuluad v1.0..........\r"
     ]
    },
    {
     "name": "stderr",
     "output_type": "stream",
     "text": [
      "/opt/anaconda3/lib/python3.8/site-packages/gtfparse/read_gtf.py:82: FutureWarning: The error_bad_lines argument has been deprecated and will be removed in a future version. Use on_bad_lines in the future.\n",
      "\n",
      "\n",
      "  chunk_iterator = pd.read_csv(\n",
      "/opt/anaconda3/lib/python3.8/site-packages/gtfparse/read_gtf.py:82: FutureWarning: The warn_bad_lines argument has been deprecated and will be removed in a future version. Use on_bad_lines in the future.\n",
      "\n",
      "\n",
      "  chunk_iterator = pd.read_csv(\n"
     ]
    },
    {
     "name": "stdout",
     "output_type": "stream",
     "text": [
      "Loading washuluad v1.0...........\r",
      "Loading washuluad v1.0............\r",
      "Loading washuluad v1.0.............\r",
      "Loading washuluad v1.0..............\r",
      "Loading washuluad v1.0...............\r",
      "Loading washuluad v1.0................\r",
      "Loading washuluad v1.0.................\r",
      "Loading washuluad v1.0..................\r",
      "                                        \r",
      "Formatting washuluad dataframes...\r"
     ]
    },
    {
     "name": "stderr",
     "output_type": "stream",
     "text": [
      "/opt/anaconda3/lib/python3.8/site-packages/cptac/pancan/washuluad.py:215: FutureWarning: The frame.append method is deprecated and will be removed from pandas in a future version. Use pandas.concat instead.\n",
      "  rna_combined = rna_tumor.append(rna_normal)\n",
      "/opt/anaconda3/lib/python3.8/site-packages/cptac/dataframe_tools.py:106: FutureWarning: The frame.append method is deprecated and will be removed from pandas in a future version. Use pandas.concat instead.\n",
      "  all_df = tumor.append(normal)\n",
      "/opt/anaconda3/lib/python3.8/site-packages/cptac/dataframe_tools.py:106: FutureWarning: The frame.append method is deprecated and will be removed from pandas in a future version. Use pandas.concat instead.\n",
      "  all_df = tumor.append(normal)\n",
      "/opt/anaconda3/lib/python3.8/site-packages/cptac/dataframe_tools.py:106: FutureWarning: The frame.append method is deprecated and will be removed from pandas in a future version. Use pandas.concat instead.\n",
      "  all_df = tumor.append(normal)\n",
      "/opt/anaconda3/lib/python3.8/site-packages/cptac/dataframe_tools.py:106: FutureWarning: The frame.append method is deprecated and will be removed from pandas in a future version. Use pandas.concat instead.\n",
      "  all_df = tumor.append(normal)\n",
      "/opt/anaconda3/lib/python3.8/site-packages/cptac/dataframe_tools.py:106: FutureWarning: The frame.append method is deprecated and will be removed from pandas in a future version. Use pandas.concat instead.\n",
      "  all_df = tumor.append(normal)\n",
      "/opt/anaconda3/lib/python3.8/site-packages/cptac/dataframe_tools.py:106: FutureWarning: The frame.append method is deprecated and will be removed from pandas in a future version. Use pandas.concat instead.\n",
      "  all_df = tumor.append(normal)\n",
      "/opt/anaconda3/lib/python3.8/site-packages/cptac/dataframe_tools.py:106: FutureWarning: The frame.append method is deprecated and will be removed from pandas in a future version. Use pandas.concat instead.\n",
      "  all_df = tumor.append(normal)\n",
      "/opt/anaconda3/lib/python3.8/site-packages/cptac/dataframe_tools.py:106: FutureWarning: The frame.append method is deprecated and will be removed from pandas in a future version. Use pandas.concat instead.\n",
      "  all_df = tumor.append(normal)\n",
      "/opt/anaconda3/lib/python3.8/site-packages/cptac/dataframe_tools.py:106: FutureWarning: The frame.append method is deprecated and will be removed from pandas in a future version. Use pandas.concat instead.\n",
      "  all_df = tumor.append(normal)\n"
     ]
    },
    {
     "name": "stdout",
     "output_type": "stream",
     "text": [
      "Formatting harmonized dataframes...            \r"
     ]
    },
    {
     "name": "stderr",
     "output_type": "stream",
     "text": [
      "/opt/anaconda3/lib/python3.8/site-packages/cptac/dataframe_tools.py:106: FutureWarning: The frame.append method is deprecated and will be removed from pandas in a future version. Use pandas.concat instead.\n",
      "  all_df = tumor.append(normal)\n",
      "/opt/anaconda3/lib/python3.8/site-packages/cptac/dataframe_tools.py:106: FutureWarning: The frame.append method is deprecated and will be removed from pandas in a future version. Use pandas.concat instead.\n",
      "  all_df = tumor.append(normal)\n"
     ]
    },
    {
     "name": "stdout",
     "output_type": "stream",
     "text": [
      "                                   \r"
     ]
    },
    {
     "name": "stderr",
     "output_type": "stream",
     "text": [
      "/opt/anaconda3/lib/python3.8/site-packages/cptac/dataframe_tools.py:106: FutureWarning: The frame.append method is deprecated and will be removed from pandas in a future version. Use pandas.concat instead.\n",
      "  all_df = tumor.append(normal)\n",
      "/opt/anaconda3/lib/python3.8/site-packages/cptac/dataframe_tools.py:106: FutureWarning: The frame.append method is deprecated and will be removed from pandas in a future version. Use pandas.concat instead.\n",
      "  all_df = tumor.append(normal)\n",
      "/opt/anaconda3/lib/python3.8/site-packages/cptac/dataframe_tools.py:106: FutureWarning: The frame.append method is deprecated and will be removed from pandas in a future version. Use pandas.concat instead.\n",
      "  all_df = tumor.append(normal)\n",
      "/opt/anaconda3/lib/python3.8/site-packages/cptac/dataframe_tools.py:106: FutureWarning: The frame.append method is deprecated and will be removed from pandas in a future version. Use pandas.concat instead.\n",
      "  all_df = tumor.append(normal)\n",
      "/opt/anaconda3/lib/python3.8/site-packages/cptac/dataframe_tools.py:106: FutureWarning: The frame.append method is deprecated and will be removed from pandas in a future version. Use pandas.concat instead.\n",
      "  all_df = tumor.append(normal)\n"
     ]
    }
   ],
   "source": [
    "calculate_residuals([\n",
    "    \"ccrcc\",\n",
    "    \"endometrial\",\n",
    "    \"hnscc\",\n",
    "    \"lscc\",\n",
    "    \"luad\",\n",
    "])"
   ]
  },
  {
   "cell_type": "markdown",
   "metadata": {},
   "source": [
    "### Plot residuals as a sanity check"
   ]
  },
  {
   "cell_type": "code",
   "execution_count": null,
   "metadata": {},
   "outputs": [],
   "source": [
    "def plot_tissue_residuals(resid_df, gene, tissue):\n",
    "    df = resid_df[(resid_df[\"Gene\"] == gene) & (resid_df[\"Tissue\"] == tissue)]\n",
    "    \n",
    "    tran_min = df[\"Transcriptomics\"].min()\n",
    "    tran_max = df[\"Transcriptomics\"].max()\n",
    "    tran_rng = tran_max - tran_min\n",
    "    \n",
    "    prot_min = df[\"Proteomics\"].min()\n",
    "    prot_max = df[\"Proteomics\"].max()\n",
    "    prot_rng = prot_max - prot_min\n",
    "    \n",
    "    xs = np.arange(\n",
    "        tran_min,\n",
    "        tran_max + 1,\n",
    "    )\n",
    "    \n",
    "    color_hex = \"#5778a4\" if tissue == \"Normal\" else \"#e49444\"\n",
    "    \n",
    "    all_m = df[\"m\"].drop_duplicates(keep=\"first\")\n",
    "    assert all_m.shape[0] == 1\n",
    "    m = all_m.iloc[0]\n",
    "\n",
    "    all_b = df[\"b\"].drop_duplicates(keep=\"first\")\n",
    "    assert all_b.shape[0] == 1\n",
    "    b = all_b.iloc[0]\n",
    "    \n",
    "    reg_line_df = pd.DataFrame({\n",
    "        \"x\": xs,\n",
    "        \"y\": m * xs + b,\n",
    "    })\n",
    "    \n",
    "    reg_line = alt.Chart(reg_line_df).mark_line(color=color_hex).encode(\n",
    "        x=alt.X(\"x\",scale=alt.Scale(domain=[tran_min, tran_max])),\n",
    "        y=alt.Y(\"y\",scale=alt.Scale(domain=[prot_min, prot_max])),\n",
    "    )\n",
    "    \n",
    "    pt_data = []\n",
    "    for pid in df[\"Name\"].drop_duplicates(keep=\"first\"):\n",
    "        \n",
    "        pt_df = pd.DataFrame({\n",
    "            \"x\": [\n",
    "                df[df[\"Name\"] == pid][\"Transcriptomics\"].iloc[0],\n",
    "                df[df[\"Name\"] == pid][\"intersect_x\"].iloc[0],\n",
    "            ],\n",
    "            \"y\": [\n",
    "                df[df[\"Name\"] == pid][\"Proteomics\"].iloc[0],\n",
    "                df[df[\"Name\"] == pid][\"intersect_y\"].iloc[0],\n",
    "            ],\n",
    "            \"resid\": [df[df[\"Name\"] == pid][\"orth_resid\"].iloc[0]] * 2,\n",
    "            \"Name\": [df[df[\"Name\"] == pid][\"Name\"].iloc[0]] * 2,\n",
    "        })\n",
    "        \n",
    "        pt_base = alt.Chart(pt_df).encode(\n",
    "            x=alt.X(\"x\",title=\"RNA abundance\",scale=alt.Scale(domain=[tran_min, tran_max])),\n",
    "            y=alt.Y(\"y\",title=\"Protein abundance\",scale=alt.Scale(domain=[prot_min, prot_max])),\n",
    "            tooltip=[\"Name\", \"resid\"],\n",
    "        )\n",
    "        \n",
    "        pt_data.append(pt_base.mark_line(color=color_hex))\n",
    "        pt_data.append(pt_base.mark_point(color=color_hex))\n",
    "        \n",
    "    return alt.layer(*([reg_line] + pt_data)), tran_rng, prot_rng\n",
    "    \n",
    "\n",
    "def plot_residuals(resid_df, gene):\n",
    "    tchart, txr, tyr = plot_tissue_residuals(resid_df, gene, \"Tumor\")\n",
    "    nchart, nxr, nyr = plot_tissue_residuals(resid_df, gene, \"Normal\")\n",
    "    \n",
    "    rng = max((txr, tyr), (nxr, nyr))\n",
    "    \n",
    "    return alt.layer(tchart, nchart).properties(\n",
    "        width=nxr * 75,\n",
    "        height=nyr * 75,\n",
    "    ).resolve_scale(\n",
    "        x=\"shared\",\n",
    "        y=\"shared\"\n",
    "    ).properties(\n",
    "        title=[\"Tumor and normal RNA-protein correlations\", \"Protein: \" + gene]\n",
    "    )\n",
    "\n",
    "plot_residuals(pd.read_csv(\"hnscc_residuals.tsv.gz\", sep=\"\\t\"), \"TP53\")"
   ]
  },
  {
   "cell_type": "code",
   "execution_count": null,
   "metadata": {},
   "outputs": [],
   "source": []
  }
 ],
 "metadata": {
  "kernelspec": {
   "display_name": "Python 3",
   "language": "python",
   "name": "python3"
  },
  "language_info": {
   "codemirror_mode": {
    "name": "ipython",
    "version": 3
   },
   "file_extension": ".py",
   "mimetype": "text/x-python",
   "name": "python",
   "nbconvert_exporter": "python",
   "pygments_lexer": "ipython3",
   "version": "3.8.3"
  }
 },
 "nbformat": 4,
 "nbformat_minor": 5
}
