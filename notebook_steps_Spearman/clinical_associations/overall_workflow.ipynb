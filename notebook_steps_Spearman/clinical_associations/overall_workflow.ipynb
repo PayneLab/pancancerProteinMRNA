{
 "cells": [
  {
   "cell_type": "markdown",
   "id": "324b8308",
   "metadata": {},
   "source": [
    "# Correlation analysis workflow\n",
    "\n",
    "1. Get list of significant delta correlation genes\n",
    "2. For each one, calculate the regression line for tumor and normal separately for all patients\n",
    "3. Calculate the residual for each tumor and normal for each patient\n",
    "    - Use scipy odr: https://docs.scipy.org/doc/scipy/reference/odr.html\n",
    "4. Look for association between positive/negative/magnitude of residual and clinical variables\n",
    "5. Look at change between tumor and normal\n",
    "6. Look for assocations between residuals for sets of genes and clinical variables\n",
    "    - Cutoff of how far above/below the line you need to be?"
   ]
  }
 ],
 "metadata": {
  "kernelspec": {
   "display_name": "Python 3 (ipykernel)",
   "language": "python",
   "name": "python3"
  },
  "language_info": {
   "codemirror_mode": {
    "name": "ipython",
    "version": 3
   },
   "file_extension": ".py",
   "mimetype": "text/x-python",
   "name": "python",
   "nbconvert_exporter": "python",
   "pygments_lexer": "ipython3",
   "version": "3.7.7"
  }
 },
 "nbformat": 4,
 "nbformat_minor": 5
}
