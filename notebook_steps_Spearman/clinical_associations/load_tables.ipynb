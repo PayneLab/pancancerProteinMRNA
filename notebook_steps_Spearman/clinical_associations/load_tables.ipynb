{
 "cells": [
  {
   "cell_type": "markdown",
   "id": "d0c6ef2b",
   "metadata": {},
   "source": [
    "# Let's see what interesting data tables we've got\n",
    "\n",
    "It looks like a lot of these are gene level tables, with all patients aggregated together. But we want to look at each patient individually."
   ]
  },
  {
   "cell_type": "code",
   "execution_count": 1,
   "id": "1cb7395a",
   "metadata": {},
   "outputs": [],
   "source": [
    "import pcprutils as ut"
   ]
  },
  {
   "cell_type": "markdown",
   "id": "8d648ecb",
   "metadata": {},
   "source": [
    "## Formatted proteomics and transcriptomics tables"
   ]
  },
  {
   "cell_type": "code",
   "execution_count": 3,
   "id": "47d75e27",
   "metadata": {
    "scrolled": true
   },
   "outputs": [
    {
     "name": "stdout",
     "output_type": "stream",
     "text": [
      "                                         \r"
     ]
    },
    {
     "name": "stderr",
     "output_type": "stream",
     "text": [
      "cptac warning: Due to dropping the specified levels, dataframe now has 655 duplicated column headers. (/home/caleb/anaconda3/envs/dev/lib/python3.7/site-packages/pcprutils/__init__.py, line 26)\n",
      "cptac warning: Due to dropping the specified levels, dataframe now has 655 duplicated column headers. (/home/caleb/anaconda3/envs/dev/lib/python3.7/site-packages/pcprutils/__init__.py, line 36)\n"
     ]
    },
    {
     "name": "stdout",
     "output_type": "stream",
     "text": [
      "                                          \r"
     ]
    },
    {
     "name": "stderr",
     "output_type": "stream",
     "text": [
      "cptac warning: Due to dropping the specified levels, dataframe now has 907 duplicated column headers. (/home/caleb/anaconda3/envs/dev/lib/python3.7/site-packages/pcprutils/__init__.py, line 26)\n",
      "cptac warning: Due to dropping the specified levels, dataframe now has 907 duplicated column headers. (/home/caleb/anaconda3/envs/dev/lib/python3.7/site-packages/pcprutils/__init__.py, line 36)\n"
     ]
    },
    {
     "name": "stdout",
     "output_type": "stream",
     "text": [
      "                                                \r"
     ]
    },
    {
     "name": "stderr",
     "output_type": "stream",
     "text": [
      "cptac warning: Due to dropping the specified levels, dataframe now has 2495 duplicated column headers. (/home/caleb/anaconda3/envs/dev/lib/python3.7/site-packages/pcprutils/__init__.py, line 29)\n",
      "cptac warning: Due to dropping the specified levels, dataframe now has 2495 duplicated column headers. (/home/caleb/anaconda3/envs/dev/lib/python3.7/site-packages/pcprutils/__init__.py, line 39)\n"
     ]
    },
    {
     "name": "stdout",
     "output_type": "stream",
     "text": [
      "                                          \r"
     ]
    },
    {
     "name": "stderr",
     "output_type": "stream",
     "text": [
      "cptac warning: Due to dropping the specified levels, dataframe now has 858 duplicated column headers. (/home/caleb/anaconda3/envs/dev/lib/python3.7/site-packages/pcprutils/__init__.py, line 26)\n",
      "cptac warning: Due to dropping the specified levels, dataframe now has 858 duplicated column headers. (/home/caleb/anaconda3/envs/dev/lib/python3.7/site-packages/pcprutils/__init__.py, line 36)\n"
     ]
    },
    {
     "name": "stdout",
     "output_type": "stream",
     "text": [
      "                                         \r"
     ]
    },
    {
     "name": "stderr",
     "output_type": "stream",
     "text": [
      "cptac warning: Due to dropping the specified levels, dataframe now has 745 duplicated column headers. (/home/caleb/anaconda3/envs/dev/lib/python3.7/site-packages/pcprutils/__init__.py, line 26)\n",
      "cptac warning: Due to dropping the specified levels, dataframe now has 745 duplicated column headers. (/home/caleb/anaconda3/envs/dev/lib/python3.7/site-packages/pcprutils/__init__.py, line 36)\n"
     ]
    },
    {
     "name": "stdout",
     "output_type": "stream",
     "text": [
      "                                            \r"
     ]
    },
    {
     "name": "stderr",
     "output_type": "stream",
     "text": [
      "cptac warning: Due to dropping the specified levels, dataframe now has 1162 duplicated column headers. (/home/caleb/anaconda3/envs/dev/lib/python3.7/site-packages/pcprutils/__init__.py, line 26)\n",
      "cptac warning: Due to dropping the specified levels, dataframe now has 1162 duplicated column headers. (/home/caleb/anaconda3/envs/dev/lib/python3.7/site-packages/pcprutils/__init__.py, line 36)\n"
     ]
    },
    {
     "name": "stdout",
     "output_type": "stream",
     "text": [
      "                                         \r"
     ]
    },
    {
     "name": "stderr",
     "output_type": "stream",
     "text": [
      "cptac warning: The pdac data is currently strictly reserved for CPTAC investigators. Otherwise, you are not authorized to access these data. Additionally, even after these data become publicly available, they will be subject to a publication embargo (see https://proteomics.cancer.gov/data-portal/about/data-use-agreement or enter cptac.embargo() to open the webpage for more details). (/home/caleb/anaconda3/envs/dev/lib/python3.7/site-packages/pcprutils/__init__.py, line 158)\n"
     ]
    }
   ],
   "source": [
    "tables = ut.load_prot_trans()"
   ]
  },
  {
   "cell_type": "code",
   "execution_count": 9,
   "id": "4b59004e",
   "metadata": {},
   "outputs": [
    {
     "name": "stdout",
     "output_type": "stream",
     "text": [
      "brca: (1106686, 5)\n",
      "ccrcc: (1664622, 5)\n",
      "colon: (598068, 5)\n",
      "endometrial: (1063230, 5)\n",
      "gbm: (1079536, 5)\n",
      "hnscc: (1454346, 5)\n",
      "lscc: (2125636, 5)\n",
      "luad: (2027299, 5)\n",
      "ovarian: (673975, 5)\n",
      "pdac: (1413174, 5)\n"
     ]
    }
   ],
   "source": [
    "for name, df in tables.items():\n",
    "    print(f\"{name}: {df.shape}\")"
   ]
  }
 ],
 "metadata": {
  "kernelspec": {
   "display_name": "Python 3",
   "language": "python",
   "name": "python3"
  },
  "language_info": {
   "codemirror_mode": {
    "name": "ipython",
    "version": 3
   },
   "file_extension": ".py",
   "mimetype": "text/x-python",
   "name": "python",
   "nbconvert_exporter": "python",
   "pygments_lexer": "ipython3",
   "version": "3.7.7"
  }
 },
 "nbformat": 4,
 "nbformat_minor": 5
}
