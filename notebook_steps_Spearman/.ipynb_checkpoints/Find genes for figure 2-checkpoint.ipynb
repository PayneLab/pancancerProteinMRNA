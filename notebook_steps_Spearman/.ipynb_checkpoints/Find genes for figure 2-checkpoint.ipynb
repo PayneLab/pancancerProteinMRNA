{
 "cells": [
  {
   "cell_type": "code",
   "execution_count": 3,
   "metadata": {},
   "outputs": [],
   "source": [
    "import pandas as pd\n",
    "import numpy as np"
   ]
  },
  {
   "cell_type": "code",
   "execution_count": 7,
   "metadata": {},
   "outputs": [],
   "source": [
    "prot_df = pd.read_csv(\"data/Proteomics_differential_expression_df.csv\")\n",
    "prot_df['Cancer'] = [cancer.lower() for cancer in prot_df.Cancer]\n",
    "trans_df = pd.read_csv('data/Transcriptomics_differential_expression_df.csv')\n",
    "trans_df['Cancer'] = [cancer.lower() for cancer in trans_df.Cancer]\n",
    "delta_corr_pvals = pd.read_csv('data/full_10k_permutation_corrected.csv')\n",
    "delta_corr_pvals = delta_corr_pvals.replace('en', 'endometrial')\n",
    "delta_corr_pvals = delta_corr_pvals.melt(id_vars='Cancer', var_name = 'Gene', value_name = 'perm_pval')\n",
    "delta_corr_pvals = delta_corr_pvals.dropna()"
   ]
  },
  {
   "cell_type": "code",
   "execution_count": 8,
   "metadata": {},
   "outputs": [],
   "source": [
    "prot_df = prot_df[prot_df.FDR < 0.05]\n",
    "prot_df = prot_df[np.array(prot_df.Log2_fold_change < -1) |\n",
    "                 np.array(prot_df.Log2_fold_change > 1)]\n",
    "trans_df = trans_df[trans_df.FDR < 0.05]\n",
    "trans_df = trans_df[np.array(trans_df.Log2_fold_change > 1) |\n",
    "                   np.array(trans_df.Log2_fold_change < -1)]\n",
    "delta_corr_pvals = delta_corr_pvals[delta_corr_pvals.perm_pval < 0.05]"
   ]
  },
  {
   "cell_type": "code",
   "execution_count": 11,
   "metadata": {},
   "outputs": [
    {
     "name": "stdout",
     "output_type": "stream",
     "text": [
      "ccrcc\n",
      "2880\n",
      "3599\n",
      "1034\n",
      "522\n",
      "928\n",
      "608\n",
      "269\n",
      "luad\n",
      "1390\n",
      "2190\n",
      "3117\n",
      "121\n",
      "2592\n",
      "315\n",
      "193\n",
      "hnscc\n",
      "0\n",
      "2450\n",
      "3492\n",
      "0\n",
      "0\n",
      "43\n",
      "0\n",
      "lscc\n",
      "1606\n",
      "0\n",
      "3662\n",
      "0\n",
      "3321\n",
      "0\n",
      "0\n",
      "endometrial\n",
      "2710\n",
      "1204\n",
      "1837\n",
      "26\n",
      "586\n",
      "15\n",
      "4\n"
     ]
    }
   ],
   "source": [
    "for cancer in pd.unique(delta_corr_pvals.Cancer):\n",
    "    prot = prot_df[prot_df.Cancer == cancer].Gene\n",
    "    trans = trans_df[trans_df.Cancer == cancer].Gene\n",
    "    delta = delta_corr_pvals[delta_corr_pvals.Cancer == cancer].Gene\n",
    "    prot = set(prot)\n",
    "    trans = set(trans)\n",
    "    delta = set(delta)\n",
    "    prot_only = prot - trans - delta\n",
    "    trans_only = trans - prot - delta\n",
    "    delta_only = delta - prot - trans\n",
    "    prot_trans_delta = prot.intersection(delta, trans) \n",
    "    prot_trans = prot.intersection(trans) - prot_trans_delta\n",
    "    trans_delta = trans.intersection(delta) - prot_trans_delta\n",
    "    prot_delta = prot.intersection(delta) - prot_trans_delta\n",
    "    print(cancer)\n",
    "    print(len(prot_only))\n",
    "    print(len(trans_only))\n",
    "    print(len(delta_only))\n",
    "    print(len(prot_trans))\n",
    "    print(len(prot_delta))\n",
    "    print(len(trans_delta))\n",
    "    print(len(prot_trans_delta))"
   ]
  },
  {
   "cell_type": "code",
   "execution_count": 19,
   "metadata": {},
   "outputs": [
    {
     "name": "stdout",
     "output_type": "stream",
     "text": [
      "luad\n",
      "{'SRL', 'NFASC', 'FREM1', 'FHL2', 'PANK1', 'PCDH15', 'DNAAF3', 'DYDC2', 'RUNX2', 'OLFM1', 'EGFLAM', 'TIAM2', 'ABTB2', 'TMEM184A', 'WIF1', 'AZIN2', 'YBX2', 'PAMR1', 'TUBA8', 'ADAMTS18', 'RIBC1', 'ABCA12', 'MAP10', 'FAM92B', 'S100A12', 'FSTL4', 'CCDC181', 'BRCA2', 'TBX3', 'LRP8', 'SULT1E1', 'MT1M', 'DNAH12', 'KRT13', 'ITLN2', 'SH3GL3', 'MMP10', 'RGS22', 'TGM4', 'ADCY5', 'FLT3', 'DNAH6', 'KRT5', 'CARD14', 'ZNF334', 'EXOC3L2', 'ADAMTSL1', 'FAT3', 'CYP4F3', 'ADGRE3', 'CENPM', 'FAM83D', 'KIF19', 'ZNF726', 'MEFV', 'LMOD3', 'FCGR3B', 'ITLN1', 'SGIP1', 'SGO2', 'CDH6', 'CFAP157', 'HMGCS2', 'MMP25', 'NUP210L', 'DEFA3', 'RGS18', 'DNAH3', 'RASGRP4', 'CTSV', 'EBF1', 'NTN1', 'CCDC187', 'AFF3', 'SERPINB11', 'WDR78', 'ARL11', 'TMPRSS13', 'DRC1', 'NOS1', 'ROBO2', 'IQSEC3', 'AKAP5', 'FSD1L', 'STARD9', 'ARMC3', 'GPT', 'NEB', 'FRMD3', 'KMO', 'PLA2G5', 'KIF18A', 'IKZF4', 'C12orf45', 'JAKMIP2', 'PRSS2', 'RYR3', 'MATK', 'KLHDC7A', 'AKAP6', 'TRPM6', 'AGBL3', 'ADAMTS16', 'RCOR2', 'CFAP77', 'USB1', 'ADAT3', 'ICA1L', 'DNAH7', 'C19orf54', 'KCNB1', 'SPEF2', 'AKR1B15', 'ZNF860', 'SLITRK2', 'TMEM201', 'CTTNBP2', 'CNNM2', 'GSTT2B', 'ARNTL2', 'HIC1'}\n"
     ]
    }
   ],
   "source": [
    "cancer = 'luad'\n",
    "prot = prot_df[prot_df.Cancer == cancer].Gene\n",
    "trans = trans_df[trans_df.Cancer == cancer].Gene\n",
    "delta = delta_corr_pvals[delta_corr_pvals.Cancer == cancer].Gene\n",
    "prot = set(prot)\n",
    "trans = set(trans)\n",
    "delta = set(delta)\n",
    "prot_only = prot - trans - delta\n",
    "trans_only = trans - prot - delta\n",
    "delta_only = delta - prot - trans\n",
    "prot_trans_delta = prot.intersection(delta, trans) \n",
    "prot_trans = prot.intersection(trans) - prot_trans_delta\n",
    "trans_delta = trans.intersection(delta) - prot_trans_delta\n",
    "prot_delta = prot.intersection(delta) - prot_trans_delta\n",
    "print(cancer)\n",
    "#print((prot_only))\n",
    "#print((trans_only))\n",
    "#print((delta_only))\n",
    "print((prot_trans))\n",
    "#print(len(prot_delta))\n",
    "#print(len(trans_delta))\n",
    "#print((prot_trans_delta))"
   ]
  },
  {
   "cell_type": "code",
   "execution_count": null,
   "metadata": {},
   "outputs": [],
   "source": []
  }
 ],
 "metadata": {
  "kernelspec": {
   "display_name": "Python 3",
   "language": "python",
   "name": "python3"
  },
  "language_info": {
   "codemirror_mode": {
    "name": "ipython",
    "version": 3
   },
   "file_extension": ".py",
   "mimetype": "text/x-python",
   "name": "python",
   "nbconvert_exporter": "python",
   "pygments_lexer": "ipython3",
   "version": "3.8.3"
  }
 },
 "nbformat": 4,
 "nbformat_minor": 4
}
