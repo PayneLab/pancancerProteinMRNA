{
 "cells": [
  {
   "cell_type": "code",
   "execution_count": 2,
   "metadata": {},
   "outputs": [],
   "source": [
    "import pandas as pd\n",
    "from gprofiler import GProfiler\n",
    "gp = GProfiler(return_dataframe=True)"
   ]
  },
  {
   "cell_type": "code",
   "execution_count": 3,
   "metadata": {
    "scrolled": true
   },
   "outputs": [
    {
     "data": {
      "text/html": [
       "<div>\n",
       "<style scoped>\n",
       "    .dataframe tbody tr th:only-of-type {\n",
       "        vertical-align: middle;\n",
       "    }\n",
       "\n",
       "    .dataframe tbody tr th {\n",
       "        vertical-align: top;\n",
       "    }\n",
       "\n",
       "    .dataframe thead th {\n",
       "        text-align: right;\n",
       "    }\n",
       "</style>\n",
       "<table border=\"1\" class=\"dataframe\">\n",
       "  <thead>\n",
       "    <tr style=\"text-align: right;\">\n",
       "      <th></th>\n",
       "      <th>Gene</th>\n",
       "      <th>Delta_Correlation</th>\n",
       "      <th>P_Value</th>\n",
       "      <th>FDR</th>\n",
       "      <th>Cancer</th>\n",
       "    </tr>\n",
       "  </thead>\n",
       "  <tbody>\n",
       "    <tr>\n",
       "      <th>0</th>\n",
       "      <td>A1BG</td>\n",
       "      <td>-0.268533</td>\n",
       "      <td>5.703182e-02</td>\n",
       "      <td>1.320375e-01</td>\n",
       "      <td>CCRCC</td>\n",
       "    </tr>\n",
       "    <tr>\n",
       "      <th>1</th>\n",
       "      <td>A1CF</td>\n",
       "      <td>0.192038</td>\n",
       "      <td>1.063340e-04</td>\n",
       "      <td>6.401858e-04</td>\n",
       "      <td>CCRCC</td>\n",
       "    </tr>\n",
       "    <tr>\n",
       "      <th>2</th>\n",
       "      <td>A2M</td>\n",
       "      <td>-0.191619</td>\n",
       "      <td>1.277644e-01</td>\n",
       "      <td>2.439276e-01</td>\n",
       "      <td>CCRCC</td>\n",
       "    </tr>\n",
       "    <tr>\n",
       "      <th>3</th>\n",
       "      <td>AAAS</td>\n",
       "      <td>0.019654</td>\n",
       "      <td>8.963138e-01</td>\n",
       "      <td>9.409267e-01</td>\n",
       "      <td>CCRCC</td>\n",
       "    </tr>\n",
       "    <tr>\n",
       "      <th>4</th>\n",
       "      <td>AACS</td>\n",
       "      <td>-0.169937</td>\n",
       "      <td>6.007042e-02</td>\n",
       "      <td>1.375402e-01</td>\n",
       "      <td>CCRCC</td>\n",
       "    </tr>\n",
       "    <tr>\n",
       "      <th>...</th>\n",
       "      <td>...</td>\n",
       "      <td>...</td>\n",
       "      <td>...</td>\n",
       "      <td>...</td>\n",
       "      <td>...</td>\n",
       "    </tr>\n",
       "    <tr>\n",
       "      <th>50303</th>\n",
       "      <td>ZXDC</td>\n",
       "      <td>0.073854</td>\n",
       "      <td>6.395306e-01</td>\n",
       "      <td>6.962162e-01</td>\n",
       "      <td>LUAD</td>\n",
       "    </tr>\n",
       "    <tr>\n",
       "      <th>50304</th>\n",
       "      <td>ZYG11B</td>\n",
       "      <td>0.734569</td>\n",
       "      <td>1.583743e-10</td>\n",
       "      <td>1.504331e-09</td>\n",
       "      <td>LUAD</td>\n",
       "    </tr>\n",
       "    <tr>\n",
       "      <th>50305</th>\n",
       "      <td>ZYX</td>\n",
       "      <td>0.440861</td>\n",
       "      <td>2.253307e-06</td>\n",
       "      <td>9.499585e-06</td>\n",
       "      <td>LUAD</td>\n",
       "    </tr>\n",
       "    <tr>\n",
       "      <th>50306</th>\n",
       "      <td>ZZEF1</td>\n",
       "      <td>0.422001</td>\n",
       "      <td>3.731185e-11</td>\n",
       "      <td>3.889196e-10</td>\n",
       "      <td>LUAD</td>\n",
       "    </tr>\n",
       "    <tr>\n",
       "      <th>50307</th>\n",
       "      <td>ZZZ3</td>\n",
       "      <td>0.717501</td>\n",
       "      <td>2.955080e-06</td>\n",
       "      <td>1.215796e-05</td>\n",
       "      <td>LUAD</td>\n",
       "    </tr>\n",
       "  </tbody>\n",
       "</table>\n",
       "<p>50308 rows × 5 columns</p>\n",
       "</div>"
      ],
      "text/plain": [
       "         Gene  Delta_Correlation       P_Value           FDR Cancer\n",
       "0        A1BG          -0.268533  5.703182e-02  1.320375e-01  CCRCC\n",
       "1        A1CF           0.192038  1.063340e-04  6.401858e-04  CCRCC\n",
       "2         A2M          -0.191619  1.277644e-01  2.439276e-01  CCRCC\n",
       "3        AAAS           0.019654  8.963138e-01  9.409267e-01  CCRCC\n",
       "4        AACS          -0.169937  6.007042e-02  1.375402e-01  CCRCC\n",
       "...       ...                ...           ...           ...    ...\n",
       "50303    ZXDC           0.073854  6.395306e-01  6.962162e-01   LUAD\n",
       "50304  ZYG11B           0.734569  1.583743e-10  1.504331e-09   LUAD\n",
       "50305     ZYX           0.440861  2.253307e-06  9.499585e-06   LUAD\n",
       "50306   ZZEF1           0.422001  3.731185e-11  3.889196e-10   LUAD\n",
       "50307    ZZZ3           0.717501  2.955080e-06  1.215796e-05   LUAD\n",
       "\n",
       "[50308 rows x 5 columns]"
      ]
     },
     "execution_count": 3,
     "metadata": {},
     "output_type": "execute_result"
    }
   ],
   "source": [
    "delta_correlation_df = pd.read_csv('delta_correlation_df.csv')\n",
    "delta_correlation_df"
   ]
  },
  {
   "cell_type": "code",
   "execution_count": null,
   "metadata": {},
   "outputs": [],
   "source": [
    "cancer_types = pd.unique(delta_correlation_df.Cancer) # ['CCRCC', 'Endometrial', 'HNSCC', 'LSCC', 'LUAD']\n",
    "all_profiles = []\n",
    "for cancer in cancer_types:\n",
    "    cancer_df = delta_correlation_df[delta_correlation_df.Cancer == cancer]\n",
    "    background_genes  = list(pd.unique(cancer_df.Gene))\n",
    "    cancer_df = cancer_df[cancer_df.FDR < 0.05]\n",
    "    sig_genes  = list(pd.unique(cancer_df.Gene))\n",
    "    \n",
    "    cancer_profile = gp.profile(organism='hsapiens', query = sig_genes, no_iea=True, sources = [\"KEGG\"],\n",
    "                       ordered=True, no_evidences=False, background= background_genes)\n",
    "    all_profiles.append(cancer_profile)"
   ]
  },
  {
   "cell_type": "code",
   "execution_count": null,
   "metadata": {},
   "outputs": [],
   "source": [
    "cancer_types"
   ]
  },
  {
   "cell_type": "code",
   "execution_count": null,
   "metadata": {
    "scrolled": true
   },
   "outputs": [],
   "source": [
    "#CCRCC\n",
    "(all_profiles[0])"
   ]
  },
  {
   "cell_type": "code",
   "execution_count": null,
   "metadata": {
    "scrolled": true
   },
   "outputs": [],
   "source": [
    "#Endometrial\n",
    "(all_profiles[1])"
   ]
  },
  {
   "cell_type": "code",
   "execution_count": null,
   "metadata": {
    "scrolled": true
   },
   "outputs": [],
   "source": [
    "#HNSCC\n",
    "(all_profiles[2])"
   ]
  },
  {
   "cell_type": "code",
   "execution_count": null,
   "metadata": {
    "scrolled": true
   },
   "outputs": [],
   "source": [
    "#LSCC\n",
    "(all_profiles[3])"
   ]
  },
  {
   "cell_type": "code",
   "execution_count": null,
   "metadata": {},
   "outputs": [],
   "source": [
    "#LUAD\n",
    "(all_profiles[4])"
   ]
  },
  {
   "cell_type": "markdown",
   "metadata": {},
   "source": [
    "# Exploration: Sustaining and Proliferating Hallmark Pathways"
   ]
  },
  {
   "cell_type": "code",
   "execution_count": 10,
   "metadata": {},
   "outputs": [],
   "source": [
    "# These are the Sustaining and Proliferating Hallmark Pathways\n",
    "sus_prof_pathways = [\n",
    "    'ABC transporters',\n",
    "    'Fatty acid degradation',\n",
    "    'Metabolic pathways',\n",
    "    'Fatty acid metabolism',\n",
    "    'Pyruvate metabolism',\n",
    "    'Valine, leucine and isoleucine degradation',\n",
    "    'Butanoate metabolism',\n",
    "    'Glycolysis / Gluconeogenesis',\n",
    "    'Lysosome',\n",
    "    'Peroxisome',\n",
    "    'Biosynthesis of unsaturated fatty acids',\n",
    "    'Thiamine metabolism',\n",
    "    'Purine metabolism',\n",
    "    'Glyoxylate and dicarboxylate metabolism',\n",
    "    'Tyrosine metabolism',\n",
    "    'Carbon metabolism',\n",
    "    'Various types of N-glycan biosynthesis',\n",
    "    'Lysine degradation',\n",
    "    'Chemical carcinogenesis',\n",
    "    'Arginine biosynthesis',\n",
    "    'Cysteine and methionine metabolism',\n",
    "    'Proteasome',\n",
    "    'Drug metabolism - cytochrome P450',\n",
    "    'Arginine and proline metabolism',\n",
    "    'Synthesis and degradation of ketone bodies',\n",
    "    'Citrate cycle (TCA cycle)',\n",
    "    'Pantothenate and CoA biosynthesis',\n",
    "    'Oxidative phosphorylation',\n",
    "    'Fructose and mannose metabolism',\n",
    "    'Biosynthesis of amino acids',\n",
    "    'DNA replication',\n",
    "    'D-Glutamine and D-glutamate metabolism',\n",
    "    'Phenylalanine metabolism',\n",
    "    'Translation Factors',\n",
    "    'Mitochondrial LC-Fatty Acid Beta-Oxidation',\n",
    "    'Fatty Acid Beta Oxidation',\n",
    "    'Fatty Acid Biosynthesis',\n",
    "    'Nuclear Receptors in Lipid Metabolism and Toxicity',\n",
    "    'Fatty Acid Omega Oxidation',\n",
    "    'Fluoroacetic acid toxicity',\n",
    "    'Statin Pathway',\n",
    "    'Pregnane X Receptor pathway',\n",
    "    'Integrated Cancer Pathway',\n",
    "    'G Protein Signaling Pathways',\n",
    "    'Cytoplasmic Ribosomal Proteins',\n",
    "    'Mitochondrial complex I assembly model OXPHOS system',\n",
    "    'Nanoparticle triggered autophagic cell death',\n",
    "    'Nanomaterial induced apoptosis',\n",
    "    'Composition of Lipid Particles'\n",
    "]"
   ]
  },
  {
   "cell_type": "markdown",
   "metadata": {},
   "source": [
    "## Pathway searching\n",
    "\n",
    "First we'll make one dataframe that has all the enriched pathways for all cancer types, adding a column that identifies which cancer type each pathway came from. Note that if one pathway is enriched in multiple cancer types, it will be in the table multiple times, once for each cancer type."
   ]
  },
  {
   "cell_type": "code",
   "execution_count": 11,
   "metadata": {},
   "outputs": [],
   "source": [
    "all_profiles_df = pd.DataFrame()\n",
    "for profile, cancer_type in zip(all_profiles, cancer_types):\n",
    "    profile = profile.assign(cancer_type=cancer_type)\n",
    "    all_profiles_df = all_profiles_df.append(profile)"
   ]
  },
  {
   "cell_type": "markdown",
   "metadata": {},
   "source": [
    "Now we'll write a function that will take a list of pathways we're interested in, and return a table showing which cancer types those pathways are enriched in."
   ]
  },
  {
   "cell_type": "code",
   "execution_count": 12,
   "metadata": {},
   "outputs": [
    {
     "data": {
      "text/html": [
       "<div>\n",
       "<style scoped>\n",
       "    .dataframe tbody tr th:only-of-type {\n",
       "        vertical-align: middle;\n",
       "    }\n",
       "\n",
       "    .dataframe tbody tr th {\n",
       "        vertical-align: top;\n",
       "    }\n",
       "\n",
       "    .dataframe thead th {\n",
       "        text-align: right;\n",
       "    }\n",
       "</style>\n",
       "<table border=\"1\" class=\"dataframe\">\n",
       "  <thead>\n",
       "    <tr style=\"text-align: right;\">\n",
       "      <th></th>\n",
       "      <th>cancers</th>\n",
       "      <th>pathways</th>\n",
       "      <th>pathways_ct</th>\n",
       "    </tr>\n",
       "  </thead>\n",
       "  <tbody>\n",
       "    <tr>\n",
       "      <th>0</th>\n",
       "      <td>[CCRCC, Endometrial, LSCC, LUAD]</td>\n",
       "      <td>[Fatty acid metabolism]</td>\n",
       "      <td>1</td>\n",
       "    </tr>\n",
       "    <tr>\n",
       "      <th>1</th>\n",
       "      <td>[CCRCC, LSCC, LUAD]</td>\n",
       "      <td>[ABC transporters, Fatty acid degradation]</td>\n",
       "      <td>2</td>\n",
       "    </tr>\n",
       "    <tr>\n",
       "      <th>2</th>\n",
       "      <td>[LSCC, LUAD]</td>\n",
       "      <td>[Glycolysis / Gluconeogenesis, Pyruvate metabo...</td>\n",
       "      <td>3</td>\n",
       "    </tr>\n",
       "    <tr>\n",
       "      <th>3</th>\n",
       "      <td>[CCRCC]</td>\n",
       "      <td>[Biosynthesis of unsaturated fatty acids]</td>\n",
       "      <td>1</td>\n",
       "    </tr>\n",
       "    <tr>\n",
       "      <th>4</th>\n",
       "      <td>[LSCC]</td>\n",
       "      <td>[Peroxisome]</td>\n",
       "      <td>1</td>\n",
       "    </tr>\n",
       "  </tbody>\n",
       "</table>\n",
       "</div>"
      ],
      "text/plain": [
       "                            cancers  \\\n",
       "0  [CCRCC, Endometrial, LSCC, LUAD]   \n",
       "1               [CCRCC, LSCC, LUAD]   \n",
       "2                      [LSCC, LUAD]   \n",
       "3                           [CCRCC]   \n",
       "4                            [LSCC]   \n",
       "\n",
       "                                            pathways  pathways_ct  \n",
       "0                            [Fatty acid metabolism]            1  \n",
       "1         [ABC transporters, Fatty acid degradation]            2  \n",
       "2  [Glycolysis / Gluconeogenesis, Pyruvate metabo...            3  \n",
       "3          [Biosynthesis of unsaturated fatty acids]            1  \n",
       "4                                       [Peroxisome]            1  "
      ]
     },
     "execution_count": 12,
     "metadata": {},
     "output_type": "execute_result"
    }
   ],
   "source": [
    "def summarize_pathways(all_profiles, selected_pathways):\n",
    "    \n",
    "    # Pull out the profiles for our selected pathways\n",
    "    # Note that if a pathway isn't found in the profiles table, this will omit it silently\n",
    "    selected_profiles = all_profiles[all_profiles[\"name\"].isin(selected_pathways)]\n",
    "    \n",
    "    # Group by pathway, to have an entry for which cancer types each pathway is enriched in\n",
    "    # Then group by which cancer types each pathway is enriched in, so for each cancer type\n",
    "    # group we have a list of all pathways that are enriched in all members of that group of\n",
    "    # cancer types\n",
    "    summ = selected_profiles.\\\n",
    "    groupby(\"name\").\\\n",
    "    agg(cancers_str=(\"cancer_type\", lambda x: \"_\".join(sorted(set(x))))).\\\n",
    "    reset_index(drop=False).\\\n",
    "    groupby(\"cancers_str\").\\\n",
    "    agg(pathways=(\"name\", lambda x: sorted(set(x)))).\\\n",
    "    reset_index(drop=False)\n",
    "\n",
    "    # Sort everything nicely\n",
    "    summ.insert(0, \"cancers\", summ[\"cancers_str\"].str.split(\"_\"))\n",
    "    summ = summ.\\\n",
    "    assign(cancers_ct=summ[\"cancers\"].apply(len)).\\\n",
    "    sort_values(by=[\"cancers_ct\", \"cancers_str\"], ascending=[False, True]).\\\n",
    "    drop(columns=[\"cancers_str\", \"cancers_ct\"]).\\\n",
    "    reset_index(drop=True)\n",
    "\n",
    "    summ = summ.\\\n",
    "    assign(pathways_ct=summ[\"pathways\"].apply(len))\n",
    "\n",
    "    return summ\n",
    "\n",
    "sus_prof_sum = summarize_pathways(all_profiles_df, sus_prof_pathways)\n",
    "sus_prof_sum"
   ]
  },
  {
   "cell_type": "code",
   "execution_count": 13,
   "metadata": {},
   "outputs": [
    {
     "data": {
      "text/plain": [
       "['Fatty acid metabolism']"
      ]
     },
     "execution_count": 13,
     "metadata": {},
     "output_type": "execute_result"
    }
   ],
   "source": [
    "sus_prof_sum.loc[0, \"pathways\"]"
   ]
  },
  {
   "cell_type": "markdown",
   "metadata": {},
   "source": [
    "This list copied from output of cell above. Descriptions from KEGG and other searches.\n",
    "\n",
    "- ABC transporters\n",
    "    - Use ATP hydrolysis for active transport of many substrates, including ions, sugars, lipids, sterols, peptides, proteins, and drugs.\n",
    "- Arginine and proline metabolism\n",
    "    - These reactions are bidirectional, so adjusts to the current needs of the cell\n",
    "    - Metabolic needs shift to support metastasis or other activities [[28492237]](https://pubmed.ncbi.nlm.nih.gov/28492237/)\n",
    "- Biosynthesis of unsaturated fatty acids\n",
    "    - Important for cancer to change growth patterns [[31819192]](https://pubmed.ncbi.nlm.nih.gov/31819192/)\n",
    "- Butanoate metabolism\n",
    "    - Type of fatty acid metabolism\n",
    "    - Involved in gut microbiome homeostasis?\n",
    "- Carbon metabolism\n",
    "- Citrate cycle (TCA cycle)\n",
    "- Fatty acid degradation\n",
    "- Fatty acid metabolism\n",
    "- Glycolysis / Gluconeogenesis\n",
    "- Glyoxylate and dicarboxylate metabolism\n",
    "- Lysine degradation\n",
    "- Lysosome\n",
    "- Metabolic pathways\n",
    "- Oxidative phosphorylation\n",
    "- Pantothenate and CoA biosynthesis\n",
    "- Peroxisome\n",
    "- Purine metabolism\n",
    "- Pyruvate metabolism\n",
    "- Synthesis and degradation of ketone bodies\n",
    "- Thiamine metabolism\n",
    "- Tyrosine metabolism\n",
    "- Valine, leucine and isoleucine degradation\n",
    "- Various types of N-glycan biosynthesis"
   ]
  },
  {
   "cell_type": "markdown",
   "metadata": {},
   "source": [
    "### Let's explore which pathways are found in which cancer types\n",
    "\n",
    "Why are some pathways not showing up in any cancers in our table?"
   ]
  },
  {
   "cell_type": "code",
   "execution_count": 14,
   "metadata": {},
   "outputs": [],
   "source": [
    "not_found = []\n",
    "found = {}\n",
    "cancers_map = {cancer: [] for cancer in cancer_types}\n",
    "\n",
    "for pw in sus_prof_pathways:\n",
    "    cancers = all_profiles_df[all_profiles_df[\"name\"] == pw][\"cancer_type\"]\n",
    "    if len(cancers) == 0:\n",
    "        not_found.append(pw)\n",
    "    else:\n",
    "        found[pw] = []\n",
    "        for cancer in cancers:\n",
    "            found[pw].append(cancer)\n",
    "            cancers_map[cancer].append(pw)"
   ]
  },
  {
   "cell_type": "code",
   "execution_count": 15,
   "metadata": {},
   "outputs": [
    {
     "data": {
      "text/plain": [
       "['Metabolic pathways',\n",
       " 'Butanoate metabolism',\n",
       " 'Lysosome',\n",
       " 'Thiamine metabolism',\n",
       " 'Purine metabolism',\n",
       " 'Glyoxylate and dicarboxylate metabolism',\n",
       " 'Tyrosine metabolism',\n",
       " 'Carbon metabolism',\n",
       " 'Various types of N-glycan biosynthesis',\n",
       " 'Lysine degradation',\n",
       " 'Chemical carcinogenesis',\n",
       " 'Arginine biosynthesis',\n",
       " 'Cysteine and methionine metabolism',\n",
       " 'Proteasome',\n",
       " 'Drug metabolism - cytochrome P450',\n",
       " 'Arginine and proline metabolism',\n",
       " 'Synthesis and degradation of ketone bodies',\n",
       " 'Citrate cycle (TCA cycle)',\n",
       " 'Pantothenate and CoA biosynthesis',\n",
       " 'Oxidative phosphorylation',\n",
       " 'Fructose and mannose metabolism',\n",
       " 'Biosynthesis of amino acids',\n",
       " 'DNA replication',\n",
       " 'D-Glutamine and D-glutamate metabolism',\n",
       " 'Phenylalanine metabolism',\n",
       " 'Translation Factors',\n",
       " 'Mitochondrial LC-Fatty Acid Beta-Oxidation',\n",
       " 'Fatty Acid Beta Oxidation',\n",
       " 'Fatty Acid Biosynthesis',\n",
       " 'Nuclear Receptors in Lipid Metabolism and Toxicity',\n",
       " 'Fatty Acid Omega Oxidation',\n",
       " 'Fluoroacetic acid toxicity',\n",
       " 'Statin Pathway',\n",
       " 'Pregnane X Receptor pathway',\n",
       " 'Integrated Cancer Pathway',\n",
       " 'G Protein Signaling Pathways',\n",
       " 'Cytoplasmic Ribosomal Proteins',\n",
       " 'Mitochondrial complex I assembly model OXPHOS system',\n",
       " 'Nanoparticle triggered autophagic cell death',\n",
       " 'Nanomaterial induced apoptosis',\n",
       " 'Composition of Lipid Particles']"
      ]
     },
     "execution_count": 15,
     "metadata": {},
     "output_type": "execute_result"
    }
   ],
   "source": [
    "not_found"
   ]
  },
  {
   "cell_type": "code",
   "execution_count": 16,
   "metadata": {
    "scrolled": false
   },
   "outputs": [],
   "source": [
    "def print_map(dmap):\n",
    "    for k in sorted(dmap.keys()):\n",
    "        print(k)\n",
    "        for v in sorted(dmap[k]):\n",
    "            print(f\"\\t{v}\")"
   ]
  },
  {
   "cell_type": "code",
   "execution_count": 17,
   "metadata": {},
   "outputs": [
    {
     "name": "stdout",
     "output_type": "stream",
     "text": [
      "ABC transporters\n",
      "\tCCRCC\n",
      "\tLSCC\n",
      "\tLUAD\n",
      "Biosynthesis of unsaturated fatty acids\n",
      "\tCCRCC\n",
      "Fatty acid degradation\n",
      "\tCCRCC\n",
      "\tLSCC\n",
      "\tLUAD\n",
      "Fatty acid metabolism\n",
      "\tCCRCC\n",
      "\tEndometrial\n",
      "\tLSCC\n",
      "\tLUAD\n",
      "Glycolysis / Gluconeogenesis\n",
      "\tLSCC\n",
      "\tLUAD\n",
      "Peroxisome\n",
      "\tLSCC\n",
      "Pyruvate metabolism\n",
      "\tLSCC\n",
      "\tLUAD\n",
      "Valine, leucine and isoleucine degradation\n",
      "\tLSCC\n",
      "\tLUAD\n"
     ]
    }
   ],
   "source": [
    "print_map(found)"
   ]
  },
  {
   "cell_type": "code",
   "execution_count": 18,
   "metadata": {},
   "outputs": [
    {
     "name": "stdout",
     "output_type": "stream",
     "text": [
      "CCRCC\n",
      "\tABC transporters\n",
      "\tBiosynthesis of unsaturated fatty acids\n",
      "\tFatty acid degradation\n",
      "\tFatty acid metabolism\n",
      "Endometrial\n",
      "\tFatty acid metabolism\n",
      "HNSCC\n",
      "LSCC\n",
      "\tABC transporters\n",
      "\tFatty acid degradation\n",
      "\tFatty acid metabolism\n",
      "\tGlycolysis / Gluconeogenesis\n",
      "\tPeroxisome\n",
      "\tPyruvate metabolism\n",
      "\tValine, leucine and isoleucine degradation\n",
      "LUAD\n",
      "\tABC transporters\n",
      "\tFatty acid degradation\n",
      "\tFatty acid metabolism\n",
      "\tGlycolysis / Gluconeogenesis\n",
      "\tPyruvate metabolism\n",
      "\tValine, leucine and isoleucine degradation\n"
     ]
    }
   ],
   "source": [
    "print_map(cancers_map)"
   ]
  }
 ],
 "metadata": {
  "kernelspec": {
   "display_name": "Python 3",
   "language": "python",
   "name": "python3"
  },
  "language_info": {
   "codemirror_mode": {
    "name": "ipython",
    "version": 3
   },
   "file_extension": ".py",
   "mimetype": "text/x-python",
   "name": "python",
   "nbconvert_exporter": "python",
   "pygments_lexer": "ipython3",
   "version": "3.8.3"
  }
 },
 "nbformat": 4,
 "nbformat_minor": 4
}
