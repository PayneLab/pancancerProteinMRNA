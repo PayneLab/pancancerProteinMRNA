{
 "cells": [
  {
   "cell_type": "code",
   "execution_count": 1,
   "metadata": {},
   "outputs": [],
   "source": [
    "import cptac\n",
    "import pandas as pd\n",
    "from scipy import stats\n",
    "import numpy as np\n",
    "import statsmodels.stats.multitest as ssm"
   ]
  },
  {
   "cell_type": "code",
   "execution_count": null,
   "metadata": {},
   "outputs": [
    {
     "name": "stdout",
     "output_type": "stream",
     "text": [
      "Loading ccrcc v0.1.1..                    \r"
     ]
    }
   ],
   "source": [
    "ccrcc = cptac.Ccrcc()\n",
    "en = cptac.Endometrial()\n",
    "luad = cptac.Luad()\n",
    "hnscc  = cptac.Hnscc()\n",
    "lscc = cptac.Lscc()"
   ]
  },
  {
   "cell_type": "code",
   "execution_count": null,
   "metadata": {},
   "outputs": [],
   "source": [
    "def find_norm_tumor_corr_effect(cancer_type, gene):\n",
    "    tumor = cancer_type.multi_join({'proteomics': gene, 'transcriptomics': gene}, tissue_type= 'tumor', flatten = True)\n",
    "    normal = cancer_type.multi_join({'proteomics': gene, 'transcriptomics': gene}, tissue_type= 'normal', flatten = True)\n",
    "    tumor = tumor.dropna()\n",
    "    normal = normal.dropna()\n",
    "    if len(normal) < 2 or len(tumor) < 2:\n",
    "        return float(\"NaN\"), float(\"NaN\"), float(\"NaN\")\n",
    "    tumor.columns = ['proteomics', 'transcriptomics']\n",
    "    normal.columns = ['proteomics', 'transcriptomics']\n",
    "    groups = ['tumor'] * len(tumor)\n",
    "    groups.extend(['normal']*len(normal))\n",
    "    prot_list = list(tumor['proteomics'])\n",
    "    prot_list.extend(list(normal['proteomics']))\n",
    "    trans_list = list(tumor['transcriptomics'])\n",
    "    trans_list.extend(list(normal['transcriptomics']))\n",
    "    gene_df = pd.DataFrame({'Type': groups, 'Proteomics': prot_list, 'Transcriptomics': trans_list})\n",
    "    is_tum = gene_df['Type'] == 'tumor'\n",
    "    is_norm = gene_df['Type'] == 'normal'\n",
    "    tum_cor, tum_pval = stats.pearsonr(gene_df[is_tum]['Proteomics'], gene_df[is_tum]['Transcriptomics'])\n",
    "    norm_cor, norm_pval = stats.pearsonr(gene_df[is_norm]['Proteomics'], gene_df[is_norm]['Transcriptomics'])\n",
    "    return tum_cor, tum_pval, norm_cor, norm_pval, gene_df  "
   ]
  },
  {
   "cell_type": "code",
   "execution_count": null,
   "metadata": {},
   "outputs": [],
   "source": [
    "def get_cancer_string(cancer):\n",
    "    if cancer == ccrcc:\n",
    "        return \"ccrcc\"\n",
    "    if cancer == en:\n",
    "        return 'endometrial'\n",
    "    if cancer == luad:\n",
    "        return 'luad'\n",
    "    if cancer == hnscc:\n",
    "        return 'hnscc'\n",
    "    if cancer == lscc:\n",
    "        return 'lscc'"
   ]
  },
  {
   "cell_type": "markdown",
   "metadata": {},
   "source": [
    "See https://statisticsbyjim.com/regression/comparing-regression-lines/"
   ]
  },
  {
   "cell_type": "code",
   "execution_count": null,
   "metadata": {},
   "outputs": [],
   "source": [
    "\n",
    "\n",
    "from rpy2.robjects import r, pandas2ri\n",
    "from rpy2.robjects.packages import importr\n",
    "import rpy2.robjects as robj\n",
    "import pandas as pd\n",
    "def linear_model(data, Input, Output, Condition):\n",
    "    try:\n",
    "        stats = importr('stats')\n",
    "        base = importr('base')\n",
    "        pandas2ri.activate()\n",
    "        r_df = pandas2ri.py2rpy(data)\n",
    "        pandas2ri.deactivate()\n",
    "        formula = '{y}~{x}*{condition}'.format(y = Output, x = Input, condition = Condition)\n",
    "        lm = stats.lm(formula, r_df)\n",
    "        summary = (base.summary(lm))\n",
    "        results = summary.rx2('coefficients')\n",
    "        results_df = base.as_data_frame_matrix(results)\n",
    "        py_results_df = pd.DataFrame(results_df).transpose()\n",
    "        py_results_df.columns = results_df.colnames\n",
    "        py_results_df.index = results_df.rownames\n",
    "        return(py_results_df)\n",
    "    except:\n",
    "        print(data)"
   ]
  },
  {
   "cell_type": "code",
   "execution_count": null,
   "metadata": {},
   "outputs": [],
   "source": [
    "cancer_genes = ['BRAF','FAT1','IDH1','TP53','KMT2D','KRAS','PIK3CA','PTEN','SPTA1']\n",
    "cancer_list = [ccrcc,en,luad,hnscc,lscc]"
   ]
  },
  {
   "cell_type": "code",
   "execution_count": null,
   "metadata": {},
   "outputs": [],
   "source": [
    "# Make df for grid plot\n",
    "dfs = []\n",
    "rows = []\n",
    "for cancer in cancer_list:\n",
    "    for gene in cancer_genes:\n",
    "        if gene == \"KRAS\" and cancer == ccrcc:\n",
    "            continue\n",
    "        tum_cor, tum_pval, norm_cor, norm_pval, gene_df = find_norm_tumor_corr_effect(cancer, gene)\n",
    "        if not np.isnan(tum_cor):\n",
    "            d = {}\n",
    "            gene_df['Cancer'] = [get_cancer_string(cancer)] * len(gene_df)\n",
    "            gene_df['Gene'] = [gene] * len(gene_df)\n",
    "            dfs.append(gene_df)\n",
    "            d['cancer'] = get_cancer_string(cancer)\n",
    "            d['gene'] = gene\n",
    "            d['tum_pval'] = tum_pval\n",
    "            d['tum_corr'] = tum_cor\n",
    "            d['norm_pval'] = norm_pval\n",
    "            d['norm_corr'] = norm_cor\n",
    "            \n",
    "            rows.append(d)\n",
    "full_df = pd.concat(dfs)\n",
    "full_df = full_df.rename(columns ={'Type': 'Tissue'})\n",
    "corr_df = pd.DataFrame(rows)"
   ]
  },
  {
   "cell_type": "code",
   "execution_count": null,
   "metadata": {},
   "outputs": [],
   "source": [
    "full_df"
   ]
  },
  {
   "cell_type": "code",
   "execution_count": null,
   "metadata": {},
   "outputs": [],
   "source": [
    "corr_df"
   ]
  },
  {
   "cell_type": "code",
   "execution_count": null,
   "metadata": {},
   "outputs": [],
   "source": [
    "cancer_dfs = []\n",
    "for cancer in pd.unique(full_df.Cancer):\n",
    "    print(cancer)\n",
    "    rows = []\n",
    "    for gene in list(pd.unique(full_df.Gene)):\n",
    "        print(gene)\n",
    "        d = {}\n",
    "        df = full_df[full_df.Gene == gene]\n",
    "        df = df[df.Cancer == cancer]\n",
    "        if len(df) < 4:\n",
    "            continue\n",
    "        df = df[['Tissue', 'Proteomics', 'Transcriptomics']]\n",
    "        lm_df= linear_model(df, 'Transcriptomics', 'Proteomics', 'Tissue')\n",
    "        d['gene'] = gene\n",
    "        d['cancer'] = cancer\n",
    "        d['interaction_coeff'] = lm_df['Estimate'][3]\n",
    "        d['condition_coeff'] = lm_df['Estimate'][2]\n",
    "        d['transcript_coeff'] = lm_df['Estimate'][1]\n",
    "        d['intercept'] = lm_df['Estimate'][0]\n",
    "        d['interaction_pval'] = lm_df['Pr(>|t|)'][3]\n",
    "        d['condition_pval'] = lm_df['Pr(>|t|)'][2]\n",
    "        d['transcript_pval'] = lm_df['Pr(>|t|)'][1]\n",
    "        d['intercept_pval'] = lm_df['Pr(>|t|)'][0]\n",
    "        rows.append(d)\n",
    "    cancer_df = pd.DataFrame(rows)\n",
    "    for column in cancer_df:\n",
    "        if 'pval' in column:\n",
    "            old_pvals = list(cancer_df[column])\n",
    "            adj_pvals = list(ssm.fdrcorrection(old_pvals)[1])\n",
    "            cancer_df[column] = adj_pvals    \n",
    "    cancer_dfs.append(cancer_df)\n",
    "            \n",
    "lm_df = pd.concat(cancer_dfs)\n",
    "lm_df"
   ]
  },
  {
   "cell_type": "code",
   "execution_count": null,
   "metadata": {},
   "outputs": [],
   "source": [
    "import seaborn as sns\n",
    "import matplotlib as plt"
   ]
  },
  {
   "cell_type": "code",
   "execution_count": null,
   "metadata": {},
   "outputs": [],
   "source": [
    "# get delta correlation p-values\n",
    "delta_corr_pvals_df = pd.read_csv('data/p_val.csv')\n",
    "combined_df = pd.merge(normal_df, tumor_df, how = 'outer')\n",
    "combined_df['Significant Correlation'] = combined_df['p-val'] <= 0.05\n",
    "delta_corr_pvals = []\n",
    "for index, row in combined_df.iterrows():\n",
    "    cancer = row['Cancer']\n",
    "    gene = row['Gene']\n",
    "    pval = delta_corr_pvals_df[delta_corr_pvals_df.Cancer == cancer].reset_index()[gene][0]\n",
    "    delta_corr_pvals.append(pval)\n",
    "combined_df['delta_corr_pval'] = delta_corr_pvals\n",
    "combined_df['Significant Delta Correlation'] = combined_df['delta_corr_pval'] <= 0.05\n",
    "combined_df"
   ]
  }
 ],
 "metadata": {
  "kernelspec": {
   "display_name": "Python 3",
   "language": "python",
   "name": "python3"
  },
  "language_info": {
   "codemirror_mode": {
    "name": "ipython",
    "version": 3
   },
   "file_extension": ".py",
   "mimetype": "text/x-python",
   "name": "python",
   "nbconvert_exporter": "python",
   "pygments_lexer": "ipython3",
   "version": "3.8.3"
  }
 },
 "nbformat": 4,
 "nbformat_minor": 4
}
