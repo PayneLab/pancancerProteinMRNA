{
 "cells": [
  {
   "cell_type": "code",
   "execution_count": 1,
   "metadata": {},
   "outputs": [
    {
     "name": "stderr",
     "output_type": "stream",
     "text": [
      "cptac warning: Your version of cptac (0.8.8) is out-of-date. Latest is 0.9.0. Please run 'pip install --upgrade cptac' to update it. (<ipython-input-1-1cd1c7874502>, line 1)\n"
     ]
    }
   ],
   "source": [
    "import cptac\n",
    "import numpy as np\n",
    "import pandas as pd\n",
    "from gprofiler import GProfiler\n",
    "import seaborn as sns\n",
    "import matplotlib.pyplot as plt"
   ]
  },
  {
   "cell_type": "code",
   "execution_count": 2,
   "metadata": {},
   "outputs": [],
   "source": [
    "permutation_df = pd.read_csv('data/full_10k_permutation_corrected.csv')\n",
    "correlation_df = pd.read_csv('data/corr_diff.csv')\n",
    "regression_df = pd.read_csv('data/regressions_data.csv')"
   ]
  },
  {
   "cell_type": "code",
   "execution_count": 3,
   "metadata": {
    "scrolled": true
   },
   "outputs": [],
   "source": [
    "permutation_df = pd.melt(permutation_df, id_vars='Cancer', var_name = 'Gene', value_name = 'perm_pval')"
   ]
  },
  {
   "cell_type": "code",
   "execution_count": 4,
   "metadata": {},
   "outputs": [],
   "source": [
    "correlation_df = correlation_df.melt(id_vars='Cancer', var_name='Gene', value_name='delta_corr') "
   ]
  },
  {
   "cell_type": "code",
   "execution_count": 5,
   "metadata": {},
   "outputs": [],
   "source": [
    "regression_df = regression_df.rename(columns={'gene': 'Gene', 'cancer': 'Cancer'})\n",
    "regression_df = regression_df[['Cancer', 'Gene', 'interaction_coeff', 'interaction_pval']]"
   ]
  },
  {
   "cell_type": "code",
   "execution_count": 6,
   "metadata": {},
   "outputs": [],
   "source": [
    "df = pd.merge(permutation_df, correlation_df, how = 'outer')\n",
    "df = pd.merge(df, regression_df, how = 'outer')"
   ]
  },
  {
   "cell_type": "code",
   "execution_count": 7,
   "metadata": {},
   "outputs": [
    {
     "data": {
      "text/plain": [
       "13670"
      ]
     },
     "execution_count": 7,
     "metadata": {},
     "output_type": "execute_result"
    }
   ],
   "source": [
    "background_genes = list(pd.unique(df.Gene))\n",
    "len(background_genes)"
   ]
  },
  {
   "cell_type": "code",
   "execution_count": null,
   "metadata": {},
   "outputs": [],
   "source": [
    "rows = []\n",
    "for gene in pd.unique(df.Gene):\n",
    "    row = {}\n",
    "    gene_df = df[df.Gene == gene]\n",
    "    gene_df = gene_df[gene_df.perm_pval <= 0.05]\n",
    "    if len(gene_df) > 2:\n",
    "        row['Gene'] = gene\n",
    "        row['perm_pval'] = np.mean(gene_df.perm_pval)\n",
    "        row['delta_corr'] = np.mean(gene_df.delta_corr)\n",
    "        row['interaction_coeff'] = np.mean(gene_df.interaction_coeff)\n",
    "        row['interaction_pval'] = np.mean(gene_df.interaction_pval)\n",
    "        row['abs_interaction_coeff'] = abs(np.mean(gene_df.interaction_coeff))\n",
    "        rows.append(row)\n",
    "sig_perm_df = pd.DataFrame(rows)\n",
    "sig_perm_df"
   ]
  },
  {
   "cell_type": "code",
   "execution_count": null,
   "metadata": {},
   "outputs": [],
   "source": [
    "rows = []\n",
    "for gene in pd.unique(df.Gene):\n",
    "    row = {}\n",
    "    gene_df = df[df.Gene == gene]\n",
    "    gene_df = gene_df[gene_df.interaction_pval <= 0.05]\n",
    "    if len(gene_df) > 2:\n",
    "        row['Gene'] = gene\n",
    "        row['perm_pval'] = np.mean(gene_df.perm_pval)\n",
    "        row['delta_corr'] = np.mean(gene_df.delta_corr)\n",
    "        row['interaction_coeff'] = np.mean(gene_df.interaction_coeff)\n",
    "        row['interaction_pval'] = np.mean(gene_df.interaction_pval)\n",
    "        row['abs_interaction_coeff'] = abs(np.mean(gene_df.interaction_coeff))\n",
    "        rows.append(row)\n",
    "sig_regression_df = pd.DataFrame(rows)\n",
    "sig_regression_df"
   ]
  },
  {
   "cell_type": "code",
   "execution_count": null,
   "metadata": {},
   "outputs": [],
   "source": [
    "gp = GProfiler(return_dataframe=True)"
   ]
  },
  {
   "cell_type": "code",
   "execution_count": null,
   "metadata": {},
   "outputs": [],
   "source": [
    "sig_perm_unranked = pd.unique(sig_perm_df.Gene)\n",
    "sig_perm_df = sig_perm_df.sort_values(by = 'abs_interaction_coeff', ascending = False)\n",
    "sig_perm_slope = pd.unique(sig_perm_df.Gene)\n",
    "sig_perm_upregulated = sig_perm_df[sig_perm_df.interaction_coeff >= 0]\n",
    "sig_perm_upregulated_unranked = pd.unique(sig_perm_upregulated.Gene)\n",
    "sig_perm_upregulated = sig_perm_upregulated.sort_values(by = 'interaction_coeff', ascending = False)\n",
    "sig_perm_upregulated = pd.unique(sig_perm_upregulated.Gene)\n",
    "sig_perm_downregulated = sig_perm_df[sig_perm_df.interaction_coeff <= 0]\n",
    "sig_perm_downregulated_unranked = pd.unique(sig_perm_downregulated.Gene)\n",
    "sig_perm_downregulated = sig_perm_downregulated.sort_values(by = 'interaction_coeff')\n",
    "sig_perm_downregulated = pd.unique(sig_perm_downregulated.Gene)"
   ]
  },
  {
   "cell_type": "code",
   "execution_count": null,
   "metadata": {},
   "outputs": [],
   "source": [
    "sig_perm_unranked = gp.profile(organism='hsapiens', query = list(sig_perm_unranked), no_iea=True,\n",
    "                       ordered=False, no_evidences=False, background= background_genes, sources = ['KEGG'])"
   ]
  },
  {
   "cell_type": "code",
   "execution_count": null,
   "metadata": {},
   "outputs": [],
   "source": [
    "sig_perm_slope = gp.profile(organism='hsapiens', query = list(sig_perm_slope), no_iea=True,\n",
    "                       ordered=True, no_evidences=False, background= background_genes, sources = ['KEGG'])"
   ]
  },
  {
   "cell_type": "code",
   "execution_count": null,
   "metadata": {},
   "outputs": [],
   "source": [
    "sig_perm_upregulated_unranked = gp.profile(organism='hsapiens', query = list(sig_perm_upregulated_unranked), no_iea=True,\n",
    "                       ordered=False, no_evidences=False, background= background_genes, sources = ['KEGG'])"
   ]
  },
  {
   "cell_type": "code",
   "execution_count": null,
   "metadata": {},
   "outputs": [],
   "source": [
    "sig_perm_upregulated = gp.profile(organism='hsapiens', query = list(sig_perm_upregulated), no_iea=True,\n",
    "                       ordered=True, no_evidences=False, background= background_genes, sources = ['KEGG'])"
   ]
  },
  {
   "cell_type": "code",
   "execution_count": null,
   "metadata": {},
   "outputs": [],
   "source": [
    "sig_perm_downregulated_unranked = gp.profile(organism='hsapiens', query = list(sig_perm_downregulated_unranked), no_iea=True,\n",
    "                       ordered=False, no_evidences=False, background= background_genes, sources = ['KEGG'])"
   ]
  },
  {
   "cell_type": "code",
   "execution_count": null,
   "metadata": {},
   "outputs": [],
   "source": [
    "sig_perm_downregulated = gp.profile(organism='hsapiens', query = list(sig_perm_downregulated), no_iea=True,\n",
    "                       ordered=True, no_evidences=False, background= background_genes, sources = ['KEGG'])"
   ]
  },
  {
   "cell_type": "code",
   "execution_count": null,
   "metadata": {},
   "outputs": [],
   "source": [
    "sig_regression_unranked = pd.unique(sig_regression_df.Gene)\n",
    "sig_regression_df = sig_regression_df.sort_values(by = 'abs_interaction_coeff', ascending = False)\n",
    "sig_regression_slope = pd.unique(sig_regression_df.Gene)\n",
    "sig_regression_upregulated = sig_regression_df[sig_regression_df.interaction_coeff >= 0]\n",
    "sig_regression_upregulated_unranked = pd.unique(sig_regression_upregulated.Gene)\n",
    "sig_regression_upregulated = sig_regression_upregulated.sort_values(by = 'interaction_coeff', ascending = False)\n",
    "sig_regression_upregulated = pd.unique(sig_regression_upregulated.Gene)\n",
    "sig_regression_downregulated = sig_regression_df[sig_regression_df.interaction_coeff <= 0]\n",
    "sig_regression_downregulated_unranked = pd.unique(sig_regression_downregulated.Gene)\n",
    "sig_regression_downregulated = sig_regression_downregulated.sort_values(by = 'interaction_coeff')\n",
    "sig_regression_downregulated = pd.unique(sig_regression_downregulated.Gene)"
   ]
  },
  {
   "cell_type": "code",
   "execution_count": null,
   "metadata": {},
   "outputs": [],
   "source": [
    "sig_regression_unranked = gp.profile(organism='hsapiens', query = list(sig_regression_unranked), no_iea=True,\n",
    "                       ordered=False, no_evidences=False, background= background_genes, sources = ['KEGG'])"
   ]
  },
  {
   "cell_type": "code",
   "execution_count": null,
   "metadata": {},
   "outputs": [],
   "source": [
    "sig_regression_slope = gp.profile(organism='hsapiens', query = list(sig_regression_slope), no_iea=True,\n",
    "                       ordered=True, no_evidences=False, background= background_genes, sources = ['KEGG'])"
   ]
  },
  {
   "cell_type": "code",
   "execution_count": null,
   "metadata": {},
   "outputs": [],
   "source": [
    "sig_regression_upregulated_unranked = gp.profile(organism='hsapiens', query = list(sig_regression_upregulated_unranked), no_iea=True,\n",
    "                       ordered=False, no_evidences=False, background= background_genes, sources = ['KEGG'])"
   ]
  },
  {
   "cell_type": "code",
   "execution_count": null,
   "metadata": {},
   "outputs": [],
   "source": [
    "sig_regression_upregulated = gp.profile(organism='hsapiens', query = list(sig_regression_upregulated), no_iea=True,\n",
    "                       ordered=True, no_evidences=False, background= background_genes, sources = ['KEGG'])"
   ]
  },
  {
   "cell_type": "code",
   "execution_count": null,
   "metadata": {},
   "outputs": [],
   "source": [
    "sig_regression_downregulated_unranked = gp.profile(organism='hsapiens', query = list(sig_regression_downregulated_unranked), no_iea=True,\n",
    "                       ordered=False, no_evidences=False, background= background_genes, sources = ['KEGG'])"
   ]
  },
  {
   "cell_type": "code",
   "execution_count": null,
   "metadata": {},
   "outputs": [],
   "source": [
    "sig_regression_downregulated = gp.profile(organism='hsapiens', query = list(sig_regression_downregulated), no_iea=True,\n",
    "                       ordered=True, no_evidences=False, background= background_genes, sources = ['KEGG'])"
   ]
  },
  {
   "cell_type": "code",
   "execution_count": null,
   "metadata": {},
   "outputs": [],
   "source": [
    "sig_perm_unranked['Analysis'] = ['perm_unranked'] * len(sig_perm_unranked)\n",
    "sig_perm_slope['Analysis'] = ['perm_slope'] * len(sig_perm_slope)\n",
    "sig_perm_upregulated_unranked['Analysis'] = ['perm_upregulated_unranked'] * len(sig_perm_upregulated_unranked)\n",
    "sig_perm_upregulated['Analysis'] = ['perm_upregulated'] * len(sig_perm_upregulated)\n",
    "sig_perm_downregulated_unranked['Analysis'] = ['perm_downregulated_unranked'] * len(sig_perm_downregulated_unranked)\n",
    "sig_perm_downregulated['Analysis'] = ['perm_downregulated'] * len(sig_perm_downregulated)"
   ]
  },
  {
   "cell_type": "code",
   "execution_count": null,
   "metadata": {},
   "outputs": [],
   "source": [
    "sig_regression_unranked['Analysis'] = ['regression_unranked'] * len(sig_regression_unranked)\n",
    "sig_regression_slope['Analysis'] = ['regression_slope'] * len(sig_regression_slope)\n",
    "sig_regression_upregulated_unranked['Analysis'] = ['regression_upregulated_unranked'] * len(sig_regression_upregulated_unranked)\n",
    "sig_regression_upregulated['Analysis'] = ['regression_upregulated'] * len(sig_regression_upregulated)\n",
    "sig_regression_downregulated_unranked['Analysis'] = ['regression_downregulated_unranked'] * len(sig_regression_downregulated_unranked)\n",
    "sig_regression_downregulated['Analysis'] = ['regression_downregulated'] * len(sig_regression_downregulated)"
   ]
  },
  {
   "cell_type": "code",
   "execution_count": null,
   "metadata": {},
   "outputs": [],
   "source": [
    "upregulated_pathways = [sig_perm_unranked, sig_perm_slope,sig_perm_upregulated_unranked,sig_perm_upregulated,sig_regression_unranked,sig_regression_slope,\n",
    "                       sig_regression_upregulated_unranked,sig_regression_upregulated]"
   ]
  },
  {
   "cell_type": "code",
   "execution_count": null,
   "metadata": {},
   "outputs": [],
   "source": [
    "upregulated_pathways_df = pd.concat(upregulated_pathways)\n",
    "upregulated_pathways_df"
   ]
  },
  {
   "cell_type": "code",
   "execution_count": null,
   "metadata": {},
   "outputs": [],
   "source": [
    "upregulated_pathways_df['p_value'] = -np.log10(upregulated_pathways_df['p_value'])"
   ]
  },
  {
   "cell_type": "code",
   "execution_count": null,
   "metadata": {},
   "outputs": [],
   "source": [
    "plt.figure(figsize=(5,10))\n",
    "g = sns.barplot(data = upregulated_pathways_df,\n",
    "               x = 'p_value', y = 'name', hue = 'Analysis')\n",
    "g.legend(loc='center right', bbox_to_anchor=(1.8, .5))\n",
    "plt.xlabel('-log10 p-value')"
   ]
  },
  {
   "cell_type": "code",
   "execution_count": null,
   "metadata": {},
   "outputs": [],
   "source": [
    "num_upregulated_analyses = len(pd.unique(upregulated_pathways_df.Analysis))"
   ]
  },
  {
   "cell_type": "code",
   "execution_count": null,
   "metadata": {},
   "outputs": [],
   "source": [
    "pd.set_option('display.max_colwidth', -1)"
   ]
  },
  {
   "cell_type": "code",
   "execution_count": null,
   "metadata": {},
   "outputs": [],
   "source": [
    "upregulated_pathways = []\n",
    "upregulated_analyses = []\n",
    "for pathway in pd.unique(upregulated_pathways_df.name):\n",
    "    pathway_df = upregulated_pathways_df[upregulated_pathways_df.name == pathway]\n",
    "    analyses = set(pathway_df.Analysis)\n",
    "    if analyses not in upregulated_analyses:\n",
    "        upregulated_analyses.append(analyses)\n",
    "        upregulated_pathways.append({pathway})\n",
    "    else:\n",
    "        i = upregulated_analyses.index(analyses)\n",
    "        upregulated_pathways[i].add(pathway)\n",
    "upregulated_pathways_df = pd.DataFrame({'Analyses':upregulated_analyses, 'Pathways': upregulated_pathways})\n",
    "upregulated_pathways_df['Pathway_Frequency'] = [len(a) / num_upregulated_analyses for a in upregulated_pathways_df.Analyses]\n",
    "upregulated_pathways_df = upregulated_pathways_df.sort_values(by = 'Pathway_Frequency', ascending = False)\n",
    "upregulated_pathways_df"
   ]
  },
  {
   "cell_type": "code",
   "execution_count": null,
   "metadata": {},
   "outputs": [],
   "source": [
    "rows = []\n",
    "for index, row in upregulated_pathways_df.iterrows():\n",
    "    pathways = row.Pathways\n",
    "    for pathway in pathways:\n",
    "        new_row = dict()\n",
    "        new_row['Pathway'] = pathway\n",
    "        new_row['Frequency'] = row.Pathway_Frequency\n",
    "        rows.append(new_row)\n",
    "upregulated_pathways_df = pd.DataFrame(rows)\n",
    "upregulated_pathways_df"
   ]
  },
  {
   "cell_type": "code",
   "execution_count": null,
   "metadata": {},
   "outputs": [],
   "source": [
    "axes = sns.barplot(data = upregulated_pathways_df, x = 'Pathway', y = 'Frequency')\n",
    "axes.tick_params(axis = 'x', labelrotation = 90)"
   ]
  },
  {
   "cell_type": "code",
   "execution_count": null,
   "metadata": {},
   "outputs": [],
   "source": [
    "downregulated_pathways = [sig_perm_unranked, sig_perm_slope,sig_perm_downregulated_unranked,sig_perm_downregulated,sig_regression_unranked,sig_regression_slope,\n",
    "                       sig_regression_downregulated_unranked,sig_regression_downregulated]\n",
    "downregulated_pathways_df = pd.concat(downregulated_pathways)\n",
    "num_downregulated_analyses = len(pd.unique(downregulated_pathways_df.Analysis))"
   ]
  },
  {
   "cell_type": "code",
   "execution_count": null,
   "metadata": {},
   "outputs": [],
   "source": [
    "downregulated_pathways = []\n",
    "downregulated_analyses = []\n",
    "for pathway in pd.unique(downregulated_pathways_df.name):\n",
    "    pathway_df = downregulated_pathways_df[downregulated_pathways_df.name == pathway]\n",
    "    analyses = set(pathway_df.Analysis)\n",
    "    if analyses not in downregulated_analyses:\n",
    "        downregulated_analyses.append(analyses)\n",
    "        downregulated_pathways.append({pathway})\n",
    "    else:\n",
    "        i = downregulated_analyses.index(analyses)\n",
    "        downregulated_pathways[i].add(pathway)\n",
    "downregulated_pathways_df = pd.DataFrame({'Analyses':downregulated_analyses, 'Pathways': downregulated_pathways})\n",
    "downregulated_pathways_df['Pathway_Frequency'] = [len(a) / num_downregulated_analyses for a in downregulated_pathways_df.Analyses]\n",
    "downregulated_pathways_df = downregulated_pathways_df.sort_values(by = 'Pathway_Frequency', ascending = False)\n",
    "downregulated_pathways_df"
   ]
  },
  {
   "cell_type": "code",
   "execution_count": null,
   "metadata": {},
   "outputs": [],
   "source": []
  }
 ],
 "metadata": {
  "kernelspec": {
   "display_name": "Python 3",
   "language": "python",
   "name": "python3"
  },
  "language_info": {
   "codemirror_mode": {
    "name": "ipython",
    "version": 3
   },
   "file_extension": ".py",
   "mimetype": "text/x-python",
   "name": "python",
   "nbconvert_exporter": "python",
   "pygments_lexer": "ipython3",
   "version": "3.8.3"
  }
 },
 "nbformat": 4,
 "nbformat_minor": 4
}
