{
 "cells": [
  {
   "cell_type": "code",
   "execution_count": 1,
   "metadata": {},
   "outputs": [
    {
     "name": "stderr",
     "output_type": "stream",
     "text": [
      "cptac warning: Your version of cptac (0.8.2) is out-of-date. Latest is 0.8.3. Please run 'pip install --upgrade cptac' to update it. (<ipython-input-1-b79e88b05003>, line 1)\n"
     ]
    }
   ],
   "source": [
    "import cptac\n",
    "import scipy\n",
    "import seaborn as sns; sns.set()\n",
    "import matplotlib.pyplot as plt\n",
    "from matplotlib.pyplot import subplots\n",
    "import numpy as np\n",
    "import math\n",
    "import pandas as pd\n",
    "import statistics\n",
    "import cptac.utils as ut\n",
    "from functools import reduce"
   ]
  },
  {
   "cell_type": "code",
   "execution_count": 2,
   "metadata": {},
   "outputs": [],
   "source": [
    "def get_gene_list(tissue):\n",
    "    #Returns a list of the genes that are in both proteomics and transcriptomics\n",
    "    gene_list = []\n",
    "    prot = tissue.get_proteomics()\n",
    "    if isinstance(prot.columns, pd.MultiIndex):\n",
    "        prot = prot.columns.get_level_values(0)\n",
    "    trans = tissue.get_transcriptomics()\n",
    "    if isinstance(trans.columns, pd.MultiIndex):\n",
    "        trans = trans.columns.get_level_values(0)\n",
    "    for i in prot:\n",
    "        if i in trans and i not in gene_list:\n",
    "            gene_list.append(i)\n",
    "    return gene_list\n"
   ]
  },
  {
   "cell_type": "code",
   "execution_count": 3,
   "metadata": {},
   "outputs": [],
   "source": [
    "def fill_genes_nan(all_genes, tissue_corr):\n",
    "    tissue_genes = []\n",
    "    for i, j  in tissue_corr:\n",
    "        tissue_genes.append(i)\n",
    "        \n",
    "    for i in all_genes:\n",
    "        if i not in tissue_genes:\n",
    "            tissue_corr.append([i, np.nan])\n",
    "    end_list = sorted(tissue_corr)\n",
    "           \n",
    "    return end_list"
   ]
  },
  {
   "cell_type": "code",
   "execution_count": 4,
   "metadata": {},
   "outputs": [],
   "source": [
    "\n",
    "def correlation_list(tissue, gene_list, valid_sample_number = 30, tissue_type = \"both\"):\n",
    "    #Returns a list of lists containing the name of the gene and the correlation\n",
    "    corr_list = []\n",
    "    pval_list = []\n",
    "    prot = tissue.get_proteomics(tissue_type)\n",
    "    if isinstance(prot.columns, pd.MultiIndex):\n",
    "        prot = cptac.utils.reduce_multiindex(prot, levels_to_drop = \"Database_ID\")\n",
    "    \n",
    "    trans = tissue.get_transcriptomics(tissue_type)\n",
    "    if isinstance(trans.columns, pd.MultiIndex):\n",
    "        trans = cptac.utils.reduce_multiindex(trans, levels_to_drop = \"Database_ID\")\n",
    "        \n",
    "    prot_index_values = list(prot.index.values)\n",
    "    trans_index_values = list(trans.index.values)\n",
    "    \n",
    "\n",
    "    for found_index in prot_index_values:\n",
    "        if found_index not in trans_index_values:\n",
    "            prot = prot.drop(index=found_index)\n",
    "    for found_index in trans_index_values:\n",
    "        if found_index not in prot_index_values:\n",
    "            trans = trans.drop(index=found_index)\n",
    "        \n",
    "    for gene in gene_list:\n",
    "        prot_measurements = prot[gene]\n",
    "        prot_count = len(prot_measurements.dropna())\n",
    "        \n",
    "        trans_measurements = trans[gene]\n",
    "        trans_count = len(trans_measurements.dropna())\n",
    "        \n",
    "        if prot_count < valid_sample_number or trans_count < valid_sample_number:\n",
    "            continue\n",
    "            \n",
    "        nan_indices = set()\n",
    "        prot_indices = list(prot_measurements.index.values)\n",
    "        trans_indices = list(trans_measurements.index.values)\n",
    "        \n",
    "        #Here we are only currently taking the first column of multi_indices\n",
    "        if isinstance(prot_measurements, pd.core.frame.DataFrame): \n",
    "            prot_measurements = prot_measurements.iloc[:,0]\n",
    "        if isinstance(trans_measurements, pd.core.frame.DataFrame):\n",
    "            trans_measurements = trans_measurements.iloc[:,0]\n",
    "        for i in range(len(prot_measurements)):\n",
    "            if math.isnan(prot_measurements[i]):\n",
    "                nan_indices.add(prot_indices[i])\n",
    "                \n",
    "        for i in range(len(trans_measurements)):\n",
    "            if math.isnan(trans_measurements[i]):\n",
    "                nan_indices.add(trans_indices[i])\n",
    "        \n",
    "        nan_indices = list(nan_indices)\n",
    "        prot_measurements = prot_measurements.drop(nan_indices)\n",
    "        trans_measurements = trans_measurements.drop(nan_indices)\n",
    "        \n",
    "        correlation,pval = scipy.stats.pearsonr(prot_measurements, trans_measurements)\n",
    "        if math.isnan(correlation):\n",
    "            continue\n",
    "        corr_list.append([gene,correlation])\n",
    "        pval_list.append([gene, pval])\n",
    "    return corr_list, pval_list"
   ]
  },
  {
   "cell_type": "code",
   "execution_count": 5,
   "metadata": {},
   "outputs": [],
   "source": [
    "def ret_list(li):\n",
    "    #Returns a list of correlations from all genes\n",
    "    ret_li = []\n",
    "    for i in li:\n",
    "        ret_li.append(i[1])   \n",
    "    return ret_li"
   ]
  },
  {
   "cell_type": "code",
   "execution_count": 6,
   "metadata": {},
   "outputs": [],
   "source": [
    "def intersection(lst1, lst2): \n",
    "    return set(lst1).intersection(lst2) "
   ]
  },
  {
   "cell_type": "code",
   "execution_count": 7,
   "metadata": {},
   "outputs": [
    {
     "name": "stdout",
     "output_type": "stream",
     "text": [
      "Checking that luad index is up-to-date...       \r"
     ]
    },
    {
     "name": "stderr",
     "output_type": "stream",
     "text": [
      "cptac warning: The GBM dataset is under publication embargo until March 01, 2021. CPTAC is a community resource project and data are made available rapidly after generation for community research use. The embargo allows exploring and utilizing the data, but analysis may not be published until after the embargo date. Please see https://proteomics.cancer.gov/data-portal/about/data-use-agreement or enter cptac.embargo() to open the webpage for more details. (<ipython-input-7-00c37755498a>, line 15)\n"
     ]
    },
    {
     "name": "stdout",
     "output_type": "stream",
     "text": [
      "Checking that lscc index is up-to-date...   \r"
     ]
    },
    {
     "name": "stderr",
     "output_type": "stream",
     "text": [
      "cptac warning: The HNSCC data is currently strictly reserved for CPTAC investigators. Otherwise, you are not authorized to access these data. Additionally, even after these data become publicly available, they will be subject to a publication embargo (see https://proteomics.cancer.gov/data-portal/about/data-use-agreement or enter cptac.embargo() to open the webpage for more details). (<ipython-input-7-00c37755498a>, line 18)\n"
     ]
    },
    {
     "name": "stdout",
     "output_type": "stream",
     "text": [
      "                                         \r"
     ]
    },
    {
     "name": "stderr",
     "output_type": "stream",
     "text": [
      "cptac warning: The LSCC data is currently strictly reserved for CPTAC investigators. Otherwise, you are not authorized to access these data. Additionally, even after these data become publicly available, they will be subject to a publication embargo (see https://proteomics.cancer.gov/data-portal/about/data-use-agreement or enter cptac.embargo() to open the webpage for more details). (<ipython-input-7-00c37755498a>, line 19)\n"
     ]
    }
   ],
   "source": [
    "cptac.download(\"brca\")\n",
    "cptac.download(\"ccrcc\")\n",
    "cptac.download(\"colon\")\n",
    "cptac.download(\"endometrial\")\n",
    "cptac.download(\"gbm\")\n",
    "cptac.download(\"luad\")\n",
    "cptac.download(\"ovarian\")\n",
    "cptac.download(\"hnscc\")\n",
    "cptac.download(\"lscc\")\n",
    "\n",
    "brca = cptac.Brca()\n",
    "ccrcc = cptac.Ccrcc()\n",
    "colon = cptac.Colon()\n",
    "en = cptac.Endometrial()\n",
    "gbm = cptac.Gbm()\n",
    "luad = cptac.Luad()\n",
    "ovarian = cptac.Ovarian()\n",
    "hnscc  = cptac.Hnscc()\n",
    "lscc = cptac.Lscc()"
   ]
  },
  {
   "cell_type": "code",
   "execution_count": 8,
   "metadata": {},
   "outputs": [],
   "source": [
    "brca_gene_list = get_gene_list(brca)\n",
    "ccrcc_gene_list = get_gene_list(ccrcc)\n",
    "colon_gene_list = get_gene_list(colon)\n",
    "gbm_gene_list = get_gene_list(gbm)\n",
    "luad_gene_list = get_gene_list(luad)\n",
    "ovarian_gene_list = get_gene_list(ovarian)\n",
    "en_gene_list = get_gene_list(en)\n",
    "hnscc_gene_list = get_gene_list(hnscc)\n",
    "lscc_gene_list = get_gene_list(lscc)"
   ]
  },
  {
   "cell_type": "code",
   "execution_count": 9,
   "metadata": {},
   "outputs": [
    {
     "name": "stderr",
     "output_type": "stream",
     "text": [
      "cptac warning: Due to dropping the specified levels, dataframe now has 655 duplicated column headers. (<ipython-input-4-de1769f68afd>, line 7)\n",
      "cptac warning: Due to dropping the specified levels, dataframe now has 907 duplicated column headers. (<ipython-input-4-de1769f68afd>, line 7)\n",
      "/opt/anaconda3/lib/python3.8/site-packages/scipy/stats/stats.py:3845: PearsonRConstantInputWarning: An input array is constant; the correlation coefficent is not defined.\n",
      "  warnings.warn(PearsonRConstantInputWarning())\n",
      "cptac warning: Due to dropping the specified levels, dataframe now has 2495 duplicated column headers. (<ipython-input-4-de1769f68afd>, line 11)\n",
      "cptac warning: Due to dropping the specified levels, dataframe now has 745 duplicated column headers. (<ipython-input-4-de1769f68afd>, line 7)\n",
      "cptac warning: Due to dropping the specified levels, dataframe now has 1162 duplicated column headers. (<ipython-input-4-de1769f68afd>, line 7)\n",
      "cptac warning: Due to dropping the specified levels, dataframe now has 858 duplicated column headers. (<ipython-input-4-de1769f68afd>, line 7)\n"
     ]
    }
   ],
   "source": [
    "brca_corr, brca_pval = correlation_list(brca, brca_gene_list, tissue_type = \"tumor\")\n",
    "ccrcc_corr, ccrcc_pval = correlation_list(ccrcc, ccrcc_gene_list, tissue_type = \"tumor\")\n",
    "colon_corr, colon_pval = correlation_list(colon, colon_gene_list, tissue_type = \"tumor\")\n",
    "en_corr, en_pval = correlation_list(en, en_gene_list, tissue_type = \"tumor\")\n",
    "gbm_corr, gbm_pval = correlation_list(gbm, gbm_gene_list, tissue_type = \"tumor\")\n",
    "luad_corr, luad_pval = correlation_list(luad,luad_gene_list, tissue_type = \"tumor\")\n",
    "ovarian_corr, ovarian_pval = correlation_list(ovarian, ovarian_gene_list, tissue_type = \"tumor\")\n",
    "hnscc_corr, hnscc_pval = correlation_list(hnscc, hnscc_gene_list, tissue_type = \"tumor\")\n",
    "lscc_corr, lscc_pval = correlation_list(lscc, lscc_gene_list, tissue_type = \"tumor\")"
   ]
  },
  {
   "cell_type": "code",
   "execution_count": 10,
   "metadata": {
    "scrolled": true
   },
   "outputs": [
    {
     "name": "stderr",
     "output_type": "stream",
     "text": [
      "cptac warning: Due to dropping the specified levels, dataframe now has 655 duplicated column headers. (<ipython-input-4-de1769f68afd>, line 7)\n",
      "cptac warning: Due to dropping the specified levels, dataframe now has 907 duplicated column headers. (<ipython-input-4-de1769f68afd>, line 7)\n",
      "cptac warning: Due to dropping the specified levels, dataframe now has 2495 duplicated column headers. (<ipython-input-4-de1769f68afd>, line 11)\n",
      "cptac warning: Due to dropping the specified levels, dataframe now has 745 duplicated column headers. (<ipython-input-4-de1769f68afd>, line 7)\n",
      "cptac warning: Due to dropping the specified levels, dataframe now has 1162 duplicated column headers. (<ipython-input-4-de1769f68afd>, line 7)\n",
      "cptac warning: Due to dropping the specified levels, dataframe now has 858 duplicated column headers. (<ipython-input-4-de1769f68afd>, line 7)\n"
     ]
    }
   ],
   "source": [
    "normal_brca_corr, normal_brca_pval = correlation_list(brca, brca_gene_list,valid_sample_number = 7, tissue_type=\"normal\")\n",
    "normal_ccrcc_corr, normal_ccrcc_pval = correlation_list(ccrcc, ccrcc_gene_list,valid_sample_number = 7, tissue_type=\"normal\")\n",
    "normal_colon_corr, normal_colon_pval = correlation_list(colon, colon_gene_list,valid_sample_number = 7, tissue_type=\"normal\")\n",
    "normal_en_corr, normal_en_pval = correlation_list(en, en_gene_list,valid_sample_number = 7, tissue_type=\"normal\")\n",
    "normal_gbm_corr, normal_gbm_pval = correlation_list(gbm, gbm_gene_list,valid_sample_number = 7, tissue_type=\"normal\")\n",
    "normal_luad_corr, normal_luad_pval = correlation_list(luad,luad_gene_list,valid_sample_number = 7, tissue_type=\"normal\")\n",
    "normal_ovarian_corr, normal_ovarian_pval = correlation_list(ovarian, ovarian_gene_list,valid_sample_number = 7, tissue_type=\"normal\")\n",
    "normal_hnscc_corr, normal_hnscc_pval = correlation_list(hnscc, hnscc_gene_list,valid_sample_number = 7, tissue_type=\"normal\")\n",
    "normal_lscc_corr, normal_lscc_pval = correlation_list(lscc, lscc_gene_list,valid_sample_number = 7, tissue_type=\"normal\")"
   ]
  },
  {
   "cell_type": "code",
   "execution_count": 11,
   "metadata": {},
   "outputs": [],
   "source": [
    "common_genes_45 = ['AGT', 'LMOD1', 'SEPT6', 'PRPF31', 'FABP4', 'EIF3M', 'NFYC', 'NPRL2', 'APOC2', \n",
    "             'TNFAIP8L2', 'PARVA', 'SFRP1', 'INTS12', 'CD99L2', 'DHRS1', 'ABCA8', 'PGM5', \n",
    "             'JUP', 'PTN', 'INIP', 'TMEM201', 'GSTM1', 'CRTAC1', 'EMC3', 'MFAP5', 'ALDH1A2', \n",
    "             'POTEJ', 'BAD', 'EFEMP1', 'HACE1', 'ILK', 'GSTT2B', 'DBN1', 'ADK', 'FES', 'GNG2',\n",
    "             'MED18', 'SHBG', 'HLA-DQB1', 'TUB', 'ADIRF', 'HMGN2', 'CGNL1', 'CAPN2', 'CTCF', \n",
    "             'DEFA4', 'TIMM8B', 'MRC1', 'NCAM1', 'ERAP2', 'GSTM3', 'CPNE1', 'TXNDC5', 'HMGN4',\n",
    "             'CEP95', 'WDR45', 'FCN3', 'PTGR2', 'PAPSS1', 'APOF', 'MMAB', 'MYL9', 'NDUFA11', \n",
    "             'CXXC1', 'CCDC80', 'RBX1', 'LSM2', 'ACAP1', 'CD2', 'TNKS2', 'TMEM41B', 'STXBP6', \n",
    "             'CAP2', 'TSEN54', 'ANAPC2', 'ARHGAP30', 'EEF1A1', 'VWA5A', 'DYNLT1', 'RSAD1', \n",
    "             'F13A1', 'RBP7', 'FSTL1', 'PHGDH', 'SH3BP1', 'ITGAM', 'BRMS1', 'MAGED2', 'PTGDS', \n",
    "             'GNA11', 'MOXD1', 'RPS27A', 'DENND4B', 'MRPS18C', 'TAB1', 'CCL14', 'RPS8', 'DNM1',\n",
    "             'RAB23', 'KYAT1', 'FBXL3', 'RERG', 'CEP120', 'ANAPC16', 'VPS29', 'RASL12', 'JPH2',\n",
    "             'SPARC', 'SNX4', 'ASCC1', 'MINDY2', 'LUM', 'CDK9', 'UQCR11', 'MVB12B', 'ARPC4',\n",
    "             'RABGGTA', 'COL14A1', 'MICAL1', 'PSEN1', 'SNAPC3', 'LRRC25', 'SPECC1L', 'ABHD12', \n",
    "             'CD5', 'MATN2', 'HGF', 'SNTA1', 'PODN', 'FRZB', 'COA6', 'SPEG', 'U2AF1', 'GBP3', \n",
    "             'ADAMTSL3', 'POSTN', 'RPS27L', 'PLA2G4C', 'DCTN5', 'MYOF', 'RPN2', 'WDR7', 'FIBP',\n",
    "             'RPS21', 'ELMO2', 'NEXN', 'FCER1G', 'MAOB', 'MLEC', 'RBM7', 'NAE1', 'SNRK', 'RPS16',\n",
    "             'FGD5', 'MZB1', 'OGFOD3', 'WWOX', 'MED14', 'SERPINF2', 'HCLS1', 'SLC25A46', 'TRAPPC12',\n",
    "             'GRN', 'PXDN', 'PRUNE2', 'SCP2', 'C1QC', 'EIF3C', 'FHL5', 'TJP1', 'GPD1L', 'EIF3E',\n",
    "             'STRADA', 'CYP1B1', 'F11', 'ADIPOQ', 'PDLIM7', 'SORBS1', 'LIMD2', 'ZHX3', 'CRACR2B',\n",
    "             'UBALD1', 'SKIV2L', 'HSD17B11', 'ALDH1L2', 'E4F1', 'RPF2', 'PRAM1', 'MYO9A', 'FCGR2B',\n",
    "             'MAPK8IP3', 'WASHC2C', 'CDA', 'PHACTR4', 'ABLIM3', 'COMP', 'CD209', 'CCL21', 'ADD1',\n",
    "             'SETD7', 'TGFBR1', 'IGFBP6', 'DSTYK', 'NCLN', 'RBFA', 'CD163L1', 'TAF10', 'SSH2', 'MGLL',\n",
    "             'DDX3Y', 'SELP', 'LAIR1', 'KXD1', 'ANAPC11', 'CIB1', 'RPL22', 'TYROBP', 'NQO2', 'GGA2',\n",
    "             'LCP1', 'RPS4Y1', 'TTN', 'PTPRC', 'NT5C3B', 'EIF1AY', 'ALDH1A1', 'DPYSL3', 'GSTA1', 'ALOX5',\n",
    "             'PGLYRP2', 'GSTM5', 'RTN1', 'SIDT2', 'ITIH1', 'MOSPD2', 'MSR1', 'DBH', 'BORCS8', 'MCL1',\n",
    "             'SPN', 'CSF1R', 'PCCB', 'EVPL', 'ATP6V1C1', 'SAA1', 'XIRP2', 'C18orf21', 'C11orf98',\n",
    "             'LAGE3', 'RAB3IL1', 'TIMM29', 'MYO5C', 'VPS18', 'RABL2B', 'USP53', 'DOCK2', 'DOK2', \n",
    "             'CCNC', 'ASPA', 'AIF1', 'LGALS9', 'MCAM', 'ADGRV1', 'CSTB', 'CASP7', 'ERAP1', 'UBXN2A',\n",
    "             'NCF1', 'FMO1', 'SH3BGRL3', 'PSMB4', 'TNFAIP8L1', 'CORO1A', 'CORO2A', 'APBB1IP', 'PF4', \n",
    "             'APOBR', 'C8A', 'ZAP70', 'COL15A1', 'GUCY1A2', 'COTL1', 'TF', 'CCDC115', 'TMEM199',\n",
    "             'GRAP2', 'HUS1', 'ICAM3', 'C8G', 'ACAD11', 'INHBC', 'IL33', 'STARD13', 'PFN1', 'CNRIP1', \n",
    "             'FERMT3', 'CTSH', 'RAPGEF3', 'GTF2A2', 'NCKAP1L', 'PROC', 'COMMD8', 'PTPN6', 'VAV1', 'CD48',\n",
    "             'CYBB', 'HVCN1', 'SGCE', 'COMMD10', 'RASAL3', 'CCDC61', 'CYBA', 'LILRB5', 'HPGDS', 'F2',\n",
    "             'THUMPD2', 'C12orf4', 'RRAGD', 'GANAB', 'DHDDS', 'ARHGAP6', 'FOS', 'IRF8', 'MYO1F', 'ATP9B', \n",
    "             'EBF1', 'TGFBR3', 'LSAMP', 'FABP5', 'PKD2', 'SELENOP', 'ARHGEF37', 'MLST8', 'RFESD', 'TGM2',\n",
    "             'BLOC1S4', 'BBS5', 'ITGA1', 'COMMD9', 'SYNC', 'MYO9B', 'COMMD6', 'RNF7', 'POLR2E', 'ENAH',\n",
    "             'AOC3', 'ARL8B', 'MSL3', 'MAPK3', 'NAA38', 'MAPT', 'RILPL1', 'LTA4H', 'FOLR2', 'LPA', 'MANF',\n",
    "             'IFT52', 'CDK2AP1', 'HMBOX1', 'INO80D', 'KLHL42', 'ANXA9', 'GZMK', 'DCXR', 'MMRN1', 'GAA', \n",
    "             'MMRN2', 'NEBL', 'KRT2', 'PTGIS', 'DCLK1', 'CES1', 'CFH', 'VTN', 'NUDT2', 'ITGA7']"
   ]
  },
  {
   "cell_type": "code",
   "execution_count": 12,
   "metadata": {},
   "outputs": [],
   "source": [
    "common_genes_56 = ['EMC3', 'NDUFA11', 'PHGDH', 'DEFA4', 'ILK', 'MYL9', 'SEPT6', 'TSEN54',\n",
    "             'PARVA', 'ADIRF', 'NFYC', 'CRTAC1', 'GSTM1', 'EFEMP1', 'MMAB', 'WDR45',\n",
    "             'ASCC1', 'MAGED2', 'RPS8', 'RASL12', 'FBXL3', 'RPS21', 'CDK9', 'DENND4B', \n",
    "             'COL14A1', 'SNX4', 'MED14', 'EIF3E', 'ADIPOQ', 'E4F1', 'ABLIM3', 'INTS12',\n",
    "             'CD2', 'SFRP1', 'NPRL2', 'DBN1', 'TXNDC5', 'MRC1', 'TNKS2', 'ACAP1', 'MFAP5',\n",
    "             'CAP2', 'LMOD1', 'CGNL1', 'PAPSS1', 'PRPF31', 'ARHGAP30', 'APOC2', 'CCDC80',\n",
    "             'RBP7', 'FABP4', 'GSTT2B', 'TMEM41B', 'CTCF', 'FSTL1', 'LSM2', 'PTN', 'F13A1',\n",
    "             'SH3BP1', 'FES', 'VWA5A', 'DHRS1', 'CXXC1', 'GNG2', 'COMMD8', 'GANAB', 'C18orf21',\n",
    "             'DDX3Y', 'EIF1AY', 'HUS1', 'SSH2', 'CSTB', 'RAB3IL1', 'RPS4Y1', 'PGLYRP2',\n",
    "             'ASPA', 'LGALS9', 'TYROBP', 'C11orf98', 'RPL22', 'RABL2B', 'IL33', 'MCL1', \n",
    "             'PCCB', 'GSTM5', 'RASAL3', 'HMBOX1', 'ITGA1', 'RILPL1', 'ARL8B', 'FOLR2', \n",
    "             'RFESD', 'MYO9B', 'COMMD9']"
   ]
  },
  {
   "cell_type": "code",
   "execution_count": 13,
   "metadata": {},
   "outputs": [],
   "source": [
    "def get_greatest_subs_corr(gene_list, tissue_corr, normal_tissue_corr):\n",
    "    tumor_corr = []\n",
    "    normal_corr = []\n",
    "    corr_substracted = []\n",
    "    key_corr = []\n",
    "    end_corr = []\n",
    "    keys = sorted(dict(tissue_corr).keys())\n",
    "    normal_keys = sorted(dict(normal_tissue_corr).keys())\n",
    "    keys = intersection(keys, normal_keys)\n",
    "    for i in gene_list:\n",
    "        if i in keys:\n",
    "            tumor_corr.append(dict(tissue_corr)[i])\n",
    "            key_corr.append(i)\n",
    "        if i in keys:\n",
    "            normal_corr.append(dict(normal_tissue_corr)[i])\n",
    "    \n",
    "    for i in range(len(tumor_corr)):\n",
    "        corr_substracted.append(tumor_corr[i] - normal_corr[i])\n",
    "    sns.distplot(corr_substracted)\n",
    "    plt.show()\n",
    "    sigmaP = statistics.mean(corr_substracted) + 2 * np.std(corr_substracted)\n",
    "    sigmaM = statistics.mean(corr_substracted) - 2 * np.std(corr_substracted)\n",
    "\n",
    "    for i,j in enumerate(corr_substracted):\n",
    "        if j > sigmaP or j < sigmaM:\n",
    "            end_corr.append([key_corr[i], j])\n",
    "            print (str(key_corr[i]) +': '+ str(j))\n",
    "    return end_corr"
   ]
  },
  {
   "cell_type": "code",
   "execution_count": 14,
   "metadata": {},
   "outputs": [
    {
     "data": {
      "image/png": "[encoded data removed]",
      "text/plain": [
       "<Figure size 432x288 with 1 Axes>"
      ]
     },
     "metadata": {},
     "output_type": "display_data"
    },
    {
     "name": "stdout",
     "output_type": "stream",
     "text": [
      "DSTYK: 1.101193235925959\n",
      "MGLL: 0.8055582868614991\n",
      "DDX3Y: 0.5941199999389024\n",
      "GGA2: 0.8970503008601134\n",
      "GSTA1: 0.6296825083854748\n",
      "ITIH1: -0.5262416963147366\n",
      "MOSPD2: 0.7170539249743648\n",
      "MCL1: 0.5923295009897993\n",
      "EVPL: 0.6464844859513015\n",
      "SAA1: 0.709905950422435\n",
      "LAGE3: 0.6180660378115879\n",
      "MYO5C: 0.5652412485176975\n",
      "RABL2B: 0.6926958153739765\n",
      "ASPA: -0.45797722584584155\n",
      "CASP7: 0.8057355888407919\n",
      "ERAP1: 0.8347066010286059\n",
      "CORO2A: 0.8317262809715882\n",
      "ICAM3: 0.5790586905304758\n",
      "PROC: -0.5016492797439163\n",
      "PTPN6: 0.5881892949350565\n",
      "VAV1: 0.634791651252105\n",
      "COMMD10: 0.6947137939637396\n",
      "CYBA: 0.7931368737025309\n",
      "ATP9B: 0.7065459874170384\n"
     ]
    }
   ],
   "source": [
    "subs_corr = get_greatest_subs_corr(common_genes_45, en_corr,normal_en_corr)"
   ]
  },
  {
   "cell_type": "code",
   "execution_count": null,
   "metadata": {},
   "outputs": [],
   "source": []
  },
  {
   "cell_type": "code",
   "execution_count": null,
   "metadata": {},
   "outputs": [],
   "source": []
  },
  {
   "cell_type": "code",
   "execution_count": null,
   "metadata": {},
   "outputs": [],
   "source": []
  }
 ],
 "metadata": {
  "kernelspec": {
   "display_name": "Python 3",
   "language": "python",
   "name": "python3"
  },
  "language_info": {
   "codemirror_mode": {
    "name": "ipython",
    "version": 3
   },
   "file_extension": ".py",
   "mimetype": "text/x-python",
   "name": "python",
   "nbconvert_exporter": "python",
   "pygments_lexer": "ipython3",
   "version": "3.8.3"
  }
 },
 "nbformat": 4,
 "nbformat_minor": 4
}
