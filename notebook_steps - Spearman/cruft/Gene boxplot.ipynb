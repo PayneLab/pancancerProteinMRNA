{
 "cells": [
  {
   "cell_type": "code",
   "execution_count": 1,
   "metadata": {},
   "outputs": [],
   "source": [
    "import cptac\n",
    "import scipy\n",
    "import seaborn as sns\n",
    "import matplotlib.pyplot as plt\n",
    "import numpy as np\n",
    "import math\n",
    "import pandas as pd\n",
    "import statistics"
   ]
  },
  {
   "cell_type": "code",
   "execution_count": 2,
   "metadata": {},
   "outputs": [
    {
     "name": "stdout",
     "output_type": "stream",
     "text": [
      "Checking that luad index is up-to-date...       \r"
     ]
    },
    {
     "name": "stderr",
     "output_type": "stream",
     "text": [
      "cptac warning: The GBM dataset is under publication embargo until March 01, 2021. CPTAC is a community resource project and data are made available rapidly after generation for community research use. The embargo allows exploring and utilizing the data, but analysis may not be published until after the embargo date. Please see https://proteomics.cancer.gov/data-portal/about/data-use-agreement or enter cptac.embargo() to open the webpage for more details. (C:\\Users\\humbe\\miniconda3\\lib\\site-packages\\ipykernel_launcher.py, line 15)\n"
     ]
    },
    {
     "name": "stdout",
     "output_type": "stream",
     "text": [
      "Checking that lscc index is up-to-date...   \r"
     ]
    },
    {
     "name": "stderr",
     "output_type": "stream",
     "text": [
      "cptac warning: The HNSCC data is currently strictly reserved for CPTAC investigators. Otherwise, you are not authorized to access these data. Additionally, even after these data become publicly available, they will be subject to a publication embargo (see https://proteomics.cancer.gov/data-portal/about/data-use-agreement or enter cptac.embargo() to open the webpage for more details). (C:\\Users\\humbe\\miniconda3\\lib\\site-packages\\ipykernel_launcher.py, line 18)\n"
     ]
    },
    {
     "name": "stdout",
     "output_type": "stream",
     "text": [
      "version 3scc v3.2.......                 \n",
      "                            \r"
     ]
    },
    {
     "name": "stderr",
     "output_type": "stream",
     "text": [
      "cptac warning: The LSCC data is currently strictly reserved for CPTAC investigators. Otherwise, you are not authorized to access these data. Additionally, even after these data become publicly available, they will be subject to a publication embargo (see https://proteomics.cancer.gov/data-portal/about/data-use-agreement or enter cptac.embargo() to open the webpage for more details). (C:\\Users\\humbe\\miniconda3\\lib\\site-packages\\ipykernel_launcher.py, line 19)\n"
     ]
    }
   ],
   "source": [
    "cptac.download(\"brca\")\n",
    "cptac.download(\"ccrcc\")\n",
    "cptac.download(\"colon\")\n",
    "cptac.download(\"endometrial\")\n",
    "cptac.download(\"gbm\")\n",
    "cptac.download(\"luad\")\n",
    "cptac.download(\"ovarian\")\n",
    "cptac.download(\"hnscc\")\n",
    "cptac.download(\"lscc\")\n",
    "\n",
    "brca = cptac.Brca()\n",
    "ccrcc = cptac.Ccrcc()\n",
    "colon = cptac.Colon()\n",
    "en = cptac.Endometrial()\n",
    "gbm = cptac.Gbm()\n",
    "luad = cptac.Luad()\n",
    "ovarian = cptac.Ovarian()\n",
    "hnscc  = cptac.Hnscc()\n",
    "lscc = cptac.Lscc()"
   ]
  },
  {
   "cell_type": "code",
   "execution_count": 3,
   "metadata": {},
   "outputs": [],
   "source": [
    "def get_gene_list(tissue):\n",
    "    #Returns a list of the genes that are in both proteomics and transcriptomics\n",
    "    gene_list = []\n",
    "    prot = tissue.get_proteomics()\n",
    "    if isinstance(prot.columns, pd.MultiIndex):\n",
    "        prot = prot.columns.get_level_values(0)\n",
    "    trans = tissue.get_transcriptomics()\n",
    "    if isinstance(trans.columns, pd.MultiIndex):\n",
    "        trans = trans.columns.get_level_values(0)\n",
    "    for i in prot:\n",
    "        if i in trans and i not in gene_list:\n",
    "            gene_list.append(i)\n",
    "    return gene_list\n",
    "\n",
    "\n",
    "def correlation_list(tissue, gene_list, valid_sample_number = 30, tissue_type = \"both\"):\n",
    "    #Returns a list of lists containing the name of the gene and the correlation\n",
    "    corr_list = []\n",
    "    pval_list = []\n",
    "    prot = tissue.get_proteomics(tissue_type)\n",
    "    if isinstance(prot.columns, pd.MultiIndex):\n",
    "        prot = cptac.utils.reduce_multiindex(prot, levels_to_drop = \"Database_ID\")\n",
    "    \n",
    "    trans = tissue.get_transcriptomics(tissue_type)\n",
    "    if isinstance(trans.columns, pd.MultiIndex):\n",
    "        trans = cptac.utils.reduce_multiindex(trans, levels_to_drop = \"Database_ID\")\n",
    "        \n",
    "    prot_index_values = list(prot.index.values)\n",
    "    trans_index_values = list(trans.index.values)\n",
    "    \n",
    "\n",
    "    for found_index in prot_index_values:\n",
    "        if found_index not in trans_index_values:\n",
    "            prot = prot.drop(index=found_index)\n",
    "    for found_index in trans_index_values:\n",
    "        if found_index not in prot_index_values:\n",
    "            trans = trans.drop(index=found_index)\n",
    "        \n",
    "    for gene in gene_list:\n",
    "        prot_measurements = prot[gene]\n",
    "        prot_count = len(prot_measurements.dropna())\n",
    "        \n",
    "        trans_measurements = trans[gene]\n",
    "        trans_count = len(trans_measurements.dropna())\n",
    "        \n",
    "        if prot_count < valid_sample_number or trans_count < valid_sample_number:\n",
    "            continue\n",
    "            \n",
    "        nan_indices = set()\n",
    "        prot_indices = list(prot_measurements.index.values)\n",
    "        trans_indices = list(trans_measurements.index.values)\n",
    "        \n",
    "        #Here we are only currently taking the first column of multi_indices\n",
    "        if isinstance(prot_measurements, pd.core.frame.DataFrame): \n",
    "            prot_measurements = prot_measurements.iloc[:,0]\n",
    "        if isinstance(trans_measurements, pd.core.frame.DataFrame):\n",
    "            trans_measurements = trans_measurements.iloc[:,0]\n",
    "        for i in range(len(prot_measurements)):\n",
    "            if math.isnan(prot_measurements[i]):\n",
    "                nan_indices.add(prot_indices[i])\n",
    "                \n",
    "        for i in range(len(trans_measurements)):\n",
    "            if math.isnan(trans_measurements[i]):\n",
    "                nan_indices.add(trans_indices[i])\n",
    "        \n",
    "        nan_indices = list(nan_indices)\n",
    "        prot_measurements = prot_measurements.drop(nan_indices)\n",
    "        trans_measurements = trans_measurements.drop(nan_indices)\n",
    "        \n",
    "        correlation,pval = scipy.stats.pearsonr(prot_measurements, trans_measurements)\n",
    "        if math.isnan(correlation):\n",
    "            continue\n",
    "        corr_list.append([gene,correlation])\n",
    "        pval_list.append([gene, pval])\n",
    "    return corr_list, pval_list\n",
    "def ret_list(li):\n",
    "    #Returns a list of correlations from all genes\n",
    "    ret_li = []\n",
    "    for i in li:\n",
    "        ret_li.append(i[1])   \n",
    "    return ret_li\n",
    "def minmax(val_list):\n",
    "    if len(val_list) == 0:\n",
    "        return np.nan, np.nan\n",
    "    else:\n",
    "        min_val = min(val_list)\n",
    "        max_val = max(val_list)\n",
    "\n",
    "    return (min_val, max_val)\n",
    "def fill_genes_nan(all_genes, tissue_corr):\n",
    "    tissue_genes = []\n",
    "    for i, j  in tissue_corr:\n",
    "        tissue_genes.append(i)\n",
    "        \n",
    "    for i in all_genes:\n",
    "        if i not in tissue_genes:\n",
    "            tissue_corr.append([i, np.nan])\n",
    "    end_list = sorted(tissue_corr)\n",
    "           \n",
    "    return end_list"
   ]
  },
  {
   "cell_type": "code",
   "execution_count": 4,
   "metadata": {},
   "outputs": [
    {
     "name": "stderr",
     "output_type": "stream",
     "text": [
      "cptac warning: Due to dropping the specified levels, dataframe now has 655 duplicated column headers. (C:\\Users\\humbe\\miniconda3\\lib\\site-packages\\ipykernel_launcher.py, line 22)\n",
      "cptac warning: Due to dropping the specified levels, dataframe now has 907 duplicated column headers. (C:\\Users\\humbe\\miniconda3\\lib\\site-packages\\ipykernel_launcher.py, line 22)\n",
      "C:\\Users\\humbe\\miniconda3\\lib\\site-packages\\scipy\\stats\\stats.py:3508: PearsonRConstantInputWarning: An input array is constant; the correlation coefficent is not defined.\n",
      "  warnings.warn(PearsonRConstantInputWarning())\n",
      "cptac warning: Due to dropping the specified levels, dataframe now has 2495 duplicated column headers. (C:\\Users\\humbe\\miniconda3\\lib\\site-packages\\ipykernel_launcher.py, line 26)\n",
      "cptac warning: Due to dropping the specified levels, dataframe now has 745 duplicated column headers. (C:\\Users\\humbe\\miniconda3\\lib\\site-packages\\ipykernel_launcher.py, line 22)\n",
      "cptac warning: Due to dropping the specified levels, dataframe now has 1162 duplicated column headers. (C:\\Users\\humbe\\miniconda3\\lib\\site-packages\\ipykernel_launcher.py, line 22)\n",
      "cptac warning: Due to dropping the specified levels, dataframe now has 858 duplicated column headers. (C:\\Users\\humbe\\miniconda3\\lib\\site-packages\\ipykernel_launcher.py, line 22)\n"
     ]
    }
   ],
   "source": [
    "brca_gene_list = get_gene_list(brca)\n",
    "ccrcc_gene_list = get_gene_list(ccrcc)\n",
    "colon_gene_list = get_gene_list(colon)\n",
    "gbm_gene_list = get_gene_list(gbm)\n",
    "luad_gene_list = get_gene_list(luad)\n",
    "ovarian_gene_list = get_gene_list(ovarian)\n",
    "en_gene_list = get_gene_list(en)\n",
    "hnscc_gene_list = get_gene_list(hnscc)\n",
    "lscc_gene_list = get_gene_list(lscc)\n",
    "\n",
    "brca_corr, brca_pval = correlation_list(brca, brca_gene_list, tissue_type = \"tumor\")\n",
    "ccrcc_corr, ccrcc_pval = correlation_list(ccrcc, ccrcc_gene_list, tissue_type = \"tumor\")\n",
    "colon_corr, colon_pval = correlation_list(colon, colon_gene_list, tissue_type = \"tumor\")\n",
    "en_corr, en_pval = correlation_list(en, en_gene_list, tissue_type = \"tumor\")\n",
    "gbm_corr, gbm_pval = correlation_list(gbm, gbm_gene_list, tissue_type = \"tumor\")\n",
    "luad_corr, luad_pval = correlation_list(luad,luad_gene_list, tissue_type = \"tumor\")\n",
    "ovarian_corr, ovarian_pval = correlation_list(ovarian, ovarian_gene_list, tissue_type = \"tumor\")\n",
    "hnscc_corr, hnscc_pval = correlation_list(hnscc, hnscc_gene_list, tissue_type = \"tumor\")\n",
    "lscc_corr, lscc_pval = correlation_list(lscc, lscc_gene_list, tissue_type = \"tumor\")\n",
    "\n",
    "# normal_brca_corr, normal_brca_pval = correlation_list(brca, brca_gene_list,valid_sample_number = 7, tissue_type=\"normal\")\n",
    "# normal_ccrcc_corr, normal_ccrcc_pval = correlation_list(ccrcc, ccrcc_gene_list,valid_sample_number = 7, tissue_type=\"normal\")\n",
    "# normal_colon_corr, normal_colon_pval = correlation_list(colon, colon_gene_list,valid_sample_number = 7, tissue_type=\"normal\")\n",
    "# normal_en_corr, normal_en_pval = correlation_list(en, en_gene_list,valid_sample_number = 7, tissue_type=\"normal\")\n",
    "# normal_gbm_corr, normal_gbm_pval = correlation_list(gbm, gbm_gene_list,valid_sample_number = 7, tissue_type=\"normal\")\n",
    "# normal_luad_corr, normal_luad_pval = correlation_list(luad,luad_gene_list,valid_sample_number = 7, tissue_type=\"normal\")\n",
    "# normal_ovarian_corr, normal_ovarian_pval = correlation_list(ovarian, ovarian_gene_list,valid_sample_number = 7, tissue_type=\"normal\")\n",
    "# normal_hnscc_corr, normal_hnscc_pval = correlation_list(hnscc, hnscc_gene_list,valid_sample_number = 7, tissue_type=\"normal\")\n",
    "# normal_lscc_corr, normal_lscc_pval = correlation_list(lscc, lscc_gene_list,valid_sample_number = 7, tissue_type=\"normal\")"
   ]
  },
  {
   "cell_type": "code",
   "execution_count": 15,
   "metadata": {},
   "outputs": [],
   "source": [
    "def print_boxplot(genes, correlations):\n",
    "    gene_column = []\n",
    "    corr_column = []\n",
    "    for gene in genes:\n",
    "        for corr in correlations:\n",
    "            for i, j in corr:\n",
    "                if gene == i:\n",
    "                    corr_column.append(j)\n",
    "                    gene_column.append(gene)\n",
    "    df_columns = {'Genes' : gene_column, 'Correlations' : corr_column}\n",
    "    df = pd.DataFrame(df_columns )#, columns = ['Genes', 'Correlations'], index=[gene])\n",
    "    ax = sns.boxplot(x=\"Genes\", y=\"Correlations\", data=df)\n",
    "    ax = sns.swarmplot(x=\"Genes\", y=\"Correlations\", data=df, color=\".25\")\n",
    "    plt.show()\n",
    "                    "
   ]
  },
  {
   "cell_type": "code",
   "execution_count": 18,
   "metadata": {},
   "outputs": [
    {
     "data": {
      "image/png": "[encoded data removed]",
      "text/plain": [
       "<Figure size 432x288 with 1 Axes>"
      ]
     },
     "metadata": {
      "needs_background": "light"
     },
     "output_type": "display_data"
    }
   ],
   "source": [
    "print_boxplot(['VWA8', 'FUCA1', 'AKR1B10', 'TXLNB'],[brca_corr,ccrcc_corr,colon_corr,en_corr, gbm_corr, luad_corr, ovarian_corr, hnscc_corr, lscc_corr])"
   ]
  },
  {
   "cell_type": "code",
   "execution_count": null,
   "metadata": {},
   "outputs": [],
   "source": []
  }
 ],
 "metadata": {
  "kernelspec": {
   "display_name": "Python 3",
   "language": "python",
   "name": "python3"
  },
  "language_info": {
   "codemirror_mode": {
    "name": "ipython",
    "version": 3
   },
   "file_extension": ".py",
   "mimetype": "text/x-python",
   "name": "python",
   "nbconvert_exporter": "python",
   "pygments_lexer": "ipython3",
   "version": "3.8.3"
  }
 },
 "nbformat": 4,
 "nbformat_minor": 4
}
