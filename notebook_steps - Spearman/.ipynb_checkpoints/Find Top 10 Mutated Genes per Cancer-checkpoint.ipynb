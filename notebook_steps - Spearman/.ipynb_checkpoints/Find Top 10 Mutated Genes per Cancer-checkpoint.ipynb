{
 "cells": [
  {
   "cell_type": "code",
   "execution_count": 1,
   "metadata": {},
   "outputs": [],
   "source": [
    "import cptac\n",
    "import pandas as pd\n",
    "import cptac.utils as ut"
   ]
  },
  {
   "cell_type": "code",
   "execution_count": 2,
   "metadata": {},
   "outputs": [
    {
     "name": "stdout",
     "output_type": "stream",
     "text": [
      "Checking that hnscc index is up-to-date...\r"
     ]
    },
    {
     "name": "stderr",
     "output_type": "stream",
     "text": [
      "cptac warning: The LSCC data is currently strictly reserved for CPTAC investigators. Otherwise, you are not authorized to access these data. Additionally, even after these data become publicly available, they will be subject to a publication embargo (see https://proteomics.cancer.gov/data-portal/about/data-use-agreement or enter cptac.embargo() to open the webpage for more details). (<ipython-input-2-5f7029bc4773>, line 2)\n"
     ]
    },
    {
     "name": "stdout",
     "output_type": "stream",
     "text": [
      "                                                \r"
     ]
    }
   ],
   "source": [
    "luad = cptac.Luad()\n",
    "lscc = cptac.Lscc()\n",
    "hnscc = cptac.Hnscc()\n",
    "en = cptac.Endometrial()\n",
    "ccrcc = cptac.Ccrcc()"
   ]
  },
  {
   "cell_type": "code",
   "execution_count": 3,
   "metadata": {},
   "outputs": [],
   "source": [
    "cancer_list = [luad, lscc, hnscc, en, ccrcc]"
   ]
  },
  {
   "cell_type": "code",
   "execution_count": 4,
   "metadata": {},
   "outputs": [],
   "source": [
    "cancer_dict = {lscc: 'lscc', luad: 'luad', hnscc: 'hnscc', en: 'en', ccrcc: 'ccrcc'}"
   ]
  },
  {
   "cell_type": "code",
   "execution_count": 6,
   "metadata": {},
   "outputs": [],
   "source": [
    "mutation_frequency_dfs = []\n",
    "for cancer in cancer_list:\n",
    "    mutation_df = cancer.get_somatic_mutation()\n",
    "    mutation_df = mutation_df[mutation_df.Mutation != 'Silent']\n",
    "    mutation_df = mutation_df[mutation_df.Mutation != 'RNA']\n",
    "    gene_df = cancer.get_transcriptomics('tumor')\n",
    "    if isinstance(gene_df.columns, pd.MultiIndex):\n",
    "        gene_df = gene_df.droplevel('Database_ID', axis = 1)\n",
    "    mutation_frequency = []\n",
    "    genes = list(pd.unique(mutation_df.Gene))\n",
    "    num_mutations = []\n",
    "    for gene in genes:\n",
    "        num_mutated = len(pd.unique(mutation_df[mutation_df.Gene == gene].index))\n",
    "        num_mutations.append(num_mutated)\n",
    "        total = len(pd.unique(gene_df.index))\n",
    "        frequency = num_mutated / total \n",
    "        mutation_frequency.append(frequency)\n",
    "    df = pd.DataFrame({'Gene': genes, 'Mutation_Frequency': mutation_frequency, 'Num_mutated': num_mutations})\n",
    "    df = df.sort_values(by= 'Mutation_Frequency', ascending = False)\n",
    "    if len(df) > 10:\n",
    "        df = df[0:10]\n",
    "    df['cancer'] = [cancer_dict[cancer]] * len(df)\n",
    "    mutation_frequency_dfs.append(df)\n",
    "mutation_frequency_df = pd.concat(mutation_frequency_dfs)\n",
    "mutation_frequency_df = mutation_frequency_df[mutation_frequency_df.Num_mutated >= 15]"
   ]
  },
  {
   "cell_type": "code",
   "execution_count": 7,
   "metadata": {},
   "outputs": [
    {
     "data": {
      "text/plain": [
       "45"
      ]
     },
     "execution_count": 7,
     "metadata": {},
     "output_type": "execute_result"
    }
   ],
   "source": [
    "len(mutation_frequency_df)"
   ]
  },
  {
   "cell_type": "code",
   "execution_count": 8,
   "metadata": {},
   "outputs": [],
   "source": [
    "# write bash command for finding permutation p-val for each gene/cancer pair\n",
    "with open('transmutation_effects_permutations.sh', 'w') as file:\n",
    "    for index, row in mutation_frequency_df.iterrows():\n",
    "        s = 'python supercomputer_transmutation_effects.py ' + row.cancer + ' ' + row.Gene + ' 10000\\n'\n",
    "        file.write(s)\n",
    "    file.close()\n",
    "    "
   ]
  },
  {
   "cell_type": "code",
   "execution_count": null,
   "metadata": {},
   "outputs": [],
   "source": []
  }
 ],
 "metadata": {
  "kernelspec": {
   "display_name": "Python 3",
   "language": "python",
   "name": "python3"
  },
  "language_info": {
   "codemirror_mode": {
    "name": "ipython",
    "version": 3
   },
   "file_extension": ".py",
   "mimetype": "text/x-python",
   "name": "python",
   "nbconvert_exporter": "python",
   "pygments_lexer": "ipython3",
   "version": "3.8.3"
  }
 },
 "nbformat": 4,
 "nbformat_minor": 4
}
