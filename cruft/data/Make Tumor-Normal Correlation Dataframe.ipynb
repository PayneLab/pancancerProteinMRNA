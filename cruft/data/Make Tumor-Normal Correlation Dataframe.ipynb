{
 "cells": [
  {
   "cell_type": "code",
   "execution_count": 1,
   "metadata": {},
   "outputs": [],
   "source": [
    "import pandas as pd\n",
    "import sys, os\n",
    "currentdir = os.path.dirname(os.path.realpath('make_regression_df.py'))\n",
    "parentdir = os.path.dirname(currentdir)\n",
    "sys.path.append(parentdir)\n",
    "import Delta_Correlation as dc"
   ]
  },
  {
   "cell_type": "code",
   "execution_count": 2,
   "metadata": {},
   "outputs": [
    {
     "name": "stdout",
     "output_type": "stream",
     "text": [
      "                                                \r"
     ]
    },
    {
     "name": "stderr",
     "output_type": "stream",
     "text": [
      "cptac warning: The LSCC data is currently strictly reserved for CPTAC investigators. Otherwise, you are not authorized to access these data. Additionally, even after these data become publicly available, they will be subject to a publication embargo (see https://proteomics.cancer.gov/data-portal/about/data-use-agreement or enter cptac.embargo() to open the webpage for more details). (/Users/humbertogiraldez/Documents/GitHub/pancancerProteinMRNA/notebook_steps/Delta_Correlation.py, line 14)\n"
     ]
    }
   ],
   "source": [
    "cancers, cancer_names = dc.load_cancers()"
   ]
  },
  {
   "cell_type": "code",
   "execution_count": 3,
   "metadata": {},
   "outputs": [
    {
     "name": "stderr",
     "output_type": "stream",
     "text": [
      "cptac warning: Due to dropping the specified levels, dataframe now has 907 duplicated column headers. (/Users/humbertogiraldez/Documents/GitHub/pancancerProteinMRNA/notebook_steps/Delta_Correlation.py, line 26)\n",
      "cptac warning: Due to dropping the specified levels, dataframe now has 907 duplicated column headers. (/Users/humbertogiraldez/Documents/GitHub/pancancerProteinMRNA/notebook_steps/Delta_Correlation.py, line 36)\n",
      "cptac warning: Due to dropping the specified levels, dataframe now has 745 duplicated column headers. (/Users/humbertogiraldez/Documents/GitHub/pancancerProteinMRNA/notebook_steps/Delta_Correlation.py, line 26)\n",
      "cptac warning: Due to dropping the specified levels, dataframe now has 745 duplicated column headers. (/Users/humbertogiraldez/Documents/GitHub/pancancerProteinMRNA/notebook_steps/Delta_Correlation.py, line 36)\n",
      "cptac warning: Due to dropping the specified levels, dataframe now has 858 duplicated column headers. (/Users/humbertogiraldez/Documents/GitHub/pancancerProteinMRNA/notebook_steps/Delta_Correlation.py, line 26)\n",
      "cptac warning: Due to dropping the specified levels, dataframe now has 858 duplicated column headers. (/Users/humbertogiraldez/Documents/GitHub/pancancerProteinMRNA/notebook_steps/Delta_Correlation.py, line 36)\n"
     ]
    },
    {
     "data": {
      "text/html": [
       "<div>\n",
       "<style scoped>\n",
       "    .dataframe tbody tr th:only-of-type {\n",
       "        vertical-align: middle;\n",
       "    }\n",
       "\n",
       "    .dataframe tbody tr th {\n",
       "        vertical-align: top;\n",
       "    }\n",
       "\n",
       "    .dataframe thead th {\n",
       "        text-align: right;\n",
       "    }\n",
       "</style>\n",
       "<table border=\"1\" class=\"dataframe\">\n",
       "  <thead>\n",
       "    <tr style=\"text-align: right;\">\n",
       "      <th></th>\n",
       "      <th>Gene</th>\n",
       "      <th>Tissue</th>\n",
       "      <th>Spearmanρ</th>\n",
       "      <th>Cancer</th>\n",
       "    </tr>\n",
       "  </thead>\n",
       "  <tbody>\n",
       "    <tr>\n",
       "      <th>0</th>\n",
       "      <td>A1BG</td>\n",
       "      <td>Normal</td>\n",
       "      <td>0.340967</td>\n",
       "      <td>CCRCC</td>\n",
       "    </tr>\n",
       "    <tr>\n",
       "      <th>1</th>\n",
       "      <td>A1BG</td>\n",
       "      <td>Tumor</td>\n",
       "      <td>0.072434</td>\n",
       "      <td>CCRCC</td>\n",
       "    </tr>\n",
       "    <tr>\n",
       "      <th>2</th>\n",
       "      <td>A1CF</td>\n",
       "      <td>Normal</td>\n",
       "      <td>0.719744</td>\n",
       "      <td>CCRCC</td>\n",
       "    </tr>\n",
       "    <tr>\n",
       "      <th>3</th>\n",
       "      <td>A1CF</td>\n",
       "      <td>Tumor</td>\n",
       "      <td>0.911782</td>\n",
       "      <td>CCRCC</td>\n",
       "    </tr>\n",
       "    <tr>\n",
       "      <th>4</th>\n",
       "      <td>A2M</td>\n",
       "      <td>Normal</td>\n",
       "      <td>0.194680</td>\n",
       "      <td>CCRCC</td>\n",
       "    </tr>\n",
       "    <tr>\n",
       "      <th>...</th>\n",
       "      <td>...</td>\n",
       "      <td>...</td>\n",
       "      <td>...</td>\n",
       "      <td>...</td>\n",
       "    </tr>\n",
       "    <tr>\n",
       "      <th>21773</th>\n",
       "      <td>ZYX</td>\n",
       "      <td>Tumor</td>\n",
       "      <td>0.567283</td>\n",
       "      <td>LSCC</td>\n",
       "    </tr>\n",
       "    <tr>\n",
       "      <th>21774</th>\n",
       "      <td>ZZEF1</td>\n",
       "      <td>Normal</td>\n",
       "      <td>0.393190</td>\n",
       "      <td>LSCC</td>\n",
       "    </tr>\n",
       "    <tr>\n",
       "      <th>21775</th>\n",
       "      <td>ZZEF1</td>\n",
       "      <td>Tumor</td>\n",
       "      <td>0.651395</td>\n",
       "      <td>LSCC</td>\n",
       "    </tr>\n",
       "    <tr>\n",
       "      <th>21776</th>\n",
       "      <td>ZZZ3</td>\n",
       "      <td>Normal</td>\n",
       "      <td>0.170532</td>\n",
       "      <td>LSCC</td>\n",
       "    </tr>\n",
       "    <tr>\n",
       "      <th>21777</th>\n",
       "      <td>ZZZ3</td>\n",
       "      <td>Tumor</td>\n",
       "      <td>0.444522</td>\n",
       "      <td>LSCC</td>\n",
       "    </tr>\n",
       "  </tbody>\n",
       "</table>\n",
       "<p>103328 rows × 4 columns</p>\n",
       "</div>"
      ],
      "text/plain": [
       "        Gene  Tissue  Spearmanρ Cancer\n",
       "0       A1BG  Normal   0.340967  CCRCC\n",
       "1       A1BG   Tumor   0.072434  CCRCC\n",
       "2       A1CF  Normal   0.719744  CCRCC\n",
       "3       A1CF   Tumor   0.911782  CCRCC\n",
       "4        A2M  Normal   0.194680  CCRCC\n",
       "...      ...     ...        ...    ...\n",
       "21773    ZYX   Tumor   0.567283   LSCC\n",
       "21774  ZZEF1  Normal   0.393190   LSCC\n",
       "21775  ZZEF1   Tumor   0.651395   LSCC\n",
       "21776   ZZZ3  Normal   0.170532   LSCC\n",
       "21777   ZZZ3   Tumor   0.444522   LSCC\n",
       "\n",
       "[103328 rows x 4 columns]"
      ]
     },
     "execution_count": 3,
     "metadata": {},
     "output_type": "execute_result"
    }
   ],
   "source": [
    "dfs = []\n",
    "for cancer, cancer_name in zip(cancers, cancer_names):\n",
    "    df = dc.get_prot_trans_df(cancer)\n",
    "    cutoff = 15\n",
    "    if cancer_name == 'Endometrial':\n",
    "        cutoff = 10\n",
    "    df = df.groupby(['Gene', 'Tissue']).apply(lambda x: x.corr(method = 'spearman',min_periods = cutoff).iloc[0][1])\n",
    "    df = pd.DataFrame(df, columns = ['Spearmanρ'])\n",
    "    df.reset_index(inplace = True)\n",
    "    df = df.dropna()\n",
    "    df['Cancer'] = [cancer_name] * len(df)\n",
    "    dfs.append(df)\n",
    "df = pd.concat(dfs)\n",
    "df.to_csv('tumor_normal_correlation_df.csv', index = False)\n",
    "df"
   ]
  }
 ],
 "metadata": {
  "kernelspec": {
   "display_name": "Python 3",
   "language": "python",
   "name": "python3"
  },
  "language_info": {
   "codemirror_mode": {
    "name": "ipython",
    "version": 3
   },
   "file_extension": ".py",
   "mimetype": "text/x-python",
   "name": "python",
   "nbconvert_exporter": "python",
   "pygments_lexer": "ipython3",
   "version": "3.8.3"
  }
 },
 "nbformat": 4,
 "nbformat_minor": 4
}
