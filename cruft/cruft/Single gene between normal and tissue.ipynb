{
 "cells": [
  {
   "cell_type": "code",
   "execution_count": 1,
   "metadata": {},
   "outputs": [
    {
     "name": "stderr",
     "output_type": "stream",
     "text": [
      "cptac warning: Your version of cptac (0.8.2) is out-of-date. Latest is 0.8.3. Please run 'pip install --upgrade cptac' to update it. (<ipython-input-1-2bcff190147f>, line 1)\n"
     ]
    }
   ],
   "source": [
    "import cptac\n",
    "import scipy\n",
    "import seaborn as sns; sns.set()\n",
    "import matplotlib.pyplot as plt\n",
    "from matplotlib.pyplot import subplots\n",
    "# from venn import venn\n",
    "import numpy as np\n",
    "import math\n",
    "import pandas as pd\n",
    "import statistics\n",
    "import cptac.utils as ut\n",
    "from functools import reduce"
   ]
  },
  {
   "cell_type": "code",
   "execution_count": 2,
   "metadata": {},
   "outputs": [],
   "source": [
    "def get_gene_list(tissue):\n",
    "    #Returns a list of the genes that are in both proteomics and transcriptomics\n",
    "    gene_list = []\n",
    "    prot = tissue.get_proteomics()\n",
    "    if isinstance(prot.columns, pd.MultiIndex):\n",
    "        prot = prot.columns.get_level_values(0)\n",
    "    trans = tissue.get_transcriptomics()\n",
    "    if isinstance(trans.columns, pd.MultiIndex):\n",
    "        trans = trans.columns.get_level_values(0)\n",
    "    for i in prot:\n",
    "        if i in trans and i not in gene_list:\n",
    "            gene_list.append(i)\n",
    "    return gene_list\n"
   ]
  },
  {
   "cell_type": "code",
   "execution_count": 3,
   "metadata": {},
   "outputs": [],
   "source": [
    "def fill_genes_nan(all_genes, tissue_corr):\n",
    "    tissue_genes = []\n",
    "    for i, j  in tissue_corr:\n",
    "        tissue_genes.append(i)\n",
    "        \n",
    "    for i in all_genes:\n",
    "        if i not in tissue_genes:\n",
    "            tissue_corr.append([i, np.nan])\n",
    "    end_list = sorted(tissue_corr)\n",
    "           \n",
    "    return end_list"
   ]
  },
  {
   "cell_type": "code",
   "execution_count": 4,
   "metadata": {},
   "outputs": [],
   "source": [
    "\n",
    "def correlation_list(tissue, gene_list, valid_sample_number = 30, tissue_type = \"both\"):\n",
    "    #Returns a list of lists containing the name of the gene and the correlation\n",
    "    corr_list = []\n",
    "    pval_list = []\n",
    "    prot = tissue.get_proteomics(tissue_type)\n",
    "    if isinstance(prot.columns, pd.MultiIndex):\n",
    "        prot = cptac.utils.reduce_multiindex(prot, levels_to_drop = \"Database_ID\")\n",
    "    \n",
    "    trans = tissue.get_transcriptomics(tissue_type)\n",
    "    if isinstance(trans.columns, pd.MultiIndex):\n",
    "        trans = cptac.utils.reduce_multiindex(trans, levels_to_drop = \"Database_ID\")\n",
    "        \n",
    "    prot_index_values = list(prot.index.values)\n",
    "    trans_index_values = list(trans.index.values)\n",
    "    \n",
    "\n",
    "    for found_index in prot_index_values:\n",
    "        if found_index not in trans_index_values:\n",
    "            prot = prot.drop(index=found_index)\n",
    "    for found_index in trans_index_values:\n",
    "        if found_index not in prot_index_values:\n",
    "            trans = trans.drop(index=found_index)\n",
    "        \n",
    "    for gene in gene_list:\n",
    "        prot_measurements = prot[gene]\n",
    "        prot_count = len(prot_measurements.dropna())\n",
    "        \n",
    "        trans_measurements = trans[gene]\n",
    "        trans_count = len(trans_measurements.dropna())\n",
    "        \n",
    "        if prot_count < valid_sample_number or trans_count < valid_sample_number:\n",
    "            continue\n",
    "            \n",
    "        nan_indices = set()\n",
    "        prot_indices = list(prot_measurements.index.values)\n",
    "        trans_indices = list(trans_measurements.index.values)\n",
    "        \n",
    "        #Here we are only currently taking the first column of multi_indices\n",
    "        if isinstance(prot_measurements, pd.core.frame.DataFrame): \n",
    "            prot_measurements = prot_measurements.iloc[:,0]\n",
    "        if isinstance(trans_measurements, pd.core.frame.DataFrame):\n",
    "            trans_measurements = trans_measurements.iloc[:,0]\n",
    "        for i in range(len(prot_measurements)):\n",
    "            if math.isnan(prot_measurements[i]):\n",
    "                nan_indices.add(prot_indices[i])\n",
    "                \n",
    "        for i in range(len(trans_measurements)):\n",
    "            if math.isnan(trans_measurements[i]):\n",
    "                nan_indices.add(trans_indices[i])\n",
    "        \n",
    "        nan_indices = list(nan_indices)\n",
    "        prot_measurements = prot_measurements.drop(nan_indices)\n",
    "        trans_measurements = trans_measurements.drop(nan_indices)\n",
    "        \n",
    "        correlation,pval = scipy.stats.pearsonr(prot_measurements, trans_measurements)\n",
    "        if math.isnan(correlation):\n",
    "            continue\n",
    "        corr_list.append([gene,correlation])\n",
    "        pval_list.append([gene, pval])\n",
    "    return corr_list, pval_list"
   ]
  },
  {
   "cell_type": "code",
   "execution_count": 5,
   "metadata": {},
   "outputs": [],
   "source": [
    "def ret_list(li):\n",
    "    #Returns a list of correlations from all genes\n",
    "    ret_li = []\n",
    "    for i in li:\n",
    "        ret_li.append(i[1])   \n",
    "    return ret_li"
   ]
  },
  {
   "cell_type": "code",
   "execution_count": 6,
   "metadata": {},
   "outputs": [],
   "source": [
    "def intersection(lst1, lst2): \n",
    "    return list(set(lst1).intersection(lst2))"
   ]
  },
  {
   "cell_type": "code",
   "execution_count": 7,
   "metadata": {},
   "outputs": [
    {
     "name": "stdout",
     "output_type": "stream",
     "text": [
      "Checking that luad index is up-to-date...       \r"
     ]
    },
    {
     "name": "stderr",
     "output_type": "stream",
     "text": [
      "cptac warning: The GBM dataset is under publication embargo until March 01, 2021. CPTAC is a community resource project and data are made available rapidly after generation for community research use. The embargo allows exploring and utilizing the data, but analysis may not be published until after the embargo date. Please see https://proteomics.cancer.gov/data-portal/about/data-use-agreement or enter cptac.embargo() to open the webpage for more details. (<ipython-input-7-00c37755498a>, line 15)\n"
     ]
    },
    {
     "name": "stdout",
     "output_type": "stream",
     "text": [
      "Checking that lscc index is up-to-date...   \r"
     ]
    },
    {
     "name": "stderr",
     "output_type": "stream",
     "text": [
      "cptac warning: The HNSCC data is currently strictly reserved for CPTAC investigators. Otherwise, you are not authorized to access these data. Additionally, even after these data become publicly available, they will be subject to a publication embargo (see https://proteomics.cancer.gov/data-portal/about/data-use-agreement or enter cptac.embargo() to open the webpage for more details). (<ipython-input-7-00c37755498a>, line 18)\n"
     ]
    },
    {
     "name": "stdout",
     "output_type": "stream",
     "text": [
      "                                         \r"
     ]
    },
    {
     "name": "stderr",
     "output_type": "stream",
     "text": [
      "cptac warning: The LSCC data is currently strictly reserved for CPTAC investigators. Otherwise, you are not authorized to access these data. Additionally, even after these data become publicly available, they will be subject to a publication embargo (see https://proteomics.cancer.gov/data-portal/about/data-use-agreement or enter cptac.embargo() to open the webpage for more details). (<ipython-input-7-00c37755498a>, line 19)\n"
     ]
    }
   ],
   "source": [
    "cptac.download(\"brca\")\n",
    "cptac.download(\"ccrcc\")\n",
    "cptac.download(\"colon\")\n",
    "cptac.download(\"endometrial\")\n",
    "cptac.download(\"gbm\")\n",
    "cptac.download(\"luad\")\n",
    "cptac.download(\"ovarian\")\n",
    "cptac.download(\"hnscc\")\n",
    "cptac.download(\"lscc\")\n",
    "\n",
    "brca = cptac.Brca()\n",
    "ccrcc = cptac.Ccrcc()\n",
    "colon = cptac.Colon()\n",
    "en = cptac.Endometrial()\n",
    "gbm = cptac.Gbm()\n",
    "luad = cptac.Luad()\n",
    "ovarian = cptac.Ovarian()\n",
    "hnscc  = cptac.Hnscc()\n",
    "lscc = cptac.Lscc()"
   ]
  },
  {
   "cell_type": "code",
   "execution_count": 8,
   "metadata": {},
   "outputs": [],
   "source": [
    "brca_gene_list = get_gene_list(brca)\n",
    "ccrcc_gene_list = get_gene_list(ccrcc)\n",
    "colon_gene_list = get_gene_list(colon)\n",
    "gbm_gene_list = get_gene_list(gbm)\n",
    "luad_gene_list = get_gene_list(luad)\n",
    "ovarian_gene_list = get_gene_list(ovarian)\n",
    "en_gene_list = get_gene_list(en)\n",
    "hnscc_gene_list = get_gene_list(hnscc)\n",
    "lscc_gene_list = get_gene_list(lscc)"
   ]
  },
  {
   "cell_type": "code",
   "execution_count": 9,
   "metadata": {},
   "outputs": [
    {
     "name": "stderr",
     "output_type": "stream",
     "text": [
      "cptac warning: Due to dropping the specified levels, dataframe now has 907 duplicated column headers. (<ipython-input-4-de1769f68afd>, line 7)\n",
      "/opt/anaconda3/lib/python3.8/site-packages/scipy/stats/stats.py:3845: PearsonRConstantInputWarning: An input array is constant; the correlation coefficent is not defined.\n",
      "  warnings.warn(PearsonRConstantInputWarning())\n",
      "cptac warning: Due to dropping the specified levels, dataframe now has 2495 duplicated column headers. (<ipython-input-4-de1769f68afd>, line 11)\n",
      "cptac warning: Due to dropping the specified levels, dataframe now has 745 duplicated column headers. (<ipython-input-4-de1769f68afd>, line 7)\n",
      "cptac warning: Due to dropping the specified levels, dataframe now has 858 duplicated column headers. (<ipython-input-4-de1769f68afd>, line 7)\n"
     ]
    }
   ],
   "source": [
    "ccrcc_corr, ccrcc_pval = correlation_list(ccrcc, ccrcc_gene_list, tissue_type = \"tumor\")\n",
    "en_corr, en_pval = correlation_list(en, en_gene_list, tissue_type = \"tumor\")\n",
    "gbm_corr, gbm_pval = correlation_list(gbm, gbm_gene_list, tissue_type = \"tumor\")\n",
    "luad_corr, luad_pval = correlation_list(luad,luad_gene_list, tissue_type = \"tumor\")\n",
    "hnscc_corr, hnscc_pval = correlation_list(hnscc, hnscc_gene_list, tissue_type = \"tumor\")\n",
    "lscc_corr, lscc_pval = correlation_list(lscc, lscc_gene_list, tissue_type = \"tumor\")"
   ]
  },
  {
   "cell_type": "code",
   "execution_count": 10,
   "metadata": {},
   "outputs": [
    {
     "name": "stderr",
     "output_type": "stream",
     "text": [
      "cptac warning: Due to dropping the specified levels, dataframe now has 907 duplicated column headers. (<ipython-input-4-de1769f68afd>, line 7)\n",
      "cptac warning: Due to dropping the specified levels, dataframe now has 2495 duplicated column headers. (<ipython-input-4-de1769f68afd>, line 11)\n",
      "cptac warning: Due to dropping the specified levels, dataframe now has 745 duplicated column headers. (<ipython-input-4-de1769f68afd>, line 7)\n",
      "cptac warning: Due to dropping the specified levels, dataframe now has 858 duplicated column headers. (<ipython-input-4-de1769f68afd>, line 7)\n"
     ]
    }
   ],
   "source": [
    "normal_ccrcc_corr, normal_ccrcc_pval = correlation_list(ccrcc, ccrcc_gene_list,valid_sample_number = 7, tissue_type=\"normal\")\n",
    "normal_en_corr, normal_en_pval = correlation_list(en, en_gene_list,valid_sample_number = 7, tissue_type=\"normal\")\n",
    "normal_gbm_corr, normal_gbm_pval = correlation_list(gbm, gbm_gene_list,valid_sample_number = 7, tissue_type=\"normal\")\n",
    "normal_luad_corr, normal_luad_pval = correlation_list(luad,luad_gene_list,valid_sample_number = 7, tissue_type=\"normal\")\n",
    "normal_hnscc_corr, normal_hnscc_pval = correlation_list(hnscc, hnscc_gene_list,valid_sample_number = 7, tissue_type=\"normal\")\n",
    "normal_lscc_corr, normal_lscc_pval = correlation_list(lscc, lscc_gene_list,valid_sample_number = 7, tissue_type=\"normal\")"
   ]
  },
  {
   "cell_type": "code",
   "execution_count": 11,
   "metadata": {},
   "outputs": [],
   "source": [
    "ccrcc_gene_list = list(dict(ccrcc_corr).keys())\n",
    "en_gene_list = list(dict(en_corr).keys())\n",
    "gbm_gene_list = list(dict(gbm_corr).keys())\n",
    "luad_gene_list = list(dict(luad_corr).keys())\n",
    "hnscc_gene_list = list(dict(hnscc_corr).keys())\n",
    "lscc_gene_list = list(dict(lscc_corr).keys())\n",
    "all_genes_list = [ccrcc_gene_list,en_gene_list, gbm_gene_list, luad_gene_list, hnscc_gene_list, lscc_gene_list]\n",
    "all_corr_list = [['CCRCC', dict(ccrcc_corr)],['Endometrial', dict(en_corr)], ['GBM', dict(gbm_corr)], ['LUAD', dict(luad_corr)], ['HNSCC', dict(hnscc_corr)], ['LSCC', dict(lscc_corr)]]\n",
    "all_normal_corr_list = [['CCRCC', dict(normal_ccrcc_corr)],['Endometial', dict(normal_en_corr)], ['GBM', dict(normal_gbm_corr)], ['LUAD', dict(normal_luad_corr)], ['HNSCC', dict(normal_hnscc_corr)], ['LSCC', dict(normal_lscc_corr)]]"
   ]
  },
  {
   "cell_type": "code",
   "execution_count": 12,
   "metadata": {},
   "outputs": [],
   "source": [
    "from functools import reduce"
   ]
  },
  {
   "cell_type": "code",
   "execution_count": 13,
   "metadata": {},
   "outputs": [],
   "source": [
    "common_genes = reduce(intersection, all_genes_list)"
   ]
  },
  {
   "cell_type": "code",
   "execution_count": 14,
   "metadata": {},
   "outputs": [],
   "source": [
    "common_genes = (sorted(common_genes))"
   ]
  },
  {
   "cell_type": "code",
   "execution_count": 17,
   "metadata": {},
   "outputs": [],
   "source": [
    "def gene_corr_finder(gene, genes, tumor_corr, normal_corr):\n",
    "    tumor_tmp = {}\n",
    "    normal_tmp = {}\n",
    "    highest_difference = 0\n",
    "    highest_tissue = ''\n",
    "    for j, k in tumor_corr:\n",
    "            tumor_tmp[j]=k[gene]\n",
    "    for j, k in normal_corr:\n",
    "            normal_tmp[j]=k[gene]\n",
    "    tissues = sorted(intersection(list(tumor_tmp.keys()), list(normal_tmp.keys())))\n",
    "    \n",
    "    print('Tumor results vs Normal results:')\n",
    "    for i in tissues:\n",
    "        print(i+': ' + str(tumor_tmp[i]) + ' / ' + str(normal_tmp[i]))\n",
    "        if tumor_tmp[i] - normal_tmp[i] < highest_difference:\n",
    "            highest_difference = abs(tumor_tmp[i] - normal_tmp[i])\n",
    "            highest_tissue = i\n",
    "    print('Highest difference from all tissues is  ' + highest_tissue + ': ' +  str(highest_difference))"
   ]
  },
  {
   "cell_type": "code",
   "execution_count": 18,
   "metadata": {},
   "outputs": [
    {
     "name": "stdout",
     "output_type": "stream",
     "text": [
      "Tumor results vs Normal results:\n",
      "CCRCC: -0.05978060489338315 / 0.32896429972846275\n",
      "GBM: -0.2005791612564875 / 0.09635238880893919\n",
      "HNSCC: 0.11213286663631726 / 0.11478362220348606\n",
      "LSCC: 0.12207189606386522 / -0.07487443905384072\n",
      "LUAD: -0.06791985940991745 / -0.028770547941812778\n",
      "Highest difference from all tissues is  LUAD: 0.03914931146810467\n"
     ]
    }
   ],
   "source": [
    "gene_corr_finder('A1BG', common_genes, all_corr_list, all_normal_corr_list)"
   ]
  },
  {
   "cell_type": "code",
   "execution_count": null,
   "metadata": {},
   "outputs": [],
   "source": []
  },
  {
   "cell_type": "code",
   "execution_count": null,
   "metadata": {},
   "outputs": [],
   "source": []
  }
 ],
 "metadata": {
  "kernelspec": {
   "display_name": "Python 3",
   "language": "python",
   "name": "python3"
  },
  "language_info": {
   "codemirror_mode": {
    "name": "ipython",
    "version": 3
   },
   "file_extension": ".py",
   "mimetype": "text/x-python",
   "name": "python",
   "nbconvert_exporter": "python",
   "pygments_lexer": "ipython3",
   "version": "3.8.3"
  }
 },
 "nbformat": 4,
 "nbformat_minor": 4
}
