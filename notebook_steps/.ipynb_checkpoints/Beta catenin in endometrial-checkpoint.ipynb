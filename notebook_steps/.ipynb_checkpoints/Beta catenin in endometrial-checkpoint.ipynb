{
 "cells": [
  {
   "cell_type": "code",
   "execution_count": 1,
   "metadata": {},
   "outputs": [],
   "source": [
    "import cptac\n",
    "import scipy\n",
    "import seaborn as sns\n",
    "import matplotlib.pyplot as plt\n",
    "import numpy as np\n",
    "import math\n",
    "import pandas as pd\n",
    "import statistics"
   ]
  },
  {
   "cell_type": "code",
   "execution_count": 2,
   "metadata": {},
   "outputs": [
    {
     "name": "stdout",
     "output_type": "stream",
     "text": [
      "                                                \r"
     ]
    }
   ],
   "source": [
    "cptac.download(\"endometrial\")\n",
    "\n",
    "en = cptac.Endometrial()"
   ]
  },
  {
   "cell_type": "code",
   "execution_count": 3,
   "metadata": {},
   "outputs": [],
   "source": [
    "def get_gene_list(tissue):\n",
    "    #Returns a list of the genes that are in both proteomics and transcriptomics\n",
    "    gene_list = []\n",
    "    prot = tissue.get_proteomics()\n",
    "    if isinstance(prot.columns, pd.MultiIndex):\n",
    "        prot = prot.columns.get_level_values(0)\n",
    "    trans = tissue.get_transcriptomics()\n",
    "    if isinstance(trans.columns, pd.MultiIndex):\n",
    "        trans = trans.columns.get_level_values(0)\n",
    "    for i in prot:\n",
    "        if i in trans and i not in gene_list:\n",
    "            gene_list.append(i)\n",
    "    return gene_list\n"
   ]
  },
  {
   "cell_type": "code",
   "execution_count": 4,
   "metadata": {},
   "outputs": [],
   "source": [
    "def fill_genes_nan(all_genes, tissue_corr):\n",
    "    tissue_genes = []\n",
    "    for i, j  in tissue_corr:\n",
    "        tissue_genes.append(i)\n",
    "        \n",
    "    for i in all_genes:\n",
    "        if i not in tissue_genes:\n",
    "            tissue_corr.append([i, np.nan])\n",
    "    end_list = sorted(tissue_corr)\n",
    "           \n",
    "    return end_list"
   ]
  },
  {
   "cell_type": "code",
   "execution_count": 5,
   "metadata": {},
   "outputs": [],
   "source": [
    "\n",
    "def correlation_list(tissue, gene_list, valid_sample_number = 30, tissue_type = \"both\"):\n",
    "    #Returns a list of lists containing the name of the gene and the correlation\n",
    "    corr_list = []\n",
    "    pval_list = []\n",
    "    prot = tissue.get_proteomics(tissue_type)\n",
    "    if isinstance(prot.columns, pd.MultiIndex):\n",
    "        prot = cptac.utils.reduce_multiindex(prot, levels_to_drop = \"Database_ID\")\n",
    "    \n",
    "    trans = tissue.get_transcriptomics(tissue_type)\n",
    "    if isinstance(trans.columns, pd.MultiIndex):\n",
    "        trans = cptac.utils.reduce_multiindex(trans, levels_to_drop = \"Database_ID\")\n",
    "        \n",
    "    prot_index_values = list(prot.index.values)\n",
    "    trans_index_values = list(trans.index.values)\n",
    "    \n",
    "\n",
    "    for found_index in prot_index_values:\n",
    "        if found_index not in trans_index_values:\n",
    "            prot = prot.drop(index=found_index)\n",
    "    for found_index in trans_index_values:\n",
    "        if found_index not in prot_index_values:\n",
    "            trans = trans.drop(index=found_index)\n",
    "        \n",
    "    for gene in gene_list:\n",
    "        prot_measurements = prot[gene]\n",
    "        prot_count = len(prot_measurements.dropna())\n",
    "        \n",
    "        trans_measurements = trans[gene]\n",
    "        trans_count = len(trans_measurements.dropna())\n",
    "        \n",
    "        if prot_count < valid_sample_number or trans_count < valid_sample_number:\n",
    "            continue\n",
    "            \n",
    "        nan_indices = set()\n",
    "        prot_indices = list(prot_measurements.index.values)\n",
    "        trans_indices = list(trans_measurements.index.values)\n",
    "        \n",
    "        #Here we are only currently taking the first column of multi_indices\n",
    "        if isinstance(prot_measurements, pd.core.frame.DataFrame): \n",
    "            prot_measurements = prot_measurements.iloc[:,0]\n",
    "        if isinstance(trans_measurements, pd.core.frame.DataFrame):\n",
    "            trans_measurements = trans_measurements.iloc[:,0]\n",
    "        for i in range(len(prot_measurements)):\n",
    "            if math.isnan(prot_measurements[i]):\n",
    "                nan_indices.add(prot_indices[i])\n",
    "                \n",
    "        for i in range(len(trans_measurements)):\n",
    "            if math.isnan(trans_measurements[i]):\n",
    "                nan_indices.add(trans_indices[i])\n",
    "        \n",
    "        nan_indices = list(nan_indices)\n",
    "        prot_measurements = prot_measurements.drop(nan_indices)\n",
    "        trans_measurements = trans_measurements.drop(nan_indices)\n",
    "        \n",
    "        correlation,pval = scipy.stats.pearsonr(prot_measurements, trans_measurements)\n",
    "        if math.isnan(correlation):\n",
    "            continue\n",
    "        corr_list.append([gene,correlation])\n",
    "        pval_list.append([gene, pval])\n",
    "    return corr_list, pval_list"
   ]
  },
  {
   "cell_type": "code",
   "execution_count": 6,
   "metadata": {},
   "outputs": [],
   "source": [
    "def ret_list(li):\n",
    "    #Returns a list of correlations from all genes\n",
    "    ret_li = []\n",
    "    for i in li:\n",
    "        ret_li.append(i[1])   \n",
    "    return ret_li"
   ]
  },
  {
   "cell_type": "markdown",
   "metadata": {},
   "source": [
    "# Beta-catenin in Endometrial Notebook\n",
    "\n",
    "The purpose of this notebook is to compare mutated CTNNB1 genes with non mutated genes in cancer cells."
   ]
  },
  {
   "cell_type": "code",
   "execution_count": 7,
   "metadata": {
    "scrolled": false
   },
   "outputs": [
    {
     "name": "stderr",
     "output_type": "stream",
     "text": [
      "/opt/anaconda3/lib/python3.8/site-packages/scipy/stats/stats.py:3845: PearsonRConstantInputWarning: An input array is constant; the correlation coefficent is not defined.\n",
      "  warnings.warn(PearsonRConstantInputWarning())\n"
     ]
    }
   ],
   "source": [
    "en_gene_list = get_gene_list(en)\n",
    "\n",
    "en_corr, en_pval = correlation_list(en, en_gene_list, tissue_type = \"tumor\")\n",
    "normal_en_corr, normal_en_pval = correlation_list(en, en_gene_list,valid_sample_number = 7, tissue_type=\"normal\")"
   ]
  },
  {
   "cell_type": "code",
   "execution_count": 8,
   "metadata": {},
   "outputs": [],
   "source": [
    "#Finding mutation\n",
    "catenin = []\n",
    "for index, value in enumerate(en.get_somatic_mutation()['Gene']):\n",
    "    if value == 'CTNNB1':\n",
    "        catenin.append(index)"
   ]
  },
  {
   "cell_type": "code",
   "execution_count": 9,
   "metadata": {},
   "outputs": [],
   "source": [
    "#finding patients with mutations\n",
    "patient_list = []\n",
    "for patient in catenin:\n",
    "    patient_list.append(pd.DataFrame(en.get_somatic_mutation().iloc[patient]))\n",
    "  "
   ]
  },
  {
   "cell_type": "code",
   "execution_count": 10,
   "metadata": {},
   "outputs": [],
   "source": [
    "#find patient IDs\n",
    "patient_names = []\n",
    "for df in patient_list:\n",
    "    for i in (df.columns):\n",
    "        patient_names.append(i)"
   ]
  },
  {
   "cell_type": "code",
   "execution_count": 11,
   "metadata": {},
   "outputs": [
    {
     "name": "stderr",
     "output_type": "stream",
     "text": [
      "cptac warning: transcriptomics data was not found for the following samples, so transcriptomics data columns were filled with NaN for these samples: C3L-00563.N, C3L-00605.N, C3L-00769.N, C3L-00770.N, C3L-00771.N, C3L-00930.N, C3L-00947.N, C3L-00963.N, C3L-01246.N, C3L-01249.N, C3L-01252.N, C3L-01256.N, C3L-01257.N, C3L-01744.N, C3N-00200.N, C3N-00729.N, C3N-01211.N, NX1.N, NX10.N, NX11.N, NX12.N, NX13.N, NX14.N, NX15.N, NX16.N, NX17.N, NX18.N, NX2.N, NX3.N, NX4.N, NX5.N, NX6.N, NX7.N, NX8.N, NX9.N (<ipython-input-11-be6fcf8102c9>, line 1)\n"
     ]
    }
   ],
   "source": [
    "trans_prot = en.join_omics_to_omics(df1_name='proteomics', df2_name='transcriptomics')"
   ]
  },
  {
   "cell_type": "code",
   "execution_count": 12,
   "metadata": {},
   "outputs": [],
   "source": [
    "#Finding patients with mutation's proteomics and transcriptomics\n",
    "beta_prot_list = []\n",
    "beta_trans_list = []\n",
    "for i in patient_names:\n",
    "    beta_prot = (trans_prot.loc[i]['CTNNB1_proteomics'])\n",
    "    beta_trans = (trans_prot.loc[i]['CTNNB1_transcriptomics'])\n",
    "    beta_prot_list.append(beta_prot)\n",
    "    beta_trans_list.append(beta_trans)"
   ]
  },
  {
   "cell_type": "code",
   "execution_count": 13,
   "metadata": {},
   "outputs": [],
   "source": [
    "#finding patients without mutation's proteomics and transcriptomics\n",
    "prot_list = []\n",
    "trans_list = []\n",
    "for i in trans_prot.index:\n",
    "    if i not in patient_names:\n",
    "        prot = (trans_prot.loc[i]['CTNNB1_proteomics'])\n",
    "        trans = (trans_prot.loc[i]['CTNNB1_transcriptomics'])\n",
    "        if math.isnan(prot) or math.isnan(trans):\n",
    "            continue\n",
    "        prot_list.append(prot)\n",
    "        trans_list.append(trans)        "
   ]
  },
  {
   "cell_type": "code",
   "execution_count": 14,
   "metadata": {},
   "outputs": [
    {
     "name": "stdout",
     "output_type": "stream",
     "text": [
      "0.35337785542896794\n"
     ]
    }
   ],
   "source": [
    "#beta-catenin correlation values\n",
    "beta_correlation,beta_pval = scipy.stats.pearsonr(beta_prot_list, beta_trans_list)\n",
    "print(beta_correlation)"
   ]
  },
  {
   "cell_type": "code",
   "execution_count": 15,
   "metadata": {},
   "outputs": [],
   "source": [
    "beta_mutation_df = pd.DataFrame(data = {'Proteomics' : beta_prot_list, 'Transcriptomics': beta_trans_list} ,columns = ['Proteomics','Transcriptomics'])\n",
    "beta_wildtype_df = pd.DataFrame(data = {'Proteomics' : prot_list, 'Transcriptomics': trans_list} ,columns = ['Proteomics','Transcriptomics'])\n",
    "\n"
   ]
  },
  {
   "cell_type": "code",
   "execution_count": 16,
   "metadata": {},
   "outputs": [
    {
     "data": {
      "image/png": "[encoded data removed]",
      "text/plain": [
       "<Figure size 432x288 with 1 Axes>"
      ]
     },
     "metadata": {
      "needs_background": "light"
     },
     "output_type": "display_data"
    }
   ],
   "source": [
    "#ploting\n",
    "beta_plot = sns.regplot( x = 'Proteomics', y= 'Transcriptomics',  data = beta_mutation_df)\n",
    "beta_plot = sns.regplot( x = 'Proteomics', y= 'Transcriptomics',  data = beta_wildtype_df)"
   ]
  },
  {
   "cell_type": "code",
   "execution_count": null,
   "metadata": {},
   "outputs": [],
   "source": []
  }
 ],
 "metadata": {
  "kernelspec": {
   "display_name": "Python 3",
   "language": "python",
   "name": "python3"
  },
  "language_info": {
   "codemirror_mode": {
    "name": "ipython",
    "version": 3
   },
   "file_extension": ".py",
   "mimetype": "text/x-python",
   "name": "python",
   "nbconvert_exporter": "python",
   "pygments_lexer": "ipython3",
   "version": "3.8.3"
  }
 },
 "nbformat": 4,
 "nbformat_minor": 4
}
