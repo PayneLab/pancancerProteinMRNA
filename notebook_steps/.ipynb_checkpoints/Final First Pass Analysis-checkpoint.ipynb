{
 "cells": [
  {
   "cell_type": "code",
   "execution_count": 1,
   "metadata": {},
   "outputs": [
    {
     "name": "stderr",
     "output_type": "stream",
     "text": [
      "cptac warning: Your version of cptac (0.8.6) is out-of-date. Latest is 0.8.7. Please run 'pip install --upgrade cptac' to update it. (<ipython-input-1-f56ee68df6f5>, line 1)\n"
     ]
    }
   ],
   "source": [
    "import cptac\n",
    "import scipy\n",
    "from scipy import stats\n",
    "import seaborn as sns\n",
    "import matplotlib.pyplot as plt\n",
    "import numpy as np\n",
    "import math\n",
    "import pandas as pd\n",
    "import statistics\n",
    "import parse_correlations_dataframe as get_corr\n",
    "import copy\n",
    "import get_correlations\n",
    "import cptac.utils as ut"
   ]
  },
  {
   "cell_type": "code",
   "execution_count": 2,
   "metadata": {},
   "outputs": [],
   "source": [
    "import warnings\n",
    "warnings.filterwarnings(\"ignore\")"
   ]
  },
  {
   "cell_type": "code",
   "execution_count": null,
   "metadata": {},
   "outputs": [
    {
     "name": "stdout",
     "output_type": "stream",
     "text": [
      "Loading ccrcc v0.1.1............          \r"
     ]
    }
   ],
   "source": [
    "brca = cptac.Brca()\n",
    "ccrcc = cptac.Ccrcc()\n",
    "colon = cptac.Colon()\n",
    "en = cptac.Endometrial()\n",
    "gbm = cptac.Gbm()\n",
    "luad = cptac.Luad()\n",
    "ovarian = cptac.Ovarian()\n",
    "hnscc  = cptac.Hnscc()\n",
    "lscc = cptac.Lscc()"
   ]
  },
  {
   "cell_type": "code",
   "execution_count": null,
   "metadata": {},
   "outputs": [],
   "source": [
    "cancers = [brca, ccrcc, colon, en, gbm, luad, ovarian, hnscc, lscc]"
   ]
  },
  {
   "cell_type": "code",
   "execution_count": null,
   "metadata": {},
   "outputs": [],
   "source": [
    "cancers2 = [ccrcc, en, luad, hnscc, lscc]\n",
    "ben_list = [ccrcc, en]\n",
    "nathaniel_list = [luad,hnscc]\n",
    "humberto_list = [lscc]"
   ]
  },
  {
   "cell_type": "code",
   "execution_count": null,
   "metadata": {},
   "outputs": [],
   "source": [
    "def get_all_gene_list(tissues):\n",
    "    #Returns a list of the genes that are in both proteomics and transcriptomics\n",
    "    whole_gene_list = set()\n",
    "    for tissue in tissues:\n",
    "        tissue_list = get_gene_list(tissue)\n",
    "        for gene in tissue_list:\n",
    "            whole_gene_list.add(gene)\n",
    "    return sorted(list(whole_gene_list))"
   ]
  },
  {
   "cell_type": "code",
   "execution_count": null,
   "metadata": {},
   "outputs": [],
   "source": [
    "def get_gene_list(tissue):\n",
    "    #Returns a list of the genes that are in both proteomics and transcriptomics\n",
    "    gene_list = []\n",
    "    prot = tissue.get_proteomics()\n",
    "    if isinstance(prot.columns, pd.MultiIndex):\n",
    "        prot = prot.columns.get_level_values(0)\n",
    "    trans = tissue.get_transcriptomics()\n",
    "    if isinstance(trans.columns, pd.MultiIndex):\n",
    "        trans = trans.columns.get_level_values(0)\n",
    "    for i in prot:\n",
    "        if i in trans and i not in gene_list:\n",
    "            gene_list.append(i)\n",
    "    return gene_list"
   ]
  },
  {
   "cell_type": "code",
   "execution_count": null,
   "metadata": {},
   "outputs": [],
   "source": [
    "gene_list = get_all_gene_list(cancers)"
   ]
  },
  {
   "cell_type": "code",
   "execution_count": null,
   "metadata": {},
   "outputs": [],
   "source": [
    "type_dict = {brca:\"brca\",ccrcc:\"ccrcc\",colon:\"colon\",en:\"endometrial\",gbm:\"gbm\",luad:\"luad\",\n",
    "                  ovarian:\"ovarian\",hnscc:\"hnscc\",lscc:\"lscc\"}"
   ]
  },
  {
   "cell_type": "code",
   "execution_count": null,
   "metadata": {},
   "outputs": [],
   "source": [
    "# https://link.springer.com/article/10.3758/s13428-012-0289-7\n",
    "def compare_correlations(r1, r2, n1, n2):\n",
    "    rp1 = np.arctanh(r1)\n",
    "    rp2 = np.arctanh(r2)\n",
    "    \n",
    "    if n1 < 4 or n2 < 4:\n",
    "        return(np.nan)\n",
    "    Sr12 = math.sqrt((1/(n1-3))+(1/(n2-3)))\n",
    "    z = (rp1-rp2) / Sr12\n",
    "    p = scipy.stats.norm.sf(abs(z))*2\n",
    "    return (p)"
   ]
  },
  {
   "cell_type": "code",
   "execution_count": null,
   "metadata": {},
   "outputs": [],
   "source": [
    "def permute(df,original_correlation, label_1, label_2, column_one, column_two, permutation_times):\n",
    "    permutation_list = []\n",
    "    permu_df = copy.deepcopy(df)\n",
    "\n",
    "    for i in range(permutation_times):\n",
    "        permu_df[\"Type\"] = np.random.permutation(permu_df[\"Type\"])\n",
    "        permu_is_label_1 = permu_df[\"Type\"] == label_1\n",
    "        permu_is_label_2 = permu_df[\"Type\"] == label_2\n",
    "        label_1_correlation,label_1_pval = scipy.stats.pearsonr(permu_df[permu_is_label_1][column_one], permu_df[permu_is_label_1][column_two])\n",
    "        label_2_correlation,label_2_pval = scipy.stats.pearsonr(permu_df[permu_is_label_2][column_one], permu_df[permu_is_label_2][column_two])\n",
    "        delta = label_1_correlation - label_2_correlation\n",
    "        permutation_list.append(delta)\n",
    "        \n",
    "    z_score = (original_correlation - np.mean(permutation_list)) / np.std(permutation_list)\n",
    "    p_val = scipy.stats.norm.sf(abs(z_score))*2\n",
    "    return p_val"
   ]
  },
  {
   "cell_type": "code",
   "execution_count": null,
   "metadata": {},
   "outputs": [],
   "source": [
    "tot_diff_list = []\n",
    "tot_pval_list = []\n",
    "tot_perm_list = []\n",
    "for cancer in nathaniel_list:\n",
    "    cancer_diff_list = [type_dict[cancer]]\n",
    "    cancer_pval_list = [type_dict[cancer]]\n",
    "    cancer_perm_list = [type_dict[cancer]]\n",
    "    \n",
    "    tumor_cancer_df = cancer.join_omics_to_omics(\"transcriptomics\",\"proteomics\",tissue_type=\"tumor\",quiet=True)\n",
    "    if isinstance(tumor_cancer_df.columns, pd.MultiIndex):\n",
    "        tumor_cancer_df = ut.reduce_multiindex(df = tumor_cancer_df, levels_to_drop=\"Database_ID\",quiet=True)\n",
    "            \n",
    "    normal_cancer_df = cancer.join_omics_to_omics(\"transcriptomics\",\"proteomics\",tissue_type=\"normal\",quiet=True)\n",
    "    if isinstance(normal_cancer_df.columns, pd.MultiIndex):\n",
    "        normal_cancer_df = ut.reduce_multiindex(df = normal_cancer_df, levels_to_drop=\"Database_ID\",quiet=True)\n",
    "    \n",
    "    for gene in gene_list:\n",
    "        gene_trans = gene + \"_transcriptomics\"\n",
    "        gene_prot = gene + \"_proteomics\"\n",
    "        gene_in_tumor = gene_trans in tumor_cancer_df.columns and gene_prot in tumor_cancer_df.columns\n",
    "        gene_in_normal = gene_trans in normal_cancer_df.columns and gene_prot in normal_cancer_df.columns\n",
    "        \n",
    "        if not(gene_in_tumor and gene_in_normal):\n",
    "            cancer_diff_list.append(np.nan)\n",
    "            cancer_pval_list.append(np.nan)\n",
    "            cancer_perm_list.append(np.nan)\n",
    "            continue\n",
    "\n",
    "        tumor_df = tumor_cancer_df[[gene_trans,gene_prot]]\n",
    "        #The following line takes care of the problem that arises when reducing the multi-index like we did earlier.\n",
    "        #There are sometimes multiple columns of proteomics and sometimes multiple of transcriptomics, this \n",
    "        #takes the first one.\n",
    "        if isinstance(tumor_df[gene_trans], pd.core.frame.DataFrame) or isinstance(tumor_df[gene_prot], pd.core.frame.DataFrame): #This is to take first column of multi-index\n",
    "            trans_col = tumor_df[gene_trans]\n",
    "            if isinstance(tumor_df[gene_trans], pd.core.frame.DataFrame):\n",
    "                trans_col = trans_col.iloc[:,0]\n",
    "            prot_col = tumor_df[gene_prot]\n",
    "            if isinstance(tumor_df[gene_prot], pd.core.frame.DataFrame):\n",
    "                prot_col = prot_col.iloc[:,0]\n",
    "            frame = {gene_trans : trans_col, gene_prot : prot_col}\n",
    "            tumor_df = pd.DataFrame(frame)\n",
    "        tumor_df = tumor_df.dropna()\n",
    "        num_tumor = len(tumor_df)\n",
    "        tumor_corr = tumor_df.corr().iloc[0][1]\n",
    "        \n",
    "        normal_df = normal_cancer_df[[gene_trans,gene_prot]]\n",
    "        if isinstance(normal_df[gene_trans], pd.core.frame.DataFrame) or isinstance(normal_df[gene_prot], pd.core.frame.DataFrame): #This is to take first column of multi-index\n",
    "            trans_col = normal_df[gene_trans]\n",
    "            if isinstance(normal_df[gene_trans], pd.core.frame.DataFrame):\n",
    "                trans_col = trans_col.iloc[:,0]\n",
    "            prot_col = normal_df[gene_prot]\n",
    "            if isinstance(normal_df[gene_prot], pd.core.frame.DataFrame):\n",
    "                prot_col = prot_col.iloc[:,0]\n",
    "            frame = {gene_trans : trans_col, gene_prot : prot_col}\n",
    "            normal_df = pd.DataFrame(frame)\n",
    "        normal_df = normal_df.dropna()\n",
    "        num_normal = len(normal_df)\n",
    "        normal_corr = normal_df.corr().iloc[0][1]\n",
    "        \n",
    "        corr_diff = tumor_corr - normal_corr\n",
    "        cancer_diff_list.append(corr_diff)\n",
    "        \n",
    "        gene_pval = compare_correlations(tumor_corr, normal_corr, num_tumor, num_normal)\n",
    "        cancer_pval_list.append(gene_pval)\n",
    "        \n",
    "        #Permutations\n",
    "        if num_tumor < 4 or num_normal < 4 or gene_pval > .2:\n",
    "            cancer_perm_list.append(np.nan)\n",
    "            continue\n",
    "        tumor_label_list = ['tumor'] * len(tumor_df)\n",
    "        tumor_df[\"Type\"] = tumor_label_list\n",
    "        \n",
    "        normal_label_list = ['normal'] * len(normal_df)\n",
    "        normal_df[\"Type\"] = normal_label_list\n",
    "        \n",
    "        perm_list = [tumor_df,normal_df]\n",
    "        perm_df = pd.concat(perm_list)\n",
    "        \n",
    "        column_one = perm_df.columns[0]\n",
    "        column_two = perm_df.columns[1]\n",
    "        perm_val = permute(perm_df,corr_diff,\"tumor\",\"normal\",column_one,column_two,1000)\n",
    "        cancer_perm_list.append(perm_val)\n",
    "        \n",
    "    tot_diff_list.append(cancer_diff_list)\n",
    "    tot_pval_list.append(cancer_pval_list)\n",
    "    tot_perm_list.append(cancer_perm_list)"
   ]
  },
  {
   "cell_type": "code",
   "execution_count": null,
   "metadata": {},
   "outputs": [],
   "source": [
    "labels = [\"Cancer\"] \n",
    "labels.extend(gene_list)\n",
    "df = pd.DataFrame.from_records(tot_diff_list,columns=labels)\n",
    "df2 = pd.DataFrame.from_records(tot_pval_list,columns=labels)\n",
    "df3 = pd.DataFrame.from_records(tot_perm_list,columns=labels)"
   ]
  },
  {
   "cell_type": "code",
   "execution_count": null,
   "metadata": {},
   "outputs": [],
   "source": [
    "df3"
   ]
  },
  {
   "cell_type": "code",
   "execution_count": null,
   "metadata": {},
   "outputs": [],
   "source": [
    "df.to_csv(\"nathaniel_list_corr_diff.csv\",index=False)"
   ]
  },
  {
   "cell_type": "code",
   "execution_count": null,
   "metadata": {},
   "outputs": [],
   "source": [
    " df2.to_csv(\"nathaniel_list_p_val.csv\",index=False)"
   ]
  },
  {
   "cell_type": "code",
   "execution_count": null,
   "metadata": {},
   "outputs": [],
   "source": [
    " df3.to_csv(\"nathaniel_list_permutation_pval01.csv\",index=False)"
   ]
  }
 ],
 "metadata": {
  "kernelspec": {
   "display_name": "Python 3",
   "language": "python",
   "name": "python3"
  },
  "language_info": {
   "codemirror_mode": {
    "name": "ipython",
    "version": 3
   },
   "file_extension": ".py",
   "mimetype": "text/x-python",
   "name": "python",
   "nbconvert_exporter": "python",
   "pygments_lexer": "ipython3",
   "version": "3.8.3"
  }
 },
 "nbformat": 4,
 "nbformat_minor": 4
}
