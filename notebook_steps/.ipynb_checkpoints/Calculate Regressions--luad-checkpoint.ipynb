{
 "cells": [
  {
   "cell_type": "code",
   "execution_count": null,
   "metadata": {},
   "outputs": [],
   "source": [
    "import cptac\n",
    "import Regression_calculator\n",
    "import pandas as pd\n"
   ]
  },
  {
   "cell_type": "code",
   "execution_count": null,
   "metadata": {},
   "outputs": [],
   "source": [
    "luad = cptac.Luad()"
   ]
  },
  {
   "cell_type": "code",
   "execution_count": null,
   "metadata": {},
   "outputs": [],
   "source": [
    "cancer_list = [luad]\n",
    "cancer_names = ['luad']"
   ]
  },
  {
   "cell_type": "code",
   "execution_count": null,
   "metadata": {},
   "outputs": [],
   "source": [
    "cancer_dfs = []\n",
    "for cancer, name in zip(cancer_list, cancer_names):    \n",
    "    trans_norm_df = cancer.get_transcriptomics(tissue_type = 'normal')\n",
    "    if isinstance(trans_norm_df.columns, pd.MultiIndex):\n",
    "        trans_norm_df = trans_norm_df.droplevel('Database_ID', axis = 1)\n",
    "    trans_norm_df['patient_ID'] = trans_norm_df.index\n",
    "    trans_norm_df = trans_norm_df.melt(id_vars = 'patient_ID', var_name = 'Gene', value_name = 'Transcriptomics')\n",
    "    trans_norm_df['Tissue'] = ['normal'] * len(trans_norm_df)\n",
    "\n",
    "    trans_tum_df = cancer.get_transcriptomics(tissue_type = 'tumor')\n",
    "    if isinstance(trans_tum_df.columns, pd.MultiIndex):\n",
    "        trans_tum_df = trans_norm_df.droplevel('Database_ID', axis = 1)\n",
    "    trans_tum_df['patient_ID'] = trans_tum_df.index\n",
    "    trans_tum_df = trans_tum_df.melt(id_vars = 'patient_ID', var_name = 'Gene', value_name = 'Transcriptomics')\n",
    "    trans_tum_df['Tissue'] = ['tumor'] * len(trans_tum_df)\n",
    "    trans_df = pd.concat([trans_norm_df, trans_tum_df])\n",
    "\n",
    "    prot_norm_df = cancer.get_proteomics(tissue_type='normal')\n",
    "    if isinstance(prot_norm_df.columns, pd.MultiIndex):\n",
    "        prot_norm_df = prot_norm_df.droplevel('Database_ID', axis = 1)\n",
    "    prot_norm_df['patient_ID'] = prot_norm_df.index\n",
    "    prot_norm_df = prot_norm_df.melt(id_vars = 'patient_ID', var_name = 'Gene', value_name = 'Proteomics')\n",
    "    prot_norm_df['Tissue'] = ['normal'] * len(prot_norm_df)\n",
    "\n",
    "    prot_tum_df = cancer.get_proteomics(tissue_type='tumor')\n",
    "    if isinstance(prot_tum_df.columns, pd.MultiIndex):\n",
    "        prot_tum_df = prot_tum_df.droplevel('Database_ID', axis = 1)\n",
    "    prot_tum_df['patient_ID'] = prot_tum_df.index\n",
    "    prot_tum_df = prot_tum_df.melt(id_vars = 'patient_ID', var_name = 'Gene', value_name = 'Proteomics')\n",
    "    prot_tum_df['Tissue'] = ['tumor'] * len(prot_tum_df)\n",
    "\n",
    "    trans_df = pd.concat([trans_norm_df, trans_tum_df])\n",
    "    prot_df = pd.concat([prot_norm_df, prot_tum_df])\n",
    "\n",
    "    cancer_df = pd.merge(trans_df, prot_df, on = ['patient_ID', 'Gene', 'Tissue'])\n",
    "    cancer_df = cancer_df.dropna()\n",
    "    cancer_df['Cancer'] = [name] * len(cancer_df)\n",
    "    cancer_dfs.append(cancer_df)\n",
    "df = pd.concat(cancer_dfs)\n",
    "df\n"
   ]
  },
  {
   "cell_type": "code",
   "execution_count": null,
   "metadata": {},
   "outputs": [],
   "source": [
    "regression_df = Regression_calculator.calculate_regression(df)\n",
    "regression_df.to_csv('data/luad_regressions.csv')"
   ]
  },
  {
   "cell_type": "code",
   "execution_count": null,
   "metadata": {},
   "outputs": [],
   "source": [
    "regression_df"
   ]
  },
  {
   "cell_type": "code",
   "execution_count": null,
   "metadata": {},
   "outputs": [],
   "source": [
    "len(pd.unique(df.Gene))"
   ]
  },
  {
   "cell_type": "code",
   "execution_count": null,
   "metadata": {},
   "outputs": [],
   "source": []
  }
 ],
 "metadata": {
  "kernelspec": {
   "display_name": "Python 3",
   "language": "python",
   "name": "python3"
  },
  "language_info": {
   "codemirror_mode": {
    "name": "ipython",
    "version": 3
   },
   "file_extension": ".py",
   "mimetype": "text/x-python",
   "name": "python",
   "nbconvert_exporter": "python",
   "pygments_lexer": "ipython3",
   "version": "3.8.3"
  }
 },
 "nbformat": 4,
 "nbformat_minor": 4
}
