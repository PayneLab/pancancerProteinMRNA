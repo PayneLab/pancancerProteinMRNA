{
 "cells": [
  {
   "cell_type": "markdown",
   "metadata": {},
   "source": [
    "# Finding mRNA versus protein correlation for a single gene"
   ]
  },
  {
   "cell_type": "code",
   "execution_count": 1,
   "metadata": {},
   "outputs": [],
   "source": [
    "import cptac\n",
    "import cptac.utils as ut\n",
    "import scipy\n",
    "import seaborn as sns\n",
    "import matplotlib.pyplot as plt\n",
    "import numpy as np\n",
    "import math\n",
    "import pandas as pd\n",
    "import statistics"
   ]
  },
  {
   "cell_type": "code",
   "execution_count": null,
   "metadata": {
    "scrolled": true
   },
   "outputs": [
    {
     "name": "stdout",
     "output_type": "stream",
     "text": [
      "Loading luad v3.1.1......                \r"
     ]
    }
   ],
   "source": [
    "luad = cptac.Luad()"
   ]
  },
  {
   "cell_type": "code",
   "execution_count": null,
   "metadata": {},
   "outputs": [],
   "source": [
    "joined = luad.join_omics_to_omics(\"proteomics\",\"transcriptomics\")\n",
    "joined = ut.reduce_multiindex(df = joined, levels_to_drop=\"Database_ID\")\n",
    "tp53_proteomics = joined[\"TP53_proteomics\"]\n",
    "tp53_transcriptomics = joined[\"TP53_transcriptomics\"]"
   ]
  },
  {
   "cell_type": "code",
   "execution_count": null,
   "metadata": {
    "scrolled": true
   },
   "outputs": [],
   "source": [
    "fig = sns.regplot(x=tp53_transcriptomics,y=tp53_proteomics)\n",
    "fig.set(xlabel=\"Transcriptomics\", ylabel=\"Proteomics\")\n",
    "plt.title(\"TP53\")\n",
    "plt.savefig('Figures/Figure 1')\n",
    "plt.show()"
   ]
  },
  {
   "cell_type": "code",
   "execution_count": null,
   "metadata": {
    "scrolled": false
   },
   "outputs": [],
   "source": [
    "genes = ['TP53','FOXA1','FGFR3','PIK3R1']\n",
    "protein_col = []\n",
    "rna_col = []\n",
    "gene_col = []\n",
    "prot_trans = luad.multi_join({'proteomics' : genes, 'transcriptomics': genes}, tissue_type = 'tumor',levels_to_drop=[\"Database_ID\"])\n",
    "prot_trans = prot_trans.loc[:,~prot_trans.columns.duplicated()]\n",
    "for i in genes:\n",
    "    prot_trans_col = prot_trans[[i+'_proteomics', i+'_transcriptomics']]\n",
    "    prot_trans_col = prot_trans_col.dropna()\n",
    "    protein_col = protein_col + list(prot_trans_col[i+'_proteomics'])\n",
    "    rna_col = rna_col + list(prot_trans_col[i+'_transcriptomics'])\n",
    "    gene_col = gene_col + [i]*len(list(prot_trans_col[i+'_transcriptomics']))\n",
    "    \n",
    "sns.set(style='white',font_scale=2)\n",
    "cols = {'Proteomics' : protein_col, 'Transcriptomics': rna_col, 'Gene' : gene_col }\n",
    "df = pd.DataFrame(cols)\n",
    "plot = sns.lmplot(x=\"Proteomics\", y=\"Transcriptomics\", col=\"Gene\", data=df, col_wrap=2);\n",
    "axes = plot.axes\n",
    "axes[0].set_ylim(-3,8)\n",
    "axes[0].set_xlim(-10,7.5)\n",
    "plt.savfig('Figures/Figure 2')\n",
    "plt.show()\n",
    "\n"
   ]
  }
 ],
 "metadata": {
  "kernelspec": {
   "display_name": "Python 3",
   "language": "python",
   "name": "python3"
  },
  "language_info": {
   "codemirror_mode": {
    "name": "ipython",
    "version": 3
   },
   "file_extension": ".py",
   "mimetype": "text/x-python",
   "name": "python",
   "nbconvert_exporter": "python",
   "pygments_lexer": "ipython3",
   "version": "3.8.3"
  }
 },
 "nbformat": 4,
 "nbformat_minor": 4
}
