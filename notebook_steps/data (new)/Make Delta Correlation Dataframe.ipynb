{
 "cells": [
  {
   "cell_type": "code",
   "execution_count": 1,
   "metadata": {},
   "outputs": [],
   "source": [
    "import cptac\n",
    "import Delta_Correlation as dc\n",
    "import pandas as pd"
   ]
  },
  {
   "cell_type": "code",
   "execution_count": 2,
   "metadata": {},
   "outputs": [
    {
     "name": "stdout",
     "output_type": "stream",
     "text": [
      "Checking that pdac index is up-to-date...       \r"
     ]
    },
    {
     "name": "stderr",
     "output_type": "stream",
     "text": [
      "cptac warning: The LSCC data is currently strictly reserved for CPTAC investigators. Otherwise, you are not authorized to access these data. Additionally, even after these data become publicly available, they will be subject to a publication embargo (see https://proteomics.cancer.gov/data-portal/about/data-use-agreement or enter cptac.embargo() to open the webpage for more details). (<ipython-input-2-891d3f5549c9>, line 5)\n"
     ]
    },
    {
     "name": "stdout",
     "output_type": "stream",
     "text": [
      "                                         \r"
     ]
    },
    {
     "name": "stderr",
     "output_type": "stream",
     "text": [
      "cptac warning: The pdac data is currently strictly reserved for CPTAC investigators. Otherwise, you are not authorized to access these data. Additionally, even after these data become publicly available, they will be subject to a publication embargo (see https://proteomics.cancer.gov/data-portal/about/data-use-agreement or enter cptac.embargo() to open the webpage for more details). (<ipython-input-2-891d3f5549c9>, line 6)\n"
     ]
    }
   ],
   "source": [
    "ccrcc = cptac.Ccrcc()\n",
    "en = cptac.Endometrial()\n",
    "luad = cptac.Luad()\n",
    "hnscc  = cptac.Hnscc()\n",
    "lscc = cptac.Lscc()\n",
    "pdac = cptac.Pdac()"
   ]
  },
  {
   "cell_type": "code",
   "execution_count": 3,
   "metadata": {},
   "outputs": [],
   "source": [
    "cancers = [ccrcc, en, luad, hnscc, lscc, pdac]\n",
    "cancer_names = ['CCRCC', 'Endometrial', 'LUAD', 'HNSCC', 'LSCC', 'PDAC']"
   ]
  },
  {
   "cell_type": "code",
   "execution_count": 4,
   "metadata": {},
   "outputs": [
    {
     "name": "stderr",
     "output_type": "stream",
     "text": [
      "cptac warning: Due to dropping the specified levels, dataframe now has 907 duplicated column headers. (C:\\Users\\nanel\\Documents\\GitHub\\pancancerProteinMRNA\\notebook_steps\\data (new)\\Delta_Correlation.py, line 12)\n",
      "cptac warning: Due to dropping the specified levels, dataframe now has 907 duplicated column headers. (C:\\Users\\nanel\\Documents\\GitHub\\pancancerProteinMRNA\\notebook_steps\\data (new)\\Delta_Correlation.py, line 22)\n",
      "cptac warning: Due to dropping the specified levels, dataframe now has 745 duplicated column headers. (C:\\Users\\nanel\\Documents\\GitHub\\pancancerProteinMRNA\\notebook_steps\\data (new)\\Delta_Correlation.py, line 12)\n",
      "cptac warning: Due to dropping the specified levels, dataframe now has 745 duplicated column headers. (C:\\Users\\nanel\\Documents\\GitHub\\pancancerProteinMRNA\\notebook_steps\\data (new)\\Delta_Correlation.py, line 22)\n",
      "cptac warning: Due to dropping the specified levels, dataframe now has 858 duplicated column headers. (C:\\Users\\nanel\\Documents\\GitHub\\pancancerProteinMRNA\\notebook_steps\\data (new)\\Delta_Correlation.py, line 12)\n",
      "cptac warning: Due to dropping the specified levels, dataframe now has 858 duplicated column headers. (C:\\Users\\nanel\\Documents\\GitHub\\pancancerProteinMRNA\\notebook_steps\\data (new)\\Delta_Correlation.py, line 22)\n"
     ]
    },
    {
     "data": {
      "text/html": [
       "<div>\n",
       "<style scoped>\n",
       "    .dataframe tbody tr th:only-of-type {\n",
       "        vertical-align: middle;\n",
       "    }\n",
       "\n",
       "    .dataframe tbody tr th {\n",
       "        vertical-align: top;\n",
       "    }\n",
       "\n",
       "    .dataframe thead th {\n",
       "        text-align: right;\n",
       "    }\n",
       "</style>\n",
       "<table border=\"1\" class=\"dataframe\">\n",
       "  <thead>\n",
       "    <tr style=\"text-align: right;\">\n",
       "      <th></th>\n",
       "      <th>Gene</th>\n",
       "      <th>delta_correlation</th>\n",
       "      <th>Cancer</th>\n",
       "    </tr>\n",
       "  </thead>\n",
       "  <tbody>\n",
       "    <tr>\n",
       "      <th>0</th>\n",
       "      <td>A1BG</td>\n",
       "      <td>-0.388745</td>\n",
       "      <td>CCRCC</td>\n",
       "    </tr>\n",
       "    <tr>\n",
       "      <th>1</th>\n",
       "      <td>A1CF</td>\n",
       "      <td>0.146993</td>\n",
       "      <td>CCRCC</td>\n",
       "    </tr>\n",
       "    <tr>\n",
       "      <th>2</th>\n",
       "      <td>A2M</td>\n",
       "      <td>-0.277035</td>\n",
       "      <td>CCRCC</td>\n",
       "    </tr>\n",
       "    <tr>\n",
       "      <th>4</th>\n",
       "      <td>AAAS</td>\n",
       "      <td>-0.044291</td>\n",
       "      <td>CCRCC</td>\n",
       "    </tr>\n",
       "    <tr>\n",
       "      <th>5</th>\n",
       "      <td>AACS</td>\n",
       "      <td>-0.128218</td>\n",
       "      <td>CCRCC</td>\n",
       "    </tr>\n",
       "    <tr>\n",
       "      <th>...</th>\n",
       "      <td>...</td>\n",
       "      <td>...</td>\n",
       "      <td>...</td>\n",
       "    </tr>\n",
       "    <tr>\n",
       "      <th>11609</th>\n",
       "      <td>ZSWIM8</td>\n",
       "      <td>-0.301055</td>\n",
       "      <td>PDAC</td>\n",
       "    </tr>\n",
       "    <tr>\n",
       "      <th>11611</th>\n",
       "      <td>ZW10</td>\n",
       "      <td>-0.190323</td>\n",
       "      <td>PDAC</td>\n",
       "    </tr>\n",
       "    <tr>\n",
       "      <th>11616</th>\n",
       "      <td>ZYG11B</td>\n",
       "      <td>-0.231357</td>\n",
       "      <td>PDAC</td>\n",
       "    </tr>\n",
       "    <tr>\n",
       "      <th>11617</th>\n",
       "      <td>ZYX</td>\n",
       "      <td>-0.232389</td>\n",
       "      <td>PDAC</td>\n",
       "    </tr>\n",
       "    <tr>\n",
       "      <th>11618</th>\n",
       "      <td>ZZEF1</td>\n",
       "      <td>-0.019623</td>\n",
       "      <td>PDAC</td>\n",
       "    </tr>\n",
       "  </tbody>\n",
       "</table>\n",
       "<p>58293 rows × 3 columns</p>\n",
       "</div>"
      ],
      "text/plain": [
       "         Gene  delta_correlation Cancer\n",
       "0        A1BG          -0.388745  CCRCC\n",
       "1        A1CF           0.146993  CCRCC\n",
       "2         A2M          -0.277035  CCRCC\n",
       "4        AAAS          -0.044291  CCRCC\n",
       "5        AACS          -0.128218  CCRCC\n",
       "...       ...                ...    ...\n",
       "11609  ZSWIM8          -0.301055   PDAC\n",
       "11611    ZW10          -0.190323   PDAC\n",
       "11616  ZYG11B          -0.231357   PDAC\n",
       "11617     ZYX          -0.232389   PDAC\n",
       "11618   ZZEF1          -0.019623   PDAC\n",
       "\n",
       "[58293 rows x 3 columns]"
      ]
     },
     "execution_count": 4,
     "metadata": {},
     "output_type": "execute_result"
    }
   ],
   "source": [
    "corr_diff_df = []\n",
    "for cancer, cancer_name in zip(cancers, cancer_names):\n",
    "    df = dc.get_prot_trans_df(cancer)\n",
    "    cutoff = 15\n",
    "    if cancer == en:\n",
    "        cutoff = 10\n",
    "    df = df.groupby('Gene').apply(lambda x: dc.delta_correlation(df = x, cutoff = cutoff))\n",
    "    df = pd.DataFrame(df, columns = ['delta_correlation'])\n",
    "    df.reset_index(inplace = True)\n",
    "    df['Cancer'] = [cancer_name] * len(df)\n",
    "    df = df.dropna()\n",
    "    corr_diff_df.append(df)\n",
    "corr_diff_df = pd.concat(corr_diff_df)\n",
    "corr_diff_df.to_csv('Delta_Correlation_df.csv', index = False)\n",
    "corr_diff_df"
   ]
  }
 ],
 "metadata": {
  "kernelspec": {
   "display_name": "Python 3",
   "language": "python",
   "name": "python3"
  },
  "language_info": {
   "codemirror_mode": {
    "name": "ipython",
    "version": 3
   },
   "file_extension": ".py",
   "mimetype": "text/x-python",
   "name": "python",
   "nbconvert_exporter": "python",
   "pygments_lexer": "ipython3",
   "version": "3.8.3"
  }
 },
 "nbformat": 4,
 "nbformat_minor": 4
}
