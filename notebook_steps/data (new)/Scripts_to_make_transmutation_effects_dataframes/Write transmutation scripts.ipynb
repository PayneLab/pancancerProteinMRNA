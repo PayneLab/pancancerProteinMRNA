{
 "cells": [
  {
   "cell_type": "code",
   "execution_count": 1,
   "metadata": {},
   "outputs": [],
   "source": [
    "import cptac\n",
    "import pandas as pd\n",
    "import cptac.utils as ut"
   ]
  },
  {
   "cell_type": "code",
   "execution_count": null,
   "metadata": {},
   "outputs": [
    {
     "name": "stdout",
     "output_type": "stream",
     "text": [
      "Checking that hnscc index is up-to-date...\r"
     ]
    },
    {
     "name": "stderr",
     "output_type": "stream",
     "text": [
      "cptac warning: The LSCC data is currently strictly reserved for CPTAC investigators. Otherwise, you are not authorized to access these data. Additionally, even after these data become publicly available, they will be subject to a publication embargo (see https://proteomics.cancer.gov/data-portal/about/data-use-agreement or enter cptac.embargo() to open the webpage for more details). (<ipython-input-2-b7600f9cc46d>, line 2)\n"
     ]
    },
    {
     "name": "stdout",
     "output_type": "stream",
     "text": [
      "Loading hnscc v2.0.....                   \r"
     ]
    }
   ],
   "source": [
    "luad = cptac.Luad()\n",
    "lscc = cptac.Lscc()\n",
    "hnscc = cptac.Hnscc()\n",
    "en = cptac.Endometrial()\n",
    "ccrcc = cptac.Ccrcc()\n",
    "pdac = cptac.Pdac()"
   ]
  },
  {
   "cell_type": "code",
   "execution_count": null,
   "metadata": {},
   "outputs": [],
   "source": [
    "cancer_list = [luad, lscc, hnscc, en, ccrcc, pdac]"
   ]
  },
  {
   "cell_type": "code",
   "execution_count": null,
   "metadata": {},
   "outputs": [],
   "source": [
    "cancer_dict = {lscc: 'LSCC', luad: 'LUAD', hnscc: 'HNSCC', en: 'Endometrial', ccrcc: 'CCRCC'}"
   ]
  },
  {
   "cell_type": "code",
   "execution_count": null,
   "metadata": {},
   "outputs": [],
   "source": [
    "mutation_frequency_df = []\n",
    "for cancer in cancer_list:\n",
    "    mutation_df = cancer.get_somatic_mutation()\n",
    "    mutation_df = mutation_df[mutation_df.Mutation != 'Silent']\n",
    "    mutation_df = mutation_df[mutation_df.Mutation != 'RNA']\n",
    "    mutation_df = mutation_df[mutation_df.Mutation != 'synonymous SNV']\n",
    "    #look only at gene with both transciptomic and proteomic data\n",
    "    gene_df = cancer.get_transcriptomics('tumor')\n",
    "    if isinstance(gene_df.columns, pd.MultiIndex):\n",
    "        gene_df = gene_df.droplevel('Database_ID', axis = 1)\n",
    "    prot_df = cancer.get_proteomics('tumor')\n",
    "    if isinstance(prot_df.columns, pd.MultiIndex):\n",
    "        prot_df = prot_df.droplevel('Database_ID', axis = 1)\n",
    "    gene_df['Patient_ID'] = gene_df.index\n",
    "    prot_df['Patient_ID'] = prot_df.index\n",
    "    gene_df = gene_df.melt(id_vars = 'Patient_ID',\n",
    "                           var_name ='Gene',\n",
    "                           value_name = 'Transcriptomics')\n",
    "    prot_df = prot_df.melt(id_vars = 'Patient_ID', var_name = 'Gene', value_name = 'Proteomics')\n",
    "    omics_df = pd.merge(gene_df, prot_df, how = 'outer')\n",
    "    omics_df = omics_df.dropna()\n",
    "    mutation_df = mutation_df.reset_index()\n",
    "    df = pd.merge(omics_df, mutation_df, how = 'outer')\n",
    "    df = df.drop(columns = 'Location')\n",
    "    df['Mutation'] = df.Mutation.notnull()\n",
    "    df = df.dropna()\n",
    "    #filter to only include genes with a minimum number of samples\n",
    "    genes = df.groupby(['Mutation', 'Gene'])\n",
    "    sample_count = genes.size()\n",
    "    cutoff = 15\n",
    "    if cancer == en:\n",
    "        cutoff = 10\n",
    "    sample_count = sample_count[sample_count>=cutoff]\n",
    "    sample_count\n",
    "    mutated_genes = set(sample_count[sample_count.index.get_level_values(0) == False].index.get_level_values('Gene'))\n",
    "    wt_genes = set(sample_count[sample_count.index.get_level_values(0) == True].index.get_level_values('Gene'))\n",
    "    genes = wt_genes & mutated_genes\n",
    "    #get mutation frequency \n",
    "    df = ut.get_frequently_mutated(cancer, 0)\n",
    "    df = df[df.Gene.isin(genes)]\n",
    "    df = df.sort_values('Unique_Samples_Mut', ascending = False)\n",
    "    df=df.drop(columns = ['Missense_Mut', 'Truncation_Mut'])\n",
    "    if len(df) > 10:\n",
    "        df = df[0:10]\n",
    "    df['Cancer'] = [cancer_dict[cancer]] * len(df)\n",
    "    mutation_frequency_df.append(df)\n",
    "mutation_frequency_df = pd.concat(mutation_frequency_df)\n",
    "mutation_frequency_df"
   ]
  },
  {
   "cell_type": "code",
   "execution_count": null,
   "metadata": {},
   "outputs": [],
   "source": [
    "# write bash command for finding permutation p-val for each gene/cancer pair\n",
    "header = '#!/bin/bash\\n#SBATCH --time=168:00:00   # walltime\\n#SBATCH --ntasks=2   # number of processor cores (i.e. tasks)\\n#SBATCH --mem-per-cpu=1536M   # memory per CPU core\\n#SBATCH --mail-user=nanelbarton@gmail.com   # email address\\n#SBATCH --mail-type=BEGIN\\n#SBATCH --mail-type=END\\n# Set the max number of threads to use for programs using OpenMP. Should be <= ppn. Does nothing if the program doesn\\'t use OpenMP.\\nexport OMP_NUM_THREADS=$SLURM_CPUS_ON_NODE\\n'\n",
    "for index, row in mutation_frequency_df.iterrows():\n",
    "    file_name = 'trans_' + row.Cancer + '_' + row.Gene + '.sh'\n",
    "    with open(file_name, 'w+') as file:\n",
    "        file.write(header)\n",
    "        s = 'transmutation_effects.py ' + row.Cancer + ' ' + row.Gene + ' 10000\\n'\n",
    "        file.write(s)\n",
    "        file.close()\n",
    "    with open ('run_transmutation_scripts.sh', 'a+') as file:\n",
    "        s = 'bash ' + file_name +'\\n'\n",
    "        file.write(s)\n",
    "        file.close()\n"
   ]
  }
 ],
 "metadata": {
  "kernelspec": {
   "display_name": "Python 3",
   "language": "python",
   "name": "python3"
  },
  "language_info": {
   "codemirror_mode": {
    "name": "ipython",
    "version": 3
   },
   "file_extension": ".py",
   "mimetype": "text/x-python",
   "name": "python",
   "nbconvert_exporter": "python",
   "pygments_lexer": "ipython3",
   "version": "3.8.3"
  }
 },
 "nbformat": 4,
 "nbformat_minor": 4
}
