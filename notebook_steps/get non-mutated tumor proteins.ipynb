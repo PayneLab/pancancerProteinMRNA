{
 "cells": [
  {
   "cell_type": "code",
   "execution_count": 1,
   "metadata": {},
   "outputs": [
    {
     "name": "stderr",
     "output_type": "stream",
     "text": [
      "cptac warning: Your version of cptac (0.8.5) is out-of-date. Latest is 0.8.6. Please run 'pip install --upgrade cptac' to update it. (<ipython-input-1-147bbc873c03>, line 1)\n"
     ]
    }
   ],
   "source": [
    "import cptac\n",
    "import scipy\n",
    "from scipy import stats\n",
    "import seaborn as sns\n",
    "import matplotlib.pyplot as plt\n",
    "import numpy as np\n",
    "import math\n",
    "import pandas as pd\n",
    "import statistics\n",
    "import parse_correlations_dataframe as get_corr\n",
    "import copy"
   ]
  },
  {
   "cell_type": "code",
   "execution_count": 8,
   "metadata": {},
   "outputs": [],
   "source": [
    "def find_mut_tumor(cancer_type, gene):\n",
    "    gene_multi = cancer_type.multi_join({'proteomics': gene, 'transcriptomics': gene, 'somatic_mutation': gene}, tissue_type = 'tumor')\n",
    "\n",
    "    if gene_multi[str(gene + '_proteomics')].isnull().values.any():\n",
    "        return float(\"NaN\")\n",
    "    trans = list(gene_multi[str(gene +\"_transcriptomics\")])\n",
    "    prot = list(gene_multi[str(gene + '_proteomics')])\n",
    "    group = []\n",
    "    for i in gene_multi[str(gene + '_Mutation_Status')]:\n",
    "        if type(i) == str:\n",
    "            group.append(\"mutation\")\n",
    "        else:\n",
    "            group.append(\"wt\")           \n",
    "    gene_df = pd.DataFrame({'Type': group, 'Proteomics': prot, 'Transcriptomics': trans})\n",
    "    return gene_df"
   ]
  },
  {
   "cell_type": "code",
   "execution_count": 2,
   "metadata": {},
   "outputs": [
    {
     "name": "stdout",
     "output_type": "stream",
     "text": [
      "                                                \r"
     ]
    }
   ],
   "source": [
    "cptac.download(\"endometrial\")\n",
    "en = cptac.Endometrial()"
   ]
  },
  {
   "cell_type": "code",
   "execution_count": 11,
   "metadata": {},
   "outputs": [
    {
     "name": "stdout",
     "output_type": "stream",
     "text": [
      "Name        ABL1_proteomics  ABL1_transcriptomics        ABL1_Mutation  \\\n",
      "Patient_ID                                                               \n",
      "C3L-00006           -0.2960                 11.36  [Missense_Mutation]   \n",
      "C3L-00008           -0.0897                 11.77                  NaN   \n",
      "C3L-00032           -0.1770                 11.04                  NaN   \n",
      "C3L-00090           -0.5130                 10.93                  NaN   \n",
      "C3L-00098           -0.5260                 10.57                  NaN   \n",
      "...                     ...                   ...                  ...   \n",
      "C3N-01520           -0.1810                 11.98                  NaN   \n",
      "C3N-01521           -0.6250                 11.29                  NaN   \n",
      "C3N-01537           -0.2450                 11.40                  NaN   \n",
      "C3N-01802            0.1190                 10.58                  NaN   \n",
      "C3N-01825            0.1480                 11.22                  NaN   \n",
      "\n",
      "Name       ABL1_Location ABL1_Mutation_Status  \n",
      "Patient_ID                                     \n",
      "C3L-00006      [p.G273R]      Single_mutation  \n",
      "C3L-00008            NaN                  NaN  \n",
      "C3L-00032            NaN                  NaN  \n",
      "C3L-00090            NaN                  NaN  \n",
      "C3L-00098            NaN                  NaN  \n",
      "...                  ...                  ...  \n",
      "C3N-01520            NaN                  NaN  \n",
      "C3N-01521            NaN                  NaN  \n",
      "C3N-01537            NaN                  NaN  \n",
      "C3N-01802            NaN                  NaN  \n",
      "C3N-01825            NaN                  NaN  \n",
      "\n",
      "[95 rows x 5 columns]\n"
     ]
    },
    {
     "data": {
      "text/html": [
       "<div>\n",
       "<style scoped>\n",
       "    .dataframe tbody tr th:only-of-type {\n",
       "        vertical-align: middle;\n",
       "    }\n",
       "\n",
       "    .dataframe tbody tr th {\n",
       "        vertical-align: top;\n",
       "    }\n",
       "\n",
       "    .dataframe thead th {\n",
       "        text-align: right;\n",
       "    }\n",
       "</style>\n",
       "<table border=\"1\" class=\"dataframe\">\n",
       "  <thead>\n",
       "    <tr style=\"text-align: right;\">\n",
       "      <th></th>\n",
       "      <th>Type</th>\n",
       "      <th>Proteomics</th>\n",
       "      <th>Transcriptomics</th>\n",
       "    </tr>\n",
       "  </thead>\n",
       "  <tbody>\n",
       "    <tr>\n",
       "      <th>0</th>\n",
       "      <td>mutation</td>\n",
       "      <td>-0.2960</td>\n",
       "      <td>11.36</td>\n",
       "    </tr>\n",
       "    <tr>\n",
       "      <th>1</th>\n",
       "      <td>wt</td>\n",
       "      <td>-0.0897</td>\n",
       "      <td>11.77</td>\n",
       "    </tr>\n",
       "    <tr>\n",
       "      <th>2</th>\n",
       "      <td>wt</td>\n",
       "      <td>-0.1770</td>\n",
       "      <td>11.04</td>\n",
       "    </tr>\n",
       "    <tr>\n",
       "      <th>3</th>\n",
       "      <td>wt</td>\n",
       "      <td>-0.5130</td>\n",
       "      <td>10.93</td>\n",
       "    </tr>\n",
       "    <tr>\n",
       "      <th>4</th>\n",
       "      <td>wt</td>\n",
       "      <td>-0.5260</td>\n",
       "      <td>10.57</td>\n",
       "    </tr>\n",
       "    <tr>\n",
       "      <th>...</th>\n",
       "      <td>...</td>\n",
       "      <td>...</td>\n",
       "      <td>...</td>\n",
       "    </tr>\n",
       "    <tr>\n",
       "      <th>90</th>\n",
       "      <td>wt</td>\n",
       "      <td>-0.1810</td>\n",
       "      <td>11.98</td>\n",
       "    </tr>\n",
       "    <tr>\n",
       "      <th>91</th>\n",
       "      <td>wt</td>\n",
       "      <td>-0.6250</td>\n",
       "      <td>11.29</td>\n",
       "    </tr>\n",
       "    <tr>\n",
       "      <th>92</th>\n",
       "      <td>wt</td>\n",
       "      <td>-0.2450</td>\n",
       "      <td>11.40</td>\n",
       "    </tr>\n",
       "    <tr>\n",
       "      <th>93</th>\n",
       "      <td>wt</td>\n",
       "      <td>0.1190</td>\n",
       "      <td>10.58</td>\n",
       "    </tr>\n",
       "    <tr>\n",
       "      <th>94</th>\n",
       "      <td>wt</td>\n",
       "      <td>0.1480</td>\n",
       "      <td>11.22</td>\n",
       "    </tr>\n",
       "  </tbody>\n",
       "</table>\n",
       "<p>95 rows × 3 columns</p>\n",
       "</div>"
      ],
      "text/plain": [
       "        Type  Proteomics  Transcriptomics\n",
       "0   mutation     -0.2960            11.36\n",
       "1         wt     -0.0897            11.77\n",
       "2         wt     -0.1770            11.04\n",
       "3         wt     -0.5130            10.93\n",
       "4         wt     -0.5260            10.57\n",
       "..       ...         ...              ...\n",
       "90        wt     -0.1810            11.98\n",
       "91        wt     -0.6250            11.29\n",
       "92        wt     -0.2450            11.40\n",
       "93        wt      0.1190            10.58\n",
       "94        wt      0.1480            11.22\n",
       "\n",
       "[95 rows x 3 columns]"
      ]
     },
     "execution_count": 11,
     "metadata": {},
     "output_type": "execute_result"
    }
   ],
   "source": [
    "find_mut_tumor(en, 'ABL1')"
   ]
  },
  {
   "cell_type": "code",
   "execution_count": null,
   "metadata": {},
   "outputs": [],
   "source": []
  }
 ],
 "metadata": {
  "kernelspec": {
   "display_name": "Python 3",
   "language": "python",
   "name": "python3"
  },
  "language_info": {
   "codemirror_mode": {
    "name": "ipython",
    "version": 3
   },
   "file_extension": ".py",
   "mimetype": "text/x-python",
   "name": "python",
   "nbconvert_exporter": "python",
   "pygments_lexer": "ipython3",
   "version": "3.8.3"
  }
 },
 "nbformat": 4,
 "nbformat_minor": 4
}
