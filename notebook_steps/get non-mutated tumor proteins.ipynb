{
 "cells": [
  {
   "cell_type": "code",
   "execution_count": 1,
   "metadata": {},
   "outputs": [],
   "source": [
    "import cptac\n",
    "import scipy\n",
    "from scipy import stats\n",
    "import seaborn as sns\n",
    "import matplotlib.pyplot as plt\n",
    "import numpy as np\n",
    "import math\n",
    "import pandas as pd\n",
    "import statistics\n",
    "import parse_correlations_dataframe as get_corr\n",
    "import copy"
   ]
  },
  {
   "cell_type": "code",
   "execution_count": 2,
   "metadata": {},
   "outputs": [
    {
     "name": "stdout",
     "output_type": "stream",
     "text": [
      "                                                \r"
     ]
    }
   ],
   "source": [
    "cptac.download(\"endometrial\")\n",
    "en = cptac.Endometrial()"
   ]
  },
  {
   "cell_type": "code",
   "execution_count": 3,
   "metadata": {},
   "outputs": [],
   "source": [
    "def find_mut_tumor(cancer_type, gene):\n",
    "    try:\n",
    "        gene_multi = cancer_type.multi_join({'proteomics': gene, 'transcriptomics': gene, 'somatic_mutation': gene}, tissue_type = 'tumor', flatten = True)\n",
    "        normal = cancer_type.multi_join({'proteomics': gene, 'transcriptomics': gene}, tissue_type= 'normal', flatten = True)\n",
    "        normal.columns = ['proteomics', 'transcriptomics']\n",
    "        gene_multi.columns = ['proteomics', 'transcriptomics', 'mutation', 'location', 'mutation_status']\n",
    "        trans = list(gene_multi[\"transcriptomics\"])\n",
    "        prot = list(gene_multi['proteomics'])\n",
    "        group = []\n",
    "        for i in gene_multi['mutation_status']:\n",
    "            if type(i) == str:\n",
    "                group.append(\"mutation\")\n",
    "            else:\n",
    "                group.append(\"wt\") \n",
    "        if group.count('wt') < 2 or len(normal) < 2:\n",
    "            return float(\"NaN\")\n",
    "        group.extend(['normal']*len(normal))\n",
    "        prot.extend(list(normal['proteomics']))\n",
    "        trans.extend(list(normal['transcriptomics']))\n",
    "        gene_df = pd.DataFrame({'Type': group, 'Proteomics': prot, 'Transcriptomics': trans})\n",
    "        gene_df = gene_df.dropna()\n",
    "        return gene_df\n",
    "    except:\n",
    "        return float(\"NaN\")\n",
    "   "
   ]
  },
  {
   "cell_type": "code",
   "execution_count": 4,
   "metadata": {},
   "outputs": [],
   "source": [
    "def get_df_with_type(df,input_type):\n",
    "    return(df.loc[df['Type']==input_type])"
   ]
  },
  {
   "cell_type": "code",
   "execution_count": 5,
   "metadata": {},
   "outputs": [
    {
     "name": "stderr",
     "output_type": "stream",
     "text": [
      "cptac warning: You tried to flatten a column index that didn't have multiple levels, so we didn't actually change anything. (C:\\Users\\nanel\\anaconda3\\lib\\site-packages\\cptac\\dataset.py, line 697)\n",
      "cptac warning: You tried to flatten a column index that didn't have multiple levels, so we didn't actually change anything. (C:\\Users\\nanel\\anaconda3\\lib\\site-packages\\cptac\\dataset.py, line 697)\n"
     ]
    }
   ],
   "source": [
    "df = find_mut_tumor(en, 'TP53')"
   ]
  },
  {
   "cell_type": "code",
   "execution_count": 6,
   "metadata": {},
   "outputs": [
    {
     "data": {
      "text/html": [
       "<div>\n",
       "<style scoped>\n",
       "    .dataframe tbody tr th:only-of-type {\n",
       "        vertical-align: middle;\n",
       "    }\n",
       "\n",
       "    .dataframe tbody tr th {\n",
       "        vertical-align: top;\n",
       "    }\n",
       "\n",
       "    .dataframe thead th {\n",
       "        text-align: right;\n",
       "    }\n",
       "</style>\n",
       "<table border=\"1\" class=\"dataframe\">\n",
       "  <thead>\n",
       "    <tr style=\"text-align: right;\">\n",
       "      <th></th>\n",
       "      <th>Type</th>\n",
       "      <th>Proteomics</th>\n",
       "      <th>Transcriptomics</th>\n",
       "    </tr>\n",
       "  </thead>\n",
       "  <tbody>\n",
       "    <tr>\n",
       "      <th>0</th>\n",
       "      <td>mutation</td>\n",
       "      <td>0.2950</td>\n",
       "      <td>11.62</td>\n",
       "    </tr>\n",
       "    <tr>\n",
       "      <th>1</th>\n",
       "      <td>wt</td>\n",
       "      <td>0.2770</td>\n",
       "      <td>11.83</td>\n",
       "    </tr>\n",
       "    <tr>\n",
       "      <th>2</th>\n",
       "      <td>wt</td>\n",
       "      <td>-0.8710</td>\n",
       "      <td>10.73</td>\n",
       "    </tr>\n",
       "    <tr>\n",
       "      <th>3</th>\n",
       "      <td>wt</td>\n",
       "      <td>-0.3430</td>\n",
       "      <td>10.95</td>\n",
       "    </tr>\n",
       "    <tr>\n",
       "      <th>4</th>\n",
       "      <td>mutation</td>\n",
       "      <td>3.0100</td>\n",
       "      <td>10.69</td>\n",
       "    </tr>\n",
       "    <tr>\n",
       "      <th>...</th>\n",
       "      <td>...</td>\n",
       "      <td>...</td>\n",
       "      <td>...</td>\n",
       "    </tr>\n",
       "    <tr>\n",
       "      <th>115</th>\n",
       "      <td>normal</td>\n",
       "      <td>0.7950</td>\n",
       "      <td>9.83</td>\n",
       "    </tr>\n",
       "    <tr>\n",
       "      <th>116</th>\n",
       "      <td>normal</td>\n",
       "      <td>0.6270</td>\n",
       "      <td>10.64</td>\n",
       "    </tr>\n",
       "    <tr>\n",
       "      <th>119</th>\n",
       "      <td>normal</td>\n",
       "      <td>-0.2370</td>\n",
       "      <td>9.62</td>\n",
       "    </tr>\n",
       "    <tr>\n",
       "      <th>120</th>\n",
       "      <td>normal</td>\n",
       "      <td>-0.7290</td>\n",
       "      <td>10.45</td>\n",
       "    </tr>\n",
       "    <tr>\n",
       "      <th>125</th>\n",
       "      <td>normal</td>\n",
       "      <td>-0.0788</td>\n",
       "      <td>10.28</td>\n",
       "    </tr>\n",
       "  </tbody>\n",
       "</table>\n",
       "<p>94 rows × 3 columns</p>\n",
       "</div>"
      ],
      "text/plain": [
       "         Type  Proteomics  Transcriptomics\n",
       "0    mutation      0.2950            11.62\n",
       "1          wt      0.2770            11.83\n",
       "2          wt     -0.8710            10.73\n",
       "3          wt     -0.3430            10.95\n",
       "4    mutation      3.0100            10.69\n",
       "..        ...         ...              ...\n",
       "115    normal      0.7950             9.83\n",
       "116    normal      0.6270            10.64\n",
       "119    normal     -0.2370             9.62\n",
       "120    normal     -0.7290            10.45\n",
       "125    normal     -0.0788            10.28\n",
       "\n",
       "[94 rows x 3 columns]"
      ]
     },
     "execution_count": 6,
     "metadata": {},
     "output_type": "execute_result"
    }
   ],
   "source": [
    "df"
   ]
  },
  {
   "cell_type": "code",
   "execution_count": 7,
   "metadata": {},
   "outputs": [],
   "source": [
    "df2 = get_df_with_type(df,\"normal\")"
   ]
  },
  {
   "cell_type": "code",
   "execution_count": 8,
   "metadata": {},
   "outputs": [
    {
     "data": {
      "text/html": [
       "<div>\n",
       "<style scoped>\n",
       "    .dataframe tbody tr th:only-of-type {\n",
       "        vertical-align: middle;\n",
       "    }\n",
       "\n",
       "    .dataframe tbody tr th {\n",
       "        vertical-align: top;\n",
       "    }\n",
       "\n",
       "    .dataframe thead th {\n",
       "        text-align: right;\n",
       "    }\n",
       "</style>\n",
       "<table border=\"1\" class=\"dataframe\">\n",
       "  <thead>\n",
       "    <tr style=\"text-align: right;\">\n",
       "      <th></th>\n",
       "      <th>Type</th>\n",
       "      <th>Proteomics</th>\n",
       "      <th>Transcriptomics</th>\n",
       "    </tr>\n",
       "  </thead>\n",
       "  <tbody>\n",
       "    <tr>\n",
       "      <th>95</th>\n",
       "      <td>normal</td>\n",
       "      <td>-0.0919</td>\n",
       "      <td>9.87</td>\n",
       "    </tr>\n",
       "    <tr>\n",
       "      <th>96</th>\n",
       "      <td>normal</td>\n",
       "      <td>-0.5930</td>\n",
       "      <td>10.52</td>\n",
       "    </tr>\n",
       "    <tr>\n",
       "      <th>98</th>\n",
       "      <td>normal</td>\n",
       "      <td>-0.1310</td>\n",
       "      <td>9.98</td>\n",
       "    </tr>\n",
       "    <tr>\n",
       "      <th>99</th>\n",
       "      <td>normal</td>\n",
       "      <td>-0.0844</td>\n",
       "      <td>9.92</td>\n",
       "    </tr>\n",
       "    <tr>\n",
       "      <th>113</th>\n",
       "      <td>normal</td>\n",
       "      <td>0.5140</td>\n",
       "      <td>10.35</td>\n",
       "    </tr>\n",
       "    <tr>\n",
       "      <th>114</th>\n",
       "      <td>normal</td>\n",
       "      <td>0.2500</td>\n",
       "      <td>10.27</td>\n",
       "    </tr>\n",
       "    <tr>\n",
       "      <th>115</th>\n",
       "      <td>normal</td>\n",
       "      <td>0.7950</td>\n",
       "      <td>9.83</td>\n",
       "    </tr>\n",
       "    <tr>\n",
       "      <th>116</th>\n",
       "      <td>normal</td>\n",
       "      <td>0.6270</td>\n",
       "      <td>10.64</td>\n",
       "    </tr>\n",
       "    <tr>\n",
       "      <th>119</th>\n",
       "      <td>normal</td>\n",
       "      <td>-0.2370</td>\n",
       "      <td>9.62</td>\n",
       "    </tr>\n",
       "    <tr>\n",
       "      <th>120</th>\n",
       "      <td>normal</td>\n",
       "      <td>-0.7290</td>\n",
       "      <td>10.45</td>\n",
       "    </tr>\n",
       "    <tr>\n",
       "      <th>125</th>\n",
       "      <td>normal</td>\n",
       "      <td>-0.0788</td>\n",
       "      <td>10.28</td>\n",
       "    </tr>\n",
       "  </tbody>\n",
       "</table>\n",
       "</div>"
      ],
      "text/plain": [
       "       Type  Proteomics  Transcriptomics\n",
       "95   normal     -0.0919             9.87\n",
       "96   normal     -0.5930            10.52\n",
       "98   normal     -0.1310             9.98\n",
       "99   normal     -0.0844             9.92\n",
       "113  normal      0.5140            10.35\n",
       "114  normal      0.2500            10.27\n",
       "115  normal      0.7950             9.83\n",
       "116  normal      0.6270            10.64\n",
       "119  normal     -0.2370             9.62\n",
       "120  normal     -0.7290            10.45\n",
       "125  normal     -0.0788            10.28"
      ]
     },
     "execution_count": 8,
     "metadata": {},
     "output_type": "execute_result"
    }
   ],
   "source": [
    "df2"
   ]
  },
  {
   "cell_type": "code",
   "execution_count": 9,
   "metadata": {},
   "outputs": [
    {
     "data": {
      "text/html": [
       "<div>\n",
       "<style scoped>\n",
       "    .dataframe tbody tr th:only-of-type {\n",
       "        vertical-align: middle;\n",
       "    }\n",
       "\n",
       "    .dataframe tbody tr th {\n",
       "        vertical-align: top;\n",
       "    }\n",
       "\n",
       "    .dataframe thead th {\n",
       "        text-align: right;\n",
       "    }\n",
       "</style>\n",
       "<table border=\"1\" class=\"dataframe\">\n",
       "  <thead>\n",
       "    <tr style=\"text-align: right;\">\n",
       "      <th></th>\n",
       "      <th>Proteomics</th>\n",
       "      <th>Transcriptomics</th>\n",
       "    </tr>\n",
       "  </thead>\n",
       "  <tbody>\n",
       "    <tr>\n",
       "      <th>Proteomics</th>\n",
       "      <td>1.000000</td>\n",
       "      <td>-0.045068</td>\n",
       "    </tr>\n",
       "    <tr>\n",
       "      <th>Transcriptomics</th>\n",
       "      <td>-0.045068</td>\n",
       "      <td>1.000000</td>\n",
       "    </tr>\n",
       "  </tbody>\n",
       "</table>\n",
       "</div>"
      ],
      "text/plain": [
       "                 Proteomics  Transcriptomics\n",
       "Proteomics         1.000000        -0.045068\n",
       "Transcriptomics   -0.045068         1.000000"
      ]
     },
     "execution_count": 9,
     "metadata": {},
     "output_type": "execute_result"
    }
   ],
   "source": [
    "df2.corr(method=\"pearson\")"
   ]
  },
  {
   "cell_type": "code",
   "execution_count": 10,
   "metadata": {},
   "outputs": [
    {
     "data": {
      "text/plain": [
       "-0.04506791545565061"
      ]
     },
     "execution_count": 10,
     "metadata": {},
     "output_type": "execute_result"
    }
   ],
   "source": [
    "df2.corr(method=\"pearson\")['Transcriptomics'][0]"
   ]
  },
  {
   "cell_type": "code",
   "execution_count": 11,
   "metadata": {},
   "outputs": [],
   "source": [
    "df3 = df[df['Type'] != 'mutation']"
   ]
  },
  {
   "cell_type": "code",
   "execution_count": 12,
   "metadata": {},
   "outputs": [],
   "source": [
    "def get_cancer_string(cancer):\n",
    "    if cancer == brca:\n",
    "        return \"brca\"\n",
    "    if cancer == ccrcc:\n",
    "        return \"ccrcc\"\n",
    "    if cancer == colon:\n",
    "        return 'colon'\n",
    "    if cancer == en:\n",
    "        return 'en'\n",
    "    if cancer == gbm:\n",
    "        return 'gbm'\n",
    "    if cancer == luad:\n",
    "        return 'luad'\n",
    "    if cancer == ovarian:\n",
    "        return 'ovarian'\n",
    "    if cancer == hnscc:\n",
    "        return 'hnscc'\n",
    "    if cancer == lscc:\n",
    "        return 'lscc'"
   ]
  },
  {
   "cell_type": "code",
   "execution_count": 13,
   "metadata": {},
   "outputs": [
    {
     "name": "stdout",
     "output_type": "stream",
     "text": [
      "Checking that luad index is up-to-date...       \r"
     ]
    },
    {
     "name": "stderr",
     "output_type": "stream",
     "text": [
      "cptac warning: The GBM dataset is under publication embargo until March 01, 2021. CPTAC is a community resource project and data are made available rapidly after generation for community research use. The embargo allows exploring and utilizing the data, but analysis may not be published until after the embargo date. Please see https://proteomics.cancer.gov/data-portal/about/data-use-agreement or enter cptac.embargo() to open the webpage for more details. (<ipython-input-13-0467c23f8dc0>, line 5)\n"
     ]
    },
    {
     "name": "stdout",
     "output_type": "stream",
     "text": [
      "Checking that lscc index is up-to-date...   \r"
     ]
    },
    {
     "name": "stderr",
     "output_type": "stream",
     "text": [
      "cptac warning: The HNSCC data is currently strictly reserved for CPTAC investigators. Otherwise, you are not authorized to access these data. Additionally, even after these data become publicly available, they will be subject to a publication embargo (see https://proteomics.cancer.gov/data-portal/about/data-use-agreement or enter cptac.embargo() to open the webpage for more details). (<ipython-input-13-0467c23f8dc0>, line 8)\n"
     ]
    },
    {
     "name": "stdout",
     "output_type": "stream",
     "text": [
      "                                         \r"
     ]
    },
    {
     "name": "stderr",
     "output_type": "stream",
     "text": [
      "cptac warning: The LSCC data is currently strictly reserved for CPTAC investigators. Otherwise, you are not authorized to access these data. Additionally, even after these data become publicly available, they will be subject to a publication embargo (see https://proteomics.cancer.gov/data-portal/about/data-use-agreement or enter cptac.embargo() to open the webpage for more details). (<ipython-input-13-0467c23f8dc0>, line 9)\n"
     ]
    }
   ],
   "source": [
    "brca = cptac.Brca()\n",
    "ccrcc = cptac.Ccrcc()\n",
    "colon = cptac.Colon()\n",
    "en = cptac.Endometrial()\n",
    "gbm = cptac.Gbm()\n",
    "luad = cptac.Luad()\n",
    "ovarian = cptac.Ovarian()\n",
    "hnscc  = cptac.Hnscc()\n",
    "lscc = cptac.Lscc()"
   ]
  },
  {
   "cell_type": "code",
   "execution_count": 14,
   "metadata": {},
   "outputs": [],
   "source": [
    "cancer_genes = ['ABL1','BRAF','FAT1','IDH1','TP53','BRCA2','KMT2D','KRAS','PIK3CA','PTEN','SETD2','SPTA1']\n",
    "cancer_list = [brca,ccrcc,colon,en,gbm,luad,ovarian,hnscc,lscc]"
   ]
  },
  {
   "cell_type": "code",
   "execution_count": null,
   "metadata": {},
   "outputs": [
    {
     "name": "stderr",
     "output_type": "stream",
     "text": [
      "cptac warning: You tried to flatten a column index that didn't have multiple levels, so we didn't actually change anything. (C:\\Users\\nanel\\anaconda3\\lib\\site-packages\\cptac\\dataset.py, line 697)\n",
      "cptac warning: You tried to flatten a column index that didn't have multiple levels, so we didn't actually change anything. (C:\\Users\\nanel\\anaconda3\\lib\\site-packages\\cptac\\dataset.py, line 697)\n",
      "cptac warning: You tried to flatten a column index that didn't have multiple levels, so we didn't actually change anything. (C:\\Users\\nanel\\anaconda3\\lib\\site-packages\\cptac\\dataset.py, line 697)\n",
      "cptac warning: You tried to flatten a column index that didn't have multiple levels, so we didn't actually change anything. (C:\\Users\\nanel\\anaconda3\\lib\\site-packages\\cptac\\dataset.py, line 697)\n",
      "cptac warning: You tried to flatten a column index that didn't have multiple levels, so we didn't actually change anything. (C:\\Users\\nanel\\anaconda3\\lib\\site-packages\\cptac\\dataset.py, line 697)\n",
      "cptac warning: You tried to flatten a column index that didn't have multiple levels, so we didn't actually change anything. (C:\\Users\\nanel\\anaconda3\\lib\\site-packages\\cptac\\dataset.py, line 697)\n",
      "cptac warning: You tried to flatten a column index that didn't have multiple levels, so we didn't actually change anything. (C:\\Users\\nanel\\anaconda3\\lib\\site-packages\\cptac\\dataset.py, line 697)\n",
      "cptac warning: You tried to flatten a column index that didn't have multiple levels, so we didn't actually change anything. (C:\\Users\\nanel\\anaconda3\\lib\\site-packages\\cptac\\dataset.py, line 697)\n",
      "cptac warning: You tried to flatten a column index that didn't have multiple levels, so we didn't actually change anything. (C:\\Users\\nanel\\anaconda3\\lib\\site-packages\\cptac\\dataset.py, line 697)\n",
      "cptac warning: You tried to flatten a column index that didn't have multiple levels, so we didn't actually change anything. (C:\\Users\\nanel\\anaconda3\\lib\\site-packages\\cptac\\dataset.py, line 697)\n",
      "cptac warning: The following columns were not found in the proteomics dataframe, so they were inserted into joined table, but filled with NaN: BRCA2 (<ipython-input-3-d98f306443a4>, line 3)\n",
      "cptac warning: You tried to flatten a column index that didn't have multiple levels, so we didn't actually change anything. (C:\\Users\\nanel\\anaconda3\\lib\\site-packages\\cptac\\dataset.py, line 697)\n",
      "cptac warning: The following columns were not found in the proteomics dataframe, so they were inserted into joined table, but filled with NaN: BRCA2 (<ipython-input-3-d98f306443a4>, line 4)\n",
      "cptac warning: You tried to flatten a column index that didn't have multiple levels, so we didn't actually change anything. (C:\\Users\\nanel\\anaconda3\\lib\\site-packages\\cptac\\dataset.py, line 697)\n",
      "cptac warning: The following columns were not found in the proteomics dataframe, so they were inserted into joined table, but filled with NaN: KMT2D (<ipython-input-3-d98f306443a4>, line 3)\n",
      "cptac warning: You tried to flatten a column index that didn't have multiple levels, so we didn't actually change anything. (C:\\Users\\nanel\\anaconda3\\lib\\site-packages\\cptac\\dataset.py, line 697)\n",
      "cptac warning: The following columns were not found in the proteomics dataframe, so they were inserted into joined table, but filled with NaN: KMT2D (<ipython-input-3-d98f306443a4>, line 4)\n",
      "cptac warning: You tried to flatten a column index that didn't have multiple levels, so we didn't actually change anything. (C:\\Users\\nanel\\anaconda3\\lib\\site-packages\\cptac\\dataset.py, line 697)\n",
      "cptac warning: You tried to flatten a column index that didn't have multiple levels, so we didn't actually change anything. (C:\\Users\\nanel\\anaconda3\\lib\\site-packages\\cptac\\dataset.py, line 697)\n",
      "cptac warning: You tried to flatten a column index that didn't have multiple levels, so we didn't actually change anything. (C:\\Users\\nanel\\anaconda3\\lib\\site-packages\\cptac\\dataset.py, line 697)\n",
      "cptac warning: You tried to flatten a column index that didn't have multiple levels, so we didn't actually change anything. (C:\\Users\\nanel\\anaconda3\\lib\\site-packages\\cptac\\dataset.py, line 697)\n",
      "cptac warning: You tried to flatten a column index that didn't have multiple levels, so we didn't actually change anything. (C:\\Users\\nanel\\anaconda3\\lib\\site-packages\\cptac\\dataset.py, line 697)\n",
      "cptac warning: You tried to flatten a column index that didn't have multiple levels, so we didn't actually change anything. (C:\\Users\\nanel\\anaconda3\\lib\\site-packages\\cptac\\dataset.py, line 697)\n",
      "cptac warning: You tried to flatten a column index that didn't have multiple levels, so we didn't actually change anything. (C:\\Users\\nanel\\anaconda3\\lib\\site-packages\\cptac\\dataset.py, line 697)\n",
      "cptac warning: The following columns were not found in the proteomics dataframe, so they were inserted into joined table, but filled with NaN: SETD2 (<ipython-input-3-d98f306443a4>, line 3)\n",
      "cptac warning: You tried to flatten a column index that didn't have multiple levels, so we didn't actually change anything. (C:\\Users\\nanel\\anaconda3\\lib\\site-packages\\cptac\\dataset.py, line 697)\n",
      "cptac warning: The following columns were not found in the proteomics dataframe, so they were inserted into joined table, but filled with NaN: SETD2 (<ipython-input-3-d98f306443a4>, line 4)\n",
      "cptac warning: You tried to flatten a column index that didn't have multiple levels, so we didn't actually change anything. (C:\\Users\\nanel\\anaconda3\\lib\\site-packages\\cptac\\dataset.py, line 697)\n",
      "cptac warning: The following columns were not found in the transcriptomics dataframe, so they were inserted into joined table, but filled with NaN: SPTA1 (<ipython-input-3-d98f306443a4>, line 3)\n",
      "cptac warning: You tried to flatten a column index that didn't have multiple levels, so we didn't actually change anything. (C:\\Users\\nanel\\anaconda3\\lib\\site-packages\\cptac\\dataset.py, line 697)\n",
      "cptac warning: The following columns were not found in the transcriptomics dataframe, so they were inserted into joined table, but filled with NaN: SPTA1 (<ipython-input-3-d98f306443a4>, line 4)\n",
      "cptac warning: You tried to flatten a column index that didn't have multiple levels, so we didn't actually change anything. (C:\\Users\\nanel\\anaconda3\\lib\\site-packages\\cptac\\dataset.py, line 697)\n",
      "cptac warning: You tried to flatten a column index that didn't have multiple levels, so we didn't actually change anything. (C:\\Users\\nanel\\anaconda3\\lib\\site-packages\\cptac\\dataset.py, line 697)\n",
      "cptac warning: You tried to flatten a column index that didn't have multiple levels, so we didn't actually change anything. (C:\\Users\\nanel\\anaconda3\\lib\\site-packages\\cptac\\dataset.py, line 697)\n",
      "cptac warning: You tried to flatten a column index that didn't have multiple levels, so we didn't actually change anything. (C:\\Users\\nanel\\anaconda3\\lib\\site-packages\\cptac\\dataset.py, line 697)\n",
      "cptac warning: You tried to flatten a column index that didn't have multiple levels, so we didn't actually change anything. (C:\\Users\\nanel\\anaconda3\\lib\\site-packages\\cptac\\dataset.py, line 697)\n",
      "cptac warning: You tried to flatten a column index that didn't have multiple levels, so we didn't actually change anything. (C:\\Users\\nanel\\anaconda3\\lib\\site-packages\\cptac\\dataset.py, line 697)\n",
      "cptac warning: You tried to flatten a column index that didn't have multiple levels, so we didn't actually change anything. (C:\\Users\\nanel\\anaconda3\\lib\\site-packages\\cptac\\dataset.py, line 697)\n",
      "cptac warning: You tried to flatten a column index that didn't have multiple levels, so we didn't actually change anything. (C:\\Users\\nanel\\anaconda3\\lib\\site-packages\\cptac\\dataset.py, line 697)\n",
      "cptac warning: You tried to flatten a column index that didn't have multiple levels, so we didn't actually change anything. (C:\\Users\\nanel\\anaconda3\\lib\\site-packages\\cptac\\dataset.py, line 697)\n",
      "cptac warning: The following columns were not found in the proteomics dataframe, so they were inserted into joined table, but filled with NaN: BRCA2 (<ipython-input-3-d98f306443a4>, line 3)\n",
      "cptac warning: You tried to flatten a column index that didn't have multiple levels, so we didn't actually change anything. (C:\\Users\\nanel\\anaconda3\\lib\\site-packages\\cptac\\dataset.py, line 697)\n",
      "cptac warning: The following columns were not found in the proteomics dataframe, so they were inserted into joined table, but filled with NaN: BRCA2 (<ipython-input-3-d98f306443a4>, line 4)\n",
      "cptac warning: You tried to flatten a column index that didn't have multiple levels, so we didn't actually change anything. (C:\\Users\\nanel\\anaconda3\\lib\\site-packages\\cptac\\dataset.py, line 697)\n"
     ]
    },
    {
     "name": "stderr",
     "output_type": "stream",
     "text": [
      "cptac warning: You tried to flatten a column index that didn't have multiple levels, so we didn't actually change anything. (C:\\Users\\nanel\\anaconda3\\lib\\site-packages\\cptac\\dataset.py, line 697)\n",
      "cptac warning: You tried to flatten a column index that didn't have multiple levels, so we didn't actually change anything. (C:\\Users\\nanel\\anaconda3\\lib\\site-packages\\cptac\\dataset.py, line 697)\n",
      "cptac warning: You tried to flatten a column index that didn't have multiple levels, so we didn't actually change anything. (C:\\Users\\nanel\\anaconda3\\lib\\site-packages\\cptac\\dataset.py, line 697)\n",
      "cptac warning: You tried to flatten a column index that didn't have multiple levels, so we didn't actually change anything. (C:\\Users\\nanel\\anaconda3\\lib\\site-packages\\cptac\\dataset.py, line 697)\n",
      "cptac warning: You tried to flatten a column index that didn't have multiple levels, so we didn't actually change anything. (C:\\Users\\nanel\\anaconda3\\lib\\site-packages\\cptac\\dataset.py, line 697)\n",
      "cptac warning: You tried to flatten a column index that didn't have multiple levels, so we didn't actually change anything. (C:\\Users\\nanel\\anaconda3\\lib\\site-packages\\cptac\\dataset.py, line 697)\n",
      "cptac warning: You tried to flatten a column index that didn't have multiple levels, so we didn't actually change anything. (C:\\Users\\nanel\\anaconda3\\lib\\site-packages\\cptac\\dataset.py, line 697)\n",
      "cptac warning: You tried to flatten a column index that didn't have multiple levels, so we didn't actually change anything. (C:\\Users\\nanel\\anaconda3\\lib\\site-packages\\cptac\\dataset.py, line 697)\n",
      "cptac warning: You tried to flatten a column index that didn't have multiple levels, so we didn't actually change anything. (C:\\Users\\nanel\\anaconda3\\lib\\site-packages\\cptac\\dataset.py, line 697)\n",
      "cptac warning: You tried to flatten a column index that didn't have multiple levels, so we didn't actually change anything. (C:\\Users\\nanel\\anaconda3\\lib\\site-packages\\cptac\\dataset.py, line 697)\n",
      "cptac warning: You tried to flatten a column index that didn't have multiple levels, so we didn't actually change anything. (C:\\Users\\nanel\\anaconda3\\lib\\site-packages\\cptac\\dataset.py, line 697)\n",
      "cptac warning: You tried to flatten a column index that didn't have multiple levels, so we didn't actually change anything. (C:\\Users\\nanel\\anaconda3\\lib\\site-packages\\cptac\\dataset.py, line 697)\n",
      "cptac warning: The following columns were not found in the proteomics dataframe, so they were inserted into joined table, but filled with NaN: BRCA2 (<ipython-input-3-d98f306443a4>, line 3)\n",
      "cptac warning: The following columns were not found in the proteomics dataframe, so they were inserted into joined table, but filled with NaN: ABL1 (<ipython-input-3-d98f306443a4>, line 3)\n",
      "cptac warning: The following columns were not found in the proteomics dataframe, so they were inserted into joined table, but filled with NaN: ABL1 (<ipython-input-3-d98f306443a4>, line 4)\n",
      "cptac warning: The following columns were not found in the proteomics dataframe, so they were inserted into joined table, but filled with NaN: SETD2 (<ipython-input-3-d98f306443a4>, line 3)\n",
      "cptac warning: The following columns were not found in the proteomics dataframe, so they were inserted into joined table, but filled with NaN: SETD2 (<ipython-input-3-d98f306443a4>, line 4)\n",
      "cptac warning: The following columns were not found in the proteomics dataframe, so they were inserted into joined table, but filled with NaN: BRCA2 (<ipython-input-3-d98f306443a4>, line 3)\n",
      "cptac warning: The following columns were not found in the proteomics dataframe, so they were inserted into joined table, but filled with NaN: BRCA2 (<ipython-input-3-d98f306443a4>, line 4)\n",
      "cptac warning: You tried to flatten a column index that didn't have multiple levels, so we didn't actually change anything. (C:\\Users\\nanel\\anaconda3\\lib\\site-packages\\cptac\\dataset.py, line 697)\n",
      "cptac warning: You tried to flatten a column index that didn't have multiple levels, so we didn't actually change anything. (C:\\Users\\nanel\\anaconda3\\lib\\site-packages\\cptac\\dataset.py, line 697)\n",
      "cptac warning: You tried to flatten a column index that didn't have multiple levels, so we didn't actually change anything. (C:\\Users\\nanel\\anaconda3\\lib\\site-packages\\cptac\\dataset.py, line 697)\n",
      "cptac warning: You tried to flatten a column index that didn't have multiple levels, so we didn't actually change anything. (C:\\Users\\nanel\\anaconda3\\lib\\site-packages\\cptac\\dataset.py, line 697)\n",
      "cptac warning: You tried to flatten a column index that didn't have multiple levels, so we didn't actually change anything. (C:\\Users\\nanel\\anaconda3\\lib\\site-packages\\cptac\\dataset.py, line 697)\n",
      "cptac warning: You tried to flatten a column index that didn't have multiple levels, so we didn't actually change anything. (C:\\Users\\nanel\\anaconda3\\lib\\site-packages\\cptac\\dataset.py, line 697)\n",
      "cptac warning: You tried to flatten a column index that didn't have multiple levels, so we didn't actually change anything. (C:\\Users\\nanel\\anaconda3\\lib\\site-packages\\cptac\\dataset.py, line 697)\n",
      "cptac warning: You tried to flatten a column index that didn't have multiple levels, so we didn't actually change anything. (C:\\Users\\nanel\\anaconda3\\lib\\site-packages\\cptac\\dataset.py, line 697)\n",
      "cptac warning: You tried to flatten a column index that didn't have multiple levels, so we didn't actually change anything. (C:\\Users\\nanel\\anaconda3\\lib\\site-packages\\cptac\\dataset.py, line 697)\n",
      "cptac warning: You tried to flatten a column index that didn't have multiple levels, so we didn't actually change anything. (C:\\Users\\nanel\\anaconda3\\lib\\site-packages\\cptac\\dataset.py, line 697)\n",
      "cptac warning: You tried to flatten a column index that didn't have multiple levels, so we didn't actually change anything. (C:\\Users\\nanel\\anaconda3\\lib\\site-packages\\cptac\\dataset.py, line 697)\n",
      "cptac warning: You tried to flatten a column index that didn't have multiple levels, so we didn't actually change anything. (C:\\Users\\nanel\\anaconda3\\lib\\site-packages\\cptac\\dataset.py, line 697)\n",
      "cptac warning: You tried to flatten a column index that didn't have multiple levels, so we didn't actually change anything. (C:\\Users\\nanel\\anaconda3\\lib\\site-packages\\cptac\\dataset.py, line 697)\n",
      "cptac warning: You tried to flatten a column index that didn't have multiple levels, so we didn't actually change anything. (C:\\Users\\nanel\\anaconda3\\lib\\site-packages\\cptac\\dataset.py, line 697)\n",
      "cptac warning: You tried to flatten a column index that didn't have multiple levels, so we didn't actually change anything. (C:\\Users\\nanel\\anaconda3\\lib\\site-packages\\cptac\\dataset.py, line 697)\n",
      "cptac warning: You tried to flatten a column index that didn't have multiple levels, so we didn't actually change anything. (C:\\Users\\nanel\\anaconda3\\lib\\site-packages\\cptac\\dataset.py, line 697)\n",
      "cptac warning: You tried to flatten a column index that didn't have multiple levels, so we didn't actually change anything. (C:\\Users\\nanel\\anaconda3\\lib\\site-packages\\cptac\\dataset.py, line 697)\n",
      "cptac warning: You tried to flatten a column index that didn't have multiple levels, so we didn't actually change anything. (C:\\Users\\nanel\\anaconda3\\lib\\site-packages\\cptac\\dataset.py, line 697)\n",
      "cptac warning: You tried to flatten a column index that didn't have multiple levels, so we didn't actually change anything. (C:\\Users\\nanel\\anaconda3\\lib\\site-packages\\cptac\\dataset.py, line 697)\n",
      "cptac warning: You tried to flatten a column index that didn't have multiple levels, so we didn't actually change anything. (C:\\Users\\nanel\\anaconda3\\lib\\site-packages\\cptac\\dataset.py, line 697)\n",
      "cptac warning: You tried to flatten a column index that didn't have multiple levels, so we didn't actually change anything. (C:\\Users\\nanel\\anaconda3\\lib\\site-packages\\cptac\\dataset.py, line 697)\n",
      "cptac warning: You tried to flatten a column index that didn't have multiple levels, so we didn't actually change anything. (C:\\Users\\nanel\\anaconda3\\lib\\site-packages\\cptac\\dataset.py, line 697)\n"
     ]
    }
   ],
   "source": [
    "cancer_type = []\n",
    "genes = []\n",
    "gene_dfs = []\n",
    "norm_corr = []\n",
    "wt_corr = []\n",
    "for cancer in cancer_list:\n",
    "    for gene in cancer_genes:\n",
    "        if gene == 'KRAS' and cancer == ccrcc:\n",
    "            continue\n",
    "        df = find_mut_tumor(cancer, gene)\n",
    "        if type(df) == pd.DataFrame:\n",
    "            genes.append(gene)\n",
    "            cancer_type.append(get_cancer_string(cancer))\n",
    "            gene_dfs.append(df)\n",
    "            norm_df = get_df_with_type(df,\"normal\")\n",
    "            wt_df = get_df_with_type(df, 'wt')\n",
    "            norm_cor = norm_df.corr(method=\"pearson\")['Transcriptomics'][0]\n",
    "            wt_cor = wt_df.corr(method=\"pearson\")['Transcriptomics'][0]\n",
    "            norm_corr.append(norm_cor)\n",
    "            wt_corr.append(wt_cor)\n",
    "norm_vs_wt_tumor = pd.DataFrame({'cancer': cancer_type, 'gene': genes, 'gene_df': gene_dfs,'normal_correlation': norm_corr, 'tumor_non-mutated_correlation': wt_corr})\n",
    "norm_vs_wt_tumor.head()           \n"
   ]
  },
  {
   "cell_type": "code",
   "execution_count": null,
   "metadata": {},
   "outputs": [],
   "source": [
    "norm_vs_wt_tumor = norm_vs_wt_tumor.assign(corr_dif = abs(norm_vs_wt_tumor['normal_correlation'] - norm_vs_wt_tumor['tumor_non-mutated_correlation']))\n",
    "norm_vs_wt_tumor.head()"
   ]
  },
  {
   "cell_type": "code",
   "execution_count": null,
   "metadata": {},
   "outputs": [],
   "source": [
    "norm_vs_wt_tumor = norm_vs_wt_tumor.sort_values(by = 'corr_dif', ascending=False, ignore_index=True)\n",
    "norm_vs_wt_tumor.head()"
   ]
  },
  {
   "cell_type": "code",
   "execution_count": null,
   "metadata": {},
   "outputs": [],
   "source": [
    "for index, df in enumerate(norm_vs_wt_tumor['gene_df']):\n",
    "    \n",
    "    is_norm = df['Type']=='normal'\n",
    "    is_tum = df['Type'] == 'wt'\n",
    "    is_mut = df['Type'] == 'mutation'\n",
    "    ax = sns.regplot(x = 'Proteomics', y = 'Transcriptomics', data = df[is_norm], label = \"Normal\")\n",
    "    ax = sns.regplot(x = 'Proteomics', y = 'Transcriptomics', data = df[is_tum], label = 'Non-mutated Tumor')\n",
    "    ax = sns.regplot(x = 'Proteomics', y = 'Transcriptomics', data = df[is_mut], label = 'Mutated Tumor')\n",
    "    ax.legend(loc = 'best')\n",
    "    plt.title(str(norm_vs_wt_tumor['cancer'][index] + ' | ' + norm_vs_wt_tumor['gene'][index]))\n",
    "    plt.show()"
   ]
  }
 ],
 "metadata": {
  "kernelspec": {
   "display_name": "Python 3",
   "language": "python",
   "name": "python3"
  },
  "language_info": {
   "codemirror_mode": {
    "name": "ipython",
    "version": 3
   },
   "file_extension": ".py",
   "mimetype": "text/x-python",
   "name": "python",
   "nbconvert_exporter": "python",
   "pygments_lexer": "ipython3",
   "version": "3.8.3"
  }
 },
 "nbformat": 4,
 "nbformat_minor": 4
}
