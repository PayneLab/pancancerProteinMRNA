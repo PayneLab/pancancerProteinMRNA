{
 "cells": [
  {
   "cell_type": "markdown",
   "metadata": {},
   "source": [
    "# Step 1: Import CPTAC Data and Define Correlation Functions"
   ]
  },
  {
   "cell_type": "code",
   "execution_count": 1,
   "metadata": {},
   "outputs": [],
   "source": [
    "import cptac\n",
    "import cptac.utils as ut\n",
    "import scipy\n",
    "import seaborn as sns\n",
    "import matplotlib.pyplot as plt\n",
    "import numpy as np\n",
    "import math\n",
    "import pandas as pd\n",
    "import statistics as st\n",
    "import load_data\n",
    "import get_correlations"
   ]
  },
  {
   "cell_type": "code",
   "execution_count": 2,
   "metadata": {},
   "outputs": [],
   "source": [
    "#Make docstrings for what is required\n",
    "def get_single_gene_correlations(gene, cancer_type_list,type_dict,input_tissue_type = \"tumor\"):\n",
    "    correlation_list = []\n",
    "    type_list = []\n",
    "    cancer_index = 0\n",
    "    for cancer in cancer_type_list:\n",
    "        correlation = get_correlations.correlation_list(cancer, [gene],tissue_type = input_tissue_type)[0]\n",
    "        if len(correlation) == 0:\n",
    "            continue\n",
    "        else:\n",
    "            correlation_list.append(correlation[0])\n",
    "            type_list.append(type_dict[cancer])\n",
    "        cancer_index += 1\n",
    "    return correlation_list, type_list"
   ]
  },
  {
   "cell_type": "code",
   "execution_count": 3,
   "metadata": {},
   "outputs": [],
   "source": [
    "def make_df_with_genes(gene_list,cancer_list,name_dict,tissue_type):\n",
    "    all_genes = []\n",
    "    all_correlations = []\n",
    "    all_cancer_types = []\n",
    "    for gene in gene_list:\n",
    "        gene_corr_list,type_list = get_single_gene_correlations(gene,cancer_list,name_dict,tissue_type)\n",
    "        gene_x,gene_y = get_x_y(gene_corr_list)\n",
    "        all_genes.extend(gene_x)\n",
    "        all_correlations.extend(gene_y)\n",
    "        all_cancer_types.extend(type_list)\n",
    "    df = pd.DataFrame(list(zip(all_genes,all_correlations,all_cancer_types)), columns =['Gene', 'Correlation','Cancer Type'])\n",
    "    return(df)"
   ]
  },
  {
   "cell_type": "code",
   "execution_count": 4,
   "metadata": {},
   "outputs": [],
   "source": [
    "def get_x_y(correlation_list):\n",
    "    x = []\n",
    "    y = []\n",
    "    for item in correlation_list:\n",
    "        x.append(item[0])\n",
    "        y.append(item[1])\n",
    "    return x,y"
   ]
  },
  {
   "cell_type": "markdown",
   "metadata": {},
   "source": [
    "# Step 2: Define Desired Cancer Types"
   ]
  },
  {
   "cell_type": "code",
   "execution_count": 5,
   "metadata": {},
   "outputs": [
    {
     "name": "stdout",
     "output_type": "stream",
     "text": [
      "Checking that luad index is up-to-date...       \r"
     ]
    },
    {
     "name": "stderr",
     "output_type": "stream",
     "text": [
      "cptac warning: The GBM dataset is under publication embargo until March 01, 2021. CPTAC is a community resource project and data are made available rapidly after generation for community research use. The embargo allows exploring and utilizing the data, but analysis may not be published until after the embargo date. Please see https://proteomics.cancer.gov/data-portal/about/data-use-agreement or enter cptac.embargo() to open the webpage for more details. (/Users/benkk/anaconda3/envs/cptac_dev/lib/python3.7/site-packages/ipykernel_launcher.py, line 5)\n"
     ]
    },
    {
     "name": "stdout",
     "output_type": "stream",
     "text": [
      "Checking that lscc index is up-to-date...   \r"
     ]
    },
    {
     "name": "stderr",
     "output_type": "stream",
     "text": [
      "cptac warning: The HNSCC data is currently strictly reserved for CPTAC investigators. Otherwise, you are not authorized to access these data. Additionally, even after these data become publicly available, they will be subject to a publication embargo (see https://proteomics.cancer.gov/data-portal/about/data-use-agreement or enter cptac.embargo() to open the webpage for more details). (/Users/benkk/anaconda3/envs/cptac_dev/lib/python3.7/site-packages/ipykernel_launcher.py, line 8)\n"
     ]
    },
    {
     "name": "stdout",
     "output_type": "stream",
     "text": [
      "                                         \r"
     ]
    },
    {
     "name": "stderr",
     "output_type": "stream",
     "text": [
      "cptac warning: The LSCC data is currently strictly reserved for CPTAC investigators. Otherwise, you are not authorized to access these data. Additionally, even after these data become publicly available, they will be subject to a publication embargo (see https://proteomics.cancer.gov/data-portal/about/data-use-agreement or enter cptac.embargo() to open the webpage for more details). (/Users/benkk/anaconda3/envs/cptac_dev/lib/python3.7/site-packages/ipykernel_launcher.py, line 9)\n"
     ]
    }
   ],
   "source": [
    "brca = cptac.Brca()\n",
    "ccrcc = cptac.Ccrcc()\n",
    "colon = cptac.Colon()\n",
    "en = cptac.Endometrial()\n",
    "gbm = cptac.Gbm()\n",
    "luad = cptac.Luad()\n",
    "ovarian = cptac.Ovarian()\n",
    "hnscc  = cptac.Hnscc()\n",
    "lscc = cptac.Lscc()"
   ]
  },
  {
   "cell_type": "code",
   "execution_count": 6,
   "metadata": {},
   "outputs": [],
   "source": [
    "cancer_list = [brca,ccrcc,colon,en,gbm,luad,ovarian,hnscc,lscc]"
   ]
  },
  {
   "cell_type": "code",
   "execution_count": 7,
   "metadata": {},
   "outputs": [],
   "source": [
    "type_dict = {brca:\"brca\",ccrcc:\"ccrcc\",colon:\"colon\",en:\"endometrial\",gbm:\"gbm\",luad:\"luad\",\n",
    "                  ovarian:\"ovarian\",hnscc:\"hnscc\",lscc:\"lscc\"}"
   ]
  },
  {
   "cell_type": "markdown",
   "metadata": {},
   "source": [
    "# Step 3: Pick Genes and Make Dataframe"
   ]
  },
  {
   "cell_type": "markdown",
   "metadata": {},
   "source": [
    "The genes shown here were picked from Bailey et al. found [here](https://pubmed.ncbi.nlm.nih.gov/29625053/)"
   ]
  },
  {
   "cell_type": "code",
   "execution_count": 8,
   "metadata": {},
   "outputs": [],
   "source": [
    "gene_list = ['ABL1','BRAF','FAT1','IDH1','TP53','BRCA2','KMT2D','KRAS','PIK3CA','PTEN','SETD2','SPTA1']"
   ]
  },
  {
   "cell_type": "code",
   "execution_count": 9,
   "metadata": {},
   "outputs": [
    {
     "name": "stderr",
     "output_type": "stream",
     "text": [
      "cptac warning: Due to dropping the specified levels, dataframe now has 655 duplicated column headers. (/Users/benkk/Documents/GitHub/pancancerProteinMRNA/notebook_steps/get_correlations.py, line 16)\n",
      "cptac warning: Due to dropping the specified levels, dataframe now has 907 duplicated column headers. (/Users/benkk/Documents/GitHub/pancancerProteinMRNA/notebook_steps/get_correlations.py, line 16)\n",
      "cptac warning: Due to dropping the specified levels, dataframe now has 2495 duplicated column headers. (/Users/benkk/Documents/GitHub/pancancerProteinMRNA/notebook_steps/get_correlations.py, line 20)\n",
      "cptac warning: Due to dropping the specified levels, dataframe now has 745 duplicated column headers. (/Users/benkk/Documents/GitHub/pancancerProteinMRNA/notebook_steps/get_correlations.py, line 16)\n",
      "cptac warning: Due to dropping the specified levels, dataframe now has 1162 duplicated column headers. (/Users/benkk/Documents/GitHub/pancancerProteinMRNA/notebook_steps/get_correlations.py, line 16)\n",
      "cptac warning: Due to dropping the specified levels, dataframe now has 858 duplicated column headers. (/Users/benkk/Documents/GitHub/pancancerProteinMRNA/notebook_steps/get_correlations.py, line 16)\n",
      "cptac warning: Due to dropping the specified levels, dataframe now has 655 duplicated column headers. (/Users/benkk/Documents/GitHub/pancancerProteinMRNA/notebook_steps/get_correlations.py, line 16)\n",
      "cptac warning: Due to dropping the specified levels, dataframe now has 907 duplicated column headers. (/Users/benkk/Documents/GitHub/pancancerProteinMRNA/notebook_steps/get_correlations.py, line 16)\n",
      "cptac warning: Due to dropping the specified levels, dataframe now has 2495 duplicated column headers. (/Users/benkk/Documents/GitHub/pancancerProteinMRNA/notebook_steps/get_correlations.py, line 20)\n",
      "cptac warning: Due to dropping the specified levels, dataframe now has 745 duplicated column headers. (/Users/benkk/Documents/GitHub/pancancerProteinMRNA/notebook_steps/get_correlations.py, line 16)\n",
      "cptac warning: Due to dropping the specified levels, dataframe now has 1162 duplicated column headers. (/Users/benkk/Documents/GitHub/pancancerProteinMRNA/notebook_steps/get_correlations.py, line 16)\n",
      "cptac warning: Due to dropping the specified levels, dataframe now has 858 duplicated column headers. (/Users/benkk/Documents/GitHub/pancancerProteinMRNA/notebook_steps/get_correlations.py, line 16)\n",
      "cptac warning: Due to dropping the specified levels, dataframe now has 655 duplicated column headers. (/Users/benkk/Documents/GitHub/pancancerProteinMRNA/notebook_steps/get_correlations.py, line 16)\n",
      "cptac warning: Due to dropping the specified levels, dataframe now has 907 duplicated column headers. (/Users/benkk/Documents/GitHub/pancancerProteinMRNA/notebook_steps/get_correlations.py, line 16)\n",
      "cptac warning: Due to dropping the specified levels, dataframe now has 2495 duplicated column headers. (/Users/benkk/Documents/GitHub/pancancerProteinMRNA/notebook_steps/get_correlations.py, line 20)\n",
      "cptac warning: Due to dropping the specified levels, dataframe now has 745 duplicated column headers. (/Users/benkk/Documents/GitHub/pancancerProteinMRNA/notebook_steps/get_correlations.py, line 16)\n",
      "cptac warning: Due to dropping the specified levels, dataframe now has 1162 duplicated column headers. (/Users/benkk/Documents/GitHub/pancancerProteinMRNA/notebook_steps/get_correlations.py, line 16)\n",
      "cptac warning: Due to dropping the specified levels, dataframe now has 858 duplicated column headers. (/Users/benkk/Documents/GitHub/pancancerProteinMRNA/notebook_steps/get_correlations.py, line 16)\n",
      "cptac warning: Due to dropping the specified levels, dataframe now has 655 duplicated column headers. (/Users/benkk/Documents/GitHub/pancancerProteinMRNA/notebook_steps/get_correlations.py, line 16)\n",
      "cptac warning: Due to dropping the specified levels, dataframe now has 907 duplicated column headers. (/Users/benkk/Documents/GitHub/pancancerProteinMRNA/notebook_steps/get_correlations.py, line 16)\n",
      "cptac warning: Due to dropping the specified levels, dataframe now has 2495 duplicated column headers. (/Users/benkk/Documents/GitHub/pancancerProteinMRNA/notebook_steps/get_correlations.py, line 20)\n",
      "cptac warning: Due to dropping the specified levels, dataframe now has 745 duplicated column headers. (/Users/benkk/Documents/GitHub/pancancerProteinMRNA/notebook_steps/get_correlations.py, line 16)\n",
      "cptac warning: Due to dropping the specified levels, dataframe now has 1162 duplicated column headers. (/Users/benkk/Documents/GitHub/pancancerProteinMRNA/notebook_steps/get_correlations.py, line 16)\n",
      "cptac warning: Due to dropping the specified levels, dataframe now has 858 duplicated column headers. (/Users/benkk/Documents/GitHub/pancancerProteinMRNA/notebook_steps/get_correlations.py, line 16)\n",
      "cptac warning: Due to dropping the specified levels, dataframe now has 655 duplicated column headers. (/Users/benkk/Documents/GitHub/pancancerProteinMRNA/notebook_steps/get_correlations.py, line 16)\n",
      "cptac warning: Due to dropping the specified levels, dataframe now has 907 duplicated column headers. (/Users/benkk/Documents/GitHub/pancancerProteinMRNA/notebook_steps/get_correlations.py, line 16)\n",
      "cptac warning: Due to dropping the specified levels, dataframe now has 2495 duplicated column headers. (/Users/benkk/Documents/GitHub/pancancerProteinMRNA/notebook_steps/get_correlations.py, line 20)\n",
      "cptac warning: Due to dropping the specified levels, dataframe now has 745 duplicated column headers. (/Users/benkk/Documents/GitHub/pancancerProteinMRNA/notebook_steps/get_correlations.py, line 16)\n",
      "cptac warning: Due to dropping the specified levels, dataframe now has 1162 duplicated column headers. (/Users/benkk/Documents/GitHub/pancancerProteinMRNA/notebook_steps/get_correlations.py, line 16)\n",
      "cptac warning: Due to dropping the specified levels, dataframe now has 858 duplicated column headers. (/Users/benkk/Documents/GitHub/pancancerProteinMRNA/notebook_steps/get_correlations.py, line 16)\n",
      "cptac warning: Due to dropping the specified levels, dataframe now has 655 duplicated column headers. (/Users/benkk/Documents/GitHub/pancancerProteinMRNA/notebook_steps/get_correlations.py, line 16)\n",
      "cptac warning: Due to dropping the specified levels, dataframe now has 907 duplicated column headers. (/Users/benkk/Documents/GitHub/pancancerProteinMRNA/notebook_steps/get_correlations.py, line 16)\n",
      "cptac warning: Due to dropping the specified levels, dataframe now has 2495 duplicated column headers. (/Users/benkk/Documents/GitHub/pancancerProteinMRNA/notebook_steps/get_correlations.py, line 20)\n",
      "cptac warning: Due to dropping the specified levels, dataframe now has 745 duplicated column headers. (/Users/benkk/Documents/GitHub/pancancerProteinMRNA/notebook_steps/get_correlations.py, line 16)\n",
      "cptac warning: Due to dropping the specified levels, dataframe now has 1162 duplicated column headers. (/Users/benkk/Documents/GitHub/pancancerProteinMRNA/notebook_steps/get_correlations.py, line 16)\n",
      "cptac warning: Due to dropping the specified levels, dataframe now has 858 duplicated column headers. (/Users/benkk/Documents/GitHub/pancancerProteinMRNA/notebook_steps/get_correlations.py, line 16)\n",
      "cptac warning: Due to dropping the specified levels, dataframe now has 655 duplicated column headers. (/Users/benkk/Documents/GitHub/pancancerProteinMRNA/notebook_steps/get_correlations.py, line 16)\n",
      "cptac warning: Due to dropping the specified levels, dataframe now has 907 duplicated column headers. (/Users/benkk/Documents/GitHub/pancancerProteinMRNA/notebook_steps/get_correlations.py, line 16)\n",
      "cptac warning: Due to dropping the specified levels, dataframe now has 2495 duplicated column headers. (/Users/benkk/Documents/GitHub/pancancerProteinMRNA/notebook_steps/get_correlations.py, line 20)\n",
      "cptac warning: Due to dropping the specified levels, dataframe now has 745 duplicated column headers. (/Users/benkk/Documents/GitHub/pancancerProteinMRNA/notebook_steps/get_correlations.py, line 16)\n",
      "cptac warning: Due to dropping the specified levels, dataframe now has 1162 duplicated column headers. (/Users/benkk/Documents/GitHub/pancancerProteinMRNA/notebook_steps/get_correlations.py, line 16)\n",
      "cptac warning: Due to dropping the specified levels, dataframe now has 858 duplicated column headers. (/Users/benkk/Documents/GitHub/pancancerProteinMRNA/notebook_steps/get_correlations.py, line 16)\n",
      "cptac warning: Due to dropping the specified levels, dataframe now has 655 duplicated column headers. (/Users/benkk/Documents/GitHub/pancancerProteinMRNA/notebook_steps/get_correlations.py, line 16)\n",
      "cptac warning: Due to dropping the specified levels, dataframe now has 907 duplicated column headers. (/Users/benkk/Documents/GitHub/pancancerProteinMRNA/notebook_steps/get_correlations.py, line 16)\n"
     ]
    },
    {
     "name": "stderr",
     "output_type": "stream",
     "text": [
      "cptac warning: Due to dropping the specified levels, dataframe now has 2495 duplicated column headers. (/Users/benkk/Documents/GitHub/pancancerProteinMRNA/notebook_steps/get_correlations.py, line 20)\n",
      "cptac warning: Due to dropping the specified levels, dataframe now has 745 duplicated column headers. (/Users/benkk/Documents/GitHub/pancancerProteinMRNA/notebook_steps/get_correlations.py, line 16)\n",
      "cptac warning: Due to dropping the specified levels, dataframe now has 1162 duplicated column headers. (/Users/benkk/Documents/GitHub/pancancerProteinMRNA/notebook_steps/get_correlations.py, line 16)\n",
      "cptac warning: Due to dropping the specified levels, dataframe now has 858 duplicated column headers. (/Users/benkk/Documents/GitHub/pancancerProteinMRNA/notebook_steps/get_correlations.py, line 16)\n",
      "cptac warning: Due to dropping the specified levels, dataframe now has 655 duplicated column headers. (/Users/benkk/Documents/GitHub/pancancerProteinMRNA/notebook_steps/get_correlations.py, line 16)\n",
      "cptac warning: Due to dropping the specified levels, dataframe now has 907 duplicated column headers. (/Users/benkk/Documents/GitHub/pancancerProteinMRNA/notebook_steps/get_correlations.py, line 16)\n",
      "cptac warning: Due to dropping the specified levels, dataframe now has 2495 duplicated column headers. (/Users/benkk/Documents/GitHub/pancancerProteinMRNA/notebook_steps/get_correlations.py, line 20)\n",
      "cptac warning: Due to dropping the specified levels, dataframe now has 745 duplicated column headers. (/Users/benkk/Documents/GitHub/pancancerProteinMRNA/notebook_steps/get_correlations.py, line 16)\n",
      "cptac warning: Due to dropping the specified levels, dataframe now has 1162 duplicated column headers. (/Users/benkk/Documents/GitHub/pancancerProteinMRNA/notebook_steps/get_correlations.py, line 16)\n",
      "cptac warning: Due to dropping the specified levels, dataframe now has 858 duplicated column headers. (/Users/benkk/Documents/GitHub/pancancerProteinMRNA/notebook_steps/get_correlations.py, line 16)\n",
      "cptac warning: Due to dropping the specified levels, dataframe now has 655 duplicated column headers. (/Users/benkk/Documents/GitHub/pancancerProteinMRNA/notebook_steps/get_correlations.py, line 16)\n",
      "cptac warning: Due to dropping the specified levels, dataframe now has 907 duplicated column headers. (/Users/benkk/Documents/GitHub/pancancerProteinMRNA/notebook_steps/get_correlations.py, line 16)\n",
      "cptac warning: Due to dropping the specified levels, dataframe now has 2495 duplicated column headers. (/Users/benkk/Documents/GitHub/pancancerProteinMRNA/notebook_steps/get_correlations.py, line 20)\n",
      "cptac warning: Due to dropping the specified levels, dataframe now has 745 duplicated column headers. (/Users/benkk/Documents/GitHub/pancancerProteinMRNA/notebook_steps/get_correlations.py, line 16)\n",
      "cptac warning: Due to dropping the specified levels, dataframe now has 1162 duplicated column headers. (/Users/benkk/Documents/GitHub/pancancerProteinMRNA/notebook_steps/get_correlations.py, line 16)\n",
      "cptac warning: Due to dropping the specified levels, dataframe now has 858 duplicated column headers. (/Users/benkk/Documents/GitHub/pancancerProteinMRNA/notebook_steps/get_correlations.py, line 16)\n",
      "cptac warning: Due to dropping the specified levels, dataframe now has 655 duplicated column headers. (/Users/benkk/Documents/GitHub/pancancerProteinMRNA/notebook_steps/get_correlations.py, line 16)\n",
      "cptac warning: Due to dropping the specified levels, dataframe now has 907 duplicated column headers. (/Users/benkk/Documents/GitHub/pancancerProteinMRNA/notebook_steps/get_correlations.py, line 16)\n",
      "cptac warning: Due to dropping the specified levels, dataframe now has 2495 duplicated column headers. (/Users/benkk/Documents/GitHub/pancancerProteinMRNA/notebook_steps/get_correlations.py, line 20)\n",
      "cptac warning: Due to dropping the specified levels, dataframe now has 745 duplicated column headers. (/Users/benkk/Documents/GitHub/pancancerProteinMRNA/notebook_steps/get_correlations.py, line 16)\n",
      "cptac warning: Due to dropping the specified levels, dataframe now has 1162 duplicated column headers. (/Users/benkk/Documents/GitHub/pancancerProteinMRNA/notebook_steps/get_correlations.py, line 16)\n",
      "cptac warning: Due to dropping the specified levels, dataframe now has 858 duplicated column headers. (/Users/benkk/Documents/GitHub/pancancerProteinMRNA/notebook_steps/get_correlations.py, line 16)\n",
      "cptac warning: Due to dropping the specified levels, dataframe now has 655 duplicated column headers. (/Users/benkk/Documents/GitHub/pancancerProteinMRNA/notebook_steps/get_correlations.py, line 16)\n",
      "cptac warning: Due to dropping the specified levels, dataframe now has 907 duplicated column headers. (/Users/benkk/Documents/GitHub/pancancerProteinMRNA/notebook_steps/get_correlations.py, line 16)\n",
      "cptac warning: Due to dropping the specified levels, dataframe now has 2495 duplicated column headers. (/Users/benkk/Documents/GitHub/pancancerProteinMRNA/notebook_steps/get_correlations.py, line 20)\n",
      "cptac warning: Due to dropping the specified levels, dataframe now has 745 duplicated column headers. (/Users/benkk/Documents/GitHub/pancancerProteinMRNA/notebook_steps/get_correlations.py, line 16)\n",
      "cptac warning: Due to dropping the specified levels, dataframe now has 1162 duplicated column headers. (/Users/benkk/Documents/GitHub/pancancerProteinMRNA/notebook_steps/get_correlations.py, line 16)\n",
      "cptac warning: Due to dropping the specified levels, dataframe now has 858 duplicated column headers. (/Users/benkk/Documents/GitHub/pancancerProteinMRNA/notebook_steps/get_correlations.py, line 16)\n"
     ]
    }
   ],
   "source": [
    "my_df = make_df_with_genes(gene_list,cancer_list,type_dict,tissue_type = \"tumor\")"
   ]
  },
  {
   "cell_type": "code",
   "execution_count": 10,
   "metadata": {},
   "outputs": [
    {
     "data": {
      "text/html": [
       "<div>\n",
       "<style scoped>\n",
       "    .dataframe tbody tr th:only-of-type {\n",
       "        vertical-align: middle;\n",
       "    }\n",
       "\n",
       "    .dataframe tbody tr th {\n",
       "        vertical-align: top;\n",
       "    }\n",
       "\n",
       "    .dataframe thead th {\n",
       "        text-align: right;\n",
       "    }\n",
       "</style>\n",
       "<table border=\"1\" class=\"dataframe\">\n",
       "  <thead>\n",
       "    <tr style=\"text-align: right;\">\n",
       "      <th></th>\n",
       "      <th>Gene</th>\n",
       "      <th>Correlation</th>\n",
       "      <th>Cancer Type</th>\n",
       "    </tr>\n",
       "  </thead>\n",
       "  <tbody>\n",
       "    <tr>\n",
       "      <th>0</th>\n",
       "      <td>ABL1</td>\n",
       "      <td>0.502355</td>\n",
       "      <td>brca</td>\n",
       "    </tr>\n",
       "    <tr>\n",
       "      <th>1</th>\n",
       "      <td>ABL1</td>\n",
       "      <td>0.549188</td>\n",
       "      <td>ccrcc</td>\n",
       "    </tr>\n",
       "    <tr>\n",
       "      <th>2</th>\n",
       "      <td>ABL1</td>\n",
       "      <td>-0.014080</td>\n",
       "      <td>colon</td>\n",
       "    </tr>\n",
       "    <tr>\n",
       "      <th>3</th>\n",
       "      <td>ABL1</td>\n",
       "      <td>0.482068</td>\n",
       "      <td>endometrial</td>\n",
       "    </tr>\n",
       "    <tr>\n",
       "      <th>4</th>\n",
       "      <td>ABL1</td>\n",
       "      <td>0.454675</td>\n",
       "      <td>gbm</td>\n",
       "    </tr>\n",
       "    <tr>\n",
       "      <th>...</th>\n",
       "      <td>...</td>\n",
       "      <td>...</td>\n",
       "      <td>...</td>\n",
       "    </tr>\n",
       "    <tr>\n",
       "      <th>90</th>\n",
       "      <td>SPTA1</td>\n",
       "      <td>0.163137</td>\n",
       "      <td>gbm</td>\n",
       "    </tr>\n",
       "    <tr>\n",
       "      <th>91</th>\n",
       "      <td>SPTA1</td>\n",
       "      <td>-0.082873</td>\n",
       "      <td>luad</td>\n",
       "    </tr>\n",
       "    <tr>\n",
       "      <th>92</th>\n",
       "      <td>SPTA1</td>\n",
       "      <td>0.124711</td>\n",
       "      <td>ovarian</td>\n",
       "    </tr>\n",
       "    <tr>\n",
       "      <th>93</th>\n",
       "      <td>SPTA1</td>\n",
       "      <td>0.154798</td>\n",
       "      <td>hnscc</td>\n",
       "    </tr>\n",
       "    <tr>\n",
       "      <th>94</th>\n",
       "      <td>SPTA1</td>\n",
       "      <td>-0.275174</td>\n",
       "      <td>lscc</td>\n",
       "    </tr>\n",
       "  </tbody>\n",
       "</table>\n",
       "<p>95 rows × 3 columns</p>\n",
       "</div>"
      ],
      "text/plain": [
       "     Gene  Correlation  Cancer Type\n",
       "0    ABL1     0.502355         brca\n",
       "1    ABL1     0.549188        ccrcc\n",
       "2    ABL1    -0.014080        colon\n",
       "3    ABL1     0.482068  endometrial\n",
       "4    ABL1     0.454675          gbm\n",
       "..    ...          ...          ...\n",
       "90  SPTA1     0.163137          gbm\n",
       "91  SPTA1    -0.082873         luad\n",
       "92  SPTA1     0.124711      ovarian\n",
       "93  SPTA1     0.154798        hnscc\n",
       "94  SPTA1    -0.275174         lscc\n",
       "\n",
       "[95 rows x 3 columns]"
      ]
     },
     "execution_count": 10,
     "metadata": {},
     "output_type": "execute_result"
    }
   ],
   "source": [
    "my_df"
   ]
  },
  {
   "cell_type": "code",
   "execution_count": null,
   "metadata": {},
   "outputs": [],
   "source": [
    "def sort_dataframe(input_dataframe, cancer_list):\n",
    "    for cancer in cancer_list:\n",
    "        "
   ]
  },
  {
   "cell_type": "markdown",
   "metadata": {},
   "source": [
    "# Step 4: Plot Dataframes"
   ]
  },
  {
   "cell_type": "code",
   "execution_count": 17,
   "metadata": {},
   "outputs": [
    {
     "data": {
      "text/plain": [
       "<matplotlib.axes._subplots.AxesSubplot at 0x7fdfe0037ed0>"
      ]
     },
     "execution_count": 17,
     "metadata": {},
     "output_type": "execute_result"
    },
    {
     "data": {
      "image/png": "[encoded data removed]",
      "text/plain": [
       "<Figure size 432x288 with 1 Axes>"
      ]
     },
     "metadata": {
      "needs_background": "light"
     },
     "output_type": "display_data"
    }
   ],
   "source": [
    "plt = sns.stripplot(x=\"Correlation\",y=\"Gene\",hue=\"Cancer Type\",data=my_df,jitter=0)\n",
    "# plt.legend_.remove()\n",
    "plt"
   ]
  },
  {
   "cell_type": "code",
   "execution_count": 12,
   "metadata": {},
   "outputs": [
    {
     "name": "stderr",
     "output_type": "stream",
     "text": [
      "cptac warning: Due to dropping the specified levels, dataframe now has 655 duplicated column headers. (/Users/benkk/Documents/GitHub/pancancerProteinMRNA/notebook_steps/get_correlations.py, line 16)\n",
      "cptac warning: Due to dropping the specified levels, dataframe now has 907 duplicated column headers. (/Users/benkk/Documents/GitHub/pancancerProteinMRNA/notebook_steps/get_correlations.py, line 16)\n",
      "cptac warning: Due to dropping the specified levels, dataframe now has 2495 duplicated column headers. (/Users/benkk/Documents/GitHub/pancancerProteinMRNA/notebook_steps/get_correlations.py, line 20)\n",
      "cptac warning: Due to dropping the specified levels, dataframe now has 745 duplicated column headers. (/Users/benkk/Documents/GitHub/pancancerProteinMRNA/notebook_steps/get_correlations.py, line 16)\n",
      "cptac warning: Due to dropping the specified levels, dataframe now has 1162 duplicated column headers. (/Users/benkk/Documents/GitHub/pancancerProteinMRNA/notebook_steps/get_correlations.py, line 16)\n",
      "cptac warning: Due to dropping the specified levels, dataframe now has 858 duplicated column headers. (/Users/benkk/Documents/GitHub/pancancerProteinMRNA/notebook_steps/get_correlations.py, line 16)\n",
      "cptac warning: Due to dropping the specified levels, dataframe now has 655 duplicated column headers. (/Users/benkk/Documents/GitHub/pancancerProteinMRNA/notebook_steps/get_correlations.py, line 16)\n",
      "cptac warning: Due to dropping the specified levels, dataframe now has 907 duplicated column headers. (/Users/benkk/Documents/GitHub/pancancerProteinMRNA/notebook_steps/get_correlations.py, line 16)\n",
      "cptac warning: Due to dropping the specified levels, dataframe now has 2495 duplicated column headers. (/Users/benkk/Documents/GitHub/pancancerProteinMRNA/notebook_steps/get_correlations.py, line 20)\n",
      "cptac warning: Due to dropping the specified levels, dataframe now has 745 duplicated column headers. (/Users/benkk/Documents/GitHub/pancancerProteinMRNA/notebook_steps/get_correlations.py, line 16)\n",
      "cptac warning: Due to dropping the specified levels, dataframe now has 1162 duplicated column headers. (/Users/benkk/Documents/GitHub/pancancerProteinMRNA/notebook_steps/get_correlations.py, line 16)\n",
      "cptac warning: Due to dropping the specified levels, dataframe now has 858 duplicated column headers. (/Users/benkk/Documents/GitHub/pancancerProteinMRNA/notebook_steps/get_correlations.py, line 16)\n",
      "cptac warning: Due to dropping the specified levels, dataframe now has 655 duplicated column headers. (/Users/benkk/Documents/GitHub/pancancerProteinMRNA/notebook_steps/get_correlations.py, line 16)\n",
      "cptac warning: Due to dropping the specified levels, dataframe now has 907 duplicated column headers. (/Users/benkk/Documents/GitHub/pancancerProteinMRNA/notebook_steps/get_correlations.py, line 16)\n",
      "cptac warning: Due to dropping the specified levels, dataframe now has 2495 duplicated column headers. (/Users/benkk/Documents/GitHub/pancancerProteinMRNA/notebook_steps/get_correlations.py, line 20)\n",
      "cptac warning: Due to dropping the specified levels, dataframe now has 745 duplicated column headers. (/Users/benkk/Documents/GitHub/pancancerProteinMRNA/notebook_steps/get_correlations.py, line 16)\n",
      "cptac warning: Due to dropping the specified levels, dataframe now has 1162 duplicated column headers. (/Users/benkk/Documents/GitHub/pancancerProteinMRNA/notebook_steps/get_correlations.py, line 16)\n",
      "cptac warning: Due to dropping the specified levels, dataframe now has 858 duplicated column headers. (/Users/benkk/Documents/GitHub/pancancerProteinMRNA/notebook_steps/get_correlations.py, line 16)\n",
      "cptac warning: Due to dropping the specified levels, dataframe now has 655 duplicated column headers. (/Users/benkk/Documents/GitHub/pancancerProteinMRNA/notebook_steps/get_correlations.py, line 16)\n",
      "cptac warning: Due to dropping the specified levels, dataframe now has 907 duplicated column headers. (/Users/benkk/Documents/GitHub/pancancerProteinMRNA/notebook_steps/get_correlations.py, line 16)\n",
      "cptac warning: Due to dropping the specified levels, dataframe now has 2495 duplicated column headers. (/Users/benkk/Documents/GitHub/pancancerProteinMRNA/notebook_steps/get_correlations.py, line 20)\n",
      "cptac warning: Due to dropping the specified levels, dataframe now has 745 duplicated column headers. (/Users/benkk/Documents/GitHub/pancancerProteinMRNA/notebook_steps/get_correlations.py, line 16)\n",
      "cptac warning: Due to dropping the specified levels, dataframe now has 1162 duplicated column headers. (/Users/benkk/Documents/GitHub/pancancerProteinMRNA/notebook_steps/get_correlations.py, line 16)\n",
      "cptac warning: Due to dropping the specified levels, dataframe now has 858 duplicated column headers. (/Users/benkk/Documents/GitHub/pancancerProteinMRNA/notebook_steps/get_correlations.py, line 16)\n",
      "cptac warning: Due to dropping the specified levels, dataframe now has 655 duplicated column headers. (/Users/benkk/Documents/GitHub/pancancerProteinMRNA/notebook_steps/get_correlations.py, line 16)\n",
      "cptac warning: Due to dropping the specified levels, dataframe now has 907 duplicated column headers. (/Users/benkk/Documents/GitHub/pancancerProteinMRNA/notebook_steps/get_correlations.py, line 16)\n",
      "cptac warning: Due to dropping the specified levels, dataframe now has 2495 duplicated column headers. (/Users/benkk/Documents/GitHub/pancancerProteinMRNA/notebook_steps/get_correlations.py, line 20)\n",
      "cptac warning: Due to dropping the specified levels, dataframe now has 745 duplicated column headers. (/Users/benkk/Documents/GitHub/pancancerProteinMRNA/notebook_steps/get_correlations.py, line 16)\n",
      "cptac warning: Due to dropping the specified levels, dataframe now has 1162 duplicated column headers. (/Users/benkk/Documents/GitHub/pancancerProteinMRNA/notebook_steps/get_correlations.py, line 16)\n",
      "cptac warning: Due to dropping the specified levels, dataframe now has 858 duplicated column headers. (/Users/benkk/Documents/GitHub/pancancerProteinMRNA/notebook_steps/get_correlations.py, line 16)\n",
      "cptac warning: Due to dropping the specified levels, dataframe now has 655 duplicated column headers. (/Users/benkk/Documents/GitHub/pancancerProteinMRNA/notebook_steps/get_correlations.py, line 16)\n",
      "cptac warning: Due to dropping the specified levels, dataframe now has 907 duplicated column headers. (/Users/benkk/Documents/GitHub/pancancerProteinMRNA/notebook_steps/get_correlations.py, line 16)\n",
      "cptac warning: Due to dropping the specified levels, dataframe now has 2495 duplicated column headers. (/Users/benkk/Documents/GitHub/pancancerProteinMRNA/notebook_steps/get_correlations.py, line 20)\n",
      "cptac warning: Due to dropping the specified levels, dataframe now has 745 duplicated column headers. (/Users/benkk/Documents/GitHub/pancancerProteinMRNA/notebook_steps/get_correlations.py, line 16)\n",
      "cptac warning: Due to dropping the specified levels, dataframe now has 1162 duplicated column headers. (/Users/benkk/Documents/GitHub/pancancerProteinMRNA/notebook_steps/get_correlations.py, line 16)\n",
      "cptac warning: Due to dropping the specified levels, dataframe now has 858 duplicated column headers. (/Users/benkk/Documents/GitHub/pancancerProteinMRNA/notebook_steps/get_correlations.py, line 16)\n",
      "cptac warning: Due to dropping the specified levels, dataframe now has 655 duplicated column headers. (/Users/benkk/Documents/GitHub/pancancerProteinMRNA/notebook_steps/get_correlations.py, line 16)\n",
      "cptac warning: Due to dropping the specified levels, dataframe now has 907 duplicated column headers. (/Users/benkk/Documents/GitHub/pancancerProteinMRNA/notebook_steps/get_correlations.py, line 16)\n",
      "cptac warning: Due to dropping the specified levels, dataframe now has 2495 duplicated column headers. (/Users/benkk/Documents/GitHub/pancancerProteinMRNA/notebook_steps/get_correlations.py, line 20)\n",
      "cptac warning: Due to dropping the specified levels, dataframe now has 745 duplicated column headers. (/Users/benkk/Documents/GitHub/pancancerProteinMRNA/notebook_steps/get_correlations.py, line 16)\n",
      "cptac warning: Due to dropping the specified levels, dataframe now has 1162 duplicated column headers. (/Users/benkk/Documents/GitHub/pancancerProteinMRNA/notebook_steps/get_correlations.py, line 16)\n",
      "cptac warning: Due to dropping the specified levels, dataframe now has 858 duplicated column headers. (/Users/benkk/Documents/GitHub/pancancerProteinMRNA/notebook_steps/get_correlations.py, line 16)\n",
      "cptac warning: Due to dropping the specified levels, dataframe now has 655 duplicated column headers. (/Users/benkk/Documents/GitHub/pancancerProteinMRNA/notebook_steps/get_correlations.py, line 16)\n",
      "cptac warning: Due to dropping the specified levels, dataframe now has 907 duplicated column headers. (/Users/benkk/Documents/GitHub/pancancerProteinMRNA/notebook_steps/get_correlations.py, line 16)\n"
     ]
    },
    {
     "name": "stderr",
     "output_type": "stream",
     "text": [
      "cptac warning: Due to dropping the specified levels, dataframe now has 2495 duplicated column headers. (/Users/benkk/Documents/GitHub/pancancerProteinMRNA/notebook_steps/get_correlations.py, line 20)\n",
      "cptac warning: Due to dropping the specified levels, dataframe now has 745 duplicated column headers. (/Users/benkk/Documents/GitHub/pancancerProteinMRNA/notebook_steps/get_correlations.py, line 16)\n",
      "cptac warning: Due to dropping the specified levels, dataframe now has 1162 duplicated column headers. (/Users/benkk/Documents/GitHub/pancancerProteinMRNA/notebook_steps/get_correlations.py, line 16)\n",
      "cptac warning: Due to dropping the specified levels, dataframe now has 858 duplicated column headers. (/Users/benkk/Documents/GitHub/pancancerProteinMRNA/notebook_steps/get_correlations.py, line 16)\n",
      "cptac warning: Due to dropping the specified levels, dataframe now has 655 duplicated column headers. (/Users/benkk/Documents/GitHub/pancancerProteinMRNA/notebook_steps/get_correlations.py, line 16)\n",
      "cptac warning: Due to dropping the specified levels, dataframe now has 907 duplicated column headers. (/Users/benkk/Documents/GitHub/pancancerProteinMRNA/notebook_steps/get_correlations.py, line 16)\n",
      "cptac warning: Due to dropping the specified levels, dataframe now has 2495 duplicated column headers. (/Users/benkk/Documents/GitHub/pancancerProteinMRNA/notebook_steps/get_correlations.py, line 20)\n",
      "cptac warning: Due to dropping the specified levels, dataframe now has 745 duplicated column headers. (/Users/benkk/Documents/GitHub/pancancerProteinMRNA/notebook_steps/get_correlations.py, line 16)\n",
      "cptac warning: Due to dropping the specified levels, dataframe now has 1162 duplicated column headers. (/Users/benkk/Documents/GitHub/pancancerProteinMRNA/notebook_steps/get_correlations.py, line 16)\n",
      "cptac warning: Due to dropping the specified levels, dataframe now has 858 duplicated column headers. (/Users/benkk/Documents/GitHub/pancancerProteinMRNA/notebook_steps/get_correlations.py, line 16)\n",
      "cptac warning: Due to dropping the specified levels, dataframe now has 655 duplicated column headers. (/Users/benkk/Documents/GitHub/pancancerProteinMRNA/notebook_steps/get_correlations.py, line 16)\n",
      "cptac warning: Due to dropping the specified levels, dataframe now has 907 duplicated column headers. (/Users/benkk/Documents/GitHub/pancancerProteinMRNA/notebook_steps/get_correlations.py, line 16)\n",
      "cptac warning: Due to dropping the specified levels, dataframe now has 2495 duplicated column headers. (/Users/benkk/Documents/GitHub/pancancerProteinMRNA/notebook_steps/get_correlations.py, line 20)\n",
      "cptac warning: Due to dropping the specified levels, dataframe now has 745 duplicated column headers. (/Users/benkk/Documents/GitHub/pancancerProteinMRNA/notebook_steps/get_correlations.py, line 16)\n",
      "cptac warning: Due to dropping the specified levels, dataframe now has 1162 duplicated column headers. (/Users/benkk/Documents/GitHub/pancancerProteinMRNA/notebook_steps/get_correlations.py, line 16)\n",
      "cptac warning: Due to dropping the specified levels, dataframe now has 858 duplicated column headers. (/Users/benkk/Documents/GitHub/pancancerProteinMRNA/notebook_steps/get_correlations.py, line 16)\n",
      "cptac warning: Due to dropping the specified levels, dataframe now has 655 duplicated column headers. (/Users/benkk/Documents/GitHub/pancancerProteinMRNA/notebook_steps/get_correlations.py, line 16)\n",
      "cptac warning: Due to dropping the specified levels, dataframe now has 907 duplicated column headers. (/Users/benkk/Documents/GitHub/pancancerProteinMRNA/notebook_steps/get_correlations.py, line 16)\n",
      "cptac warning: Due to dropping the specified levels, dataframe now has 2495 duplicated column headers. (/Users/benkk/Documents/GitHub/pancancerProteinMRNA/notebook_steps/get_correlations.py, line 20)\n",
      "cptac warning: Due to dropping the specified levels, dataframe now has 745 duplicated column headers. (/Users/benkk/Documents/GitHub/pancancerProteinMRNA/notebook_steps/get_correlations.py, line 16)\n",
      "cptac warning: Due to dropping the specified levels, dataframe now has 1162 duplicated column headers. (/Users/benkk/Documents/GitHub/pancancerProteinMRNA/notebook_steps/get_correlations.py, line 16)\n",
      "cptac warning: Due to dropping the specified levels, dataframe now has 858 duplicated column headers. (/Users/benkk/Documents/GitHub/pancancerProteinMRNA/notebook_steps/get_correlations.py, line 16)\n",
      "cptac warning: Due to dropping the specified levels, dataframe now has 655 duplicated column headers. (/Users/benkk/Documents/GitHub/pancancerProteinMRNA/notebook_steps/get_correlations.py, line 16)\n",
      "cptac warning: Due to dropping the specified levels, dataframe now has 907 duplicated column headers. (/Users/benkk/Documents/GitHub/pancancerProteinMRNA/notebook_steps/get_correlations.py, line 16)\n",
      "cptac warning: Due to dropping the specified levels, dataframe now has 2495 duplicated column headers. (/Users/benkk/Documents/GitHub/pancancerProteinMRNA/notebook_steps/get_correlations.py, line 20)\n",
      "cptac warning: Due to dropping the specified levels, dataframe now has 745 duplicated column headers. (/Users/benkk/Documents/GitHub/pancancerProteinMRNA/notebook_steps/get_correlations.py, line 16)\n",
      "cptac warning: Due to dropping the specified levels, dataframe now has 1162 duplicated column headers. (/Users/benkk/Documents/GitHub/pancancerProteinMRNA/notebook_steps/get_correlations.py, line 16)\n",
      "cptac warning: Due to dropping the specified levels, dataframe now has 858 duplicated column headers. (/Users/benkk/Documents/GitHub/pancancerProteinMRNA/notebook_steps/get_correlations.py, line 16)\n"
     ]
    }
   ],
   "source": [
    "normal_df = make_df_with_genes(gene_list,cancer_list,type_dict,tissue_type = \"normal\")"
   ]
  },
  {
   "cell_type": "code",
   "execution_count": 18,
   "metadata": {},
   "outputs": [
    {
     "data": {
      "text/plain": [
       "<matplotlib.axes._subplots.AxesSubplot at 0x7fdfdf31f310>"
      ]
     },
     "execution_count": 18,
     "metadata": {},
     "output_type": "execute_result"
    },
    {
     "data": {
      "image/png": "[encoded data removed]",
      "text/plain": [
       "<Figure size 432x288 with 1 Axes>"
      ]
     },
     "metadata": {
      "needs_background": "light"
     },
     "output_type": "display_data"
    }
   ],
   "source": [
    "plt = sns.stripplot(x=\"Correlation\",y=\"Gene\",hue=\"Cancer Type\",data=normal_df,jitter=0)\n",
    "# plt.legend_.remove()\n",
    "plt"
   ]
  },
  {
   "cell_type": "code",
   "execution_count": 14,
   "metadata": {},
   "outputs": [],
   "source": [
    "#Make sure colors are the same, make axes equal as well.\n",
    "#Use parameter quiet when using the CPTAC package\n",
    "#Add introductory readings to intro in outline\n",
    "#Be somewhat familiar with genes and where they are talked about"
   ]
  },
  {
   "cell_type": "code",
   "execution_count": null,
   "metadata": {},
   "outputs": [],
   "source": []
  }
 ],
 "metadata": {
  "kernelspec": {
   "display_name": "Python 3",
   "language": "python",
   "name": "python3"
  },
  "language_info": {
   "codemirror_mode": {
    "name": "ipython",
    "version": 3
   },
   "file_extension": ".py",
   "mimetype": "text/x-python",
   "name": "python",
   "nbconvert_exporter": "python",
   "pygments_lexer": "ipython3",
   "version": "3.7.6"
  }
 },
 "nbformat": 4,
 "nbformat_minor": 4
}
