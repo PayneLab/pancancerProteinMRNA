{
 "cells": [
  {
   "cell_type": "code",
   "execution_count": 2,
   "metadata": {},
   "outputs": [],
   "source": [
    "import cptac\n",
    "import scipy\n",
    "from scipy import stats\n",
    "import seaborn as sns\n",
    "import matplotlib.pyplot as plt\n",
    "import numpy as np\n",
    "import math\n",
    "import pandas as pd\n",
    "import statistics\n",
    "import parse_correlations_dataframe as get_corr\n",
    "import copy"
   ]
  },
  {
   "cell_type": "code",
   "execution_count": 27,
   "metadata": {},
   "outputs": [],
   "source": [
    "def permute(df,label_1, label_2, permutation_times):\n",
    "    permutation_list = []\n",
    "    permu_df = copy.deepcopy(df)\n",
    "    \n",
    "    is_label_1 = df[\"Type\"] == label_1\n",
    "    is_label_2 = df[\"Type\"] == label_2\n",
    "    label_1_correlation,label_1_pval = scipy.stats.pearsonr(df[is_label_1][\"Proteomics\"], df[is_label_1][\"Transcriptomics\"])\n",
    "    label_2_correlation,label_2_pval = scipy.stats.pearsonr(df[is_label_2][\"Proteomics\"], df[is_label_2][\"Transcriptomics\"])\n",
    "    original_delta = label_1_correlation - label_2_correlation\n",
    "    \n",
    "    for i in range(permutation_times):\n",
    "        permu_df[\"Type\"] = np.random.permutation(permu_df[\"Type\"])\n",
    "        permu_is_label_1 = permu_df[\"Type\"] == label_1\n",
    "        permu_is_label_2 = permu_df[\"Type\"] == label_2\n",
    "        label_1_correlation,label_1_pval = scipy.stats.pearsonr(permu_df[permu_is_label_1][\"Proteomics\"], permu_df[permu_is_label_1][\"Transcriptomics\"])\n",
    "        label_2_correlation,label_2_pval = scipy.stats.pearsonr(permu_df[permu_is_label_2][\"Proteomics\"], permu_df[permu_is_label_2][\"Transcriptomics\"])\n",
    "        delta = label_1_correlation - label_2_correlation\n",
    "        permutation_list.append(delta)\n",
    "        \n",
    "        \n",
    "    p_val = scipy.stats.norm.sf(abs(z_score))*2\n",
    "    return p_val"
   ]
  },
  {
   "cell_type": "code",
   "execution_count": null,
   "metadata": {},
   "outputs": [],
   "source": []
  }
 ],
 "metadata": {
  "kernelspec": {
   "display_name": "Python 3",
   "language": "python",
   "name": "python3"
  },
  "language_info": {
   "codemirror_mode": {
    "name": "ipython",
    "version": 3
   },
   "file_extension": ".py",
   "mimetype": "text/x-python",
   "name": "python",
   "nbconvert_exporter": "python",
   "pygments_lexer": "ipython3",
   "version": "3.8.3"
  }
 },
 "nbformat": 4,
 "nbformat_minor": 4
}
