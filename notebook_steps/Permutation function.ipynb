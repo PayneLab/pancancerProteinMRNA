{
 "cells": [
  {
   "cell_type": "code",
   "execution_count": 1,
   "metadata": {},
   "outputs": [],
   "source": [
    "import cptac\n",
    "import scipy\n",
    "from scipy import stats\n",
    "import seaborn as sns\n",
    "import matplotlib.pyplot as plt\n",
    "import numpy as np\n",
    "import math\n",
    "import pandas as pd\n",
    "import statistics\n",
    "import parse_correlations_dataframe as get_corr\n",
    "import copy"
   ]
  },
  {
   "cell_type": "code",
   "execution_count": 2,
   "metadata": {},
   "outputs": [],
   "source": [
    "def permute(true_corr, df, permutation_times):\n",
    "    permutation_list = []\n",
    "    for i in range(permutation_times):\n",
    "        df[\"Label\"] = np.random.permutation(df[\"Label\"])\n",
    "        permu_is_mutation = df[\"Label\"] == \"mutation\"\n",
    "        permu_is_wild_type = df[\"Label\"] == \"wild_type\"\n",
    "        mutation_correlation,mutation_pval = scipy.stats.pearsonr(df[permu_is_mutation][\"Proteomics\"], df[permu_is_mutation][\"Transcriptomics\"])\n",
    "        wildT_correlation,wildT_pval = scipy.stats.pearsonr(df[permu_is_wild_type][\"Proteomics\"], df[permu_is_wild_type][\"Transcriptomics\"])\n",
    "        delta = mutation_correlation - wildT_correlation\n",
    "        permutation_list.append(delta)\n",
    "    permutation_list.sort()\n",
    "    z_score = (true_corr - np.mean(permutation_list))/np.std(permutation_list)\n",
    "    return z_score"
   ]
  },
  {
   "cell_type": "code",
   "execution_count": null,
   "metadata": {},
   "outputs": [],
   "source": []
  }
 ],
 "metadata": {
  "kernelspec": {
   "display_name": "Python 3",
   "language": "python",
   "name": "python3"
  },
  "language_info": {
   "codemirror_mode": {
    "name": "ipython",
    "version": 3
   },
   "file_extension": ".py",
   "mimetype": "text/x-python",
   "name": "python",
   "nbconvert_exporter": "python",
   "pygments_lexer": "ipython3",
   "version": "3.8.3"
  }
 },
 "nbformat": 4,
 "nbformat_minor": 4
}
