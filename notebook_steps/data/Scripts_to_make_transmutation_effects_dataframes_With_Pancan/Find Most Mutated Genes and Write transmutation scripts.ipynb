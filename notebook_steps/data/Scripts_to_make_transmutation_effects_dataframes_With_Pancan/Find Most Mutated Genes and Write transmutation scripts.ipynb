{
 "cells": [
  {
   "cell_type": "code",
   "execution_count": 1,
   "metadata": {},
   "outputs": [],
   "source": [
    "import cptac.pancan as pc\n",
    "import pandas as pd\n",
    "import cptac.utils as ut"
   ]
  },
  {
   "cell_type": "code",
   "execution_count": 2,
   "metadata": {},
   "outputs": [],
   "source": [
    "def get_frequently_mutated(cancer_object, cutoff = 0.1):  \n",
    "    # Get total tumor count\n",
    "    clinical_df = cancer_object.get_clinical()\n",
    "    tumor_status = clinical_df[['Sample_Tumor_Normal']]\n",
    "    tumor = tumor_status.loc[tumor_status['Sample_Tumor_Normal'] == 'Tumor']\n",
    "    total_tumor_count = float(len(tumor))\n",
    "    \n",
    "    # Get mutations data frame\n",
    "    somatic_mutations = cancer_object.get_somatic_mutation() \n",
    "\n",
    "    # Drop silent mutations for Hnscc, Ovarian, and Ccrcc dataset, and synonymous SNV (i.e. silent) mutations in HNSCC\n",
    "    if 'Silent' in somatic_mutations['Mutation'].unique():\n",
    "        somatic_mutations = somatic_mutations.loc[somatic_mutations['Mutation'] != 'Silent']\n",
    "    if 'RNA' in somatic_mutations['Mutation'].unique():\n",
    "        somatic_mutations = somatic_mutations.loc[somatic_mutations['Mutation'] != 'RNA'] #ignore RNA in LSCC\n",
    "    if 'synonymous SNV' in somatic_mutations['Mutation'].unique():\n",
    "        somatic_mutations = somatic_mutations.loc[somatic_mutations['Mutation'] != 'synonymous SNV']\n",
    "        \n",
    "    origin_df = somatic_mutations.reset_index() #prepare to count unique samples\n",
    "        \n",
    "    # Create two categories in Mutation column - 'M': Missense, 'T': Truncation\n",
    "    if cancer_object.get_cancer_type() in ('hnscc') and cancer_object.version() == '0.1':\n",
    "        dif_mut_names = True\n",
    "    elif cancer_object.get_cancer_type() in ('colon'):\n",
    "        dif_mut_names = True\n",
    "    else: \n",
    "        dif_mut_names = False\n",
    "        \n",
    "    if dif_mut_names == True:\n",
    "        missense_truncation_groups = {'frameshift substitution': 'T', \n",
    "            'frameshift deletion': 'T', 'frameshift insertion': 'T', \n",
    "            'stopgain': 'T', 'stoploss': 'T', 'nonsynonymous SNV': 'M',\n",
    "            'nonframeshift insertion': 'M','nonframeshift deletion': 'M', \n",
    "            'nonframeshift substitution': 'M'}\n",
    "    else: \n",
    "        missense_truncation_groups = {'In_Frame_Del': 'M', 'In_Frame_Ins': 'M',\n",
    "            'Missense_Mutation': 'M', 'Frame_Shift_Del': 'T','Nonsense_Mutation': 'T', \n",
    "            'Splice_Site': 'T', 'Frame_Shift_Ins': 'T','Nonstop_Mutation':'T'}\n",
    "    \n",
    "    mutations_replaced_M_T = origin_df.replace(missense_truncation_groups)\n",
    "    \n",
    "    # replace non_coding mutations for Gbm\n",
    "    unique_mutations = len(mutations_replaced_M_T['Mutation'].unique())\n",
    "    gbm = False\n",
    "    if cancer_object.get_cancer_type() == 'gbm':\n",
    "        gbm = True\n",
    "        non_coding = {'Intron': 'NC', 'RNA': 'NC', \"5'Flank\": 'NC', \"3'Flank\": 'NC', \n",
    "            \"5'UTR\": 'NC', \"3'UTR\": 'NC', 'Splice_Region' : 'NC'}\n",
    "        mutations_replaced_M_T = mutations_replaced_M_T.replace(non_coding)\n",
    "        unique_mutations_2 = len(mutations_replaced_M_T['Mutation'].unique())\n",
    "        \n",
    "    elif unique_mutations != 2: # Check that all mutation names are catagorized\n",
    "        print('Warning: New mutation name not classified. Counts will be affected.')\n",
    "        print(mutations_replaced_M_T['Mutation'].unique())\n",
    "    \n",
    "    # Find frequently mutated genes (total fraction > cutoff)\n",
    "    # Same steps will be repeated for finding the missense and truncation mutation frequencies\n",
    "    # Step 1 - group by gene and count unique samples\n",
    "    # Step 2 - format\n",
    "    # Step 3 - filter using the cutoff and create fraction \n",
    "    count_mutations = origin_df.groupby(['Gene']).nunique()\n",
    "    count_mutations = count_mutations.rename(columns={\"Patient_ID\": \"Unique_Samples_Mut\"}) # Step 2 \n",
    "    count_mutations = count_mutations.drop(['Mutation', 'Location'], axis = 1)\n",
    "    fraction_mutated = count_mutations.apply(lambda x: x / total_tumor_count) # Step 3\n",
    "    fraction_greater_than_cutoff = fraction_mutated.where(lambda x: x > cutoff) #na used when not > cutoff\n",
    "    filtered_gene_df = fraction_greater_than_cutoff#.dropna() # drop genes below cutoff\n",
    "    filtered_gene_df.reset_index(inplace=True)\n",
    "    \n",
    "    \n",
    "    # Create and join Missense column (following similar steps as seen above) *Counts missense once in sample\n",
    "    miss = mutations_replaced_M_T.loc[mutations_replaced_M_T['Mutation'] == 'M']\n",
    "    count_miss = miss.groupby(['Gene']).nunique()\n",
    "    missense_df = count_miss.rename(columns={\"Patient_ID\": \"Missense_Mut\"})\n",
    "    missense_df = missense_df.drop(['Mutation', 'Location'], axis = 1)\n",
    "    fraction_missense = missense_df.apply(lambda x: x / total_tumor_count)\n",
    "    fraction_missense.reset_index(inplace=True)\n",
    "    freq_mutated_df = filtered_gene_df.merge(fraction_missense, how='left').fillna(0)\n",
    "    \n",
    "    \n",
    "    # Create and join Truncation column (following similar steps as seen above)\n",
    "    trunc = mutations_replaced_M_T.loc[mutations_replaced_M_T['Mutation'] == 'T']\n",
    "    count_trunc = trunc.groupby(['Gene']).nunique()\n",
    "    truncation_df = count_trunc.rename(columns={\"Patient_ID\": \"Truncation_Mut\"})\n",
    "    truncation_df = truncation_df.drop(['Mutation', 'Location'], axis = 1)\n",
    "    fraction_truncation = truncation_df.apply(lambda x: x / total_tumor_count)\n",
    "    truncation_df.reset_index(inplace=True)\n",
    "    freq_mutated_df = freq_mutated_df.merge(fraction_truncation, how='left').fillna(0)\n",
    "    \n",
    "    if gbm == True:\n",
    "        # Create and join non-coding column (following similar steps as seen above)\n",
    "        nc = mutations_replaced_M_T.loc[mutations_replaced_M_T['Mutation'] == 'NC']\n",
    "        count_nc = nc.groupby(['Gene']).nunique()\n",
    "        nc_df = count_nc.rename(columns={\"Patient_ID\": \"Non-Coding\"})\n",
    "        nc_df = nc_df.drop(['Mutation', 'Location'], axis = 1)\n",
    "        fraction_nc = nc_df.apply(lambda x: x / total_tumor_count)\n",
    "        freq_mutated_df = freq_mutated_df.join(fraction_nc, how='left').fillna(0)\n",
    "        \n",
    "#     freq_mutated_df = freq_mutated_df.reset_index() #move genes to their own column\n",
    "    \n",
    "    return freq_mutated_df\n",
    "\n"
   ]
  },
  {
   "cell_type": "code",
   "execution_count": 3,
   "metadata": {
    "scrolled": true
   },
   "outputs": [
    {
     "name": "stdout",
     "output_type": "stream",
     "text": [
      "Loading broadluad v1.0...                     \r"
     ]
    },
    {
     "name": "stderr",
     "output_type": "stream",
     "text": [
      "/Users/humbertogiraldez/opt/anaconda3/lib/python3.9/site-packages/gtfparse/read_gtf.py:82: FutureWarning: The error_bad_lines argument has been deprecated and will be removed in a future version. Use on_bad_lines in the future.\n",
      "\n",
      "\n",
      "  chunk_iterator = pd.read_csv(\n",
      "/Users/humbertogiraldez/opt/anaconda3/lib/python3.9/site-packages/gtfparse/read_gtf.py:82: FutureWarning: The warn_bad_lines argument has been deprecated and will be removed in a future version. Use on_bad_lines in the future.\n",
      "\n",
      "\n",
      "  chunk_iterator = pd.read_csv(\n"
     ]
    },
    {
     "name": "stdout",
     "output_type": "stream",
     "text": [
      "Loading washuluad v1.0......                     \r"
     ]
    },
    {
     "name": "stderr",
     "output_type": "stream",
     "text": [
      "/Users/humbertogiraldez/opt/anaconda3/lib/python3.9/site-packages/cptac/pancan/washuluad.py:136: FutureWarning: The frame.append method is deprecated and will be removed from pandas in a future version. Use pandas.concat instead.\n",
      "  all_df = tumor.append(normal)\n",
      "/Users/humbertogiraldez/opt/anaconda3/lib/python3.9/site-packages/cptac/pancan/washuluad.py:136: FutureWarning: The frame.append method is deprecated and will be removed from pandas in a future version. Use pandas.concat instead.\n",
      "  all_df = tumor.append(normal)\n",
      "/Users/humbertogiraldez/opt/anaconda3/lib/python3.9/site-packages/cptac/pancan/washuluad.py:136: FutureWarning: The frame.append method is deprecated and will be removed from pandas in a future version. Use pandas.concat instead.\n",
      "  all_df = tumor.append(normal)\n"
     ]
    },
    {
     "name": "stdout",
     "output_type": "stream",
     "text": [
      "Loading washuluad v1.0..........\r"
     ]
    },
    {
     "name": "stderr",
     "output_type": "stream",
     "text": [
      "/Users/humbertogiraldez/opt/anaconda3/lib/python3.9/site-packages/gtfparse/read_gtf.py:82: FutureWarning: The error_bad_lines argument has been deprecated and will be removed in a future version. Use on_bad_lines in the future.\n",
      "\n",
      "\n",
      "  chunk_iterator = pd.read_csv(\n",
      "/Users/humbertogiraldez/opt/anaconda3/lib/python3.9/site-packages/gtfparse/read_gtf.py:82: FutureWarning: The warn_bad_lines argument has been deprecated and will be removed in a future version. Use on_bad_lines in the future.\n",
      "\n",
      "\n",
      "  chunk_iterator = pd.read_csv(\n"
     ]
    },
    {
     "name": "stdout",
     "output_type": "stream",
     "text": [
      "Loading washuluad v1.0...........\r",
      "Loading washuluad v1.0............\r",
      "Loading washuluad v1.0.............\r",
      "Loading washuluad v1.0..............\r",
      "Loading washuluad v1.0...............\r",
      "Loading washuluad v1.0................\r",
      "Loading washuluad v1.0.................\r",
      "Loading washuluad v1.0..................\r",
      "                                        \r",
      "Formatting washuluad dataframes...\r"
     ]
    },
    {
     "name": "stderr",
     "output_type": "stream",
     "text": [
      "/Users/humbertogiraldez/opt/anaconda3/lib/python3.9/site-packages/cptac/pancan/washuluad.py:215: FutureWarning: The frame.append method is deprecated and will be removed from pandas in a future version. Use pandas.concat instead.\n",
      "  rna_combined = rna_tumor.append(rna_normal)\n"
     ]
    },
    {
     "name": "stdout",
     "output_type": "stream",
     "text": [
      "Loading broadlscc v1.0...                      \r"
     ]
    },
    {
     "name": "stderr",
     "output_type": "stream",
     "text": [
      "/Users/humbertogiraldez/opt/anaconda3/lib/python3.9/site-packages/gtfparse/read_gtf.py:82: FutureWarning: The error_bad_lines argument has been deprecated and will be removed in a future version. Use on_bad_lines in the future.\n",
      "\n",
      "\n",
      "  chunk_iterator = pd.read_csv(\n",
      "/Users/humbertogiraldez/opt/anaconda3/lib/python3.9/site-packages/gtfparse/read_gtf.py:82: FutureWarning: The warn_bad_lines argument has been deprecated and will be removed in a future version. Use on_bad_lines in the future.\n",
      "\n",
      "\n",
      "  chunk_iterator = pd.read_csv(\n"
     ]
    },
    {
     "name": "stdout",
     "output_type": "stream",
     "text": [
      "Loading washulscc v1.0......                     \r"
     ]
    },
    {
     "name": "stderr",
     "output_type": "stream",
     "text": [
      "/Users/humbertogiraldez/opt/anaconda3/lib/python3.9/site-packages/cptac/pancan/washulscc.py:142: FutureWarning: The frame.append method is deprecated and will be removed from pandas in a future version. Use pandas.concat instead.\n",
      "  all_df = tumor.append(normal)\n",
      "/Users/humbertogiraldez/opt/anaconda3/lib/python3.9/site-packages/cptac/pancan/washulscc.py:142: FutureWarning: The frame.append method is deprecated and will be removed from pandas in a future version. Use pandas.concat instead.\n",
      "  all_df = tumor.append(normal)\n",
      "/Users/humbertogiraldez/opt/anaconda3/lib/python3.9/site-packages/cptac/pancan/washulscc.py:142: FutureWarning: The frame.append method is deprecated and will be removed from pandas in a future version. Use pandas.concat instead.\n",
      "  all_df = tumor.append(normal)\n"
     ]
    },
    {
     "name": "stdout",
     "output_type": "stream",
     "text": [
      "Loading washulscc v1.0..........\r"
     ]
    },
    {
     "name": "stderr",
     "output_type": "stream",
     "text": [
      "/Users/humbertogiraldez/opt/anaconda3/lib/python3.9/site-packages/gtfparse/read_gtf.py:82: FutureWarning: The error_bad_lines argument has been deprecated and will be removed in a future version. Use on_bad_lines in the future.\n",
      "\n",
      "\n",
      "  chunk_iterator = pd.read_csv(\n",
      "/Users/humbertogiraldez/opt/anaconda3/lib/python3.9/site-packages/gtfparse/read_gtf.py:82: FutureWarning: The warn_bad_lines argument has been deprecated and will be removed in a future version. Use on_bad_lines in the future.\n",
      "\n",
      "\n",
      "  chunk_iterator = pd.read_csv(\n"
     ]
    },
    {
     "name": "stdout",
     "output_type": "stream",
     "text": [
      "Loading washulscc v1.0...........\r",
      "Loading washulscc v1.0............\r",
      "Loading washulscc v1.0.............\r",
      "Loading washulscc v1.0..............\r",
      "Loading washulscc v1.0...............\r",
      "Loading washulscc v1.0................\r",
      "Loading washulscc v1.0.................\r",
      "Loading washulscc v1.0..................\r",
      "                                        \r",
      "Formatting washulscc dataframes...\r"
     ]
    },
    {
     "name": "stderr",
     "output_type": "stream",
     "text": [
      "/Users/humbertogiraldez/opt/anaconda3/lib/python3.9/site-packages/cptac/pancan/washulscc.py:221: FutureWarning: The frame.append method is deprecated and will be removed from pandas in a future version. Use pandas.concat instead.\n",
      "  rna_combined = rna_tumor.append(rna_normal)\n"
     ]
    },
    {
     "name": "stdout",
     "output_type": "stream",
     "text": [
      "Loading broadhnscc v1.0...                     \r"
     ]
    },
    {
     "name": "stderr",
     "output_type": "stream",
     "text": [
      "/Users/humbertogiraldez/opt/anaconda3/lib/python3.9/site-packages/gtfparse/read_gtf.py:82: FutureWarning: The error_bad_lines argument has been deprecated and will be removed in a future version. Use on_bad_lines in the future.\n",
      "\n",
      "\n",
      "  chunk_iterator = pd.read_csv(\n",
      "/Users/humbertogiraldez/opt/anaconda3/lib/python3.9/site-packages/gtfparse/read_gtf.py:82: FutureWarning: The warn_bad_lines argument has been deprecated and will be removed in a future version. Use on_bad_lines in the future.\n",
      "\n",
      "\n",
      "  chunk_iterator = pd.read_csv(\n"
     ]
    },
    {
     "name": "stdout",
     "output_type": "stream",
     "text": [
      "Loading washuhnscc v1.0......                    \r"
     ]
    },
    {
     "name": "stderr",
     "output_type": "stream",
     "text": [
      "/Users/humbertogiraldez/opt/anaconda3/lib/python3.9/site-packages/cptac/pancan/washuhnscc.py:143: FutureWarning: The frame.append method is deprecated and will be removed from pandas in a future version. Use pandas.concat instead.\n",
      "  all_df = tumor.append(normal)\n",
      "/Users/humbertogiraldez/opt/anaconda3/lib/python3.9/site-packages/cptac/pancan/washuhnscc.py:143: FutureWarning: The frame.append method is deprecated and will be removed from pandas in a future version. Use pandas.concat instead.\n",
      "  all_df = tumor.append(normal)\n",
      "/Users/humbertogiraldez/opt/anaconda3/lib/python3.9/site-packages/cptac/pancan/washuhnscc.py:143: FutureWarning: The frame.append method is deprecated and will be removed from pandas in a future version. Use pandas.concat instead.\n",
      "  all_df = tumor.append(normal)\n"
     ]
    },
    {
     "name": "stdout",
     "output_type": "stream",
     "text": [
      "Loading washuhnscc v1.0..........\r"
     ]
    },
    {
     "name": "stderr",
     "output_type": "stream",
     "text": [
      "/Users/humbertogiraldez/opt/anaconda3/lib/python3.9/site-packages/gtfparse/read_gtf.py:82: FutureWarning: The error_bad_lines argument has been deprecated and will be removed in a future version. Use on_bad_lines in the future.\n",
      "\n",
      "\n",
      "  chunk_iterator = pd.read_csv(\n",
      "/Users/humbertogiraldez/opt/anaconda3/lib/python3.9/site-packages/gtfparse/read_gtf.py:82: FutureWarning: The warn_bad_lines argument has been deprecated and will be removed in a future version. Use on_bad_lines in the future.\n",
      "\n",
      "\n",
      "  chunk_iterator = pd.read_csv(\n"
     ]
    },
    {
     "name": "stdout",
     "output_type": "stream",
     "text": [
      "Formatting washuhnscc dataframes...      \r"
     ]
    },
    {
     "name": "stderr",
     "output_type": "stream",
     "text": [
      "/Users/humbertogiraldez/opt/anaconda3/lib/python3.9/site-packages/cptac/pancan/washuhnscc.py:222: FutureWarning: The frame.append method is deprecated and will be removed from pandas in a future version. Use pandas.concat instead.\n",
      "  rna_combined = rna_tumor.append(rna_normal)\n"
     ]
    },
    {
     "name": "stdout",
     "output_type": "stream",
     "text": [
      "Loading broaducec v1.0...                      \r"
     ]
    },
    {
     "name": "stderr",
     "output_type": "stream",
     "text": [
      "/Users/humbertogiraldez/opt/anaconda3/lib/python3.9/site-packages/gtfparse/read_gtf.py:82: FutureWarning: The error_bad_lines argument has been deprecated and will be removed in a future version. Use on_bad_lines in the future.\n",
      "\n",
      "\n",
      "  chunk_iterator = pd.read_csv(\n",
      "/Users/humbertogiraldez/opt/anaconda3/lib/python3.9/site-packages/gtfparse/read_gtf.py:82: FutureWarning: The warn_bad_lines argument has been deprecated and will be removed in a future version. Use on_bad_lines in the future.\n",
      "\n",
      "\n",
      "  chunk_iterator = pd.read_csv(\n"
     ]
    },
    {
     "name": "stdout",
     "output_type": "stream",
     "text": [
      "Loading washuucec v1.0..........                 \r"
     ]
    },
    {
     "name": "stderr",
     "output_type": "stream",
     "text": [
      "/Users/humbertogiraldez/opt/anaconda3/lib/python3.9/site-packages/gtfparse/read_gtf.py:82: FutureWarning: The error_bad_lines argument has been deprecated and will be removed in a future version. Use on_bad_lines in the future.\n",
      "\n",
      "\n",
      "  chunk_iterator = pd.read_csv(\n",
      "/Users/humbertogiraldez/opt/anaconda3/lib/python3.9/site-packages/gtfparse/read_gtf.py:82: FutureWarning: The warn_bad_lines argument has been deprecated and will be removed in a future version. Use on_bad_lines in the future.\n",
      "\n",
      "\n",
      "  chunk_iterator = pd.read_csv(\n"
     ]
    },
    {
     "name": "stdout",
     "output_type": "stream",
     "text": [
      "Loading washuucec v1.0...........\r",
      "Loading washuucec v1.0............\r",
      "Loading washuucec v1.0.............\r",
      "Loading washuucec v1.0..............\r",
      "Loading washuucec v1.0...............\r",
      "Loading washuucec v1.0................\r",
      "Loading washuucec v1.0.................\r",
      "Loading washuucec v1.0..................\r",
      "                                        \r",
      "Formatting washuucec dataframes...\r"
     ]
    },
    {
     "name": "stderr",
     "output_type": "stream",
     "text": [
      "/Users/humbertogiraldez/opt/anaconda3/lib/python3.9/site-packages/cptac/pancan/washuucec.py:210: FutureWarning: The frame.append method is deprecated and will be removed from pandas in a future version. Use pandas.concat instead.\n",
      "  rna_combined = rna_tumor.append(rna_normal)\n"
     ]
    },
    {
     "name": "stdout",
     "output_type": "stream",
     "text": [
      "Loading broadccrcc v1.0...                     \r"
     ]
    },
    {
     "name": "stderr",
     "output_type": "stream",
     "text": [
      "/Users/humbertogiraldez/opt/anaconda3/lib/python3.9/site-packages/gtfparse/read_gtf.py:82: FutureWarning: The error_bad_lines argument has been deprecated and will be removed in a future version. Use on_bad_lines in the future.\n",
      "\n",
      "\n",
      "  chunk_iterator = pd.read_csv(\n",
      "/Users/humbertogiraldez/opt/anaconda3/lib/python3.9/site-packages/gtfparse/read_gtf.py:82: FutureWarning: The warn_bad_lines argument has been deprecated and will be removed in a future version. Use on_bad_lines in the future.\n",
      "\n",
      "\n",
      "  chunk_iterator = pd.read_csv(\n"
     ]
    },
    {
     "name": "stdout",
     "output_type": "stream",
     "text": [
      "Loading washuccrcc v1.0........                  \r"
     ]
    },
    {
     "name": "stderr",
     "output_type": "stream",
     "text": [
      "/Users/humbertogiraldez/opt/anaconda3/lib/python3.9/site-packages/cptac/pancan/washuccrcc.py:136: FutureWarning: The frame.append method is deprecated and will be removed from pandas in a future version. Use pandas.concat instead.\n",
      "  all_df = tumor.append(normal)\n",
      "/Users/humbertogiraldez/opt/anaconda3/lib/python3.9/site-packages/cptac/pancan/washuccrcc.py:136: FutureWarning: The frame.append method is deprecated and will be removed from pandas in a future version. Use pandas.concat instead.\n",
      "  all_df = tumor.append(normal)\n",
      "/Users/humbertogiraldez/opt/anaconda3/lib/python3.9/site-packages/cptac/pancan/washuccrcc.py:136: FutureWarning: The frame.append method is deprecated and will be removed from pandas in a future version. Use pandas.concat instead.\n",
      "  all_df = tumor.append(normal)\n"
     ]
    },
    {
     "name": "stdout",
     "output_type": "stream",
     "text": [
      "Loading washuccrcc v1.0..........\r"
     ]
    },
    {
     "name": "stderr",
     "output_type": "stream",
     "text": [
      "/Users/humbertogiraldez/opt/anaconda3/lib/python3.9/site-packages/gtfparse/read_gtf.py:82: FutureWarning: The error_bad_lines argument has been deprecated and will be removed in a future version. Use on_bad_lines in the future.\n",
      "\n",
      "\n",
      "  chunk_iterator = pd.read_csv(\n",
      "/Users/humbertogiraldez/opt/anaconda3/lib/python3.9/site-packages/gtfparse/read_gtf.py:82: FutureWarning: The warn_bad_lines argument has been deprecated and will be removed in a future version. Use on_bad_lines in the future.\n",
      "\n",
      "\n",
      "  chunk_iterator = pd.read_csv(\n"
     ]
    },
    {
     "name": "stdout",
     "output_type": "stream",
     "text": [
      "Loading washuccrcc v1.0...........\r",
      "Loading washuccrcc v1.0............\r",
      "Loading washuccrcc v1.0.............\r",
      "Loading washuccrcc v1.0..............\r",
      "Loading washuccrcc v1.0...............\r",
      "Loading washuccrcc v1.0................\r",
      "Loading washuccrcc v1.0.................\r",
      "Loading washuccrcc v1.0..................\r",
      "                                         \r",
      "Formatting washuccrcc dataframes...\r"
     ]
    },
    {
     "name": "stderr",
     "output_type": "stream",
     "text": [
      "/Users/humbertogiraldez/opt/anaconda3/lib/python3.9/site-packages/cptac/pancan/washuccrcc.py:215: FutureWarning: The frame.append method is deprecated and will be removed from pandas in a future version. Use pandas.concat instead.\n",
      "  rna_combined = rna_tumor.append(rna_normal)\n"
     ]
    },
    {
     "name": "stdout",
     "output_type": "stream",
     "text": [
      "                                               \r"
     ]
    }
   ],
   "source": [
    "luad = pc.PancanLuad()\n",
    "lscc = pc.PancanLscc()\n",
    "hnscc = pc.PancanHnscc()\n",
    "en = pc.PancanUcec()\n",
    "ccrcc = pc.PancanCcrcc()"
   ]
  },
  {
   "cell_type": "code",
   "execution_count": 4,
   "metadata": {},
   "outputs": [],
   "source": [
    "cancer_list = [luad, lscc, hnscc, en, ccrcc]"
   ]
  },
  {
   "cell_type": "code",
   "execution_count": 5,
   "metadata": {},
   "outputs": [],
   "source": [
    "cancer_dict = {lscc: 'LSCC', luad: 'LUAD', hnscc: 'HNSCC', en: 'Endometrial', ccrcc: 'CCRCC'}"
   ]
  },
  {
   "cell_type": "code",
   "execution_count": null,
   "metadata": {},
   "outputs": [],
   "source": []
  },
  {
   "cell_type": "code",
   "execution_count": 6,
   "metadata": {
    "scrolled": false
   },
   "outputs": [
    {
     "name": "stdout",
     "output_type": "stream",
     "text": [
      "Warning: New mutation name not classified. Counts will be affected.\n",
      "['M' 'Intron' 'T' \"3'UTR\" \"5'Flank\" \"5'UTR\" 'START_CODON_SNP' 'IGR'\n",
      " 'DE_NOVO_START_OUT_FRAME' 'DE_NOVO_START_IN_FRAME' 'COULD_NOT_DETERMINE'\n",
      " 'Translation_Start_Site' 'START_CODON_INS']\n",
      "Warning: New mutation name not classified. Counts will be affected.\n",
      "['T' 'M' 'Intron' \"3'UTR\" \"5'UTR\" \"5'Flank\" 'IGR' 'START_CODON_SNP'\n",
      " 'DE_NOVO_START_IN_FRAME' 'COULD_NOT_DETERMINE' 'DE_NOVO_START_OUT_FRAME'\n",
      " 'Translation_Start_Site' 'START_CODON_INS']\n",
      "Warning: New mutation name not classified. Counts will be affected.\n",
      "['M' 'Intron' 'T' \"5'UTR\" 'START_CODON_SNP' \"5'Flank\" \"3'UTR\" 'IGR'\n",
      " 'Translation_Start_Site' 'DE_NOVO_START_IN_FRAME'\n",
      " 'DE_NOVO_START_OUT_FRAME' 'COULD_NOT_DETERMINE']\n",
      "Warning: New mutation name not classified. Counts will be affected.\n",
      "['M' 'T' 'Intron' \"5'Flank\" \"3'UTR\" \"5'UTR\" 'IGR' 'START_CODON_SNP'\n",
      " 'Translation_Start_Site' 'DE_NOVO_START_IN_FRAME'\n",
      " 'DE_NOVO_START_OUT_FRAME' 'START_CODON_INS' 'COULD_NOT_DETERMINE']\n",
      "Warning: New mutation name not classified. Counts will be affected.\n",
      "['M' \"3'UTR\" 'T' 'Intron' \"5'Flank\" \"5'UTR\" 'IGR' 'COULD_NOT_DETERMINE'\n",
      " 'DE_NOVO_START_OUT_FRAME' 'START_CODON_SNP']\n"
     ]
    },
    {
     "name": "stderr",
     "output_type": "stream",
     "text": [
      "/var/folders/16/01vxw5fs66d9b01nlwf3w5yc0000gn/T/ipykernel_7149/69740923.py:50: FutureWarning: In a future version of pandas all arguments of DataFrame.drop except for the argument 'labels' will be keyword-only.\n",
      "  mutation_frequency_df.drop(mutation_frequency_df.columns.difference(['Gene','Unique_Samples_Mut', 'Cancer']), 1, inplace=True)\n"
     ]
    },
    {
     "data": {
      "text/html": [
       "<div>\n",
       "<style scoped>\n",
       "    .dataframe tbody tr th:only-of-type {\n",
       "        vertical-align: middle;\n",
       "    }\n",
       "\n",
       "    .dataframe tbody tr th {\n",
       "        vertical-align: top;\n",
       "    }\n",
       "\n",
       "    .dataframe thead th {\n",
       "        text-align: right;\n",
       "    }\n",
       "</style>\n",
       "<table border=\"1\" class=\"dataframe\">\n",
       "  <thead>\n",
       "    <tr style=\"text-align: right;\">\n",
       "      <th></th>\n",
       "      <th>Gene</th>\n",
       "      <th>Unique_Samples_Mut</th>\n",
       "      <th>Cancer</th>\n",
       "    </tr>\n",
       "  </thead>\n",
       "  <tbody>\n",
       "    <tr>\n",
       "      <th>14587</th>\n",
       "      <td>TP53</td>\n",
       "      <td>0.540541</td>\n",
       "      <td>LUAD</td>\n",
       "    </tr>\n",
       "    <tr>\n",
       "      <th>15045</th>\n",
       "      <td>TTN</td>\n",
       "      <td>0.378378</td>\n",
       "      <td>LUAD</td>\n",
       "    </tr>\n",
       "    <tr>\n",
       "      <th>4055</th>\n",
       "      <td>EGFR</td>\n",
       "      <td>0.360360</td>\n",
       "      <td>LUAD</td>\n",
       "    </tr>\n",
       "    <tr>\n",
       "      <th>8689</th>\n",
       "      <td>MUC16</td>\n",
       "      <td>0.351351</td>\n",
       "      <td>LUAD</td>\n",
       "    </tr>\n",
       "    <tr>\n",
       "      <th>7456</th>\n",
       "      <td>KRAS</td>\n",
       "      <td>0.297297</td>\n",
       "      <td>LUAD</td>\n",
       "    </tr>\n",
       "    <tr>\n",
       "      <th>4707</th>\n",
       "      <td>FAT3</td>\n",
       "      <td>0.234234</td>\n",
       "      <td>LUAD</td>\n",
       "    </tr>\n",
       "    <tr>\n",
       "      <th>2844</th>\n",
       "      <td>COL11A1</td>\n",
       "      <td>0.207207</td>\n",
       "      <td>LUAD</td>\n",
       "    </tr>\n",
       "    <tr>\n",
       "      <th>3198</th>\n",
       "      <td>CTNNA2</td>\n",
       "      <td>0.198198</td>\n",
       "      <td>LUAD</td>\n",
       "    </tr>\n",
       "    <tr>\n",
       "      <th>10148</th>\n",
       "      <td>PCLO</td>\n",
       "      <td>0.189189</td>\n",
       "      <td>LUAD</td>\n",
       "    </tr>\n",
       "    <tr>\n",
       "      <th>750</th>\n",
       "      <td>APOB</td>\n",
       "      <td>0.189189</td>\n",
       "      <td>LUAD</td>\n",
       "    </tr>\n",
       "    <tr>\n",
       "      <th>14224</th>\n",
       "      <td>TTN</td>\n",
       "      <td>0.681416</td>\n",
       "      <td>LSCC</td>\n",
       "    </tr>\n",
       "    <tr>\n",
       "      <th>15020</th>\n",
       "      <td>ZFHX4</td>\n",
       "      <td>0.336283</td>\n",
       "      <td>LSCC</td>\n",
       "    </tr>\n",
       "    <tr>\n",
       "      <th>12969</th>\n",
       "      <td>SYNE1</td>\n",
       "      <td>0.283186</td>\n",
       "      <td>LSCC</td>\n",
       "    </tr>\n",
       "    <tr>\n",
       "      <th>7929</th>\n",
       "      <td>MUC16</td>\n",
       "      <td>0.283186</td>\n",
       "      <td>LSCC</td>\n",
       "    </tr>\n",
       "    <tr>\n",
       "      <th>14774</th>\n",
       "      <td>XIRP2</td>\n",
       "      <td>0.221239</td>\n",
       "      <td>LSCC</td>\n",
       "    </tr>\n",
       "    <tr>\n",
       "      <th>8138</th>\n",
       "      <td>NAV3</td>\n",
       "      <td>0.203540</td>\n",
       "      <td>LSCC</td>\n",
       "    </tr>\n",
       "    <tr>\n",
       "      <th>2769</th>\n",
       "      <td>COL11A1</td>\n",
       "      <td>0.194690</td>\n",
       "      <td>LSCC</td>\n",
       "    </tr>\n",
       "    <tr>\n",
       "      <th>3616</th>\n",
       "      <td>DNAH5</td>\n",
       "      <td>0.194690</td>\n",
       "      <td>LSCC</td>\n",
       "    </tr>\n",
       "    <tr>\n",
       "      <th>6755</th>\n",
       "      <td>KMT2D</td>\n",
       "      <td>0.194690</td>\n",
       "      <td>LSCC</td>\n",
       "    </tr>\n",
       "    <tr>\n",
       "      <th>8723</th>\n",
       "      <td>OBSCN</td>\n",
       "      <td>0.185841</td>\n",
       "      <td>LSCC</td>\n",
       "    </tr>\n",
       "    <tr>\n",
       "      <th>13110</th>\n",
       "      <td>TTN</td>\n",
       "      <td>0.449153</td>\n",
       "      <td>HNSCC</td>\n",
       "    </tr>\n",
       "    <tr>\n",
       "      <th>2295</th>\n",
       "      <td>CDKN2A</td>\n",
       "      <td>0.237288</td>\n",
       "      <td>HNSCC</td>\n",
       "    </tr>\n",
       "    <tr>\n",
       "      <th>7995</th>\n",
       "      <td>NOTCH1</td>\n",
       "      <td>0.237288</td>\n",
       "      <td>HNSCC</td>\n",
       "    </tr>\n",
       "    <tr>\n",
       "      <th>4263</th>\n",
       "      <td>FAT1</td>\n",
       "      <td>0.228814</td>\n",
       "      <td>HNSCC</td>\n",
       "    </tr>\n",
       "    <tr>\n",
       "      <th>7528</th>\n",
       "      <td>MUC16</td>\n",
       "      <td>0.177966</td>\n",
       "      <td>HNSCC</td>\n",
       "    </tr>\n",
       "    <tr>\n",
       "      <th>6468</th>\n",
       "      <td>KMT2D</td>\n",
       "      <td>0.169492</td>\n",
       "      <td>HNSCC</td>\n",
       "    </tr>\n",
       "    <tr>\n",
       "      <th>10522</th>\n",
       "      <td>RYR1</td>\n",
       "      <td>0.127119</td>\n",
       "      <td>HNSCC</td>\n",
       "    </tr>\n",
       "    <tr>\n",
       "      <th>10067</th>\n",
       "      <td>RELN</td>\n",
       "      <td>0.127119</td>\n",
       "      <td>HNSCC</td>\n",
       "    </tr>\n",
       "    <tr>\n",
       "      <th>8185</th>\n",
       "      <td>OBSCN</td>\n",
       "      <td>0.127119</td>\n",
       "      <td>HNSCC</td>\n",
       "    </tr>\n",
       "    <tr>\n",
       "      <th>13659</th>\n",
       "      <td>XIRP2</td>\n",
       "      <td>0.127119</td>\n",
       "      <td>HNSCC</td>\n",
       "    </tr>\n",
       "    <tr>\n",
       "      <th>13717</th>\n",
       "      <td>PTEN</td>\n",
       "      <td>0.721154</td>\n",
       "      <td>Endometrial</td>\n",
       "    </tr>\n",
       "    <tr>\n",
       "      <th>12627</th>\n",
       "      <td>PIK3CA</td>\n",
       "      <td>0.442308</td>\n",
       "      <td>Endometrial</td>\n",
       "    </tr>\n",
       "    <tr>\n",
       "      <th>1004</th>\n",
       "      <td>ARID1A</td>\n",
       "      <td>0.442308</td>\n",
       "      <td>Endometrial</td>\n",
       "    </tr>\n",
       "    <tr>\n",
       "      <th>18590</th>\n",
       "      <td>TTN</td>\n",
       "      <td>0.384615</td>\n",
       "      <td>Endometrial</td>\n",
       "    </tr>\n",
       "    <tr>\n",
       "      <th>12631</th>\n",
       "      <td>PIK3R1</td>\n",
       "      <td>0.355769</td>\n",
       "      <td>Endometrial</td>\n",
       "    </tr>\n",
       "    <tr>\n",
       "      <th>8812</th>\n",
       "      <td>KRAS</td>\n",
       "      <td>0.298077</td>\n",
       "      <td>Endometrial</td>\n",
       "    </tr>\n",
       "    <tr>\n",
       "      <th>3928</th>\n",
       "      <td>CTNNB1</td>\n",
       "      <td>0.278846</td>\n",
       "      <td>Endometrial</td>\n",
       "    </tr>\n",
       "    <tr>\n",
       "      <th>8791</th>\n",
       "      <td>KMT2B</td>\n",
       "      <td>0.259615</td>\n",
       "      <td>Endometrial</td>\n",
       "    </tr>\n",
       "    <tr>\n",
       "      <th>3900</th>\n",
       "      <td>CTCF</td>\n",
       "      <td>0.250000</td>\n",
       "      <td>Endometrial</td>\n",
       "    </tr>\n",
       "    <tr>\n",
       "      <th>11453</th>\n",
       "      <td>OBSCN</td>\n",
       "      <td>0.240385</td>\n",
       "      <td>Endometrial</td>\n",
       "    </tr>\n",
       "    <tr>\n",
       "      <th>4135</th>\n",
       "      <td>PBRM1</td>\n",
       "      <td>0.436364</td>\n",
       "      <td>CCRCC</td>\n",
       "    </tr>\n",
       "    <tr>\n",
       "      <th>2902</th>\n",
       "      <td>KDM5C</td>\n",
       "      <td>0.154545</td>\n",
       "      <td>CCRCC</td>\n",
       "    </tr>\n",
       "    <tr>\n",
       "      <th>2958</th>\n",
       "      <td>KIF1B</td>\n",
       "      <td>0.045455</td>\n",
       "      <td>CCRCC</td>\n",
       "    </tr>\n",
       "  </tbody>\n",
       "</table>\n",
       "</div>"
      ],
      "text/plain": [
       "          Gene  Unique_Samples_Mut       Cancer\n",
       "14587     TP53            0.540541         LUAD\n",
       "15045      TTN            0.378378         LUAD\n",
       "4055      EGFR            0.360360         LUAD\n",
       "8689     MUC16            0.351351         LUAD\n",
       "7456      KRAS            0.297297         LUAD\n",
       "4707      FAT3            0.234234         LUAD\n",
       "2844   COL11A1            0.207207         LUAD\n",
       "3198    CTNNA2            0.198198         LUAD\n",
       "10148     PCLO            0.189189         LUAD\n",
       "750       APOB            0.189189         LUAD\n",
       "14224      TTN            0.681416         LSCC\n",
       "15020    ZFHX4            0.336283         LSCC\n",
       "12969    SYNE1            0.283186         LSCC\n",
       "7929     MUC16            0.283186         LSCC\n",
       "14774    XIRP2            0.221239         LSCC\n",
       "8138      NAV3            0.203540         LSCC\n",
       "2769   COL11A1            0.194690         LSCC\n",
       "3616     DNAH5            0.194690         LSCC\n",
       "6755     KMT2D            0.194690         LSCC\n",
       "8723     OBSCN            0.185841         LSCC\n",
       "13110      TTN            0.449153        HNSCC\n",
       "2295    CDKN2A            0.237288        HNSCC\n",
       "7995    NOTCH1            0.237288        HNSCC\n",
       "4263      FAT1            0.228814        HNSCC\n",
       "7528     MUC16            0.177966        HNSCC\n",
       "6468     KMT2D            0.169492        HNSCC\n",
       "10522     RYR1            0.127119        HNSCC\n",
       "10067     RELN            0.127119        HNSCC\n",
       "8185     OBSCN            0.127119        HNSCC\n",
       "13659    XIRP2            0.127119        HNSCC\n",
       "13717     PTEN            0.721154  Endometrial\n",
       "12627   PIK3CA            0.442308  Endometrial\n",
       "1004    ARID1A            0.442308  Endometrial\n",
       "18590      TTN            0.384615  Endometrial\n",
       "12631   PIK3R1            0.355769  Endometrial\n",
       "8812      KRAS            0.298077  Endometrial\n",
       "3928    CTNNB1            0.278846  Endometrial\n",
       "8791     KMT2B            0.259615  Endometrial\n",
       "3900      CTCF            0.250000  Endometrial\n",
       "11453    OBSCN            0.240385  Endometrial\n",
       "4135     PBRM1            0.436364        CCRCC\n",
       "2902     KDM5C            0.154545        CCRCC\n",
       "2958     KIF1B            0.045455        CCRCC"
      ]
     },
     "execution_count": 6,
     "metadata": {},
     "output_type": "execute_result"
    }
   ],
   "source": [
    "mutation_frequency_df = []\n",
    "for cancer in cancer_list:\n",
    "    mutation_df = cancer.get_somatic_mutation()\n",
    "    mutation_df = mutation_df[mutation_df.Mutation != 'Silent']\n",
    "    mutation_df = mutation_df[mutation_df.Mutation != 'RNA']\n",
    "    mutation_df = mutation_df[mutation_df.Mutation != 'synonymous SNV']\n",
    "    #look only at gene with both transciptomic and proteomic data\n",
    "    gene_df = cancer.get_transcriptomics('washu','tumor')\n",
    "    if isinstance(gene_df.columns, pd.MultiIndex):\n",
    "        gene_df = gene_df.droplevel('Database_ID', axis = 1)\n",
    "    prot_df = cancer.get_proteomics('umich','tumor')\n",
    "    if isinstance(prot_df.columns, pd.MultiIndex):\n",
    "        prot_df = prot_df.droplevel('Database_ID', axis = 1)\n",
    "    gene_df['Patient_ID'] = gene_df.index\n",
    "    prot_df['Patient_ID'] = prot_df.index\n",
    "    gene_df = gene_df.melt(id_vars = 'Patient_ID',\n",
    "                           var_name ='Gene',\n",
    "                           value_name = 'Transcriptomics')\n",
    "    prot_df = prot_df.melt(id_vars = 'Patient_ID', var_name = 'Gene', value_name = 'Proteomics')\n",
    "    omics_df = pd.merge(gene_df, prot_df, how = 'outer')\n",
    "    omics_df = omics_df.dropna()\n",
    "    mutation_df = mutation_df.reset_index()\n",
    "    df = pd.merge(omics_df, mutation_df, how = 'outer')\n",
    "    df = df.drop(columns = 'Location')\n",
    "    df['Mutation'] = df.Mutation.notnull()\n",
    "#     df = df.dropna()\n",
    "    #filter to only include genes with a minimum number of samples\n",
    "    genes = df.groupby(['Mutation', 'Gene'])\n",
    "    sample_count = genes.size()\n",
    "    cutoff = 15\n",
    "    if cancer == en:\n",
    "        cutoff = 10\n",
    "    sample_count = sample_count[sample_count>=cutoff]\n",
    "    sample_count\n",
    "    mutated_genes = set(sample_count[sample_count.index.get_level_values(0) == False].index.get_level_values('Gene'))\n",
    "    wt_genes = set(sample_count[sample_count.index.get_level_values(0) == True].index.get_level_values('Gene'))\n",
    "    \n",
    "    genes = wt_genes & mutated_genes\n",
    "    #get mutation frequency \n",
    "    df = get_frequently_mutated(cancer, 0)\n",
    "    df = df[df.Gene.isin(genes)]\n",
    "    \n",
    "    df = df.sort_values('Unique_Samples_Mut', ascending = False)\n",
    "    df=df.drop(columns = ['Missense_Mut', 'Truncation_Mut'])\n",
    "    if len(df) > 10:\n",
    "        df = df[0:10]\n",
    "    df['Cancer'] = [cancer_dict[cancer]] * len(df)\n",
    "    mutation_frequency_df.append(df)\n",
    "mutation_frequency_df = pd.concat(mutation_frequency_df)\n",
    "mutation_frequency_df.drop(mutation_frequency_df.columns.difference(['Gene','Unique_Samples_Mut', 'Cancer']), 1, inplace=True)\n",
    "mutation_frequency_df"
   ]
  },
  {
   "cell_type": "code",
   "execution_count": 7,
   "metadata": {},
   "outputs": [],
   "source": [
    "# write bash command for finding permutation p-val for each gene/cancer pair\n",
    "header = '#!/bin/bash\\n#SBATCH --time=168:00:00   # walltime\\n#SBATCH --ntasks=2   # number of processor cores (i.e. tasks)\\n#SBATCH --mem-per-cpu=8192M   # memory per CPU core\\n#SBATCH --mail-user=humberto.giraldez@gmail.com   # email address\\n#SBATCH --mail-type=BEGIN\\n#SBATCH --mail-type=END\\n# Set the max number of threads to use for programs using OpenMP. Should be <= ppn. Does nothing if the program doesn\\'t use OpenMP.\\nexport OMP_NUM_THREADS=$SLURM_CPUS_ON_NODE\\n'\n",
    "for index, row in mutation_frequency_df.iterrows():\n",
    "    file_name = 'trans_' + row.Cancer + '_' + row.Gene + '.sh'\n",
    "    with open(file_name, 'w+') as file:\n",
    "        file.write(header)\n",
    "        s = 'python3 transmutation_effects.py ' + row.Cancer + ' ' + row.Gene + ' 10000\\n'\n",
    "        file.write(s)\n",
    "        file.close()\n",
    "    with open ('run_transmutation_scripts.sh', 'a+') as file:\n",
    "        s = 'sbatch ' + file_name +'\\n'\n",
    "        file.write(s)\n",
    "        file.close()\n"
   ]
  },
  {
   "cell_type": "code",
   "execution_count": null,
   "metadata": {},
   "outputs": [],
   "source": []
  },
  {
   "cell_type": "code",
   "execution_count": null,
   "metadata": {},
   "outputs": [],
   "source": []
  }
 ],
 "metadata": {
  "kernelspec": {
   "display_name": "Python 3 (ipykernel)",
   "language": "python",
   "name": "python3"
  },
  "language_info": {
   "codemirror_mode": {
    "name": "ipython",
    "version": 3
   },
   "file_extension": ".py",
   "mimetype": "text/x-python",
   "name": "python",
   "nbconvert_exporter": "python",
   "pygments_lexer": "ipython3",
   "version": "3.9.12"
  }
 },
 "nbformat": 4,
 "nbformat_minor": 4
}
