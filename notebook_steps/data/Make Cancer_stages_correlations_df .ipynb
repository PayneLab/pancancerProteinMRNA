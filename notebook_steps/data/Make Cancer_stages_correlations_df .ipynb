{
 "cells": [
  {
   "cell_type": "code",
   "execution_count": 1,
   "metadata": {},
   "outputs": [],
   "source": [
    "import pandas as pd\n",
    "import sys, os\n",
    "currentdir = os.path.dirname(os.path.realpath('make_regression_df.py'))\n",
    "parentdir = os.path.dirname(currentdir)\n",
    "sys.path.append(parentdir)\n",
    "import pcprutils as dc"
   ]
  },
  {
   "cell_type": "code",
   "execution_count": 2,
   "metadata": {
    "scrolled": true
   },
   "outputs": [
    {
     "name": "stdout",
     "output_type": "stream",
     "text": [
      "Loading broadccrcc v1.0...                     \r"
     ]
    },
    {
     "name": "stderr",
     "output_type": "stream",
     "text": [
      "/Users/humbertogiraldez/opt/anaconda3/lib/python3.9/site-packages/gtfparse/read_gtf.py:82: FutureWarning: The error_bad_lines argument has been deprecated and will be removed in a future version. Use on_bad_lines in the future.\n",
      "\n",
      "\n",
      "  chunk_iterator = pd.read_csv(\n",
      "/Users/humbertogiraldez/opt/anaconda3/lib/python3.9/site-packages/gtfparse/read_gtf.py:82: FutureWarning: The warn_bad_lines argument has been deprecated and will be removed in a future version. Use on_bad_lines in the future.\n",
      "\n",
      "\n",
      "  chunk_iterator = pd.read_csv(\n"
     ]
    },
    {
     "name": "stdout",
     "output_type": "stream",
     "text": [
      "Loading washuccrcc v1.0.........                 \r"
     ]
    },
    {
     "name": "stderr",
     "output_type": "stream",
     "text": [
      "/Users/humbertogiraldez/opt/anaconda3/lib/python3.9/site-packages/cptac/pancan/washuccrcc.py:136: FutureWarning: The frame.append method is deprecated and will be removed from pandas in a future version. Use pandas.concat instead.\n",
      "  all_df = tumor.append(normal)\n",
      "/Users/humbertogiraldez/opt/anaconda3/lib/python3.9/site-packages/cptac/pancan/washuccrcc.py:136: FutureWarning: The frame.append method is deprecated and will be removed from pandas in a future version. Use pandas.concat instead.\n",
      "  all_df = tumor.append(normal)\n",
      "/Users/humbertogiraldez/opt/anaconda3/lib/python3.9/site-packages/cptac/pancan/washuccrcc.py:136: FutureWarning: The frame.append method is deprecated and will be removed from pandas in a future version. Use pandas.concat instead.\n",
      "  all_df = tumor.append(normal)\n"
     ]
    },
    {
     "name": "stdout",
     "output_type": "stream",
     "text": [
      "Loading washuccrcc v1.0..........\r"
     ]
    },
    {
     "name": "stderr",
     "output_type": "stream",
     "text": [
      "/Users/humbertogiraldez/opt/anaconda3/lib/python3.9/site-packages/gtfparse/read_gtf.py:82: FutureWarning: The error_bad_lines argument has been deprecated and will be removed in a future version. Use on_bad_lines in the future.\n",
      "\n",
      "\n",
      "  chunk_iterator = pd.read_csv(\n",
      "/Users/humbertogiraldez/opt/anaconda3/lib/python3.9/site-packages/gtfparse/read_gtf.py:82: FutureWarning: The warn_bad_lines argument has been deprecated and will be removed in a future version. Use on_bad_lines in the future.\n",
      "\n",
      "\n",
      "  chunk_iterator = pd.read_csv(\n"
     ]
    },
    {
     "name": "stdout",
     "output_type": "stream",
     "text": [
      "Loading washuccrcc v1.0...........\r",
      "Loading washuccrcc v1.0............\r",
      "Loading washuccrcc v1.0.............\r",
      "Loading washuccrcc v1.0..............\r",
      "Loading washuccrcc v1.0...............\r",
      "Loading washuccrcc v1.0................\r",
      "Loading washuccrcc v1.0.................\r",
      "Loading washuccrcc v1.0..................\r",
      "                                         \r",
      "Formatting washuccrcc dataframes...\r"
     ]
    },
    {
     "name": "stderr",
     "output_type": "stream",
     "text": [
      "/Users/humbertogiraldez/opt/anaconda3/lib/python3.9/site-packages/cptac/pancan/washuccrcc.py:215: FutureWarning: The frame.append method is deprecated and will be removed from pandas in a future version. Use pandas.concat instead.\n",
      "  rna_combined = rna_tumor.append(rna_normal)\n"
     ]
    },
    {
     "name": "stdout",
     "output_type": "stream",
     "text": [
      "Loading broaducec v1.0...                      \r"
     ]
    },
    {
     "name": "stderr",
     "output_type": "stream",
     "text": [
      "/Users/humbertogiraldez/opt/anaconda3/lib/python3.9/site-packages/gtfparse/read_gtf.py:82: FutureWarning: The error_bad_lines argument has been deprecated and will be removed in a future version. Use on_bad_lines in the future.\n",
      "\n",
      "\n",
      "  chunk_iterator = pd.read_csv(\n",
      "/Users/humbertogiraldez/opt/anaconda3/lib/python3.9/site-packages/gtfparse/read_gtf.py:82: FutureWarning: The warn_bad_lines argument has been deprecated and will be removed in a future version. Use on_bad_lines in the future.\n",
      "\n",
      "\n",
      "  chunk_iterator = pd.read_csv(\n"
     ]
    },
    {
     "name": "stdout",
     "output_type": "stream",
     "text": [
      "Loading washuucec v1.0..........                 \r"
     ]
    },
    {
     "name": "stderr",
     "output_type": "stream",
     "text": [
      "/Users/humbertogiraldez/opt/anaconda3/lib/python3.9/site-packages/gtfparse/read_gtf.py:82: FutureWarning: The error_bad_lines argument has been deprecated and will be removed in a future version. Use on_bad_lines in the future.\n",
      "\n",
      "\n",
      "  chunk_iterator = pd.read_csv(\n",
      "/Users/humbertogiraldez/opt/anaconda3/lib/python3.9/site-packages/gtfparse/read_gtf.py:82: FutureWarning: The warn_bad_lines argument has been deprecated and will be removed in a future version. Use on_bad_lines in the future.\n",
      "\n",
      "\n",
      "  chunk_iterator = pd.read_csv(\n"
     ]
    },
    {
     "name": "stdout",
     "output_type": "stream",
     "text": [
      "Loading washuucec v1.0...........\r",
      "Loading washuucec v1.0............\r",
      "Loading washuucec v1.0.............\r",
      "Loading washuucec v1.0..............\r",
      "Loading washuucec v1.0...............\r",
      "Loading washuucec v1.0................\r",
      "Loading washuucec v1.0.................\r",
      "Loading washuucec v1.0..................\r",
      "                                        \r",
      "Formatting washuucec dataframes...\r"
     ]
    },
    {
     "name": "stderr",
     "output_type": "stream",
     "text": [
      "/Users/humbertogiraldez/opt/anaconda3/lib/python3.9/site-packages/cptac/pancan/washuucec.py:210: FutureWarning: The frame.append method is deprecated and will be removed from pandas in a future version. Use pandas.concat instead.\n",
      "  rna_combined = rna_tumor.append(rna_normal)\n"
     ]
    },
    {
     "name": "stdout",
     "output_type": "stream",
     "text": [
      "Loading broadluad v1.0...                      \r"
     ]
    },
    {
     "name": "stderr",
     "output_type": "stream",
     "text": [
      "/Users/humbertogiraldez/opt/anaconda3/lib/python3.9/site-packages/gtfparse/read_gtf.py:82: FutureWarning: The error_bad_lines argument has been deprecated and will be removed in a future version. Use on_bad_lines in the future.\n",
      "\n",
      "\n",
      "  chunk_iterator = pd.read_csv(\n",
      "/Users/humbertogiraldez/opt/anaconda3/lib/python3.9/site-packages/gtfparse/read_gtf.py:82: FutureWarning: The warn_bad_lines argument has been deprecated and will be removed in a future version. Use on_bad_lines in the future.\n",
      "\n",
      "\n",
      "  chunk_iterator = pd.read_csv(\n"
     ]
    },
    {
     "name": "stdout",
     "output_type": "stream",
     "text": [
      "Loading washuluad v1.0......                     \r"
     ]
    },
    {
     "name": "stderr",
     "output_type": "stream",
     "text": [
      "/Users/humbertogiraldez/opt/anaconda3/lib/python3.9/site-packages/cptac/pancan/washuluad.py:136: FutureWarning: The frame.append method is deprecated and will be removed from pandas in a future version. Use pandas.concat instead.\n",
      "  all_df = tumor.append(normal)\n",
      "/Users/humbertogiraldez/opt/anaconda3/lib/python3.9/site-packages/cptac/pancan/washuluad.py:136: FutureWarning: The frame.append method is deprecated and will be removed from pandas in a future version. Use pandas.concat instead.\n",
      "  all_df = tumor.append(normal)\n",
      "/Users/humbertogiraldez/opt/anaconda3/lib/python3.9/site-packages/cptac/pancan/washuluad.py:136: FutureWarning: The frame.append method is deprecated and will be removed from pandas in a future version. Use pandas.concat instead.\n",
      "  all_df = tumor.append(normal)\n"
     ]
    },
    {
     "name": "stdout",
     "output_type": "stream",
     "text": [
      "Loading washuluad v1.0..........\r"
     ]
    },
    {
     "name": "stderr",
     "output_type": "stream",
     "text": [
      "/Users/humbertogiraldez/opt/anaconda3/lib/python3.9/site-packages/gtfparse/read_gtf.py:82: FutureWarning: The error_bad_lines argument has been deprecated and will be removed in a future version. Use on_bad_lines in the future.\n",
      "\n",
      "\n",
      "  chunk_iterator = pd.read_csv(\n",
      "/Users/humbertogiraldez/opt/anaconda3/lib/python3.9/site-packages/gtfparse/read_gtf.py:82: FutureWarning: The warn_bad_lines argument has been deprecated and will be removed in a future version. Use on_bad_lines in the future.\n",
      "\n",
      "\n",
      "  chunk_iterator = pd.read_csv(\n"
     ]
    },
    {
     "name": "stdout",
     "output_type": "stream",
     "text": [
      "Loading washuluad v1.0...........\r",
      "Loading washuluad v1.0............\r",
      "Loading washuluad v1.0.............\r",
      "Loading washuluad v1.0..............\r",
      "Loading washuluad v1.0...............\r",
      "Loading washuluad v1.0................\r",
      "Loading washuluad v1.0.................\r",
      "Loading washuluad v1.0..................\r",
      "                                        \r",
      "Formatting washuluad dataframes...\r"
     ]
    },
    {
     "name": "stderr",
     "output_type": "stream",
     "text": [
      "/Users/humbertogiraldez/opt/anaconda3/lib/python3.9/site-packages/cptac/pancan/washuluad.py:215: FutureWarning: The frame.append method is deprecated and will be removed from pandas in a future version. Use pandas.concat instead.\n",
      "  rna_combined = rna_tumor.append(rna_normal)\n"
     ]
    },
    {
     "name": "stdout",
     "output_type": "stream",
     "text": [
      "Loading broadhnscc v1.0...                     \r"
     ]
    },
    {
     "name": "stderr",
     "output_type": "stream",
     "text": [
      "/Users/humbertogiraldez/opt/anaconda3/lib/python3.9/site-packages/gtfparse/read_gtf.py:82: FutureWarning: The error_bad_lines argument has been deprecated and will be removed in a future version. Use on_bad_lines in the future.\n",
      "\n",
      "\n",
      "  chunk_iterator = pd.read_csv(\n",
      "/Users/humbertogiraldez/opt/anaconda3/lib/python3.9/site-packages/gtfparse/read_gtf.py:82: FutureWarning: The warn_bad_lines argument has been deprecated and will be removed in a future version. Use on_bad_lines in the future.\n",
      "\n",
      "\n",
      "  chunk_iterator = pd.read_csv(\n"
     ]
    },
    {
     "name": "stdout",
     "output_type": "stream",
     "text": [
      "Loading washuhnscc v1.0......                    \r"
     ]
    },
    {
     "name": "stderr",
     "output_type": "stream",
     "text": [
      "/Users/humbertogiraldez/opt/anaconda3/lib/python3.9/site-packages/cptac/pancan/washuhnscc.py:143: FutureWarning: The frame.append method is deprecated and will be removed from pandas in a future version. Use pandas.concat instead.\n",
      "  all_df = tumor.append(normal)\n",
      "/Users/humbertogiraldez/opt/anaconda3/lib/python3.9/site-packages/cptac/pancan/washuhnscc.py:143: FutureWarning: The frame.append method is deprecated and will be removed from pandas in a future version. Use pandas.concat instead.\n",
      "  all_df = tumor.append(normal)\n",
      "/Users/humbertogiraldez/opt/anaconda3/lib/python3.9/site-packages/cptac/pancan/washuhnscc.py:143: FutureWarning: The frame.append method is deprecated and will be removed from pandas in a future version. Use pandas.concat instead.\n",
      "  all_df = tumor.append(normal)\n"
     ]
    },
    {
     "name": "stdout",
     "output_type": "stream",
     "text": [
      "Loading washuhnscc v1.0..........\r"
     ]
    },
    {
     "name": "stderr",
     "output_type": "stream",
     "text": [
      "/Users/humbertogiraldez/opt/anaconda3/lib/python3.9/site-packages/gtfparse/read_gtf.py:82: FutureWarning: The error_bad_lines argument has been deprecated and will be removed in a future version. Use on_bad_lines in the future.\n",
      "\n",
      "\n",
      "  chunk_iterator = pd.read_csv(\n",
      "/Users/humbertogiraldez/opt/anaconda3/lib/python3.9/site-packages/gtfparse/read_gtf.py:82: FutureWarning: The warn_bad_lines argument has been deprecated and will be removed in a future version. Use on_bad_lines in the future.\n",
      "\n",
      "\n",
      "  chunk_iterator = pd.read_csv(\n"
     ]
    },
    {
     "name": "stdout",
     "output_type": "stream",
     "text": [
      "Formatting washuhnscc dataframes...      \r"
     ]
    },
    {
     "name": "stderr",
     "output_type": "stream",
     "text": [
      "/Users/humbertogiraldez/opt/anaconda3/lib/python3.9/site-packages/cptac/pancan/washuhnscc.py:222: FutureWarning: The frame.append method is deprecated and will be removed from pandas in a future version. Use pandas.concat instead.\n",
      "  rna_combined = rna_tumor.append(rna_normal)\n"
     ]
    },
    {
     "name": "stdout",
     "output_type": "stream",
     "text": [
      "Loading broadlscc v1.0...                      \r"
     ]
    },
    {
     "name": "stderr",
     "output_type": "stream",
     "text": [
      "/Users/humbertogiraldez/opt/anaconda3/lib/python3.9/site-packages/gtfparse/read_gtf.py:82: FutureWarning: The error_bad_lines argument has been deprecated and will be removed in a future version. Use on_bad_lines in the future.\n",
      "\n",
      "\n",
      "  chunk_iterator = pd.read_csv(\n",
      "/Users/humbertogiraldez/opt/anaconda3/lib/python3.9/site-packages/gtfparse/read_gtf.py:82: FutureWarning: The warn_bad_lines argument has been deprecated and will be removed in a future version. Use on_bad_lines in the future.\n",
      "\n",
      "\n",
      "  chunk_iterator = pd.read_csv(\n"
     ]
    },
    {
     "name": "stdout",
     "output_type": "stream",
     "text": [
      "Loading washulscc v1.0......                     \r"
     ]
    },
    {
     "name": "stderr",
     "output_type": "stream",
     "text": [
      "/Users/humbertogiraldez/opt/anaconda3/lib/python3.9/site-packages/cptac/pancan/washulscc.py:142: FutureWarning: The frame.append method is deprecated and will be removed from pandas in a future version. Use pandas.concat instead.\n",
      "  all_df = tumor.append(normal)\n",
      "/Users/humbertogiraldez/opt/anaconda3/lib/python3.9/site-packages/cptac/pancan/washulscc.py:142: FutureWarning: The frame.append method is deprecated and will be removed from pandas in a future version. Use pandas.concat instead.\n",
      "  all_df = tumor.append(normal)\n",
      "/Users/humbertogiraldez/opt/anaconda3/lib/python3.9/site-packages/cptac/pancan/washulscc.py:142: FutureWarning: The frame.append method is deprecated and will be removed from pandas in a future version. Use pandas.concat instead.\n",
      "  all_df = tumor.append(normal)\n"
     ]
    },
    {
     "name": "stdout",
     "output_type": "stream",
     "text": [
      "Loading washulscc v1.0..........\r"
     ]
    },
    {
     "name": "stderr",
     "output_type": "stream",
     "text": [
      "/Users/humbertogiraldez/opt/anaconda3/lib/python3.9/site-packages/gtfparse/read_gtf.py:82: FutureWarning: The error_bad_lines argument has been deprecated and will be removed in a future version. Use on_bad_lines in the future.\n",
      "\n",
      "\n",
      "  chunk_iterator = pd.read_csv(\n",
      "/Users/humbertogiraldez/opt/anaconda3/lib/python3.9/site-packages/gtfparse/read_gtf.py:82: FutureWarning: The warn_bad_lines argument has been deprecated and will be removed in a future version. Use on_bad_lines in the future.\n",
      "\n",
      "\n",
      "  chunk_iterator = pd.read_csv(\n"
     ]
    },
    {
     "name": "stdout",
     "output_type": "stream",
     "text": [
      "Loading washulscc v1.0...........\r",
      "Loading washulscc v1.0............\r",
      "Loading washulscc v1.0.............\r",
      "Loading washulscc v1.0..............\r",
      "Loading washulscc v1.0...............\r",
      "Loading washulscc v1.0................\r",
      "Loading washulscc v1.0.................\r",
      "Loading washulscc v1.0..................\r",
      "                                        \r",
      "Formatting washulscc dataframes...\r"
     ]
    },
    {
     "name": "stderr",
     "output_type": "stream",
     "text": [
      "/Users/humbertogiraldez/opt/anaconda3/lib/python3.9/site-packages/cptac/pancan/washulscc.py:221: FutureWarning: The frame.append method is deprecated and will be removed from pandas in a future version. Use pandas.concat instead.\n",
      "  rna_combined = rna_tumor.append(rna_normal)\n"
     ]
    },
    {
     "name": "stdout",
     "output_type": "stream",
     "text": [
      "                                               \r"
     ]
    }
   ],
   "source": [
    "cancers, cancer_names = dc.load_cancers()"
   ]
  },
  {
   "cell_type": "code",
   "execution_count": 6,
   "metadata": {},
   "outputs": [
    {
     "data": {
      "text/html": [
       "<div>\n",
       "<style scoped>\n",
       "    .dataframe tbody tr th:only-of-type {\n",
       "        vertical-align: middle;\n",
       "    }\n",
       "\n",
       "    .dataframe tbody tr th {\n",
       "        vertical-align: top;\n",
       "    }\n",
       "\n",
       "    .dataframe thead th {\n",
       "        text-align: right;\n",
       "    }\n",
       "</style>\n",
       "<table border=\"1\" class=\"dataframe\">\n",
       "  <thead>\n",
       "    <tr style=\"text-align: right;\">\n",
       "      <th></th>\n",
       "      <th>Patient_ID</th>\n",
       "      <th>Gene</th>\n",
       "      <th>Proteomics</th>\n",
       "      <th>Tissue</th>\n",
       "      <th>Transcriptomics</th>\n",
       "      <th>Stage</th>\n",
       "      <th>Cancer</th>\n",
       "    </tr>\n",
       "  </thead>\n",
       "  <tbody>\n",
       "    <tr>\n",
       "      <th>0</th>\n",
       "      <td>C3L-00004</td>\n",
       "      <td>A1BG</td>\n",
       "      <td>-0.607491</td>\n",
       "      <td>Tumor</td>\n",
       "      <td>0.052750</td>\n",
       "      <td>Cancer</td>\n",
       "      <td>CCRCC</td>\n",
       "    </tr>\n",
       "    <tr>\n",
       "      <th>1</th>\n",
       "      <td>C3L-00004</td>\n",
       "      <td>A1CF</td>\n",
       "      <td>0.569688</td>\n",
       "      <td>Tumor</td>\n",
       "      <td>15.287382</td>\n",
       "      <td>Cancer</td>\n",
       "      <td>CCRCC</td>\n",
       "    </tr>\n",
       "    <tr>\n",
       "      <th>2</th>\n",
       "      <td>C3L-00004</td>\n",
       "      <td>A2M</td>\n",
       "      <td>-0.104659</td>\n",
       "      <td>Tumor</td>\n",
       "      <td>248.815386</td>\n",
       "      <td>Cancer</td>\n",
       "      <td>CCRCC</td>\n",
       "    </tr>\n",
       "    <tr>\n",
       "      <th>3</th>\n",
       "      <td>C3L-00004</td>\n",
       "      <td>AAAS</td>\n",
       "      <td>0.213441</td>\n",
       "      <td>Tumor</td>\n",
       "      <td>8.623087</td>\n",
       "      <td>Cancer</td>\n",
       "      <td>CCRCC</td>\n",
       "    </tr>\n",
       "    <tr>\n",
       "      <th>4</th>\n",
       "      <td>C3L-00004</td>\n",
       "      <td>AACS</td>\n",
       "      <td>-0.572142</td>\n",
       "      <td>Tumor</td>\n",
       "      <td>0.635875</td>\n",
       "      <td>Cancer</td>\n",
       "      <td>CCRCC</td>\n",
       "    </tr>\n",
       "    <tr>\n",
       "      <th>...</th>\n",
       "      <td>...</td>\n",
       "      <td>...</td>\n",
       "      <td>...</td>\n",
       "      <td>...</td>\n",
       "      <td>...</td>\n",
       "      <td>...</td>\n",
       "      <td>...</td>\n",
       "    </tr>\n",
       "    <tr>\n",
       "      <th>2253082</th>\n",
       "      <td>C3N-04162.N</td>\n",
       "      <td>ZWINT</td>\n",
       "      <td>0.005451</td>\n",
       "      <td>Normal</td>\n",
       "      <td>3.179964</td>\n",
       "      <td>Normal</td>\n",
       "      <td>LSCC</td>\n",
       "    </tr>\n",
       "    <tr>\n",
       "      <th>2253083</th>\n",
       "      <td>C3N-04162.N</td>\n",
       "      <td>ZXDC</td>\n",
       "      <td>-0.829120</td>\n",
       "      <td>Normal</td>\n",
       "      <td>11.526105</td>\n",
       "      <td>Normal</td>\n",
       "      <td>LSCC</td>\n",
       "    </tr>\n",
       "    <tr>\n",
       "      <th>2253084</th>\n",
       "      <td>C3N-04162.N</td>\n",
       "      <td>ZYG11B</td>\n",
       "      <td>0.090636</td>\n",
       "      <td>Normal</td>\n",
       "      <td>12.824536</td>\n",
       "      <td>Normal</td>\n",
       "      <td>LSCC</td>\n",
       "    </tr>\n",
       "    <tr>\n",
       "      <th>2253085</th>\n",
       "      <td>C3N-04162.N</td>\n",
       "      <td>ZYX</td>\n",
       "      <td>0.159080</td>\n",
       "      <td>Normal</td>\n",
       "      <td>41.271571</td>\n",
       "      <td>Normal</td>\n",
       "      <td>LSCC</td>\n",
       "    </tr>\n",
       "    <tr>\n",
       "      <th>2253086</th>\n",
       "      <td>C3N-04162.N</td>\n",
       "      <td>ZZEF1</td>\n",
       "      <td>0.285238</td>\n",
       "      <td>Normal</td>\n",
       "      <td>15.000066</td>\n",
       "      <td>Normal</td>\n",
       "      <td>LSCC</td>\n",
       "    </tr>\n",
       "  </tbody>\n",
       "</table>\n",
       "<p>8666362 rows × 7 columns</p>\n",
       "</div>"
      ],
      "text/plain": [
       "          Patient_ID    Gene  Proteomics  Tissue  Transcriptomics   Stage  \\\n",
       "0          C3L-00004    A1BG   -0.607491   Tumor         0.052750  Cancer   \n",
       "1          C3L-00004    A1CF    0.569688   Tumor        15.287382  Cancer   \n",
       "2          C3L-00004     A2M   -0.104659   Tumor       248.815386  Cancer   \n",
       "3          C3L-00004    AAAS    0.213441   Tumor         8.623087  Cancer   \n",
       "4          C3L-00004    AACS   -0.572142   Tumor         0.635875  Cancer   \n",
       "...              ...     ...         ...     ...              ...     ...   \n",
       "2253082  C3N-04162.N   ZWINT    0.005451  Normal         3.179964  Normal   \n",
       "2253083  C3N-04162.N    ZXDC   -0.829120  Normal        11.526105  Normal   \n",
       "2253084  C3N-04162.N  ZYG11B    0.090636  Normal        12.824536  Normal   \n",
       "2253085  C3N-04162.N     ZYX    0.159080  Normal        41.271571  Normal   \n",
       "2253086  C3N-04162.N   ZZEF1    0.285238  Normal        15.000066  Normal   \n",
       "\n",
       "        Cancer  \n",
       "0        CCRCC  \n",
       "1        CCRCC  \n",
       "2        CCRCC  \n",
       "3        CCRCC  \n",
       "4        CCRCC  \n",
       "...        ...  \n",
       "2253082   LSCC  \n",
       "2253083   LSCC  \n",
       "2253084   LSCC  \n",
       "2253085   LSCC  \n",
       "2253086   LSCC  \n",
       "\n",
       "[8666362 rows x 7 columns]"
      ]
     },
     "execution_count": 6,
     "metadata": {},
     "output_type": "execute_result"
    }
   ],
   "source": [
    "cancer_dfs = []\n",
    "for cancer, cancer_name in zip(cancers, cancer_names):    \n",
    "    if cancer_name == 'CCRCC':\n",
    "        stage = cancer.get_clinical(tissue_type='tumor')[['baseline/tumor_stage_pathological']]\n",
    "        stage['Patient_ID'] = stage.index\n",
    "        stage = stage.rename(columns = {'baseline/tumor_stage_pathological': 'Stage'})\n",
    "        stage = stage.reset_index(level = 0, drop = True)\n",
    "        stages = []\n",
    "        for s in stage['Stage']:\n",
    "            if s in [\"IA\", \"Stage I\", \"Stage 1B\", \"Stage IB\", \"Stage IA\", \"Stage IA3\"]:\n",
    "                stages.append('Cancer')\n",
    "            elif s in [\"Stage II\", \"Stage IIA\", \"Stage IIB\", \"IIB\" ]:\n",
    "                stages.append('Cancer')\n",
    "            elif s in [\"Stage III\", \"Stage IIIA\", \"IIIA\", \"Stage IIIB\" ]:\n",
    "                stages.append('Cancer')\n",
    "            elif s in [\"Stage IV\", \"IVB\"]:\n",
    "                stages.append('Cancer')\n",
    "            else:\n",
    "                stages.append(float('NaN'))\n",
    "        stage['Stage'] = stages\n",
    "    elif cancer_name == 'LUAD' or cancer_name == 'LSCC':\n",
    "        stage = cancer.get_clinical(tissue_type='tumor')[['baseline/tumor_stage_pathological']]\n",
    "        stage['Patient_ID'] = stage.index\n",
    "        stage = stage.rename(columns = {'baseline/tumor_stage_pathological': 'Stage'})\n",
    "        stage = stage.reset_index(level = 0, drop = True)\n",
    "        stages = []\n",
    "        for s in stage['Stage']:\n",
    "            if s in [\"IA\", \"Stage I\", \"Stage 1B\", \"Stage IB\", \"Stage IA\", \"Stage IA3\"]:\n",
    "                stages.append('Cancer')\n",
    "            elif s in [\"Stage II\", \"Stage IIA\", \"Stage IIB\", \"IIB\" ]:\n",
    "                stages.append('Cancer')\n",
    "            elif s in [\"Stage III\", \"Stage IIIA\", \"IIIA\", \"Stage IIIB\" ]:\n",
    "                stages.append('Cancer')\n",
    "            elif s in [\"Stage IV\", \"IVB\"]:\n",
    "                stages.append('Cancer')\n",
    "            else:\n",
    "                stages.append(float('NaN'))\n",
    "        stage['Stage'] = stages\n",
    "    elif cancer_name == 'Endometrial':\n",
    "        stage = cancer.get_clinical(tissue_type='tumor')[['baseline/tumor_stage_pathological']]\n",
    "        stage = stage.rename(columns = {'baseline/tumor_stage_pathological': 'Stage'})\n",
    "        stage['Patient_ID'] = stage.index\n",
    "        stage = stage.rename(columns = {'FIGO_stage': 'Stage'})\n",
    "        stage = stage.reset_index(level = 0, drop = True)\n",
    "        stages = []\n",
    "        for s in stage['Stage']:\n",
    "            if s in [\"IA\", \"Stage I\", \"Stage 1B\", \"Stage IB\", \"Stage IA\", \"Stage IA3\"]:\n",
    "                stages.append('Cancer')\n",
    "            elif s in [\"Stage II\", \"Stage IIA\", \"Stage IIB\", \"IIB\" ]:\n",
    "                stages.append('Cancer')\n",
    "            elif s in [\"Stage III\", \"Stage IIIA\", \"IIIA\", \"Stage IIIB\" ]:\n",
    "                stages.append('Cancer')\n",
    "            elif s in [\"Stage IV\", \"IVB\"]:\n",
    "                stages.append('Cancer')\n",
    "            else:\n",
    "                stages.append(float('NaN'))\n",
    "        stage['Stage'] = stages\n",
    "    elif cancer_name == 'HNSCC':\n",
    "        stage = cancer.get_clinical(tissue_type='tumor')[['baseline/tumor_stage_pathological']]\n",
    "        stage = stage.rename(columns = {'baseline/tumor_stage_pathological': 'Stage'})\n",
    "        stage['Patient_ID'] = stage.index\n",
    "        stage = stage.rename(columns = {'patho_staging_curated': 'Stage'})\n",
    "        stage = stage.reset_index(level = 0, drop = True)\n",
    "        stages = []\n",
    "        for s in stage['Stage']:\n",
    "            if s in [\"IA\", \"Stage I\", \"Stage 1B\", \"Stage IB\", \"Stage IA\", \"Stage IA3\"]:\n",
    "                stages.append('Cancer')\n",
    "            elif s in [\"Stage II\", \"Stage IIA\", \"Stage IIB\", \"IIB\" ]:\n",
    "                stages.append('Cancer')\n",
    "            elif s in [\"Stage III\", \"Stage IIIA\", \"IIIA\", \"Stage IIIB\" ]:\n",
    "                stages.append('Cancer')\n",
    "            elif s in [\"Stage IV\", \"IVB\"]:\n",
    "                stages.append('Cancer')\n",
    "            else:\n",
    "                stages.append(float('NaN'))\n",
    "        stage['Stage'] = stages\n",
    "        \n",
    "    elif cancer_name == 'PDAC':\n",
    "        stage = cancer.get_clinical(tissue_type='tumor')[['baseline/tumor_stage_pathological']]\n",
    "        stage['Patient_ID'] = stage.index\n",
    "        stage = stage.rename(columns = {'baseline/tumor_stage_pathological': 'Stage'})\n",
    "        stage = stage.reset_index(level = 0, drop = True)\n",
    "        stages = []\n",
    "        for s in stage['Stage']:\n",
    "            if s in [\"IA\", \"Stage I\", \"Stage 1B\", \"Stage IB\", \"Stage IA\", \"Stage IA3\"]:\n",
    "                stages.append('Cancer')\n",
    "            elif s in [\"Stage II\", \"Stage IIA\", \"Stage IIB\", \"IIB\" ]:\n",
    "                stages.append('Cancer')\n",
    "            elif s in [\"Stage III\", \"Stage IIIA\", \"IIIA\", \"Stage IIIB\" ]:\n",
    "                stages.append('Cancer')\n",
    "            elif s in [\"Stage IV\", \"IVB\"]:\n",
    "                stages.append('Cancer')\n",
    "            else:\n",
    "                stages.append(float('NaN'))\n",
    "        stage['Stage'] = stages\n",
    "    stage = stage.dropna()\n",
    "    cancer_df = dc.get_prot_trans_df(cancer)\n",
    "    cancer_df = cancer_df.dropna()\n",
    "    cancer_df.rename(columns = {'Name':'Patient_ID'}, inplace = True)\n",
    "    cancer_df = pd.merge(cancer_df, stage, how = 'outer')\n",
    "    cancer_df[['Stage']] = cancer_df[['Stage']].fillna(value='Normal')\n",
    "    cancer_df = cancer_df.dropna()\n",
    "    cancer_df['Cancer'] = [cancer_name] * len(cancer_df)\n",
    "    cancer_dfs.append(cancer_df)\n",
    "prot_trans_stages_df = pd.concat(cancer_dfs)\n",
    "prot_trans_stages_df"
   ]
  },
  {
   "cell_type": "code",
   "execution_count": 7,
   "metadata": {},
   "outputs": [
    {
     "data": {
      "text/html": [
       "<div>\n",
       "<style scoped>\n",
       "    .dataframe tbody tr th:only-of-type {\n",
       "        vertical-align: middle;\n",
       "    }\n",
       "\n",
       "    .dataframe tbody tr th {\n",
       "        vertical-align: top;\n",
       "    }\n",
       "\n",
       "    .dataframe thead th {\n",
       "        text-align: right;\n",
       "    }\n",
       "</style>\n",
       "<table border=\"1\" class=\"dataframe\">\n",
       "  <thead>\n",
       "    <tr style=\"text-align: right;\">\n",
       "      <th></th>\n",
       "      <th>Cancer</th>\n",
       "      <th>Stage</th>\n",
       "      <th>Gene</th>\n",
       "      <th>Spearman_Rho</th>\n",
       "    </tr>\n",
       "  </thead>\n",
       "  <tbody>\n",
       "    <tr>\n",
       "      <th>0</th>\n",
       "      <td>CCRCC</td>\n",
       "      <td>Cancer</td>\n",
       "      <td>A1BG</td>\n",
       "      <td>0.053238</td>\n",
       "    </tr>\n",
       "    <tr>\n",
       "      <th>1</th>\n",
       "      <td>CCRCC</td>\n",
       "      <td>Cancer</td>\n",
       "      <td>A1CF</td>\n",
       "      <td>0.938120</td>\n",
       "    </tr>\n",
       "    <tr>\n",
       "      <th>2</th>\n",
       "      <td>CCRCC</td>\n",
       "      <td>Cancer</td>\n",
       "      <td>A2M</td>\n",
       "      <td>0.012375</td>\n",
       "    </tr>\n",
       "    <tr>\n",
       "      <th>4</th>\n",
       "      <td>CCRCC</td>\n",
       "      <td>Cancer</td>\n",
       "      <td>AAAS</td>\n",
       "      <td>0.213579</td>\n",
       "    </tr>\n",
       "    <tr>\n",
       "      <th>5</th>\n",
       "      <td>CCRCC</td>\n",
       "      <td>Cancer</td>\n",
       "      <td>AACS</td>\n",
       "      <td>0.742804</td>\n",
       "    </tr>\n",
       "    <tr>\n",
       "      <th>...</th>\n",
       "      <td>...</td>\n",
       "      <td>...</td>\n",
       "      <td>...</td>\n",
       "      <td>...</td>\n",
       "    </tr>\n",
       "    <tr>\n",
       "      <th>114037</th>\n",
       "      <td>LUAD</td>\n",
       "      <td>Normal</td>\n",
       "      <td>ZWINT</td>\n",
       "      <td>0.011420</td>\n",
       "    </tr>\n",
       "    <tr>\n",
       "      <th>114038</th>\n",
       "      <td>LUAD</td>\n",
       "      <td>Normal</td>\n",
       "      <td>ZXDC</td>\n",
       "      <td>0.103343</td>\n",
       "    </tr>\n",
       "    <tr>\n",
       "      <th>114039</th>\n",
       "      <td>LUAD</td>\n",
       "      <td>Normal</td>\n",
       "      <td>ZYG11B</td>\n",
       "      <td>-0.263797</td>\n",
       "    </tr>\n",
       "    <tr>\n",
       "      <th>114040</th>\n",
       "      <td>LUAD</td>\n",
       "      <td>Normal</td>\n",
       "      <td>ZYX</td>\n",
       "      <td>0.011625</td>\n",
       "    </tr>\n",
       "    <tr>\n",
       "      <th>114041</th>\n",
       "      <td>LUAD</td>\n",
       "      <td>Normal</td>\n",
       "      <td>ZZEF1</td>\n",
       "      <td>0.195760</td>\n",
       "    </tr>\n",
       "  </tbody>\n",
       "</table>\n",
       "<p>106957 rows × 4 columns</p>\n",
       "</div>"
      ],
      "text/plain": [
       "       Cancer   Stage    Gene  Spearman_Rho\n",
       "0       CCRCC  Cancer    A1BG      0.053238\n",
       "1       CCRCC  Cancer    A1CF      0.938120\n",
       "2       CCRCC  Cancer     A2M      0.012375\n",
       "4       CCRCC  Cancer    AAAS      0.213579\n",
       "5       CCRCC  Cancer    AACS      0.742804\n",
       "...       ...     ...     ...           ...\n",
       "114037   LUAD  Normal   ZWINT      0.011420\n",
       "114038   LUAD  Normal    ZXDC      0.103343\n",
       "114039   LUAD  Normal  ZYG11B     -0.263797\n",
       "114040   LUAD  Normal     ZYX      0.011625\n",
       "114041   LUAD  Normal   ZZEF1      0.195760\n",
       "\n",
       "[106957 rows x 4 columns]"
      ]
     },
     "execution_count": 7,
     "metadata": {},
     "output_type": "execute_result"
    }
   ],
   "source": [
    "df = prot_trans_stages_df\n",
    "df = df.drop(columns = 'Patient_ID')\n",
    "grouped_stages = df.groupby(['Cancer', 'Stage', 'Gene'])\n",
    "corr_df = grouped_stages.apply(lambda x: x.corr(method = 'spearman', min_periods = 10).iloc[0][1])\n",
    "corr_df = pd.DataFrame(corr_df, columns = ['Spearman_Rho'])\n",
    "corr_df.reset_index(inplace = True)\n",
    "corr_df = corr_df.dropna()\n",
    "corr_df\n"
   ]
  },
  {
   "cell_type": "code",
   "execution_count": 8,
   "metadata": {},
   "outputs": [],
   "source": [
    "corr_df.to_csv('Cancer_stages_correlations.csv', index = False)"
   ]
  },
  {
   "cell_type": "code",
   "execution_count": null,
   "metadata": {},
   "outputs": [],
   "source": []
  }
 ],
 "metadata": {
  "kernelspec": {
   "display_name": "Python 3 (ipykernel)",
   "language": "python",
   "name": "python3"
  },
  "language_info": {
   "codemirror_mode": {
    "name": "ipython",
    "version": 3
   },
   "file_extension": ".py",
   "mimetype": "text/x-python",
   "name": "python",
   "nbconvert_exporter": "python",
   "pygments_lexer": "ipython3",
   "version": "3.9.12"
  }
 },
 "nbformat": 4,
 "nbformat_minor": 4
}
