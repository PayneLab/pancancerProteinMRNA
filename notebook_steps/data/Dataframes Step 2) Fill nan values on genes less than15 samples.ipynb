{
 "cells": [
  {
   "cell_type": "code",
   "execution_count": 1,
   "metadata": {},
   "outputs": [],
   "source": [
    "import pandas as pd\n",
    "import math\n",
    "import scipy\n",
    "from scipy import stats\n",
    "import seaborn as sns\n",
    "import matplotlib.pyplot as plt\n",
    "import cptac\n",
    "import cptac.utils as ut\n",
    "import copy\n",
    "import numpy as np"
   ]
  },
  {
   "cell_type": "code",
   "execution_count": 2,
   "metadata": {
    "scrolled": false
   },
   "outputs": [
    {
     "name": "stdout",
     "output_type": "stream",
     "text": [
      "                                                \r"
     ]
    },
    {
     "name": "stderr",
     "output_type": "stream",
     "text": [
      "cptac warning: The LSCC data is currently strictly reserved for CPTAC investigators. Otherwise, you are not authorized to access these data. Additionally, even after these data become publicly available, they will be subject to a publication embargo (see https://proteomics.cancer.gov/data-portal/about/data-use-agreement or enter cptac.embargo() to open the webpage for more details). (<ipython-input-2-ec2884862cde>, line 9)\n"
     ]
    }
   ],
   "source": [
    "brca = cptac.Brca()\n",
    "ccrcc = cptac.Ccrcc()\n",
    "colon = cptac.Colon()\n",
    "en = cptac.Endometrial()\n",
    "gbm = cptac.Gbm()\n",
    "luad = cptac.Luad()\n",
    "ovarian = cptac.Ovarian()\n",
    "hnscc = cptac.Hnscc()\n",
    "lscc = cptac.Lscc()"
   ]
  },
  {
   "cell_type": "markdown",
   "metadata": {},
   "source": [
    "# Get dataframes to correct"
   ]
  },
  {
   "cell_type": "code",
   "execution_count": 3,
   "metadata": {},
   "outputs": [],
   "source": [
    "perm_corrected = pd.read_csv(\"full_10k_permutation_corrected.csv\")\n",
    "corr_diff = pd.read_csv(\"corr_diff.csv\")\n",
    "corr_df = pd.read_csv(\"correlations_dataframe.csv\")#this one wait\n",
    "pval_df = pd.read_csv(\"p_val.csv\")\n",
    "all_genes = (list(pd.read_csv(\"gene_list.csv\").columns))"
   ]
  },
  {
   "cell_type": "markdown",
   "metadata": {},
   "source": [
    "# Get tumor and normal data to check minimum sample number"
   ]
  },
  {
   "cell_type": "code",
   "execution_count": 4,
   "metadata": {},
   "outputs": [
    {
     "name": "stderr",
     "output_type": "stream",
     "text": [
      "cptac warning: Due to dropping the specified levels, dataframe now has 907 duplicated column headers. (<ipython-input-4-e211584053b8>, line 1)\n",
      "cptac warning: transcriptomics data was not found for the following samples, so transcriptomics data columns were filled with NaN for these samples: C3L-00183.N, C3L-00791.N, C3N-00246.N, C3N-00312.N, C3N-00317.N, C3N-00320.N, C3N-00437.N, C3N-00492.N, C3N-00953.N (<ipython-input-4-e211584053b8>, line 2)\n",
      "cptac warning: Due to dropping the specified levels, dataframe now has 907 duplicated column headers. (<ipython-input-4-e211584053b8>, line 2)\n"
     ]
    }
   ],
   "source": [
    "ccrcc_prot_trans_tumor = (ut.reduce_multiindex(df=ccrcc.join_omics_to_omics(df1_name=\"proteomics\", df2_name=\"transcriptomics\", tissue_type=\"tumor\"), levels_to_drop=\"Database_ID\"))\n",
    "ccrcc_prot_trans_normal = (ut.reduce_multiindex(df=ccrcc.join_omics_to_omics(df1_name=\"proteomics\", df2_name=\"transcriptomics\", tissue_type=\"normal\"), levels_to_drop=\"Database_ID\"))\n",
    "\n",
    "ccrcc_prot_trans_tumor = ccrcc_prot_trans_tumor.loc[:,~ccrcc_prot_trans_tumor.columns.duplicated()]\n",
    "ccrcc_prot_trans_normal = ccrcc_prot_trans_normal.loc[:,~ccrcc_prot_trans_normal.columns.duplicated()]\n",
    "\n"
   ]
  },
  {
   "cell_type": "code",
   "execution_count": 5,
   "metadata": {
    "scrolled": true
   },
   "outputs": [
    {
     "name": "stderr",
     "output_type": "stream",
     "text": [
      "cptac warning: transcriptomics data was not found for the following samples, so transcriptomics data columns were filled with NaN for these samples: C3L-00563.N, C3L-00605.N, C3L-00769.N, C3L-00770.N, C3L-00771.N, C3L-00930.N, C3L-00947.N, C3L-00963.N, C3L-01246.N, C3L-01249.N, C3L-01252.N, C3L-01256.N, C3L-01257.N, C3L-01744.N, C3N-00200.N, C3N-00729.N, C3N-01211.N, NX1.N, NX10.N, NX11.N, NX12.N, NX13.N, NX14.N, NX15.N, NX16.N, NX17.N, NX18.N, NX2.N, NX3.N, NX4.N, NX5.N, NX6.N, NX7.N, NX8.N, NX9.N (<ipython-input-5-667cf0d856a9>, line 2)\n"
     ]
    }
   ],
   "source": [
    "en_prot_trans_tumor = en.join_omics_to_omics(df1_name=\"proteomics\", df2_name=\"transcriptomics\", tissue_type=\"tumor\")\n",
    "en_prot_trans_normal = en.join_omics_to_omics(df1_name=\"proteomics\", df2_name=\"transcriptomics\", tissue_type=\"normal\")\n"
   ]
  },
  {
   "cell_type": "code",
   "execution_count": 6,
   "metadata": {},
   "outputs": [
    {
     "name": "stderr",
     "output_type": "stream",
     "text": [
      "cptac warning: Due to dropping the specified levels, dataframe now has 745 duplicated column headers. (<ipython-input-6-a251c483c914>, line 1)\n",
      "cptac warning: Due to dropping the specified levels, dataframe now has 745 duplicated column headers. (<ipython-input-6-a251c483c914>, line 2)\n"
     ]
    }
   ],
   "source": [
    "luad_prot_trans_tumor = ut.reduce_multiindex(df=luad.join_omics_to_omics(df1_name=\"proteomics\", df2_name=\"transcriptomics\", tissue_type=\"tumor\"), levels_to_drop=\"Database_ID\")\n",
    "luad_prot_trans_normal = ut.reduce_multiindex(df=luad.join_omics_to_omics(df1_name=\"proteomics\", df2_name=\"transcriptomics\", tissue_type=\"normal\"), levels_to_drop=\"Database_ID\")\n",
    "\n",
    "luad_prot_trans_tumor = luad_prot_trans_tumor.loc[:,~luad_prot_trans_tumor.columns.duplicated()]\n",
    "luad_prot_trans_normal = luad_prot_trans_normal.loc[:,~luad_prot_trans_normal.columns.duplicated()]\n",
    "\n"
   ]
  },
  {
   "cell_type": "code",
   "execution_count": 7,
   "metadata": {
    "scrolled": true
   },
   "outputs": [
    {
     "name": "stderr",
     "output_type": "stream",
     "text": [
      "cptac warning: transcriptomics data was not found for the following samples, so transcriptomics data columns were filled with NaN for these samples: C3L-00994.C, C3L-02617.C, C3L-04350.C, C3L-04354.N, C3L-04844.N, C3L-05257.C, C3N-00295.N, C3N-00829.N, C3N-00857.N, C3N-01620.N, C3N-01757.C, C3N-01758.N, C3N-01858.N, C3N-01859.N, C3N-02693.N, C3N-03008.N, C3N-03011.N, C3N-03012.N, C3N-03013.N, C3N-03015.N, C3N-03042.C, C3N-03781.N, C3N-04275.N, C3N-04276.N, C3N-04277.N, C3N-04278.N, C3N-04279.N (<ipython-input-7-31a112e48ffa>, line 2)\n",
      "cptac warning: proteomics data was not found for the following samples, so proteomics data columns were filled with NaN for these samples: C3L-00977.N, C3L-04025.N, C3N-01948.N, C3N-02333.N, C3N-02727.N, C3N-02925.N, C3N-03226.N, C3N-03487.N, C3N-03889.N, C3N-04152.N, C3N-04611.N (<ipython-input-7-31a112e48ffa>, line 2)\n"
     ]
    }
   ],
   "source": [
    "hnscc_prot_luad_tumor = hnscc.join_omics_to_omics(df1_name=\"proteomics\", df2_name=\"transcriptomics\", tissue_type=\"tumor\")\n",
    "hnscc_prot_luad_normal = hnscc.join_omics_to_omics(df1_name=\"proteomics\", df2_name=\"transcriptomics\", tissue_type=\"normal\")\n",
    "\n"
   ]
  },
  {
   "cell_type": "code",
   "execution_count": 8,
   "metadata": {},
   "outputs": [
    {
     "name": "stderr",
     "output_type": "stream",
     "text": [
      "cptac warning: Due to dropping the specified levels, dataframe now has 858 duplicated column headers. (<ipython-input-8-fefd7eb15fae>, line 1)\n",
      "cptac warning: transcriptomics data was not found for the following samples, so transcriptomics data columns were filled with NaN for these samples: C3L-02646.N, C3N-03072.N, C3N-03662.N, C3N-03886.N, C3N-04155.N (<ipython-input-8-fefd7eb15fae>, line 2)\n",
      "cptac warning: Due to dropping the specified levels, dataframe now has 858 duplicated column headers. (<ipython-input-8-fefd7eb15fae>, line 2)\n"
     ]
    }
   ],
   "source": [
    "lscc_prot_trans_tumor = ut.reduce_multiindex(df=lscc.join_omics_to_omics(df1_name=\"proteomics\", df2_name=\"transcriptomics\", tissue_type=\"tumor\"), levels_to_drop=\"Database_ID\")\n",
    "lscc_prot_trans_normal = ut.reduce_multiindex(df=lscc.join_omics_to_omics(df1_name=\"proteomics\", df2_name=\"transcriptomics\", tissue_type=\"normal\"), levels_to_drop=\"Database_ID\")\n",
    "\n",
    "\n",
    "lscc_prot_trans_tumor = lscc_prot_trans_tumor.loc[:,~lscc_prot_trans_tumor.columns.duplicated()]\n",
    "lscc_prot_trans_normal = lscc_prot_trans_normal.loc[:,~lscc_prot_trans_normal.columns.duplicated()]\n",
    "\n"
   ]
  },
  {
   "cell_type": "code",
   "execution_count": 9,
   "metadata": {},
   "outputs": [],
   "source": [
    "tissue_list = [[ccrcc_prot_trans_tumor,ccrcc_prot_trans_normal],[en_prot_trans_tumor, en_prot_trans_normal],[luad_prot_trans_tumor, luad_prot_trans_normal],[hnscc_prot_luad_tumor, hnscc_prot_luad_normal],[lscc_prot_trans_tumor, lscc_prot_trans_normal]]\n",
    "order = [\"ccrcc\", \"en\", \"luad\", \"hnscc\", \"lscc\"]\n"
   ]
  },
  {
   "cell_type": "markdown",
   "metadata": {},
   "source": [
    "# Function to fix dataframe"
   ]
  },
  {
   "cell_type": "code",
   "execution_count": 10,
   "metadata": {},
   "outputs": [],
   "source": [
    "def fix_df(df, genes, tissues, order):\n",
    "\n",
    "    correct_dp = copy.deepcopy(df.set_index(\"Cancer\"))             \n",
    "    data = {}\n",
    "    data[\"Cancer\"] = order\n",
    "    genes_in_df = correct_dp.columns\n",
    "    for i in genes_in_df:\n",
    "        data[i] = []\n",
    "    \n",
    "    for i in genes_in_df:\n",
    "        for index, value in enumerate(tissues):\n",
    "            if (i+\"_proteomics\") in value[0].columns and (i+\"_transcriptomics\") in value[0].columns and (i+\"_proteomics\") in value[1].columns and (i+\"_transcriptomics\") in value[1].columns:\n",
    "                if (len(value[0][i+\"_proteomics\"].dropna())) > 10 and (len(value[0][i+\"_transcriptomics\"].dropna())) and (len(value[1][i+\"_proteomics\"].dropna())) and (len(value[1][i+\"_transcriptomics\"].dropna())):\n",
    "                    data[i].append(correct_dp.iloc[index][i])\n",
    "                else:\n",
    "                    data[i].append(np.nan)\n",
    "            else:\n",
    "                    data[i].append(np.nan)\n",
    "                    \n",
    "    return(pd.DataFrame(data))\n",
    "\n"
   ]
  },
  {
   "cell_type": "markdown",
   "metadata": {},
   "source": [
    "# Dataframe output"
   ]
  },
  {
   "cell_type": "code",
   "execution_count": 12,
   "metadata": {},
   "outputs": [],
   "source": [
    "perm_corrected = fix_df(perm_corrected, all_genes, tissue_list, order).set_index(\"Cancer\")\n",
    "corr_diff = fix_df(corr_diff, all_genes, tissue_list, order).set_index(\"Cancer\")\n",
    "pval_df = fix_df(pval_df, all_genes, tissue_list, order).set_index(\"Cancer\")\n"
   ]
  },
  {
   "cell_type": "code",
   "execution_count": 13,
   "metadata": {},
   "outputs": [],
   "source": [
    "new_index_corr_diff = list(corr_diff.index)\n",
    "new_index_corr_diff[1] = \"endometrial\"\n",
    "corr_diff.index = new_index_corr_diff\n"
   ]
  },
  {
   "cell_type": "code",
   "execution_count": 14,
   "metadata": {},
   "outputs": [],
   "source": [
    "perm_corrected.to_csv(\"full_10k_permutation_corrected.csv\")\n",
    "corr_diff.to_csv(\"corr_diff.csv\")\n",
    "pval_df.to_csv(\"p_val.csv\")\n"
   ]
  }
 ],
 "metadata": {
  "kernelspec": {
   "display_name": "Python 3",
   "language": "python",
   "name": "python3"
  },
  "language_info": {
   "codemirror_mode": {
    "name": "ipython",
    "version": 3
   },
   "file_extension": ".py",
   "mimetype": "text/x-python",
   "name": "python",
   "nbconvert_exporter": "python",
   "pygments_lexer": "ipython3",
   "version": "3.8.3"
  }
 },
 "nbformat": 4,
 "nbformat_minor": 4
}
