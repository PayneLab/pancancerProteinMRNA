{
 "cells": [
  {
   "cell_type": "code",
   "execution_count": 1,
   "metadata": {},
   "outputs": [],
   "source": [
    "import cptac\n",
    "import cptac.utils as ut\n",
    "import pandas as pd"
   ]
  },
  {
   "cell_type": "code",
   "execution_count": null,
   "metadata": {},
   "outputs": [
    {
     "name": "stdout",
     "output_type": "stream",
     "text": [
      "Loading luad v3.1.1........                     \r"
     ]
    }
   ],
   "source": [
    "ccrcc = cptac.Ccrcc()\n",
    "en = cptac.Endometrial()\n",
    "luad = cptac.Luad()\n",
    "hnscc  = cptac.Hnscc()\n",
    "lscc = cptac.Lscc()\n",
    "pdac = cptac.Pdac()"
   ]
  },
  {
   "cell_type": "code",
   "execution_count": null,
   "metadata": {},
   "outputs": [],
   "source": [
    "cancers = [ccrcc, en, luad, hnscc, lscc, pdac]\n",
    "cancer_names = ['CCRCC', 'Endometrial', 'LUAD', 'HNSCC', 'LSCC', 'PDAC']"
   ]
  },
  {
   "cell_type": "code",
   "execution_count": null,
   "metadata": {
    "scrolled": false
   },
   "outputs": [],
   "source": [
    "cancer_dfs = []\n",
    "for cancer, cancer_name in zip(cancers, cancer_names):\n",
    "    prot_normal_df = cancer.get_proteomics('normal')\n",
    "    if isinstance(prot_normal_df.columns, pd.MultiIndex):\n",
    "        prot_normal_df = ut.reduce_multiindex(df= prot_normal_df, levels_to_drop = 'Database_ID')\n",
    "    trans_normal_df = cancer.get_transcriptomics('normal')\n",
    "    if isinstance(trans_normal_df.columns, pd.MultiIndex):\n",
    "        trans_normal_df = ut.reduce_multiindex(df = trans_normal_df, levels_to_drop='Database_ID')\n",
    "    prot_normal_df['Patient_ID'] = prot_normal_df.index\n",
    "    trans_normal_df['Patient_ID'] = trans_normal_df.index\n",
    "    prot_normal_df = prot_normal_df.melt(id_vars = 'Patient_ID', var_name = 'Gene', value_name = 'Proteomic')\n",
    "    trans_normal_df = trans_normal_df.melt(id_vars = 'Patient_ID', var_name = 'Gene', value_name = 'Transcriptomics')\n",
    "    prot_normal_df['Stage'] = ['Normal'] * len(prot_normal_df)\n",
    "    trans_normal_df['Stage'] = ['Normal'] * len(trans_normal_df)\n",
    "    if cancer == ccrcc:\n",
    "        stage = cancer.get_clinical('tumor')[['tumor_stage_pathological']]\n",
    "        stage['Patient_ID'] = stage.index\n",
    "        stage = stage.rename(columns = {'tumor_stage_pathological': 'Stage'})\n",
    "        stage = stage.reset_index(level = 0, drop = True)\n",
    "    elif cancer == luad or cancer == lscc:\n",
    "        stage = cancer.get_clinical('tumor')[['Stage']]\n",
    "        stage['Patient_ID'] = stage.index\n",
    "        stage = stage.reset_index(level = 0, drop = True)\n",
    "        stages = []\n",
    "        for s in stage['Stage']:\n",
    "            if s in ['1A', '1B', '1', 1, 'I', 'IA', 'IB']:\n",
    "                stages.append('Stage I')\n",
    "            elif s in ['2A', '2B', 'II', 'IIA', 'IIB']:\n",
    "                stages.append('Stage II')\n",
    "            elif s in ['3A', '3', 3, 'III', 'IIIA', 'IIIB']:\n",
    "                stages.append('Stage III')\n",
    "            elif s in ['IV']:\n",
    "                stages.append('Stage IV')\n",
    "            else:\n",
    "                stages.append(float('NaN'))\n",
    "        stage['Stage'] = stages\n",
    "    elif cancer == en:\n",
    "        stage = cancer.get_clinical('tumor')[['FIGO_stage']]\n",
    "        stage['Patient_ID'] = stage.index\n",
    "        stage = stage.rename(columns = {'FIGO_stage': 'Stage'})\n",
    "        stage = stage.reset_index(level = 0, drop = True)\n",
    "        stages = []\n",
    "        for s in stage['Stage']:\n",
    "            if s in ['IA', 'IB']:\n",
    "                stages.append('Stage I')\n",
    "            elif s in ['II']:\n",
    "                stages.append('Stage II')\n",
    "            elif s in ['IIIA', 'IIIB', 'IIIC2', 'IIIC1']:\n",
    "                stages.append('Stage III')\n",
    "            elif s in ['IVB', 'IV']:\n",
    "                stages.append('Stage IV')\n",
    "            else:\n",
    "                stages.append(float('NaN'))\n",
    "        stage['Stage'] = stages\n",
    "    elif cancer == hnscc:\n",
    "        stage = cancer.get_clinical('tumor')[['patho_staging_curated']]\n",
    "        stage['Patient_ID'] = stage.index\n",
    "        stage = stage.rename(columns = {'patho_staging_curated': 'Stage'})\n",
    "        stage = stage.reset_index(level = 0, drop = True)\n",
    "        \n",
    "    elif cancer == pdac:\n",
    "        stage = cancer.get_clinical('tumor')[['tumor_stage_pathological']]\n",
    "        stage['Patient_ID'] = stage.index\n",
    "        stage = stage.rename(columns = {'tumor_stage_pathological': 'Stage'})\n",
    "        stage = stage.reset_index(level = 0, drop = True)\n",
    "        stages = []\n",
    "        for s in stage['Stage']:\n",
    "            if s in ['Stage IA', 'Stage IB']:\n",
    "                stages.append('Stage I')\n",
    "            elif s in ['Stage IIA', 'Stage IIB']:\n",
    "                stages.append('Stage II')\n",
    "            elif s in ['Stage III']:\n",
    "                stages.append('Stage III')\n",
    "            elif s in ['Stage IV']:\n",
    "                stages.append('Stage IV')\n",
    "            else:\n",
    "                stages.append(float('NaN'))\n",
    "        stage['Stage'] = stages\n",
    "        \n",
    "        \n",
    "    prot_tumor_df = cancer.get_proteomics('tumor')\n",
    "    if isinstance(prot_tumor_df.columns, pd.MultiIndex):\n",
    "        prot_tumor_df = ut.reduce_multiindex(df= prot_tumor_df, levels_to_drop = 'Database_ID')\n",
    "    trans_tumor_df = cancer.get_transcriptomics('tumor')\n",
    "    if isinstance(trans_tumor_df.columns, pd.MultiIndex):\n",
    "        trans_tumor_df = ut.reduce_multiindex(df = trans_tumor_df, levels_to_drop='Database_ID')\n",
    "    prot_tumor_df['Patient_ID'] = prot_tumor_df.index\n",
    "    trans_tumor_df['Patient_ID'] = trans_tumor_df.index\n",
    "    prot_tumor_df = prot_tumor_df.melt(id_vars = 'Patient_ID', var_name = 'Gene', value_name = 'Proteomic')\n",
    "    trans_tumor_df = trans_tumor_df.melt(id_vars = 'Patient_ID', var_name = 'Gene', value_name = 'Transcriptomics')\n",
    "    trans_tumor_df = pd.merge(trans_tumor_df, stage, how = 'outer')\n",
    "    prot_tumor_df = pd.merge(prot_tumor_df, stage, how = 'outer')\n",
    "    prot_df = pd.merge(prot_tumor_df, prot_normal_df, how = 'outer')\n",
    "    trans_df = pd.merge(trans_normal_df, trans_tumor_df, how = 'outer')\n",
    "    cancer_df = pd.merge(trans_df, prot_df,how = 'outer')\n",
    "    cancer_df['Cancer'] = [cancer_name] * len(cancer_df)\n",
    "    cancer_dfs.append(cancer_df)\n",
    "prot_trans_stages_df = pd.concat(cancer_dfs)\n",
    "prot_trans_stages_df"
   ]
  },
  {
   "cell_type": "code",
   "execution_count": null,
   "metadata": {},
   "outputs": [],
   "source": [
    "prot_trans_stages_df = prot_trans_stages_df.dropna()\n",
    "prot_trans_stages_df"
   ]
  },
  {
   "cell_type": "code",
   "execution_count": null,
   "metadata": {},
   "outputs": [],
   "source": [
    "df = prot_trans_stages_df\n",
    "df = df.drop(columns = 'Patient_ID')\n",
    "grouped_stages = df.groupby(['Cancer', 'Stage', 'Gene'])\n",
    "corr_df = grouped_stages.apply(lambda x: x.corr(method = 'pearson', min_periods = 10))\n",
    "corr_df = corr_df.drop(columns = 'Proteomic')\n",
    "corr_df.reset_index(inplace = True)\n",
    "corr_df = corr_df[corr_df.level_3 == 'Proteomic']\n",
    "corr_df = corr_df.drop(columns = 'level_3')\n",
    "corr_df = corr_df.rename(columns = {'Transcriptomics': 'PearsonR'})\n",
    "corr_df = corr_df.dropna()\n",
    "corr_df\n"
   ]
  },
  {
   "cell_type": "code",
   "execution_count": null,
   "metadata": {},
   "outputs": [],
   "source": [
    "corr_df.to_csv('data/Cancer_stages_correlations.csv', index = False)"
   ]
  },
  {
   "cell_type": "code",
   "execution_count": null,
   "metadata": {},
   "outputs": [],
   "source": [
    "    "
   ]
  }
 ],
 "metadata": {
  "kernelspec": {
   "display_name": "Python 3",
   "language": "python",
   "name": "python3"
  },
  "language_info": {
   "codemirror_mode": {
    "name": "ipython",
    "version": 3
   },
   "file_extension": ".py",
   "mimetype": "text/x-python",
   "name": "python",
   "nbconvert_exporter": "python",
   "pygments_lexer": "ipython3",
   "version": "3.8.3"
  }
 },
 "nbformat": 4,
 "nbformat_minor": 4
}
