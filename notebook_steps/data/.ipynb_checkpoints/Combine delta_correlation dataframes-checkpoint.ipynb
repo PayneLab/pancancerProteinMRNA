{
 "cells": [
  {
   "cell_type": "code",
   "execution_count": 1,
   "metadata": {},
   "outputs": [],
   "source": [
    "import pandas as pd\n",
    "import glob"
   ]
  },
  {
   "cell_type": "code",
   "execution_count": 2,
   "metadata": {},
   "outputs": [
    {
     "data": {
      "text/plain": [
       "['Scripts_to_Make_Cancer_Delta_Corr_and_P_value_Dataframe_With_Pancan/HNSCC_delta_corr_pval_df.csv',\n",
       " 'Scripts_to_Make_Cancer_Delta_Corr_and_P_value_Dataframe_With_Pancan/LSCC_delta_corr_pval_df.csv',\n",
       " 'Scripts_to_Make_Cancer_Delta_Corr_and_P_value_Dataframe_With_Pancan/CCRCC_delta_corr_pval_df.csv',\n",
       " 'Scripts_to_Make_Cancer_Delta_Corr_and_P_value_Dataframe_With_Pancan/LUAD_delta_corr_pval_df.csv',\n",
       " 'Scripts_to_Make_Cancer_Delta_Corr_and_P_value_Dataframe_With_Pancan/Endometrial_delta_corr_pval_df.csv']"
      ]
     },
     "execution_count": 2,
     "metadata": {},
     "output_type": "execute_result"
    }
   ],
   "source": [
    "files = glob.glob('Scripts_to_Make_Cancer_Delta_Corr_and_P_value_Dataframe/*_delta_corr_pval_df.csv')\n",
    "files"
   ]
  },
  {
   "cell_type": "code",
   "execution_count": 3,
   "metadata": {},
   "outputs": [
    {
     "data": {
      "text/html": [
       "<div>\n",
       "<style scoped>\n",
       "    .dataframe tbody tr th:only-of-type {\n",
       "        vertical-align: middle;\n",
       "    }\n",
       "\n",
       "    .dataframe tbody tr th {\n",
       "        vertical-align: top;\n",
       "    }\n",
       "\n",
       "    .dataframe thead th {\n",
       "        text-align: right;\n",
       "    }\n",
       "</style>\n",
       "<table border=\"1\" class=\"dataframe\">\n",
       "  <thead>\n",
       "    <tr style=\"text-align: right;\">\n",
       "      <th></th>\n",
       "      <th>Gene</th>\n",
       "      <th>Delta_Correlation</th>\n",
       "      <th>P_Value</th>\n",
       "      <th>FDR</th>\n",
       "      <th>Cancer</th>\n",
       "    </tr>\n",
       "  </thead>\n",
       "  <tbody>\n",
       "    <tr>\n",
       "      <th>0</th>\n",
       "      <td>A1BG</td>\n",
       "      <td>-0.198013</td>\n",
       "      <td>2.451044e-01</td>\n",
       "      <td>4.045115e-01</td>\n",
       "      <td>HNSCC</td>\n",
       "    </tr>\n",
       "    <tr>\n",
       "      <th>1</th>\n",
       "      <td>A2M</td>\n",
       "      <td>-0.118384</td>\n",
       "      <td>4.480278e-01</td>\n",
       "      <td>6.091130e-01</td>\n",
       "      <td>HNSCC</td>\n",
       "    </tr>\n",
       "    <tr>\n",
       "      <th>2</th>\n",
       "      <td>A2ML1</td>\n",
       "      <td>-0.023469</td>\n",
       "      <td>2.918125e-01</td>\n",
       "      <td>4.561968e-01</td>\n",
       "      <td>HNSCC</td>\n",
       "    </tr>\n",
       "    <tr>\n",
       "      <th>3</th>\n",
       "      <td>AAAS</td>\n",
       "      <td>0.275905</td>\n",
       "      <td>1.051756e-01</td>\n",
       "      <td>2.209072e-01</td>\n",
       "      <td>HNSCC</td>\n",
       "    </tr>\n",
       "    <tr>\n",
       "      <th>4</th>\n",
       "      <td>AACS</td>\n",
       "      <td>-0.136836</td>\n",
       "      <td>1.800586e-01</td>\n",
       "      <td>3.266475e-01</td>\n",
       "      <td>HNSCC</td>\n",
       "    </tr>\n",
       "    <tr>\n",
       "      <th>...</th>\n",
       "      <td>...</td>\n",
       "      <td>...</td>\n",
       "      <td>...</td>\n",
       "      <td>...</td>\n",
       "      <td>...</td>\n",
       "    </tr>\n",
       "    <tr>\n",
       "      <th>8699</th>\n",
       "      <td>ZWINT</td>\n",
       "      <td>1.219024</td>\n",
       "      <td>2.267627e-09</td>\n",
       "      <td>1.049863e-07</td>\n",
       "      <td>Endometrial</td>\n",
       "    </tr>\n",
       "    <tr>\n",
       "      <th>8700</th>\n",
       "      <td>ZXDC</td>\n",
       "      <td>-0.346532</td>\n",
       "      <td>2.983295e-01</td>\n",
       "      <td>5.386144e-01</td>\n",
       "      <td>Endometrial</td>\n",
       "    </tr>\n",
       "    <tr>\n",
       "      <th>8701</th>\n",
       "      <td>ZYG11B</td>\n",
       "      <td>0.768196</td>\n",
       "      <td>5.463938e-04</td>\n",
       "      <td>5.319699e-03</td>\n",
       "      <td>Endometrial</td>\n",
       "    </tr>\n",
       "    <tr>\n",
       "      <th>8702</th>\n",
       "      <td>ZYX</td>\n",
       "      <td>0.253630</td>\n",
       "      <td>2.456049e-01</td>\n",
       "      <td>4.795301e-01</td>\n",
       "      <td>Endometrial</td>\n",
       "    </tr>\n",
       "    <tr>\n",
       "      <th>8703</th>\n",
       "      <td>ZZEF1</td>\n",
       "      <td>0.176244</td>\n",
       "      <td>5.839048e-01</td>\n",
       "      <td>7.795750e-01</td>\n",
       "      <td>Endometrial</td>\n",
       "    </tr>\n",
       "  </tbody>\n",
       "</table>\n",
       "<p>50689 rows × 5 columns</p>\n",
       "</div>"
      ],
      "text/plain": [
       "        Gene  Delta_Correlation       P_Value           FDR       Cancer\n",
       "0       A1BG          -0.198013  2.451044e-01  4.045115e-01        HNSCC\n",
       "1        A2M          -0.118384  4.480278e-01  6.091130e-01        HNSCC\n",
       "2      A2ML1          -0.023469  2.918125e-01  4.561968e-01        HNSCC\n",
       "3       AAAS           0.275905  1.051756e-01  2.209072e-01        HNSCC\n",
       "4       AACS          -0.136836  1.800586e-01  3.266475e-01        HNSCC\n",
       "...      ...                ...           ...           ...          ...\n",
       "8699   ZWINT           1.219024  2.267627e-09  1.049863e-07  Endometrial\n",
       "8700    ZXDC          -0.346532  2.983295e-01  5.386144e-01  Endometrial\n",
       "8701  ZYG11B           0.768196  5.463938e-04  5.319699e-03  Endometrial\n",
       "8702     ZYX           0.253630  2.456049e-01  4.795301e-01  Endometrial\n",
       "8703   ZZEF1           0.176244  5.839048e-01  7.795750e-01  Endometrial\n",
       "\n",
       "[50689 rows x 5 columns]"
      ]
     },
     "execution_count": 3,
     "metadata": {},
     "output_type": "execute_result"
    }
   ],
   "source": [
    "dfs = []\n",
    "for file in files:\n",
    "    df = pd.read_csv(file)\n",
    "    dfs.append(df)\n",
    "delta_corr_df = pd.concat(dfs)\n",
    "delta_corr_df = delta_corr_df[delta_corr_df.Cancer != 'PDAC']\n",
    "delta_corr_df.to_csv('delta_correlation_df.csv', index = False)\n",
    "delta_corr_df"
   ]
  },
  {
   "cell_type": "code",
   "execution_count": null,
   "metadata": {},
   "outputs": [],
   "source": []
  }
 ],
 "metadata": {
  "kernelspec": {
   "display_name": "Python 3 (ipykernel)",
   "language": "python",
   "name": "python3"
  },
  "language_info": {
   "codemirror_mode": {
    "name": "ipython",
    "version": 3
   },
   "file_extension": ".py",
   "mimetype": "text/x-python",
   "name": "python",
   "nbconvert_exporter": "python",
   "pygments_lexer": "ipython3",
   "version": "3.11.5"
  }
 },
 "nbformat": 4,
 "nbformat_minor": 4
}
