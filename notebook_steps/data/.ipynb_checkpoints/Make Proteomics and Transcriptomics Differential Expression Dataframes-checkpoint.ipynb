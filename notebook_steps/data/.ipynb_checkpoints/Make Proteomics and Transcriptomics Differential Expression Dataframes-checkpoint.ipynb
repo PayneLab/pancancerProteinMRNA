{
 "cells": [
  {
   "cell_type": "code",
   "execution_count": 1,
   "metadata": {},
   "outputs": [],
   "source": [
    "import cptac\n",
    "import pandas as pd\n",
    "import scipy.stats as stats\n",
    "import cptac.utils as ut\n",
    "import scipy\n",
    "import statsmodels.stats.multitest as ssm\n",
    "import numpy as np"
   ]
  },
  {
   "cell_type": "code",
   "execution_count": null,
   "metadata": {},
   "outputs": [
    {
     "name": "stdout",
     "output_type": "stream",
     "text": [
      "Loading lscc v3.2.1......                       \r"
     ]
    }
   ],
   "source": [
    "ccrcc = cptac.Ccrcc()\n",
    "en = cptac.Endometrial()\n",
    "luad = cptac.Luad()\n",
    "hnscc  = cptac.Hnscc()\n",
    "lscc = cptac.Lscc()\n",
    "pdac = cptac.Pdac()"
   ]
  },
  {
   "cell_type": "code",
   "execution_count": null,
   "metadata": {},
   "outputs": [],
   "source": [
    "cancers = [ccrcc, en, luad, hnscc, lscc, pdac]\n",
    "cancer_names = ['CCRCC', 'Endometrial', 'LUAD', 'HNSCC', 'LSCC', 'PDAC']"
   ]
  },
  {
   "cell_type": "code",
   "execution_count": null,
   "metadata": {},
   "outputs": [],
   "source": [
    "def log2_fold_change(tumor, normal):\n",
    "    tumor = np.mean(tumor)\n",
    "    normal = np.mean(normal)\n",
    "    if normal == 0 or tumor == 0:\n",
    "        return(float('Nan'))\n",
    "    fold_change = tumor / normal\n",
    "    fold_change = abs(fold_change)\n",
    "    log2_change = np.log2(fold_change)\n",
    "    return log2_change    "
   ]
  },
  {
   "cell_type": "code",
   "execution_count": null,
   "metadata": {},
   "outputs": [],
   "source": [
    "diff_expression_dfs = []\n",
    "for cancer, cancer_name in zip(cancers, cancer_names):\n",
    "    prot_normal_df = cancer.get_proteomics('normal')\n",
    "    if isinstance(prot_normal_df.columns, pd.MultiIndex):\n",
    "        prot_normal_df = ut.reduce_multiindex(df= prot_normal_df, levels_to_drop = 'Database_ID')\n",
    "    prot_normal_df.reset_index(inplace = True)\n",
    "    prot_normal_df = prot_normal_df.melt(id_vars = 'Patient_ID', var_name = 'Gene', value_name = 'Proteomic')\n",
    "    prot_normal_df['Tissue'] = ['normal'] * len(prot_normal_df)\n",
    "    prot_tumor_df = cancer.get_proteomics('tumor')\n",
    "    if(isinstance(prot_tumor_df.columns, pd.MultiIndex)):\n",
    "        prot_tumor_df = ut.reduce_multiindex(df= prot_tumor_df, levels_to_drop = 'Database_ID')\n",
    "    prot_tumor_df.reset_index(inplace = True)\n",
    "    prot_tumor_df = prot_tumor_df.melt(id_vars = 'Patient_ID', var_name = 'Gene', value_name = 'Proteomic')\n",
    "    prot_tumor_df['Tissue'] = ['tumor'] * len(prot_tumor_df)\n",
    "    prot_df = pd.merge(prot_tumor_df, prot_normal_df, how = 'outer')\n",
    "    prot_df = prot_df.dropna()\n",
    "    fold_change = prot_df.groupby('Gene').apply(\n",
    "        lambda df: log2_fold_change(df[df['Tissue']=='tumor'].Proteomic,\n",
    "                                    df[df['Tissue']=='normal'].Proteomic))\n",
    "    fold_change = pd.DataFrame(fold_change, columns = ['Log2_fold_change'])\n",
    "    fold_change.reset_index(inplace = True)\n",
    "    ranksums = prot_df.groupby('Gene').apply(lambda df: stats.ranksums(\n",
    "        df[df['Tissue']=='tumor'].Proteomic,\n",
    "        df[df['Tissue']=='normal'].Proteomic))\n",
    "    ranksums = pd.DataFrame.from_records(ranksums, index = ranksums.index, columns = ['statistic', 'pval'])\n",
    "    ranksums.reset_index(inplace = True)\n",
    "    ranksums = ranksums.dropna()\n",
    "    ranksums['FDR'] = ssm.fdrcorrection(ranksums['pval'])[1]\n",
    "    ranksums['Cancer'] = [cancer_name] * len(ranksums)\n",
    "    diff_expression_df = pd.merge(ranksums, fold_change)\n",
    "    diff_expression_dfs.append(diff_expression_df)\n",
    "diff_expression_df = pd.concat(diff_expression_dfs)\n",
    "diff_expression_df.to_csv('data/Proteomics_differential_expression_df.csv', index = False)\n",
    "diff_expression_df"
   ]
  },
  {
   "cell_type": "code",
   "execution_count": null,
   "metadata": {},
   "outputs": [],
   "source": [
    "diff_expression_dfs = []\n",
    "for cancer, cancer_name in zip(cancers, cancer_names):\n",
    "    prot_normal_df = cancer.get_transcriptomics('normal')\n",
    "    if isinstance(prot_normal_df.columns, pd.MultiIndex):\n",
    "        prot_normal_df = ut.reduce_multiindex(df= prot_normal_df, levels_to_drop = 'Database_ID')\n",
    "    prot_normal_df.reset_index(inplace = True)\n",
    "    prot_normal_df = prot_normal_df.melt(id_vars = 'Patient_ID', var_name = 'Gene', value_name = 'Transcriptomics')\n",
    "    prot_normal_df['Tissue'] = ['normal'] * len(prot_normal_df)\n",
    "    prot_tumor_df = cancer.get_transcriptomics('tumor')\n",
    "    if(isinstance(prot_tumor_df.columns, pd.MultiIndex)):\n",
    "        prot_tumor_df = ut.reduce_multiindex(df= prot_tumor_df, levels_to_drop = 'Database_ID')\n",
    "    prot_tumor_df.reset_index(inplace = True)\n",
    "    prot_tumor_df = prot_tumor_df.melt(id_vars = 'Patient_ID', var_name = 'Gene', value_name = 'Transcriptomics')\n",
    "    prot_tumor_df['Tissue'] = ['tumor'] * len(prot_tumor_df)\n",
    "    prot_df = pd.merge(prot_tumor_df, prot_normal_df, how = 'outer')\n",
    "    prot_df = prot_df.dropna()\n",
    "    fold_change = prot_df.groupby('Gene').apply(\n",
    "        lambda df: log2_fold_change(df[df['Tissue']=='tumor'].Transcriptomics,\n",
    "                                    df[df['Tissue']=='normal'].Transcriptomics))\n",
    "    fold_change = pd.DataFrame(fold_change, columns = ['Log2_fold_change'])\n",
    "    fold_change.reset_index(inplace = True)\n",
    "    ranksums = prot_df.groupby('Gene').apply(lambda df: stats.ranksums(\n",
    "        df[df['Tissue']=='tumor'].Transcriptomics,\n",
    "        df[df['Tissue']=='normal'].Transcriptomics))\n",
    "    ranksums = pd.DataFrame.from_records(ranksums, index = ranksums.index, columns = ['statistic', 'pval'])\n",
    "    ranksums.reset_index(inplace = True)\n",
    "    ranksums = ranksums.dropna()\n",
    "    ranksums['FDR'] = ssm.fdrcorrection(ranksums['pval'])[1]\n",
    "    ranksums['Cancer'] = [cancer_name] * len(ranksums)\n",
    "    diff_expression_df = pd.merge(ranksums, fold_change)\n",
    "    diff_expression_dfs.append(diff_expression_df)\n",
    "diff_expression_df = pd.concat(diff_expression_dfs)\n",
    "diff_expression_df.to_csv('Transcriptomics_differential_expression_df.csv', index = False)\n",
    "diff_expression_df"
   ]
  },
  {
   "cell_type": "code",
   "execution_count": null,
   "metadata": {},
   "outputs": [],
   "source": []
  }
 ],
 "metadata": {
  "kernelspec": {
   "display_name": "Python 3",
   "language": "python",
   "name": "python3"
  },
  "language_info": {
   "codemirror_mode": {
    "name": "ipython",
    "version": 3
   },
   "file_extension": ".py",
   "mimetype": "text/x-python",
   "name": "python",
   "nbconvert_exporter": "python",
   "pygments_lexer": "ipython3",
   "version": "3.8.3"
  }
 },
 "nbformat": 4,
 "nbformat_minor": 4
}
