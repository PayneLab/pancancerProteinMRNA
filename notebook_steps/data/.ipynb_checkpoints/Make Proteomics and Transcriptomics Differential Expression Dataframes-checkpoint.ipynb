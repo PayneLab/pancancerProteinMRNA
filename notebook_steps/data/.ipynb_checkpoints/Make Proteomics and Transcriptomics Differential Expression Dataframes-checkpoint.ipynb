{
 "cells": [
  {
   "cell_type": "code",
   "execution_count": 1,
   "metadata": {},
   "outputs": [],
   "source": [
    "import pandas as pd\n",
    "import scipy.stats as stats\n",
    "import cptac.utils as ut\n",
    "import scipy\n",
    "import statsmodels.stats.multitest as ssm\n",
    "import numpy as np\n",
    "import sys, os\n",
    "currentdir = os.path.dirname(os.path.realpath('make_regression_df.py'))\n",
    "parentdir = os.path.dirname(currentdir)\n",
    "sys.path.append(parentdir)\n",
    "import pcprutils as dc"
   ]
  },
  {
   "cell_type": "code",
   "execution_count": null,
   "metadata": {},
   "outputs": [
    {
     "name": "stdout",
     "output_type": "stream",
     "text": [
      "Loading broadccrcc v1.0...                     \r"
     ]
    },
    {
     "name": "stderr",
     "output_type": "stream",
     "text": [
      "/Users/humbertogiraldez/opt/anaconda3/lib/python3.9/site-packages/gtfparse/read_gtf.py:82: FutureWarning: The error_bad_lines argument has been deprecated and will be removed in a future version. Use on_bad_lines in the future.\n",
      "\n",
      "\n",
      "  chunk_iterator = pd.read_csv(\n",
      "/Users/humbertogiraldez/opt/anaconda3/lib/python3.9/site-packages/gtfparse/read_gtf.py:82: FutureWarning: The warn_bad_lines argument has been deprecated and will be removed in a future version. Use on_bad_lines in the future.\n",
      "\n",
      "\n",
      "  chunk_iterator = pd.read_csv(\n"
     ]
    },
    {
     "name": "stdout",
     "output_type": "stream",
     "text": [
      "Loading washuccrcc v1.0.........                 \r"
     ]
    },
    {
     "name": "stderr",
     "output_type": "stream",
     "text": [
      "/Users/humbertogiraldez/opt/anaconda3/lib/python3.9/site-packages/cptac/pancan/washuccrcc.py:136: FutureWarning: The frame.append method is deprecated and will be removed from pandas in a future version. Use pandas.concat instead.\n",
      "  all_df = tumor.append(normal)\n",
      "/Users/humbertogiraldez/opt/anaconda3/lib/python3.9/site-packages/cptac/pancan/washuccrcc.py:136: FutureWarning: The frame.append method is deprecated and will be removed from pandas in a future version. Use pandas.concat instead.\n",
      "  all_df = tumor.append(normal)\n",
      "/Users/humbertogiraldez/opt/anaconda3/lib/python3.9/site-packages/cptac/pancan/washuccrcc.py:136: FutureWarning: The frame.append method is deprecated and will be removed from pandas in a future version. Use pandas.concat instead.\n",
      "  all_df = tumor.append(normal)\n"
     ]
    },
    {
     "name": "stdout",
     "output_type": "stream",
     "text": [
      "Loading washuccrcc v1.0..........\r"
     ]
    },
    {
     "name": "stderr",
     "output_type": "stream",
     "text": [
      "/Users/humbertogiraldez/opt/anaconda3/lib/python3.9/site-packages/gtfparse/read_gtf.py:82: FutureWarning: The error_bad_lines argument has been deprecated and will be removed in a future version. Use on_bad_lines in the future.\n",
      "\n",
      "\n",
      "  chunk_iterator = pd.read_csv(\n",
      "/Users/humbertogiraldez/opt/anaconda3/lib/python3.9/site-packages/gtfparse/read_gtf.py:82: FutureWarning: The warn_bad_lines argument has been deprecated and will be removed in a future version. Use on_bad_lines in the future.\n",
      "\n",
      "\n",
      "  chunk_iterator = pd.read_csv(\n"
     ]
    },
    {
     "name": "stdout",
     "output_type": "stream",
     "text": [
      "Loading washuccrcc v1.0...........\r",
      "Loading washuccrcc v1.0............\r",
      "Loading washuccrcc v1.0.............\r",
      "Loading washuccrcc v1.0..............\r",
      "Loading washuccrcc v1.0...............\r",
      "Loading washuccrcc v1.0................\r",
      "Loading washuccrcc v1.0.................\r",
      "Loading washuccrcc v1.0..................\r",
      "                                         \r",
      "Formatting washuccrcc dataframes...\r"
     ]
    },
    {
     "name": "stderr",
     "output_type": "stream",
     "text": [
      "/Users/humbertogiraldez/opt/anaconda3/lib/python3.9/site-packages/cptac/pancan/washuccrcc.py:215: FutureWarning: The frame.append method is deprecated and will be removed from pandas in a future version. Use pandas.concat instead.\n",
      "  rna_combined = rna_tumor.append(rna_normal)\n"
     ]
    },
    {
     "name": "stdout",
     "output_type": "stream",
     "text": [
      "Loading harmonized v1.0.                       \r"
     ]
    }
   ],
   "source": [
    "cancers, cancer_names = dc.load_cancers()"
   ]
  },
  {
   "cell_type": "code",
   "execution_count": null,
   "metadata": {},
   "outputs": [],
   "source": [
    "def log2_fold_change(tumor, normal):\n",
    "    tumor = np.mean(tumor)\n",
    "    normal = np.mean(normal)\n",
    "    if normal == 0 or tumor == 0:\n",
    "        return(float('Nan'))\n",
    "    fold_change = tumor / normal\n",
    "    fold_change = abs(fold_change)\n",
    "    log2_change = np.log2(fold_change)\n",
    "    return log2_change    "
   ]
  },
  {
   "cell_type": "code",
   "execution_count": null,
   "metadata": {},
   "outputs": [],
   "source": [
    "diff_expression_dfs = []\n",
    "for cancer, cancer_name in zip(cancers, cancer_names):\n",
    "    prot_df = dc.get_prot_trans_df(cancer)\n",
    "    prot_df = prot_df.drop(columns = 'Transcriptomics')\n",
    "    fold_change = prot_df.groupby('Gene').apply(\n",
    "        lambda df: log2_fold_change(df[df['Tissue']=='Tumor'].Proteomics,\n",
    "                                    df[df['Tissue']=='Normal'].Proteomics))\n",
    "    fold_change = pd.DataFrame(fold_change, columns = ['Log2_fold_change'])\n",
    "    fold_change.reset_index(inplace = True)\n",
    "    ranksums = prot_df.groupby('Gene').apply(lambda df: stats.ranksums(\n",
    "        df[df['Tissue']=='Tumor'].Proteomics,\n",
    "        df[df['Tissue']=='Normal'].Proteomics))\n",
    "    ranksums = pd.DataFrame.from_records(ranksums, index = ranksums.index, columns = ['statistic', 'pval'])\n",
    "    ranksums.reset_index(inplace = True)\n",
    "    ranksums = ranksums.dropna()\n",
    "    ranksums['FDR'] = ssm.fdrcorrection(ranksums['pval'])[1]\n",
    "    ranksums['Cancer'] = [cancer_name] * len(ranksums)\n",
    "    diff_expression_df = pd.merge(ranksums, fold_change)\n",
    "    diff_expression_dfs.append(diff_expression_df)\n",
    "diff_expression_df = pd.concat(diff_expression_dfs)\n",
    "diff_expression_df.to_csv('Proteomics_differential_expression_df.csv', index = False)\n",
    "diff_expression_df"
   ]
  },
  {
   "cell_type": "code",
   "execution_count": null,
   "metadata": {},
   "outputs": [],
   "source": [
    "diff_expression_dfs = []\n",
    "for cancer, cancer_name in zip(cancers, cancer_names):\n",
    "    prot_df = dc.get_prot_trans_df(cancer)\n",
    "    prot_df = prot_df.drop(columns = 'Proteomics')\n",
    "    fold_change = prot_df.groupby('Gene').apply(\n",
    "        lambda df: log2_fold_change(df[df['Tissue']=='Tumor'].Transcriptomics,\n",
    "                                    df[df['Tissue']=='Normal'].Transcriptomics))\n",
    "    fold_change = pd.DataFrame(fold_change, columns = ['Log2_fold_change'])\n",
    "    fold_change.reset_index(inplace = True)\n",
    "    ranksums = prot_df.groupby('Gene').apply(lambda df: stats.ranksums(\n",
    "        df[df['Tissue']=='Tumor'].Transcriptomics,\n",
    "        df[df['Tissue']=='Normal'].Transcriptomics))\n",
    "    ranksums = pd.DataFrame.from_records(ranksums, index = ranksums.index, columns = ['statistic', 'pval'])\n",
    "    ranksums.reset_index(inplace = True)\n",
    "    ranksums = ranksums.dropna()\n",
    "    ranksums['FDR'] = ssm.fdrcorrection(ranksums['pval'])[1]\n",
    "    ranksums['Cancer'] = [cancer_name] * len(ranksums)\n",
    "    diff_expression_df = pd.merge(ranksums, fold_change)\n",
    "    diff_expression_dfs.append(diff_expression_df)\n",
    "diff_expression_df = pd.concat(diff_expression_dfs)\n",
    "diff_expression_df.to_csv('Transcriptomics_differential_expression_df.csv', index = False)\n",
    "diff_expression_df"
   ]
  }
 ],
 "metadata": {
  "kernelspec": {
   "display_name": "Python 3 (ipykernel)",
   "language": "python",
   "name": "python3"
  },
  "language_info": {
   "codemirror_mode": {
    "name": "ipython",
    "version": 3
   },
   "file_extension": ".py",
   "mimetype": "text/x-python",
   "name": "python",
   "nbconvert_exporter": "python",
   "pygments_lexer": "ipython3",
   "version": "3.9.12"
  }
 },
 "nbformat": 4,
 "nbformat_minor": 4
}
