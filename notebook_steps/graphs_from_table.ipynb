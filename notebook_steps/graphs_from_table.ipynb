{
 "cells": [
  {
   "cell_type": "code",
   "execution_count": 1,
   "metadata": {},
   "outputs": [],
   "source": [
    "import cptac\n",
    "import scipy\n",
    "import seaborn as sns\n",
    "import matplotlib.pyplot as plt\n",
    "import numpy as np\n",
    "import math\n",
    "import pandas as pd\n",
    "import statistics"
   ]
  },
  {
   "cell_type": "code",
   "execution_count": 2,
   "metadata": {},
   "outputs": [
    {
     "name": "stdout",
     "output_type": "stream",
     "text": [
      "Checking that luad index is up-to-date...       \r"
     ]
    },
    {
     "name": "stderr",
     "output_type": "stream",
     "text": [
      "cptac warning: The GBM dataset is under publication embargo until March 01, 2021. CPTAC is a community resource project and data are made available rapidly after generation for community research use. The embargo allows exploring and utilizing the data, but analysis may not be published until after the embargo date. Please see https://proteomics.cancer.gov/data-portal/about/data-use-agreement or enter cptac.embargo() to open the webpage for more details. (/Users/benkk/anaconda3/envs/cptac_dev/lib/python3.7/site-packages/ipykernel_launcher.py, line 14)\n"
     ]
    },
    {
     "name": "stdout",
     "output_type": "stream",
     "text": [
      "Checking that ovarian index is up-to-date...\r"
     ]
    },
    {
     "name": "stderr",
     "output_type": "stream",
     "text": [
      "cptac warning: The LUAD dataset is under publication embargo until July 01, 2020. CPTAC is a community resource project and data are made available rapidly after generation for community research use. The embargo allows exploring and utilizing the data, but analysis may not be published until after the embargo date. Please see https://proteomics.cancer.gov/data-portal/about/data-use-agreement or enter cptac.embargo() to open the webpage for more details. (/Users/benkk/anaconda3/envs/cptac_dev/lib/python3.7/site-packages/ipykernel_launcher.py, line 15)\n"
     ]
    },
    {
     "name": "stdout",
     "output_type": "stream",
     "text": [
      "Checking that lscc index is up-to-date...   \r"
     ]
    },
    {
     "name": "stderr",
     "output_type": "stream",
     "text": [
      "cptac warning: The HNSCC data is currently strictly reserved for CPTAC investigators. Otherwise, you are not authorized to access these data. Additionally, even after these data become publicly available, they will be subject to a publication embargo (see https://proteomics.cancer.gov/data-portal/about/data-use-agreement or enter cptac.embargo() to open the webpage for more details). (/Users/benkk/anaconda3/envs/cptac_dev/lib/python3.7/site-packages/ipykernel_launcher.py, line 17)\n"
     ]
    },
    {
     "name": "stdout",
     "output_type": "stream",
     "text": [
      "                                         \r"
     ]
    },
    {
     "name": "stderr",
     "output_type": "stream",
     "text": [
      "cptac warning: The LSCC data is currently strictly reserved for CPTAC investigators. Otherwise, you are not authorized to access these data. Additionally, even after these data become publicly available, they will be subject to a publication embargo (see https://proteomics.cancer.gov/data-portal/about/data-use-agreement or enter cptac.embargo() to open the webpage for more details). (/Users/benkk/anaconda3/envs/cptac_dev/lib/python3.7/site-packages/ipykernel_launcher.py, line 18)\n"
     ]
    }
   ],
   "source": [
    "# cptac.download(\"brca\")\n",
    "# cptac.download(\"ccrcc\")\n",
    "# cptac.download(\"colon\")\n",
    "# cptac.download(\"endometrial\")\n",
    "# cptac.download(\"gbm\")\n",
    "# cptac.download(\"luad\")\n",
    "# cptac.download(\"ovarian\")\n",
    "# cptac.download(\"hnscc\")\n",
    "# cptac.download(\"lscc\")\n",
    "brca = cptac.Brca()\n",
    "ccrcc = cptac.Ccrcc()\n",
    "colon = cptac.Colon()\n",
    "en = cptac.Endometrial()\n",
    "gbm = cptac.Gbm()\n",
    "luad = cptac.Luad()\n",
    "ovarian = cptac.Ovarian()\n",
    "hnscc  = cptac.Hnscc()\n",
    "lscc = cptac.Lscc()"
   ]
  },
  {
   "cell_type": "code",
   "execution_count": 30,
   "metadata": {},
   "outputs": [],
   "source": [
    "brca_trans = brca.get_transcriptomics()['FUCA1']\n",
    "ccrcc_trans = ccrcc.get_transcriptomics()['FUCA1']\n",
    "colon_trans = colon.get_transcriptomics()['FUCA1']\n",
    "en_trans = en.get_transcriptomics()['FUCA1']\n",
    "gbm_trans = gbm.get_transcriptomics()['FUCA1']\n",
    "luad_trans = luad.get_transcriptomics()['FUCA1']\n",
    "ovarian_trans = ovarian.get_transcriptomics()['FUCA1']\n",
    "hnscc_trans  = hnscc.get_transcriptomics()['FUCA1']\n",
    "lscc_trans = lscc.get_transcriptomics()['FUCA1']\n",
    "\n",
    "brca_prot = brca.get_proteomics()['FUCA1']\n",
    "ccrcc_prot = ccrcc.get_proteomics()['FUCA1']\n",
    "colon_prot = colon.get_proteomics()['FUCA1']\n",
    "en_prot = en.get_proteomics()['FUCA1']\n",
    "gbm_prot = gbm.get_proteomics()['FUCA1']\n",
    "luad_prot = luad.get_proteomics()['FUCA1']\n",
    "ovarian_prot = ovarian.get_proteomics()['FUCA1']\n",
    "hnscc_prot  = hnscc.get_proteomics()['FUCA1']\n",
    "lscc_prot = lscc.get_proteomics()['FUCA1']"
   ]
  },
  {
   "cell_type": "code",
   "execution_count": 31,
   "metadata": {},
   "outputs": [],
   "source": [
    "brca_trans_high = brca.get_transcriptomics()['AKR1B10']\n",
    "ccrcc_trans_high = ccrcc.get_transcriptomics()['AKR1B10']\n",
    "colon_trans_high = colon.get_transcriptomics()['AKR1B10']\n",
    "en_trans_high = en.get_transcriptomics()['AKR1B10']\n",
    "gbm_trans_high = gbm.get_transcriptomics()['AKR1B10']\n",
    "luad_trans_high = luad.get_transcriptomics()['AKR1B10']\n",
    "ovarian_trans_high = ovarian.get_transcriptomics()['AKR1B10']\n",
    "hnscc_trans_high  = hnscc.get_transcriptomics()['AKR1B10']\n",
    "lscc_trans_high = lscc.get_transcriptomics()['AKR1B10']\n",
    "\n",
    "brca_prot_high = brca.get_proteomics()['AKR1B10']\n",
    "ccrcc_prot_high = ccrcc.get_proteomics()['AKR1B10']\n",
    "colon_prot_high = colon.get_proteomics()['AKR1B10']\n",
    "en_prot_high = en.get_proteomics()['AKR1B10']\n",
    "gbm_prot_high = gbm.get_proteomics()['AKR1B10']\n",
    "luad_prot_high = luad.get_proteomics()['AKR1B10']\n",
    "ovarian_prot_high = ovarian.get_proteomics()['AKR1B10']\n",
    "hnscc_prot_high = hnscc.get_proteomics()['AKR1B10']\n",
    "lscc_prot_high = lscc.get_proteomics()['AKR1B10']"
   ]
  },
  {
   "cell_type": "code",
   "execution_count": 123,
   "metadata": {},
   "outputs": [
    {
     "data": {
      "text/html": [
       "<div>\n",
       "<style scoped>\n",
       "    .dataframe tbody tr th:only-of-type {\n",
       "        vertical-align: middle;\n",
       "    }\n",
       "\n",
       "    .dataframe tbody tr th {\n",
       "        vertical-align: top;\n",
       "    }\n",
       "\n",
       "    .dataframe thead th {\n",
       "        text-align: right;\n",
       "    }\n",
       "</style>\n",
       "<table border=\"1\" class=\"dataframe\">\n",
       "  <thead>\n",
       "    <tr style=\"text-align: right;\">\n",
       "      <th>Database_ID</th>\n",
       "      <th>NP_064695.3</th>\n",
       "    </tr>\n",
       "    <tr>\n",
       "      <th>Patient_ID</th>\n",
       "      <th></th>\n",
       "    </tr>\n",
       "  </thead>\n",
       "  <tbody>\n",
       "    <tr>\n",
       "      <th>C3L-00081</th>\n",
       "      <td>4.2363</td>\n",
       "    </tr>\n",
       "    <tr>\n",
       "      <th>C3L-00415</th>\n",
       "      <td>-1.6592</td>\n",
       "    </tr>\n",
       "    <tr>\n",
       "      <th>C3L-00445</th>\n",
       "      <td>-7.5113</td>\n",
       "    </tr>\n",
       "    <tr>\n",
       "      <th>C3L-00568</th>\n",
       "      <td>4.5885</td>\n",
       "    </tr>\n",
       "    <tr>\n",
       "      <th>C3L-00603</th>\n",
       "      <td>-4.1931</td>\n",
       "    </tr>\n",
       "    <tr>\n",
       "      <th>...</th>\n",
       "      <td>...</td>\n",
       "    </tr>\n",
       "    <tr>\n",
       "      <th>C3N-03886.N</th>\n",
       "      <td>-2.4463</td>\n",
       "    </tr>\n",
       "    <tr>\n",
       "      <th>C3N-04124.N</th>\n",
       "      <td>-5.4847</td>\n",
       "    </tr>\n",
       "    <tr>\n",
       "      <th>C3N-04127.N</th>\n",
       "      <td>-14.3525</td>\n",
       "    </tr>\n",
       "    <tr>\n",
       "      <th>C3N-04155.N</th>\n",
       "      <td>-0.7310</td>\n",
       "    </tr>\n",
       "    <tr>\n",
       "      <th>C3N-04162.N</th>\n",
       "      <td>-4.3128</td>\n",
       "    </tr>\n",
       "  </tbody>\n",
       "</table>\n",
       "<p>212 rows × 1 columns</p>\n",
       "</div>"
      ],
      "text/plain": [
       "Database_ID  NP_064695.3\n",
       "Patient_ID              \n",
       "C3L-00081         4.2363\n",
       "C3L-00415        -1.6592\n",
       "C3L-00445        -7.5113\n",
       "C3L-00568         4.5885\n",
       "C3L-00603        -4.1931\n",
       "...                  ...\n",
       "C3N-03886.N      -2.4463\n",
       "C3N-04124.N      -5.4847\n",
       "C3N-04127.N     -14.3525\n",
       "C3N-04155.N      -0.7310\n",
       "C3N-04162.N      -4.3128\n",
       "\n",
       "[212 rows x 1 columns]"
      ]
     },
     "execution_count": 123,
     "metadata": {},
     "output_type": "execute_result"
    }
   ],
   "source": [
    "lscc_prot_high"
   ]
  },
  {
   "cell_type": "code",
   "execution_count": 49,
   "metadata": {},
   "outputs": [],
   "source": [
    "cancer_list = [brca,ccrcc,colon,en,gbm,luad,ovarian,hnscc,lscc]\n",
    "en_list = [en]"
   ]
  },
  {
   "cell_type": "code",
   "execution_count": 134,
   "metadata": {},
   "outputs": [],
   "source": [
    "def make_plot(cancers,gene):\n",
    "    corr_list = []\n",
    "    pval_list = []\n",
    "    for tissue in cancers:\n",
    "        prot = tissue.get_proteomics()\n",
    "        if isinstance(prot.columns, pd.MultiIndex):\n",
    "            prot = cptac.utils.reduce_multiindex(prot, levels_to_drop = \"Database_ID\")\n",
    "\n",
    "        trans = tissue.get_transcriptomics()\n",
    "        if isinstance(trans.columns, pd.MultiIndex):\n",
    "            trans = cptac.utils.reduce_multiindex(trans, levels_to_drop = \"Database_ID\")\n",
    "        prot_index_values = list(prot.index.values)\n",
    "        trans_index_values = list(trans.index.values)\n",
    "        \n",
    "        for found_index in prot_index_values:\n",
    "            if found_index not in trans_index_values:\n",
    "                prot = prot.drop(index=found_index)\n",
    "        for found_index in trans_index_values:\n",
    "            if found_index not in prot_index_values:\n",
    "                trans = trans.drop(index=found_index)\n",
    "        nan_indices = set()\n",
    "        prot_indices = list(prot.index.values)\n",
    "        trans_indices = list(trans.index.values)   \n",
    "        prot = prot[gene]\n",
    "        trans = trans[gene]\n",
    "        \n",
    "        for i in range(len(prot)):\n",
    "            if math.isnan(prot[i]):\n",
    "                nan_indices.add(prot_indices[i])\n",
    "                \n",
    "        for i in range(len(trans)):\n",
    "            if math.isnan(trans[i]):\n",
    "                nan_indices.add(trans_indices[i])\n",
    "        \n",
    "        nan_indices = list(nan_indices)\n",
    "        prot = prot.drop(nan_indices)\n",
    "        trans = trans.drop(nan_indices)\n",
    "#         print(\"hi\")\n",
    "#         print(prot)\n",
    "#         print(trans)\n",
    "        correlation,pval = scipy.stats.pearsonr(prot, trans)\n",
    "        corr_list.append(correlation)\n",
    "        pval_list.append(pval)\n",
    "    return corr_list,pval_list"
   ]
  },
  {
   "cell_type": "code",
   "execution_count": 97,
   "metadata": {},
   "outputs": [
    {
     "name": "stderr",
     "output_type": "stream",
     "text": [
      "cptac warning: Due to dropping the specified levels, dataframe now has 655 duplicated column headers. (/Users/benkk/anaconda3/envs/cptac_dev/lib/python3.7/site-packages/ipykernel_launcher.py, line 7)\n",
      "cptac warning: Due to dropping the specified levels, dataframe now has 907 duplicated column headers. (/Users/benkk/anaconda3/envs/cptac_dev/lib/python3.7/site-packages/ipykernel_launcher.py, line 7)\n",
      "cptac warning: Due to dropping the specified levels, dataframe now has 2495 duplicated column headers. (/Users/benkk/anaconda3/envs/cptac_dev/lib/python3.7/site-packages/ipykernel_launcher.py, line 11)\n",
      "cptac warning: Due to dropping the specified levels, dataframe now has 745 duplicated column headers. (/Users/benkk/anaconda3/envs/cptac_dev/lib/python3.7/site-packages/ipykernel_launcher.py, line 7)\n",
      "cptac warning: Due to dropping the specified levels, dataframe now has 1162 duplicated column headers. (/Users/benkk/anaconda3/envs/cptac_dev/lib/python3.7/site-packages/ipykernel_launcher.py, line 7)\n",
      "cptac warning: Due to dropping the specified levels, dataframe now has 830 duplicated column headers. (/Users/benkk/anaconda3/envs/cptac_dev/lib/python3.7/site-packages/ipykernel_launcher.py, line 7)\n"
     ]
    }
   ],
   "source": [
    "my_list,my_list_2 = make_plot(cancer_list,'FUCA1')"
   ]
  },
  {
   "cell_type": "code",
   "execution_count": 140,
   "metadata": {},
   "outputs": [
    {
     "name": "stderr",
     "output_type": "stream",
     "text": [
      "cptac warning: Due to dropping the specified levels, dataframe now has 655 duplicated column headers. (/Users/benkk/anaconda3/envs/cptac_dev/lib/python3.7/site-packages/ipykernel_launcher.py, line 7)\n",
      "cptac warning: Due to dropping the specified levels, dataframe now has 907 duplicated column headers. (/Users/benkk/anaconda3/envs/cptac_dev/lib/python3.7/site-packages/ipykernel_launcher.py, line 7)\n",
      "cptac warning: Due to dropping the specified levels, dataframe now has 2495 duplicated column headers. (/Users/benkk/anaconda3/envs/cptac_dev/lib/python3.7/site-packages/ipykernel_launcher.py, line 11)\n",
      "cptac warning: Due to dropping the specified levels, dataframe now has 745 duplicated column headers. (/Users/benkk/anaconda3/envs/cptac_dev/lib/python3.7/site-packages/ipykernel_launcher.py, line 7)\n",
      "cptac warning: Due to dropping the specified levels, dataframe now has 1162 duplicated column headers. (/Users/benkk/anaconda3/envs/cptac_dev/lib/python3.7/site-packages/ipykernel_launcher.py, line 7)\n",
      "cptac warning: Due to dropping the specified levels, dataframe now has 830 duplicated column headers. (/Users/benkk/anaconda3/envs/cptac_dev/lib/python3.7/site-packages/ipykernel_launcher.py, line 7)\n"
     ]
    }
   ],
   "source": [
    "my_other_list,my_other_list_2 = make_plot(cancer_list, \"AKR1B10\")"
   ]
  },
  {
   "cell_type": "code",
   "execution_count": 136,
   "metadata": {},
   "outputs": [
    {
     "data": {
      "text/plain": [
       "[0.826170384920793,\n",
       " 0.33416164891511996,\n",
       " 0.5941244151378265,\n",
       " 0.834611803255437,\n",
       " 0.450662674815847,\n",
       " 0.6441678081568122,\n",
       " -0.09494431413605975,\n",
       " 0.8949155285056761,\n",
       " 0.6476874567794901]"
      ]
     },
     "execution_count": 136,
     "metadata": {},
     "output_type": "execute_result"
    }
   ],
   "source": [
    "my_other_list"
   ]
  },
  {
   "cell_type": "code",
   "execution_count": 60,
   "metadata": {},
   "outputs": [
    {
     "data": {
      "text/plain": [
       "[0.6964457111113764,\n",
       " 0.44464115429794954,\n",
       " 0.3829920401880787,\n",
       " 0.677374923539995,\n",
       " 0.6515259564413559,\n",
       " 0.6761254705743079,\n",
       " 0.7171926298942604,\n",
       " 0.7841303852419096,\n",
       " 0.7739082193936365]"
      ]
     },
     "execution_count": 60,
     "metadata": {},
     "output_type": "execute_result"
    }
   ],
   "source": [
    "my_list"
   ]
  },
  {
   "cell_type": "code",
   "execution_count": 61,
   "metadata": {},
   "outputs": [
    {
     "data": {
      "text/plain": [
       "<matplotlib.axes._subplots.AxesSubplot at 0x7ffdb1885ad0>"
      ]
     },
     "execution_count": 61,
     "metadata": {},
     "output_type": "execute_result"
    },
    {
     "data": {
      "image/png": "[encoded data removed]",
      "text/plain": [
       "<Figure size 432x288 with 1 Axes>"
      ]
     },
     "metadata": {},
     "output_type": "display_data"
    }
   ],
   "source": [
    "sns.distplot(my_list, label = \"BRCA\")"
   ]
  },
  {
   "cell_type": "code",
   "execution_count": 62,
   "metadata": {},
   "outputs": [
    {
     "data": {
      "image/png": "[encoded data removed]",
      "text/plain": [
       "<Figure size 432x288 with 1 Axes>"
      ]
     },
     "metadata": {},
     "output_type": "display_data"
    }
   ],
   "source": [
    "barlist=plt.bar([1,2,3,4,5,6,7,8,9], my_list)\n",
    "barlist[0].set_color('r')\n",
    "plt.show()"
   ]
  },
  {
   "cell_type": "code",
   "execution_count": 144,
   "metadata": {},
   "outputs": [
    {
     "data": {
      "image/png": "[encoded data removed]",
      "text/plain": [
       "<Figure size 432x288 with 1 Axes>"
      ]
     },
     "metadata": {},
     "output_type": "display_data"
    }
   ],
   "source": [
    "cancer = [\"BRCA\",\"CCRCC\",\"COLON\",\"ENDOMETRIAL\",\"GBM\",\"LUAD\",\"OVARIAN\"\n",
    "         \"HNSCC\",\"LSCC\"]\n",
    "legend_list = cancer.copy()\n",
    "pos = [0,1,2,3,4,5,6,7,8]\n",
    "cancerList = plt.bar(pos, my_list)\n",
    "# plt.xticks(pos, cancer)\n",
    "plt.xticks([],[])\n",
    "# cancerList.axes.get_xaxis().set_visible(False)\n",
    "plt.xlabel(\"Cancer\")\n",
    "plt.ylabel(\"Transcriptomics vs Proteomics Correlation\")\n",
    "# colors = {'BRCA':'red', 'CCRCC':'green', \"COLON\":\"blue\", \"ENDOMETRIAL\":\"yellow\",\n",
    "#          \"GBM\":\"orange\", \"LUAD\":\"cyan\",\"OVARIAN\":\"black\",\"HNSCC\":\"magenta\",\"LSCC\":\"purple\"}         \n",
    "# labels = list(colors.keys())\n",
    "# handles = [plt.Rectangle((0,0),1,1, color=colors[label]) for label in labels]\n",
    "# plt.legend(handles, labels, loc = 1)\n",
    "cancerList[0].set_color('red')\n",
    "cancerList[1].set_color('green')\n",
    "cancerList[2].set_color('blue')\n",
    "cancerList[3].set_color('yellow')\n",
    "cancerList[4].set_color('orange')\n",
    "cancerList[5].set_color('cyan')\n",
    "cancerList[6].set_color('black')\n",
    "cancerList[7].set_color('magenta')\n",
    "cancerList[8].set_color('purple')\n",
    "plt.title('FUCA1')\n",
    "plt.show()\n",
    "# brca_prot_high = brca.get_proteomics()['AKR1B10']\n",
    "# ccrcc_prot_high = ccrcc.get_proteomics()['AKR1B10']\n",
    "# colon_prot_high = colon.get_proteomics()['AKR1B10']\n",
    "# en_prot_high = en.get_proteomics()['AKR1B10']\n",
    "# gbm_prot_high = gbm.get_proteomics()['AKR1B10']\n",
    "# luad_prot_high = luad.get_proteomics()['AKR1B10']\n",
    "# ovarian_prot_high = ovarian.get_proteomics()['AKR1B10']\n",
    "# hnscc_prot_high = hnscc.get_proteomics()['AKR1B10']\n",
    "# lscc_prot_high = lscc.get_proteomics()['AKR1B10']"
   ]
  },
  {
   "cell_type": "code",
   "execution_count": 143,
   "metadata": {},
   "outputs": [
    {
     "data": {
      "image/png": "[encoded data removed]",
      "text/plain": [
       "<Figure size 432x288 with 1 Axes>"
      ]
     },
     "metadata": {},
     "output_type": "display_data"
    }
   ],
   "source": [
    "cancer = [\"BRCA\",\"CCRCC\",\"COLON\",\"ENDOMETRIAL\",\"GBM\",\"LUAD\",\"OVARIAN\"\n",
    "         \"HNSCC\",\"LSCC\"]\n",
    "legend_list = cancer.copy()\n",
    "pos = [0,1,2,3,4,5,6,7,8]\n",
    "cancerList = plt.bar(pos, my_other_list)\n",
    "# plt.xticks(pos, cancer)\n",
    "plt.xticks([],[])\n",
    "# cancerList.axes.get_xaxis().set_visible(False)\n",
    "plt.xlabel(\"Cancer\")\n",
    "plt.ylabel(\"Transcriptomics vs Proteomics Correlation\")\n",
    "# colors = {'BRCA':'red', 'CCRCC':'green', \"COLON\":\"blue\", \"ENDOMETRIAL\":\"yellow\",\n",
    "#          \"GBM\":\"orange\", \"LUAD\":\"cyan\",\"OVARIAN\":\"black\",\"HNSCC\":\"magenta\",\"LSCC\":\"purple\"}         \n",
    "# labels = list(colors.keys())\n",
    "# handles = [plt.Rectangle((0,0),1,1, color=colors[label]) for label in labels]\n",
    "# plt.legend(handles, labels, loc = 0)\n",
    "cancerList[0].set_color('red')\n",
    "cancerList[1].set_color('green')\n",
    "cancerList[2].set_color('blue')\n",
    "cancerList[3].set_color('yellow')\n",
    "cancerList[4].set_color('orange')\n",
    "cancerList[5].set_color('cyan')\n",
    "cancerList[6].set_color('black')\n",
    "cancerList[7].set_color('magenta')\n",
    "cancerList[8].set_color('purple')\n",
    "plt.title(\"AKR1B10\")\n",
    "plt.show()"
   ]
  },
  {
   "cell_type": "code",
   "execution_count": 72,
   "metadata": {},
   "outputs": [
    {
     "data": {
      "text/plain": [
       "['BRCA',\n",
       " 'CCRCC',\n",
       " 'COLON',\n",
       " 'ENDOMETRIAL',\n",
       " 'GBM',\n",
       " 'LUAD',\n",
       " 'OVARIANHNSCC',\n",
       " 'LSCC']"
      ]
     },
     "execution_count": 72,
     "metadata": {},
     "output_type": "execute_result"
    }
   ],
   "source": [
    "legend_list"
   ]
  },
  {
   "cell_type": "code",
   "execution_count": 53,
   "metadata": {},
   "outputs": [
    {
     "data": {
      "text/html": [
       "<div>\n",
       "<style scoped>\n",
       "    .dataframe tbody tr th:only-of-type {\n",
       "        vertical-align: middle;\n",
       "    }\n",
       "\n",
       "    .dataframe tbody tr th {\n",
       "        vertical-align: top;\n",
       "    }\n",
       "\n",
       "    .dataframe thead th {\n",
       "        text-align: right;\n",
       "    }\n",
       "</style>\n",
       "<table border=\"1\" class=\"dataframe\">\n",
       "  <thead>\n",
       "    <tr style=\"text-align: right;\">\n",
       "      <th>Name</th>\n",
       "      <th>A1BG</th>\n",
       "      <th>A2M</th>\n",
       "      <th>A2ML1</th>\n",
       "      <th>A4GALT</th>\n",
       "      <th>AAAS</th>\n",
       "      <th>AACS</th>\n",
       "      <th>AADAT</th>\n",
       "      <th>AAED1</th>\n",
       "      <th>AAGAB</th>\n",
       "      <th>AAK1</th>\n",
       "      <th>...</th>\n",
       "      <th>ZSWIM8</th>\n",
       "      <th>ZSWIM9</th>\n",
       "      <th>ZW10</th>\n",
       "      <th>ZWILCH</th>\n",
       "      <th>ZWINT</th>\n",
       "      <th>ZXDC</th>\n",
       "      <th>ZYG11B</th>\n",
       "      <th>ZYX</th>\n",
       "      <th>ZZEF1</th>\n",
       "      <th>ZZZ3</th>\n",
       "    </tr>\n",
       "    <tr>\n",
       "      <th>Patient_ID</th>\n",
       "      <th></th>\n",
       "      <th></th>\n",
       "      <th></th>\n",
       "      <th></th>\n",
       "      <th></th>\n",
       "      <th></th>\n",
       "      <th></th>\n",
       "      <th></th>\n",
       "      <th></th>\n",
       "      <th></th>\n",
       "      <th></th>\n",
       "      <th></th>\n",
       "      <th></th>\n",
       "      <th></th>\n",
       "      <th></th>\n",
       "      <th></th>\n",
       "      <th></th>\n",
       "      <th></th>\n",
       "      <th></th>\n",
       "      <th></th>\n",
       "      <th></th>\n",
       "    </tr>\n",
       "  </thead>\n",
       "  <tbody>\n",
       "    <tr>\n",
       "      <th>C3L-00006</th>\n",
       "      <td>-1.1800</td>\n",
       "      <td>-0.8630</td>\n",
       "      <td>-0.802</td>\n",
       "      <td>0.222</td>\n",
       "      <td>0.256000</td>\n",
       "      <td>0.6650</td>\n",
       "      <td>1.2800</td>\n",
       "      <td>-0.3390</td>\n",
       "      <td>0.412</td>\n",
       "      <td>-0.66400</td>\n",
       "      <td>...</td>\n",
       "      <td>-0.08770</td>\n",
       "      <td>NaN</td>\n",
       "      <td>0.0229</td>\n",
       "      <td>0.1090</td>\n",
       "      <td>NaN</td>\n",
       "      <td>-0.33200</td>\n",
       "      <td>-0.43300</td>\n",
       "      <td>-1.020</td>\n",
       "      <td>-0.1230</td>\n",
       "      <td>-0.085900</td>\n",
       "    </tr>\n",
       "    <tr>\n",
       "      <th>C3L-00008</th>\n",
       "      <td>-0.6850</td>\n",
       "      <td>-1.0700</td>\n",
       "      <td>-0.684</td>\n",
       "      <td>0.984</td>\n",
       "      <td>0.135000</td>\n",
       "      <td>0.3340</td>\n",
       "      <td>1.3000</td>\n",
       "      <td>0.1390</td>\n",
       "      <td>1.330</td>\n",
       "      <td>-0.36700</td>\n",
       "      <td>...</td>\n",
       "      <td>-0.03560</td>\n",
       "      <td>NaN</td>\n",
       "      <td>0.3630</td>\n",
       "      <td>1.0700</td>\n",
       "      <td>0.737</td>\n",
       "      <td>-0.56400</td>\n",
       "      <td>-0.00461</td>\n",
       "      <td>-1.130</td>\n",
       "      <td>-0.0757</td>\n",
       "      <td>-0.473000</td>\n",
       "    </tr>\n",
       "    <tr>\n",
       "      <th>C3L-00032</th>\n",
       "      <td>-0.5280</td>\n",
       "      <td>-1.3200</td>\n",
       "      <td>0.435</td>\n",
       "      <td>NaN</td>\n",
       "      <td>-0.240000</td>\n",
       "      <td>1.0400</td>\n",
       "      <td>-0.0213</td>\n",
       "      <td>-0.0479</td>\n",
       "      <td>0.419</td>\n",
       "      <td>-0.50000</td>\n",
       "      <td>...</td>\n",
       "      <td>0.00112</td>\n",
       "      <td>-0.1450</td>\n",
       "      <td>0.0105</td>\n",
       "      <td>-0.1160</td>\n",
       "      <td>NaN</td>\n",
       "      <td>0.15100</td>\n",
       "      <td>-0.07400</td>\n",
       "      <td>-0.540</td>\n",
       "      <td>0.3200</td>\n",
       "      <td>-0.419000</td>\n",
       "    </tr>\n",
       "    <tr>\n",
       "      <th>C3L-00090</th>\n",
       "      <td>-1.6700</td>\n",
       "      <td>-1.1900</td>\n",
       "      <td>-0.443</td>\n",
       "      <td>0.243</td>\n",
       "      <td>-0.099300</td>\n",
       "      <td>0.7570</td>\n",
       "      <td>0.7400</td>\n",
       "      <td>-0.9290</td>\n",
       "      <td>0.229</td>\n",
       "      <td>-0.22300</td>\n",
       "      <td>...</td>\n",
       "      <td>0.07250</td>\n",
       "      <td>-0.0552</td>\n",
       "      <td>-0.0714</td>\n",
       "      <td>0.0933</td>\n",
       "      <td>0.156</td>\n",
       "      <td>-0.39800</td>\n",
       "      <td>-0.07520</td>\n",
       "      <td>-0.797</td>\n",
       "      <td>-0.0301</td>\n",
       "      <td>-0.467000</td>\n",
       "    </tr>\n",
       "    <tr>\n",
       "      <th>C3L-00098</th>\n",
       "      <td>-0.3740</td>\n",
       "      <td>-0.0206</td>\n",
       "      <td>-0.537</td>\n",
       "      <td>0.311</td>\n",
       "      <td>0.375000</td>\n",
       "      <td>0.0131</td>\n",
       "      <td>-1.1000</td>\n",
       "      <td>NaN</td>\n",
       "      <td>0.565</td>\n",
       "      <td>-0.10100</td>\n",
       "      <td>...</td>\n",
       "      <td>-0.17600</td>\n",
       "      <td>NaN</td>\n",
       "      <td>-1.2200</td>\n",
       "      <td>-0.5620</td>\n",
       "      <td>0.937</td>\n",
       "      <td>-0.64600</td>\n",
       "      <td>0.20700</td>\n",
       "      <td>-1.850</td>\n",
       "      <td>-0.1760</td>\n",
       "      <td>0.051300</td>\n",
       "    </tr>\n",
       "    <tr>\n",
       "      <th>...</th>\n",
       "      <td>...</td>\n",
       "      <td>...</td>\n",
       "      <td>...</td>\n",
       "      <td>...</td>\n",
       "      <td>...</td>\n",
       "      <td>...</td>\n",
       "      <td>...</td>\n",
       "      <td>...</td>\n",
       "      <td>...</td>\n",
       "      <td>...</td>\n",
       "      <td>...</td>\n",
       "      <td>...</td>\n",
       "      <td>...</td>\n",
       "      <td>...</td>\n",
       "      <td>...</td>\n",
       "      <td>...</td>\n",
       "      <td>...</td>\n",
       "      <td>...</td>\n",
       "      <td>...</td>\n",
       "      <td>...</td>\n",
       "      <td>...</td>\n",
       "    </tr>\n",
       "    <tr>\n",
       "      <th>NX5.N</th>\n",
       "      <td>-0.0014</td>\n",
       "      <td>0.6160</td>\n",
       "      <td>-0.641</td>\n",
       "      <td>-0.204</td>\n",
       "      <td>0.027600</td>\n",
       "      <td>-1.4100</td>\n",
       "      <td>-0.4050</td>\n",
       "      <td>-0.5610</td>\n",
       "      <td>-0.373</td>\n",
       "      <td>0.12400</td>\n",
       "      <td>...</td>\n",
       "      <td>0.21500</td>\n",
       "      <td>0.1070</td>\n",
       "      <td>-0.1900</td>\n",
       "      <td>-1.3600</td>\n",
       "      <td>-1.100</td>\n",
       "      <td>-0.19700</td>\n",
       "      <td>-0.30700</td>\n",
       "      <td>0.682</td>\n",
       "      <td>0.0984</td>\n",
       "      <td>-0.020200</td>\n",
       "    </tr>\n",
       "    <tr>\n",
       "      <th>NX6.N</th>\n",
       "      <td>0.2980</td>\n",
       "      <td>0.3950</td>\n",
       "      <td>-1.240</td>\n",
       "      <td>-0.178</td>\n",
       "      <td>-0.180000</td>\n",
       "      <td>-0.5910</td>\n",
       "      <td>-0.5980</td>\n",
       "      <td>0.4020</td>\n",
       "      <td>-0.384</td>\n",
       "      <td>0.15200</td>\n",
       "      <td>...</td>\n",
       "      <td>0.05470</td>\n",
       "      <td>0.1980</td>\n",
       "      <td>-0.0139</td>\n",
       "      <td>-0.8080</td>\n",
       "      <td>-0.324</td>\n",
       "      <td>0.16300</td>\n",
       "      <td>-0.14500</td>\n",
       "      <td>0.855</td>\n",
       "      <td>0.1160</td>\n",
       "      <td>-0.000114</td>\n",
       "    </tr>\n",
       "    <tr>\n",
       "      <th>NX7.N</th>\n",
       "      <td>0.1110</td>\n",
       "      <td>0.2100</td>\n",
       "      <td>-0.751</td>\n",
       "      <td>-0.335</td>\n",
       "      <td>0.000865</td>\n",
       "      <td>-1.3700</td>\n",
       "      <td>-0.2730</td>\n",
       "      <td>0.1060</td>\n",
       "      <td>-0.717</td>\n",
       "      <td>0.00865</td>\n",
       "      <td>...</td>\n",
       "      <td>0.17600</td>\n",
       "      <td>0.3960</td>\n",
       "      <td>-0.3640</td>\n",
       "      <td>-1.6400</td>\n",
       "      <td>-1.480</td>\n",
       "      <td>0.45300</td>\n",
       "      <td>-0.16800</td>\n",
       "      <td>0.411</td>\n",
       "      <td>-0.1760</td>\n",
       "      <td>0.218000</td>\n",
       "    </tr>\n",
       "    <tr>\n",
       "      <th>NX8.N</th>\n",
       "      <td>0.9280</td>\n",
       "      <td>0.9520</td>\n",
       "      <td>-1.380</td>\n",
       "      <td>-0.345</td>\n",
       "      <td>-0.002170</td>\n",
       "      <td>-0.6570</td>\n",
       "      <td>-0.3630</td>\n",
       "      <td>0.0807</td>\n",
       "      <td>-0.200</td>\n",
       "      <td>0.03500</td>\n",
       "      <td>...</td>\n",
       "      <td>-0.13500</td>\n",
       "      <td>NaN</td>\n",
       "      <td>0.0926</td>\n",
       "      <td>-0.1550</td>\n",
       "      <td>0.151</td>\n",
       "      <td>-0.00177</td>\n",
       "      <td>0.05320</td>\n",
       "      <td>0.850</td>\n",
       "      <td>0.0444</td>\n",
       "      <td>0.001660</td>\n",
       "    </tr>\n",
       "    <tr>\n",
       "      <th>NX9.N</th>\n",
       "      <td>0.8990</td>\n",
       "      <td>0.1360</td>\n",
       "      <td>-1.630</td>\n",
       "      <td>-0.468</td>\n",
       "      <td>-0.293000</td>\n",
       "      <td>-1.1000</td>\n",
       "      <td>-0.7120</td>\n",
       "      <td>-0.2610</td>\n",
       "      <td>-0.466</td>\n",
       "      <td>0.23100</td>\n",
       "      <td>...</td>\n",
       "      <td>-0.00943</td>\n",
       "      <td>NaN</td>\n",
       "      <td>-0.3490</td>\n",
       "      <td>-0.5490</td>\n",
       "      <td>-0.468</td>\n",
       "      <td>-0.15400</td>\n",
       "      <td>0.10800</td>\n",
       "      <td>1.730</td>\n",
       "      <td>0.1670</td>\n",
       "      <td>-0.059000</td>\n",
       "    </tr>\n",
       "  </tbody>\n",
       "</table>\n",
       "<p>144 rows × 10999 columns</p>\n",
       "</div>"
      ],
      "text/plain": [
       "Name          A1BG     A2M  A2ML1  A4GALT      AAAS    AACS   AADAT   AAED1  \\\n",
       "Patient_ID                                                                    \n",
       "C3L-00006  -1.1800 -0.8630 -0.802   0.222  0.256000  0.6650  1.2800 -0.3390   \n",
       "C3L-00008  -0.6850 -1.0700 -0.684   0.984  0.135000  0.3340  1.3000  0.1390   \n",
       "C3L-00032  -0.5280 -1.3200  0.435     NaN -0.240000  1.0400 -0.0213 -0.0479   \n",
       "C3L-00090  -1.6700 -1.1900 -0.443   0.243 -0.099300  0.7570  0.7400 -0.9290   \n",
       "C3L-00098  -0.3740 -0.0206 -0.537   0.311  0.375000  0.0131 -1.1000     NaN   \n",
       "...            ...     ...    ...     ...       ...     ...     ...     ...   \n",
       "NX5.N      -0.0014  0.6160 -0.641  -0.204  0.027600 -1.4100 -0.4050 -0.5610   \n",
       "NX6.N       0.2980  0.3950 -1.240  -0.178 -0.180000 -0.5910 -0.5980  0.4020   \n",
       "NX7.N       0.1110  0.2100 -0.751  -0.335  0.000865 -1.3700 -0.2730  0.1060   \n",
       "NX8.N       0.9280  0.9520 -1.380  -0.345 -0.002170 -0.6570 -0.3630  0.0807   \n",
       "NX9.N       0.8990  0.1360 -1.630  -0.468 -0.293000 -1.1000 -0.7120 -0.2610   \n",
       "\n",
       "Name        AAGAB     AAK1  ...   ZSWIM8  ZSWIM9    ZW10  ZWILCH  ZWINT  \\\n",
       "Patient_ID                  ...                                           \n",
       "C3L-00006   0.412 -0.66400  ... -0.08770     NaN  0.0229  0.1090    NaN   \n",
       "C3L-00008   1.330 -0.36700  ... -0.03560     NaN  0.3630  1.0700  0.737   \n",
       "C3L-00032   0.419 -0.50000  ...  0.00112 -0.1450  0.0105 -0.1160    NaN   \n",
       "C3L-00090   0.229 -0.22300  ...  0.07250 -0.0552 -0.0714  0.0933  0.156   \n",
       "C3L-00098   0.565 -0.10100  ... -0.17600     NaN -1.2200 -0.5620  0.937   \n",
       "...           ...      ...  ...      ...     ...     ...     ...    ...   \n",
       "NX5.N      -0.373  0.12400  ...  0.21500  0.1070 -0.1900 -1.3600 -1.100   \n",
       "NX6.N      -0.384  0.15200  ...  0.05470  0.1980 -0.0139 -0.8080 -0.324   \n",
       "NX7.N      -0.717  0.00865  ...  0.17600  0.3960 -0.3640 -1.6400 -1.480   \n",
       "NX8.N      -0.200  0.03500  ... -0.13500     NaN  0.0926 -0.1550  0.151   \n",
       "NX9.N      -0.466  0.23100  ... -0.00943     NaN -0.3490 -0.5490 -0.468   \n",
       "\n",
       "Name           ZXDC   ZYG11B    ZYX   ZZEF1      ZZZ3  \n",
       "Patient_ID                                             \n",
       "C3L-00006  -0.33200 -0.43300 -1.020 -0.1230 -0.085900  \n",
       "C3L-00008  -0.56400 -0.00461 -1.130 -0.0757 -0.473000  \n",
       "C3L-00032   0.15100 -0.07400 -0.540  0.3200 -0.419000  \n",
       "C3L-00090  -0.39800 -0.07520 -0.797 -0.0301 -0.467000  \n",
       "C3L-00098  -0.64600  0.20700 -1.850 -0.1760  0.051300  \n",
       "...             ...      ...    ...     ...       ...  \n",
       "NX5.N      -0.19700 -0.30700  0.682  0.0984 -0.020200  \n",
       "NX6.N       0.16300 -0.14500  0.855  0.1160 -0.000114  \n",
       "NX7.N       0.45300 -0.16800  0.411 -0.1760  0.218000  \n",
       "NX8.N      -0.00177  0.05320  0.850  0.0444  0.001660  \n",
       "NX9.N      -0.15400  0.10800  1.730  0.1670 -0.059000  \n",
       "\n",
       "[144 rows x 10999 columns]"
      ]
     },
     "execution_count": 53,
     "metadata": {},
     "output_type": "execute_result"
    }
   ],
   "source": [
    "en.get_proteomics()"
   ]
  },
  {
   "cell_type": "code",
   "execution_count": 145,
   "metadata": {},
   "outputs": [],
   "source": [
    "from sklearn.linear_model import LinearRegression"
   ]
  },
  {
   "cell_type": "code",
   "execution_count": null,
   "metadata": {},
   "outputs": [],
   "source": []
  }
 ],
 "metadata": {
  "kernelspec": {
   "display_name": "Python 3",
   "language": "python",
   "name": "python3"
  },
  "language_info": {
   "codemirror_mode": {
    "name": "ipython",
    "version": 3
   },
   "file_extension": ".py",
   "mimetype": "text/x-python",
   "name": "python",
   "nbconvert_exporter": "python",
   "pygments_lexer": "ipython3",
   "version": "3.7.6"
  }
 },
 "nbformat": 4,
 "nbformat_minor": 4
}
