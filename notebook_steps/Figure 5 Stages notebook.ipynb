{
 "cells": [
  {
   "cell_type": "code",
   "execution_count": 1,
   "metadata": {},
   "outputs": [],
   "source": [
    "import cptac\n",
    "import cptac.utils as ut\n",
    "import scipy\n",
    "import seaborn as sns; sns.set()\n",
    "import matplotlib.pyplot as plt\n",
    "import numpy\n",
    "import math\n",
    "import pandas as pd"
   ]
  },
  {
   "cell_type": "code",
   "execution_count": 2,
   "metadata": {},
   "outputs": [],
   "source": [
    "def Intersection(lst1, lst2): \n",
    "    return set(lst1).intersection(lst2)"
   ]
  },
  {
   "cell_type": "code",
   "execution_count": 3,
   "metadata": {},
   "outputs": [],
   "source": [
    "def get_gene_list(dataframe):\n",
    "    #Returns a list of the genes that are in both proteomics and transcriptomics\n",
    "    gene_list = []\n",
    "    prot = dataframe.get_proteomics()\n",
    "    if isinstance(prot.columns, pd.MultiIndex):\n",
    "        prot = prot.columns.get_level_values(0)\n",
    "    trans = dataframe.get_transcriptomics()\n",
    "    if isinstance(trans.columns, pd.MultiIndex):\n",
    "        trans = trans.columns.get_level_values(0)\n",
    "    for i in prot:\n",
    "        if i in trans and i not in gene_list:\n",
    "            gene_list.append(i)\n",
    "    return gene_list"
   ]
  },
  {
   "cell_type": "code",
   "execution_count": 4,
   "metadata": {},
   "outputs": [],
   "source": [
    "def correlation_list(tissue, gene_list, valid_sample_number = 30, tissue_type = \"both\"):\n",
    "    #Returns a list of lists containing the name of the gene and the correlation\n",
    "    corr_list = []\n",
    "    pval_list = []\n",
    "    prot = tissue.get_proteomics(tissue_type)\n",
    "    if isinstance(prot.columns, pd.MultiIndex):\n",
    "        prot = ut.reduce_multiindex(df = prot, levels_to_drop=\"Database_ID\")\n",
    "    \n",
    "    trans = tissue.get_transcriptomics(tissue_type)\n",
    "    if isinstance(trans.columns, pd.MultiIndex):\n",
    "        trans = ut.reduce_multiindex(df = trans, levels_to_drop=\"Database_ID\")\n",
    "        \n",
    "    prot_index_values = list(prot.index.values)\n",
    "    trans_index_values = list(trans.index.values)\n",
    "    \n",
    "\n",
    "    for found_index in prot_index_values:\n",
    "        if found_index not in trans_index_values:\n",
    "            prot = prot.drop(index=found_index)\n",
    "    for found_index in trans_index_values:\n",
    "        if found_index not in prot_index_values:\n",
    "            trans = trans.drop(index=found_index)\n",
    "        \n",
    "    for gene in gene_list:\n",
    "        prot_measurements = prot[gene]\n",
    "        prot_count = len(prot_measurements.dropna())\n",
    "        \n",
    "        trans_measurements = trans[gene]\n",
    "        trans_count = len(trans_measurements.dropna())\n",
    "        \n",
    "        if prot_count < valid_sample_number or trans_count < valid_sample_number:\n",
    "            continue\n",
    "            \n",
    "        nan_indices = set()\n",
    "        prot_indices = list(prot_measurements.index.values)\n",
    "        trans_indices = list(trans_measurements.index.values)\n",
    "        \n",
    "        #Here we are only currently taking the first column of multi_indices\n",
    "        if isinstance(prot_measurements, pd.core.frame.DataFrame): \n",
    "            prot_measurements = prot_measurements.iloc[:,0]\n",
    "        if isinstance(trans_measurements, pd.core.frame.DataFrame):\n",
    "            trans_measurements = trans_measurements.iloc[:,0]\n",
    "        for i in range(len(prot_measurements)):\n",
    "            if math.isnan(prot_measurements[i]):\n",
    "                nan_indices.add(prot_indices[i])\n",
    "                \n",
    "        for i in range(len(trans_measurements)):\n",
    "            if math.isnan(trans_measurements[i]):\n",
    "                nan_indices.add(trans_indices[i])\n",
    "        \n",
    "        nan_indices = list(nan_indices)\n",
    "        prot_measurements = prot_measurements.drop(nan_indices)\n",
    "        trans_measurements = trans_measurements.drop(nan_indices)\n",
    "        \n",
    "        correlation,pval = scipy.stats.pearsonr(prot_measurements, trans_measurements)\n",
    "        if math.isnan(correlation):\n",
    "            continue\n",
    "        corr_list.append([gene,correlation])\n",
    "        pval_list.append([gene, pval])\n",
    "    return corr_list, pval_list"
   ]
  },
  {
   "cell_type": "code",
   "execution_count": 5,
   "metadata": {},
   "outputs": [],
   "source": [
    "def ret_list(li):\n",
    "    #Returns a list of correlations from all genes\n",
    "    ret_li = []\n",
    "    for i in li:\n",
    "        ret_li.append(i[1])   \n",
    "    return ret_li"
   ]
  },
  {
   "cell_type": "code",
   "execution_count": 6,
   "metadata": {},
   "outputs": [],
   "source": [
    "def get_stage_corr(trans, prot, stage):\n",
    "    #Stage is a list of patient numbers. This returns a correlation of those specific patients.\n",
    "    stage_trans = {}\n",
    "    for i in (trans):\n",
    "        for j in dict(trans[i]).keys():\n",
    "            if j in stage:\n",
    "                if i not in stage_trans.keys():\n",
    "                    stage_trans[i] = [trans[i].loc[j]]\n",
    "                elif i in stage_trans.keys():\n",
    "                    stage_trans[i].append(trans[i].loc[j])\n",
    "    #             print(i+', '+j+': '+str(trans[i].loc[j]))\n",
    "    stage_prot = {}\n",
    "    for i in (prot):\n",
    "        for j in dict(prot[i]).keys():\n",
    "            if j in stage:\n",
    "                if i not in stage_prot.keys():\n",
    "                    stage_prot[i] = [prot[i].loc[j]]\n",
    "                elif i in stage_prot.keys():\n",
    "                    stage_prot[i].append(prot[i].loc[j])\n",
    "    #             print(i+', '+j+': '+str(prot[i].loc[j]))\n",
    "    prot_genes = stage_prot.keys()\n",
    "    trans_genes = stage_trans.keys()\n",
    "    stage_keys = sorted(Intersection(prot_genes, trans_genes))\n",
    "    stage_correlations = []\n",
    "    for gene in stage_keys:\n",
    "        clean_prot = []\n",
    "        clean_trans = []\n",
    "        prot_list = stage_prot[gene]\n",
    "        trans_list = stage_trans[gene]\n",
    "        for index, val in enumerate(prot_list):\n",
    "            if not math.isnan(prot_list[index]) and not math.isnan(trans_list[index]):\n",
    "                clean_prot.append(prot_list[index])\n",
    "                clean_trans.append(trans_list[index])\n",
    "        if len(clean_trans) < 2 or len(clean_prot) < 2:\n",
    "            continue\n",
    "        corr, pval = scipy.stats.pearsonr(clean_prot,clean_trans)\n",
    "        stage_correlations.append([gene, corr])\n",
    "    return stage_correlations"
   ]
  },
  {
   "cell_type": "code",
   "execution_count": 7,
   "metadata": {},
   "outputs": [
    {
     "name": "stdout",
     "output_type": "stream",
     "text": [
      "Checking that luad index is up-to-date...       \r"
     ]
    },
    {
     "name": "stderr",
     "output_type": "stream",
     "text": [
      "cptac warning: The GBM dataset is under publication embargo until March 01, 2021. CPTAC is a community resource project and data are made available rapidly after generation for community research use. The embargo allows exploring and utilizing the data, but analysis may not be published until after the embargo date. Please see https://proteomics.cancer.gov/data-portal/about/data-use-agreement or enter cptac.embargo() to open the webpage for more details. (<ipython-input-7-00c37755498a>, line 15)\n"
     ]
    },
    {
     "name": "stdout",
     "output_type": "stream",
     "text": [
      "                                            \r"
     ]
    },
    {
     "name": "stderr",
     "output_type": "stream",
     "text": [
      "cptac warning: The LSCC data is currently strictly reserved for CPTAC investigators. Otherwise, you are not authorized to access these data. Additionally, even after these data become publicly available, they will be subject to a publication embargo (see https://proteomics.cancer.gov/data-portal/about/data-use-agreement or enter cptac.embargo() to open the webpage for more details). (<ipython-input-7-00c37755498a>, line 19)\n"
     ]
    }
   ],
   "source": [
    "cptac.download(\"brca\")\n",
    "cptac.download(\"ccrcc\")\n",
    "cptac.download(\"colon\")\n",
    "cptac.download(\"endometrial\")\n",
    "cptac.download(\"gbm\")\n",
    "cptac.download(\"luad\")\n",
    "cptac.download(\"ovarian\")\n",
    "cptac.download(\"hnscc\")\n",
    "cptac.download(\"lscc\")\n",
    "\n",
    "brca = cptac.Brca()\n",
    "ccrcc = cptac.Ccrcc()\n",
    "colon = cptac.Colon()\n",
    "en = cptac.Endometrial()\n",
    "gbm = cptac.Gbm()\n",
    "luad = cptac.Luad()\n",
    "ovarian = cptac.Ovarian()\n",
    "hnscc  = cptac.Hnscc()\n",
    "lscc = cptac.Lscc()"
   ]
  },
  {
   "cell_type": "code",
   "execution_count": 8,
   "metadata": {},
   "outputs": [],
   "source": [
    "brca_gene_list = get_gene_list(brca)\n",
    "ccrcc_gene_list = get_gene_list(ccrcc)\n",
    "colon_gene_list = get_gene_list(colon)\n",
    "gbm_gene_list = get_gene_list(gbm)\n",
    "luad_gene_list = get_gene_list(luad)\n",
    "ovarian_gene_list = get_gene_list(ovarian)\n",
    "en_gene_list = get_gene_list(en)\n",
    "hnscc_gene_list = get_gene_list(hnscc)\n",
    "lscc_gene_list = get_gene_list(lscc)"
   ]
  },
  {
   "cell_type": "code",
   "execution_count": 9,
   "metadata": {
    "scrolled": true
   },
   "outputs": [
    {
     "name": "stderr",
     "output_type": "stream",
     "text": [
      "cptac warning: Due to dropping the specified levels, dataframe now has 655 duplicated column headers. (<ipython-input-4-f2fc2988b605>, line 7)\n",
      "cptac warning: Due to dropping the specified levels, dataframe now has 907 duplicated column headers. (<ipython-input-4-f2fc2988b605>, line 7)\n",
      "C:\\Users\\nanel\\anaconda3\\lib\\site-packages\\scipy\\stats\\stats.py:3845: PearsonRConstantInputWarning: An input array is constant; the correlation coefficent is not defined.\n",
      "  warnings.warn(PearsonRConstantInputWarning())\n",
      "cptac warning: Due to dropping the specified levels, dataframe now has 2495 duplicated column headers. (<ipython-input-4-f2fc2988b605>, line 11)\n",
      "cptac warning: Due to dropping the specified levels, dataframe now has 745 duplicated column headers. (<ipython-input-4-f2fc2988b605>, line 7)\n",
      "cptac warning: Due to dropping the specified levels, dataframe now has 1162 duplicated column headers. (<ipython-input-4-f2fc2988b605>, line 7)\n",
      "cptac warning: Due to dropping the specified levels, dataframe now has 858 duplicated column headers. (<ipython-input-4-f2fc2988b605>, line 7)\n"
     ]
    }
   ],
   "source": [
    "###NORMAL TISSUE\n",
    "normal_brca_corr, normal_brca_pval = correlation_list(brca, brca_gene_list,valid_sample_number = 7, tissue_type=\"normal\")\n",
    "normal_ccrcc_corr, normal_ccrcc_pval = correlation_list(ccrcc, ccrcc_gene_list,valid_sample_number = 7, tissue_type=\"normal\")\n",
    "normal_colon_corr, normal_colon_pval = correlation_list(colon, colon_gene_list,valid_sample_number = 7, tissue_type=\"normal\")\n",
    "normal_en_corr, normal_en_pval = correlation_list(en, en_gene_list,valid_sample_number = 7, tissue_type=\"normal\")\n",
    "normal_gbm_corr, normal_gbm_pval = correlation_list(gbm, gbm_gene_list,valid_sample_number = 7, tissue_type=\"normal\")\n",
    "normal_luad_corr, normal_luad_pval = correlation_list(luad,luad_gene_list,valid_sample_number = 7, tissue_type=\"normal\")\n",
    "normal_ovarian_corr, normal_ovarian_pval = correlation_list(ovarian, ovarian_gene_list,valid_sample_number = 7, tissue_type=\"normal\")\n",
    "normal_hnscc_corr, normal_hnscc_pval = correlation_list(hnscc, hnscc_gene_list,valid_sample_number = 7, tissue_type=\"normal\")\n",
    "normal_lscc_corr, normal_lscc_pval = correlation_list(lscc, lscc_gene_list,valid_sample_number = 7, tissue_type=\"normal\")"
   ]
  },
  {
   "cell_type": "markdown",
   "metadata": {},
   "source": [
    "# Stages Notebook\n",
    "The purpose of this notebook is to compare correlations from different stages with normal samples and generate a figure showing the differences between them."
   ]
  },
  {
   "cell_type": "markdown",
   "metadata": {},
   "source": [
    "# LUAD STAGES"
   ]
  },
  {
   "cell_type": "markdown",
   "metadata": {},
   "source": [
    "Sorting patients with different stages.\n",
    "LUAD has no patients in the forth stage."
   ]
  },
  {
   "cell_type": "code",
   "execution_count": 10,
   "metadata": {},
   "outputs": [],
   "source": [
    "luad_stage_dict = dict(luad.get_clinical('tumor')['Stage'])\n",
    "luad_keys = luad_stage_dict.keys()\n",
    "\n",
    "first_stage_luad = []\n",
    "second_stage_luad = []\n",
    "third_stage_luad = [] \n",
    "\n",
    "for i in luad_keys:\n",
    "    luad_stage_dict[i]\n",
    "    if luad_stage_dict[i] == '1A' or luad_stage_dict[i] == '1B'or luad_stage_dict[i] == '1':\n",
    "        first_stage_luad.append(i)\n",
    "    if luad_stage_dict[i] == '2A' or luad_stage_dict[i] == '2B':\n",
    "        second_stage_luad.append(i)\n",
    "    if luad_stage_dict[i] == '3A' or luad_stage_dict[i] == '3':\n",
    "        third_stage_luad.append(i)\n"
   ]
  },
  {
   "cell_type": "markdown",
   "metadata": {},
   "source": [
    "Getting proteomics and transcriptomics and making sure they are single leveled.\n",
    "\n",
    "For LUAD proteomics has a multiindex so we drop it."
   ]
  },
  {
   "cell_type": "code",
   "execution_count": 11,
   "metadata": {},
   "outputs": [
    {
     "name": "stderr",
     "output_type": "stream",
     "text": [
      "cptac warning: Due to dropping the specified levels, dataframe now has 745 duplicated column headers. (<ipython-input-11-cf6f14d274d8>, line 3)\n"
     ]
    }
   ],
   "source": [
    "luad_prot = luad.get_proteomics('tumor')\n",
    "luad_trans = luad.get_transcriptomics('tumor')\n",
    "luad_prot = ut.reduce_multiindex(luad_prot, levels_to_drop = 'Database_ID')"
   ]
  },
  {
   "cell_type": "markdown",
   "metadata": {},
   "source": [
    "Getting correlations for the 3 available stages and getting list of results to plot"
   ]
  },
  {
   "cell_type": "code",
   "execution_count": 12,
   "metadata": {},
   "outputs": [],
   "source": [
    "\n",
    "\n",
    "stage_1_luad_corr = get_stage_corr(luad_trans, luad_prot, first_stage_luad)\n",
    "stage_2_luad_corr = get_stage_corr(luad_trans, luad_prot, second_stage_luad)\n",
    "stage_3_luad_corr = get_stage_corr(luad_trans, luad_prot, third_stage_luad)\n",
    "\n",
    "\n",
    "stage_1_luad = ret_list(stage_1_luad_corr)\n",
    "stage_2_luad = ret_list(stage_2_luad_corr)\n",
    "stage_3_luad = ret_list(stage_3_luad_corr)"
   ]
  },
  {
   "cell_type": "markdown",
   "metadata": {
    "scrolled": true
   },
   "source": [
    "Getting list of healthy tissue to plot with stages."
   ]
  },
  {
   "cell_type": "code",
   "execution_count": 13,
   "metadata": {},
   "outputs": [],
   "source": [
    "normal_luad_corr_list = (ret_list(normal_luad_corr))"
   ]
  },
  {
   "cell_type": "code",
   "execution_count": 14,
   "metadata": {},
   "outputs": [
    {
     "data": {
      "image/png": "[encoded data removed]",
      "text/plain": [
       "<Figure size 432x288 with 1 Axes>"
      ]
     },
     "metadata": {},
     "output_type": "display_data"
    }
   ],
   "source": [
    "sns.kdeplot(normal_luad_corr_list, label=\"Healthy\", color = \"royalblue\")\n",
    "sns.kdeplot(stage_1_luad, label=\"Stage 1\", color = \"red\")\n",
    "sns.kdeplot(stage_2_luad, label=\"Stage 2\", color = \"darkred\")\n",
    "sns.kdeplot(stage_3_luad, label=\"Stage 3\", color = \"purple\").set_title('LUAD')\n",
    "plt.savefig('Figures/Figure 5a LUAD.png')\n",
    "plt.show()"
   ]
  },
  {
   "cell_type": "markdown",
   "metadata": {},
   "source": [
    "# ENDOMETRIAL STAGES"
   ]
  },
  {
   "cell_type": "markdown",
   "metadata": {},
   "source": [
    "Sorting patients with different stages"
   ]
  },
  {
   "cell_type": "code",
   "execution_count": 15,
   "metadata": {},
   "outputs": [],
   "source": [
    "en_stage_dict = dict(en.get_clinical('tumor')['FIGO_stage'])\n",
    "en_keys = (en_stage_dict).keys()\n",
    "\n",
    "first_stage_en = []\n",
    "second_stage_en = []\n",
    "third_stage_en = []\n",
    "forth_stage_en = []\n",
    "\n",
    "\n",
    "for i in en_keys:\n",
    "    if en_stage_dict[i] == 'IA' or en_stage_dict[i] == 'IB':\n",
    "        first_stage_en.append(i)\n",
    "    if en_stage_dict[i] == 'II':\n",
    "        second_stage_en.append(i)\n",
    "    if en_stage_dict[i] == 'IIIA' or en_stage_dict[i] == 'IIIB' or en_stage_dict[i] == 'IIIC2' or en_stage_dict[i] == 'IIIC1':\n",
    "        third_stage_en.append(i)\n",
    "    if en_stage_dict[i] == 'IVB':\n",
    "        forth_stage_en.append(i)"
   ]
  },
  {
   "cell_type": "markdown",
   "metadata": {},
   "source": [
    "Getting endometrial proteomics and transcriptomics"
   ]
  },
  {
   "cell_type": "code",
   "execution_count": 16,
   "metadata": {},
   "outputs": [],
   "source": [
    "en_prot = en.get_proteomics('tumor')\n",
    "en_trans = en.get_transcriptomics('tumor')"
   ]
  },
  {
   "cell_type": "markdown",
   "metadata": {},
   "source": [
    "Getting correlations for different stages and returning a list to use plotting"
   ]
  },
  {
   "cell_type": "code",
   "execution_count": 17,
   "metadata": {},
   "outputs": [
    {
     "name": "stderr",
     "output_type": "stream",
     "text": [
      "C:\\Users\\nanel\\anaconda3\\lib\\site-packages\\scipy\\stats\\stats.py:3845: PearsonRConstantInputWarning: An input array is constant; the correlation coefficent is not defined.\n",
      "  warnings.warn(PearsonRConstantInputWarning())\n"
     ]
    }
   ],
   "source": [
    "stage_1_en_corr = get_stage_corr(en_trans, en_prot, first_stage_en)\n",
    "stage_2_en_corr = get_stage_corr(en_trans, en_prot, second_stage_en)\n",
    "stage_3_en_corr = get_stage_corr(en_trans, en_prot, third_stage_en)\n",
    "stage_4_en_corr = get_stage_corr(en_trans, en_prot, forth_stage_en)\n",
    "\n",
    "stage_1_en = ret_list(stage_1_en_corr)\n",
    "stage_2_en = ret_list(stage_2_en_corr)\n",
    "stage_3_en = ret_list(stage_3_en_corr)\n",
    "stage_4_en = ret_list(stage_4_en_corr)"
   ]
  },
  {
   "cell_type": "markdown",
   "metadata": {},
   "source": [
    "Getting a list with normal tissue to plot with stages"
   ]
  },
  {
   "cell_type": "code",
   "execution_count": 18,
   "metadata": {},
   "outputs": [],
   "source": [
    "\n",
    "normal_en_corr_list = (ret_list(normal_en_corr)) \n"
   ]
  },
  {
   "cell_type": "code",
   "execution_count": 19,
   "metadata": {
    "scrolled": true
   },
   "outputs": [
    {
     "data": {
      "image/png": "[encoded data removed]",
      "text/plain": [
       "<Figure size 432x288 with 1 Axes>"
      ]
     },
     "metadata": {},
     "output_type": "display_data"
    }
   ],
   "source": [
    "sns.kdeplot(normal_en_corr_list, label=\"Healthy\", color = \"royalblue\")\n",
    "sns.kdeplot(stage_1_en, label=\"Stage 1\", color = \"red\")\n",
    "sns.kdeplot(stage_2_en, label=\"Stage 2\", color = \"darkred\")\n",
    "sns.kdeplot(stage_3_en, label=\"Stage 3\", color = \"purple\")\n",
    "sns.kdeplot(stage_4_en, label=\"Stage 4\", color = \"black\").set_title('Endometrial')\n",
    "plt.savefig('Figures/Figure 5b endometrial.png')\n",
    "plt.show()"
   ]
  },
  {
   "cell_type": "markdown",
   "metadata": {},
   "source": [
    "# HNSCC STAGES"
   ]
  },
  {
   "cell_type": "markdown",
   "metadata": {},
   "source": [
    "Sorting patients with different stages"
   ]
  },
  {
   "cell_type": "code",
   "execution_count": 20,
   "metadata": {},
   "outputs": [],
   "source": [
    "hnscc_stage_dict = dict(hnscc.get_clinical('tumor')['patho_staging_curated'])\n",
    "hnscc_keys = hnscc_stage_dict.keys()\n",
    "\n",
    "first_stage_hnscc = []\n",
    "second_stage_hnscc = []\n",
    "third_stage_hnscc = []\n",
    "forth_stage_hnscc = []\n",
    "\n",
    "\n",
    "for i in hnscc_keys:\n",
    "    if hnscc_stage_dict[i] == 'Stage I':\n",
    "        first_stage_hnscc.append(i)\n",
    "    if hnscc_stage_dict[i] == 'Stage II':\n",
    "        second_stage_hnscc.append(i)\n",
    "    if hnscc_stage_dict[i] == 'Stage III':\n",
    "        third_stage_hnscc.append(i)\n",
    "    if hnscc_stage_dict[i] == 'Stage IV':\n",
    "        forth_stage_hnscc.append(i)\n",
    "        \n",
    "    "
   ]
  },
  {
   "cell_type": "markdown",
   "metadata": {},
   "source": [
    "Getting HNSCC proteomic and transcriptomic data"
   ]
  },
  {
   "cell_type": "code",
   "execution_count": 21,
   "metadata": {},
   "outputs": [],
   "source": [
    "hnscc_prot = hnscc.get_proteomics('tumor')\n",
    "hnscc_trans = hnscc.get_transcriptomics('tumor')"
   ]
  },
  {
   "cell_type": "markdown",
   "metadata": {},
   "source": [
    "Getting correlations for stages and lists to use in plots"
   ]
  },
  {
   "cell_type": "code",
   "execution_count": null,
   "metadata": {},
   "outputs": [
    {
     "name": "stderr",
     "output_type": "stream",
     "text": [
      "C:\\Users\\nanel\\anaconda3\\lib\\site-packages\\scipy\\stats\\stats.py:3845: PearsonRConstantInputWarning: An input array is constant; the correlation coefficent is not defined.\n",
      "  warnings.warn(PearsonRConstantInputWarning())\n"
     ]
    }
   ],
   "source": [
    "stage_1_hnscc_corr = get_stage_corr(hnscc_trans, hnscc_prot, first_stage_hnscc)\n",
    "stage_2_hnscc_corr = get_stage_corr(hnscc_trans, hnscc_prot, second_stage_hnscc)\n",
    "stage_3_hnscc_corr = get_stage_corr(hnscc_trans, hnscc_prot, third_stage_hnscc)\n",
    "stage_4_hnscc_corr = get_stage_corr(hnscc_trans, hnscc_prot, forth_stage_hnscc)\n",
    "\n",
    "stage_1_hnscc = ret_list(stage_1_hnscc_corr)\n",
    "stage_2_hnscc = ret_list(stage_2_hnscc_corr)\n",
    "stage_3_hnscc = ret_list(stage_3_hnscc_corr)\n",
    "stage_4_hnscc = ret_list(stage_4_hnscc_corr)"
   ]
  },
  {
   "cell_type": "markdown",
   "metadata": {},
   "source": [
    "Plotting healthy and stages"
   ]
  },
  {
   "cell_type": "code",
   "execution_count": null,
   "metadata": {},
   "outputs": [],
   "source": [
    "normal_hnscc_corr_list = (ret_list(normal_hnscc_corr)) \n",
    "\n",
    "sns.kdeplot(normal_hnscc_corr_list, label=\"Healthy\", color = \"royalblue\")\n",
    "sns.kdeplot(stage_1_hnscc, label=\"Stage 1\", color = \"red\")\n",
    "sns.kdeplot(stage_2_hnscc, label=\"Stage 2\", color = \"darkred\")\n",
    "sns.kdeplot(stage_3_hnscc, label=\"Stage 3\", color = \"purple\")\n",
    "sns.kdeplot(stage_4_hnscc, label=\"Stage 4\", color = \"black\").set_title('HNSCC')\n",
    "plt.savefig('Figures/Figure 5c hnscc.png')\n",
    "plt.show()"
   ]
  },
  {
   "cell_type": "markdown",
   "metadata": {},
   "source": [
    "# CCRCC STAGES"
   ]
  },
  {
   "cell_type": "markdown",
   "metadata": {},
   "source": [
    "Sorting patients with different stages"
   ]
  },
  {
   "cell_type": "code",
   "execution_count": null,
   "metadata": {},
   "outputs": [],
   "source": [
    "ccrcc_stage_dict = dict(ccrcc.get_clinical('tumor')['tumor_stage_pathological'])\n",
    "ccrcc_keys = ccrcc_stage_dict.keys()\n",
    "\n",
    "first_stage_ccrcc = []\n",
    "second_stage_ccrcc = []\n",
    "third_stage_ccrcc = []\n",
    "forth_stage_ccrcc = []\n",
    "\n",
    "for i in ccrcc_keys:\n",
    "    if ccrcc_stage_dict[i] == 'Stage I':\n",
    "        first_stage_ccrcc.append(i)\n",
    "    if ccrcc_stage_dict[i] == 'Stage II':\n",
    "        second_stage_ccrcc.append(i)\n",
    "    if ccrcc_stage_dict[i] == 'Stage III':\n",
    "        third_stage_ccrcc.append(i)\n",
    "    if ccrcc_stage_dict[i] == 'Stage IV':\n",
    "        forth_stage_ccrcc.append(i)"
   ]
  },
  {
   "cell_type": "markdown",
   "metadata": {},
   "source": [
    "Getting CCRCC proteomics and transcriptomics\n",
    "\n",
    "Proteomics has a multiindex so we drop it"
   ]
  },
  {
   "cell_type": "code",
   "execution_count": null,
   "metadata": {},
   "outputs": [],
   "source": [
    "ccrcc_prot = ccrcc.get_proteomics('tumor')\n",
    "ccrcc_prot = ut.reduce_multiindex(ccrcc_prot, levels_to_drop = 'Database_ID')\n",
    "ccrcc_trans = ccrcc.get_transcriptomics('tumor')"
   ]
  },
  {
   "cell_type": "markdown",
   "metadata": {},
   "source": [
    "Getting correlations and lists to use for plotting"
   ]
  },
  {
   "cell_type": "code",
   "execution_count": null,
   "metadata": {},
   "outputs": [],
   "source": [
    "stage_1_ccrcc_corr = get_stage_corr(ccrcc_trans, ccrcc_prot, first_stage_ccrcc)\n",
    "stage_2_ccrcc_corr = get_stage_corr(ccrcc_trans, ccrcc_prot, second_stage_ccrcc)\n",
    "stage_3_ccrcc_corr = get_stage_corr(ccrcc_trans, ccrcc_prot, third_stage_ccrcc)\n",
    "stage_4_ccrcc_corr = get_stage_corr(ccrcc_trans, ccrcc_prot, forth_stage_ccrcc)\n",
    "\n",
    "stage_1_ccrcc = ret_list(stage_1_ccrcc_corr)\n",
    "stage_2_ccrcc = ret_list(stage_2_ccrcc_corr)\n",
    "stage_3_ccrcc = ret_list(stage_3_ccrcc_corr)\n",
    "stage_4_ccrcc = ret_list(stage_4_ccrcc_corr)"
   ]
  },
  {
   "cell_type": "markdown",
   "metadata": {},
   "source": [
    "Plotting normal tissue with stages"
   ]
  },
  {
   "cell_type": "code",
   "execution_count": null,
   "metadata": {
    "scrolled": true
   },
   "outputs": [],
   "source": [
    "normal_ccrcc_corr_list = (ret_list(normal_ccrcc_corr)) \n",
    "\n",
    "sns.kdeplot(normal_ccrcc_corr_list, label=\"Healthy\", color = \"royalblue\")\n",
    "sns.kdeplot(stage_1_ccrcc, label=\"Stage 1\", color = \"red\")\n",
    "sns.kdeplot(stage_2_ccrcc, label=\"Stage 2\", color = \"darkred\")\n",
    "sns.kdeplot(stage_3_ccrcc, label=\"Stage 3\", color = \"purple\")\n",
    "sns.kdeplot(stage_4_ccrcc, label=\"Stage 4\", color = \"black\").set_title('CCRCC')\n",
    "plt.savefig('Figures/Figure 5d ccrcc.png')\n",
    "plt.show()"
   ]
  },
  {
   "cell_type": "markdown",
   "metadata": {},
   "source": [
    "# LSCC STAGES"
   ]
  },
  {
   "cell_type": "markdown",
   "metadata": {},
   "source": [
    "Sorting patients with different stages. LSCC has only one patient in the forth stage so we won't consider it."
   ]
  },
  {
   "cell_type": "code",
   "execution_count": null,
   "metadata": {},
   "outputs": [],
   "source": [
    "lscc_stage_dict = dict(lscc.get_clinical()['Stage'])\n",
    "lscc_keys = lscc_stage_dict.keys()\n",
    "\n",
    "first_stage_lscc = []\n",
    "second_stage_lscc = []\n",
    "third_stage_lscc = []\n",
    "\n",
    "for i in lscc_keys:\n",
    "    if lscc_stage_dict[i] == 'I' or lscc_stage_dict[i] == 'IA' or lscc_stage_dict[i] == 'IB':\n",
    "        first_stage_lscc.append(i)\n",
    "    if lscc_stage_dict[i] == 'II' or  lscc_stage_dict[i] == 'IIA' or lscc_stage_dict[i] == 'IIB':\n",
    "        second_stage_lscc.append(i)\n",
    "    if lscc_stage_dict[i] == 'III' or lscc_stage_dict[i] == 'IIIA' or lscc_stage_dict[i] == 'IIIB':\n",
    "        third_stage_lscc.append(i)"
   ]
  },
  {
   "cell_type": "markdown",
   "metadata": {},
   "source": [
    "Getting LSCC proteomics and transcriptomics. Proteomics has a multiindex so we drop it"
   ]
  },
  {
   "cell_type": "code",
   "execution_count": null,
   "metadata": {},
   "outputs": [],
   "source": [
    "lscc_prot = lscc.get_proteomics('tumor')\n",
    "lscc_prot = ut.reduce_multiindex(lscc_prot, levels_to_drop = 'Database_ID')\n",
    "lscc_trans = lscc.get_transcriptomics('tumor')"
   ]
  },
  {
   "cell_type": "markdown",
   "metadata": {},
   "source": [
    "Getting correlations and lists to use for plotting"
   ]
  },
  {
   "cell_type": "code",
   "execution_count": null,
   "metadata": {},
   "outputs": [],
   "source": [
    "stage_1_lscc_corr = get_stage_corr(lscc_trans, lscc_prot, first_stage_lscc)\n",
    "stage_2_lscc_corr = get_stage_corr(lscc_trans, lscc_prot, second_stage_lscc)\n",
    "stage_3_lscc_corr = get_stage_corr(lscc_trans, lscc_prot, third_stage_lscc)\n",
    "\n",
    "stage_1_lscc = ret_list(stage_1_lscc_corr)\n",
    "stage_2_lscc = ret_list(stage_2_lscc_corr)\n",
    "stage_3_lscc = ret_list(stage_3_lscc_corr)\n"
   ]
  },
  {
   "cell_type": "markdown",
   "metadata": {},
   "source": [
    "Getting normal tissue to compare with stages"
   ]
  },
  {
   "cell_type": "code",
   "execution_count": null,
   "metadata": {},
   "outputs": [],
   "source": [
    "normal_lscc_corr_list = (ret_list(normal_lscc_corr)) \n",
    "\n",
    "sns.kdeplot(normal_lscc_corr_list, label=\"Healthy\", color = \"royalblue\")\n",
    "sns.kdeplot(stage_1_lscc, label=\"Stage 1\", color = \"red\")\n",
    "sns.kdeplot(stage_2_lscc, label=\"Stage 2\", color = \"darkred\")\n",
    "sns.kdeplot(stage_3_lscc, label=\"Stage 3\", color = \"purple\").set_title('LSCC')\n",
    "plt.savefig('Figures/Figure 5e lscc.png')\n",
    "plt.show()"
   ]
  }
 ],
 "metadata": {
  "kernelspec": {
   "display_name": "Python 3",
   "language": "python",
   "name": "python3"
  },
  "language_info": {
   "codemirror_mode": {
    "name": "ipython",
    "version": 3
   },
   "file_extension": ".py",
   "mimetype": "text/x-python",
   "name": "python",
   "nbconvert_exporter": "python",
   "pygments_lexer": "ipython3",
   "version": "3.8.3"
  }
 },
 "nbformat": 4,
 "nbformat_minor": 4
}
