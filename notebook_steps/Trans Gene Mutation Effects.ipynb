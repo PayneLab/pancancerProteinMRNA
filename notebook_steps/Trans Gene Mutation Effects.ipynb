{
 "cells": [
  {
   "cell_type": "code",
   "execution_count": 1,
   "metadata": {},
   "outputs": [],
   "source": [
    "import pandas as pd\n",
    "import cptac\n",
    "import statistics as st\n",
    "import cptac.utils as ut\n",
    "import seaborn as sns\n",
    "import numpy as np\n",
    "import matplotlib.pyplot as plt\n",
    "import transform_pval \n",
    "from scipy import stats\n",
    "import scipy"
   ]
  },
  {
   "cell_type": "code",
   "execution_count": 2,
   "metadata": {},
   "outputs": [
    {
     "name": "stdout",
     "output_type": "stream",
     "text": [
      "                                                \r"
     ]
    },
    {
     "name": "stderr",
     "output_type": "stream",
     "text": [
      "cptac warning: The LSCC data is currently strictly reserved for CPTAC investigators. Otherwise, you are not authorized to access these data. Additionally, even after these data become publicly available, they will be subject to a publication embargo (see https://proteomics.cancer.gov/data-portal/about/data-use-agreement or enter cptac.embargo() to open the webpage for more details). (<ipython-input-2-5c25f03e6d4a>, line 5)\n"
     ]
    }
   ],
   "source": [
    "ccrcc = cptac.Ccrcc()\n",
    "en = cptac.Endometrial()\n",
    "luad = cptac.Luad()\n",
    "hnscc  = cptac.Hnscc()\n",
    "lscc = cptac.Lscc()"
   ]
  },
  {
   "cell_type": "code",
   "execution_count": 3,
   "metadata": {},
   "outputs": [],
   "source": [
    "cancer_dict = {ccrcc:\"ccrcc\",en:\"endometrial\",luad:\"luad\", hnscc:\"hnscc\",lscc:\"lscc\"}\n",
    "cancer_list = [ccrcc,en,luad,hnscc,lscc]"
   ]
  },
  {
   "cell_type": "code",
   "execution_count": 4,
   "metadata": {},
   "outputs": [],
   "source": [
    "mutated_gene = 'TP53'"
   ]
  },
  {
   "cell_type": "code",
   "execution_count": 5,
   "metadata": {},
   "outputs": [],
   "source": [
    "def get_omics_df(cancer):\n",
    "    transcriptomics_df = cancer.get_transcriptomics(tissue_type='tumor')\n",
    "    proteomics_df = cancer.get_proteomics(tissue_type='tumor')\n",
    "    if isinstance(proteomics_df.columns, pd.MultiIndex):\n",
    "        proteomics_df = proteomics_df.droplevel('Database_ID', axis = 1)\n",
    "    if isinstance(transcriptomics_df.columns, pd.MultiIndex):\n",
    "        transcriptomics_df = transcriptomics_df.droplevel('Database_ID', axis = 1)\n",
    "    proteomics_df['patient_ID'] = proteomics_df.index\n",
    "    transcriptomics_df['patient_ID'] = transcriptomics_df.index\n",
    "    transcriptomics_df = transcriptomics_df.melt(id_vars='patient_ID', var_name = 'gene', value_name='transcriptomics')\n",
    "    proteomics_df = proteomics_df.melt(id_vars='patient_ID', var_name = 'gene', value_name='proteomics')\n",
    "    mutation_df = cancer.get_somatic_mutation()\n",
    "    mutation_df = mutation_df[mutation_df.Gene == mutated_gene]\n",
    "    omics_df = pd.merge(transcriptomics_df, proteomics_df, how = 'inner')\n",
    "    omics_df['mutation_status'] = omics_df.patient_ID.isin(mutation_df.index)\n",
    "    omics_df = omics_df.dropna()\n",
    "    return omics_df"
   ]
  },
  {
   "cell_type": "code",
   "execution_count": 6,
   "metadata": {},
   "outputs": [],
   "source": [
    "def get_corr_df(omics_df):\n",
    "    mut_corrs = []\n",
    "    mut_p_vals = []\n",
    "    non_mut_corrs = []\n",
    "    non_mut_p_vals = []\n",
    "    corr_diffs = []\n",
    "    corr_diff_pvals = []\n",
    "    genes = []\n",
    "    for gene in pd.unique(omics_df.gene):\n",
    "        df = omics_df[omics_df.gene == gene]\n",
    "        mut_df = df[df.mutation_status == True]\n",
    "        non_mut_df = df[df.mutation_status == False]\n",
    "        if len(mut_df) < 4 or len(non_mut_df) < 4:\n",
    "            continue\n",
    "        mut_r, mut_p = stats.pearsonr(mut_df.transcriptomics, mut_df.proteomics)\n",
    "        non_mut_r, non_mut_p = stats.pearsonr(non_mut_df.transcriptomics, non_mut_df.proteomics)\n",
    "        mut_corrs.append(mut_r)\n",
    "        mut_p_vals.append(mut_p)\n",
    "        non_mut_corrs.append(non_mut_r)\n",
    "        non_mut_p_vals.append(non_mut_p)\n",
    "        corr_diff = mut_r - non_mut_r\n",
    "        corr_diffs.append(corr_diff)\n",
    "        diff_p_val = transform_pval.compare_correlations(mut_r, non_mut_r, len(mut_df), len(non_mut_df))\n",
    "        corr_diff_pvals.append(diff_p_val)\n",
    "        genes.append(gene)\n",
    "    correlation_df = pd.DataFrame({'gene': genes, 'mutated_correlation': mut_corrs, 'non_mutated_correlation': non_mut_corrs,\n",
    "                                   'non_mutated_p_vals': non_mut_p_vals, 'mutated_p_vals': mut_p_vals,\n",
    "                                   'delta_correlation': corr_diffs, 'delta_correlation_pval': corr_diff_pvals})\n",
    "    return correlation_df"
   ]
  },
  {
   "cell_type": "code",
   "execution_count": 7,
   "metadata": {},
   "outputs": [
    {
     "name": "stdout",
     "output_type": "stream",
     "text": [
      "ccrcc\n",
      "endometrial\n",
      "luad\n",
      "hnscc\n",
      "lscc\n"
     ]
    }
   ],
   "source": [
    "omics_dfs = []\n",
    "for cancer in cancer_list:\n",
    "    print(cancer_dict[cancer])\n",
    "    df = get_omics_df(cancer)\n",
    "    df['cancer'] = [cancer_dict[cancer]] * len(df)\n",
    "    omics_dfs.append(df)\n",
    "omics_df = pd.concat(omics_dfs)"
   ]
  },
  {
   "cell_type": "code",
   "execution_count": null,
   "metadata": {},
   "outputs": [
    {
     "name": "stdout",
     "output_type": "stream",
     "text": [
      "['ccrcc']\n"
     ]
    },
    {
     "name": "stderr",
     "output_type": "stream",
     "text": [
      "C:\\Users\\nanel\\anaconda3\\lib\\site-packages\\scipy\\stats\\stats.py:3845: PearsonRConstantInputWarning: An input array is constant; the correlation coefficent is not defined.\n",
      "  warnings.warn(PearsonRConstantInputWarning())\n",
      "C:\\Users\\nanel\\anaconda3\\lib\\site-packages\\scipy\\stats\\_distn_infrastructure.py:1932: RuntimeWarning: invalid value encountered in less_equal\n",
      "  cond2 = cond0 & (x <= _a)\n"
     ]
    },
    {
     "name": "stdout",
     "output_type": "stream",
     "text": [
      "['endometrial']\n",
      "['luad']\n",
      "['hnscc']\n"
     ]
    }
   ],
   "source": [
    "correlation_dfs = []\n",
    "for df in omics_dfs:\n",
    "    cancer = list(pd.unique(df['cancer']))\n",
    "    print(cancer)\n",
    "    corr_df = get_corr_df(df)\n",
    "    corr_df['cancer'] =  cancer * len(corr_df)\n",
    "    correlation_dfs.append(corr_df)\n",
    "correlation_df = pd.concat(correlation_dfs)\n",
    "correlation_df.to_csv('TP53_trans_effects.csv')"
   ]
  },
  {
   "cell_type": "code",
   "execution_count": null,
   "metadata": {},
   "outputs": [],
   "source": [
    "sig_correlation_changes = []\n",
    "for cancer in pd.unique(correlation_df.cancer):\n",
    "    df = correlation_df[correlation_df.cancer == cancer]\n",
    "    df = df[df.delta_correlation_pval <= 0.05 / len(df)]\n",
    "    sig_correlation_changes.append(df)\n",
    "sig_correltion_change_df = pd.concat(sig_correlation_changes)"
   ]
  },
  {
   "cell_type": "code",
   "execution_count": null,
   "metadata": {},
   "outputs": [],
   "source": [
    "g = sns.scatterplot(data = correlation_df, x = 'delta_correlation', y = 'delta_correlation_pval', hue = 'cancer')\n",
    "g.invert_yaxis()\n",
    "g.set_yscale('log')\n",
    "for x,y,z in zip(sig_correlation_change_df['delta_correlation'], sig_correlation_change_df['delta_correlation_pval'], sig_correlation_change_df['gene']):\n",
    "    plt.text(x = x, y = y * .9, s = z, color = 'black', rotation = 45)\n",
    "plt.axhline(y = 0.05 / len(correlation_df), color = 'r')\n"
   ]
  },
  {
   "cell_type": "code",
   "execution_count": null,
   "metadata": {},
   "outputs": [],
   "source": [
    "sig_omics_df = omics_df[omics_df.gene.isin(sig_correlation_change_df.gene)]"
   ]
  },
  {
   "cell_type": "code",
   "execution_count": null,
   "metadata": {},
   "outputs": [],
   "source": [
    "g = sns.FacetGrid(data = sig_omics_df, col = 'cancer',row = 'gene' col_wrap=5, hue = 'mutation_status', sharex = False, sharey = False)\n",
    "g.map_dataframe(sns.regplot, x = 'transcriptomics', y = 'proteomics', fit_reg = True, truncate = False)"
   ]
  },
  {
   "cell_type": "code",
   "execution_count": null,
   "metadata": {},
   "outputs": [],
   "source": [
    "df1 = sig_correlation_change_df.melt(value_vars = ['non_mutated_correlation', 'mutated_correlation'], var_name = 'mutation_status', value_name = 'correlation', id_vars = ['gene', 'cancer']).replace(['non_mutated_correlation', 'mutated_correlation'], ['wt', 'mutated'])\n",
    "df2 = sig_correlation_change_df.melt(value_vars = ['mutated_p_vals', 'non_mutated_p_vals'], value_name = 'p-val',var_name = 'mutation_status', id_vars = ['gene', 'cancer']).replace(['mutated_p_vals', 'non_mutated_p_vals'], ['mutated', 'wt'])\n",
    "df = pd.merge(df1, df2)\n",
    "significant_correlations = []\n",
    "for index, row in df:\n",
    "    cancer = row['cancer']\n",
    "    sig_corr = row['p-val'] = 0.05 / sum(correlation_df.cancer == cancer)\n",
    "    significant_correlations.append(sig_corr)\n",
    "df['significant_correlation'] = sig_corr"
   ]
  },
  {
   "cell_type": "code",
   "execution_count": null,
   "metadata": {},
   "outputs": [],
   "source": [
    "g = sns.FacetGrid(data = df, col = 'cancer', col_wrap = 3)\n",
    "g.map_dataframe(sns.lineplot, x = 'mutation_status', y = 'correlation', hue = 'gene', legend = False)\n",
    "g.map_dataframe(sns.scatterplot, x = 'mutation_status', y = 'correlation', hue = 'gene', size = 'significant_correlation')\n",
    "ax.legend(loc = 'center left', bbox_to_anchor=(1, 0.5))\n",
    "g.set_title({'col_name'})\n",
    "plt.title('TP53 Mutation Effects')"
   ]
  },
  {
   "cell_type": "code",
   "execution_count": null,
   "metadata": {},
   "outputs": [],
   "source": []
  }
 ],
 "metadata": {
  "kernelspec": {
   "display_name": "Python 3",
   "language": "python",
   "name": "python3"
  },
  "language_info": {
   "codemirror_mode": {
    "name": "ipython",
    "version": 3
   },
   "file_extension": ".py",
   "mimetype": "text/x-python",
   "name": "python",
   "nbconvert_exporter": "python",
   "pygments_lexer": "ipython3",
   "version": "3.8.3"
  }
 },
 "nbformat": 4,
 "nbformat_minor": 4
}
