{
 "cells": [
  {
   "cell_type": "code",
   "execution_count": 1,
   "metadata": {},
   "outputs": [],
   "source": [
    "import cptac\n",
    "import scipy\n",
    "from scipy import stats\n",
    "import seaborn as sns\n",
    "import matplotlib.pyplot as plt\n",
    "import numpy as np\n",
    "import math\n",
    "import pandas as pd\n",
    "import statistics\n",
    "import parse_correlations_dataframe as get_corr\n",
    "import copy"
   ]
  },
  {
   "cell_type": "code",
   "execution_count": 2,
   "metadata": {},
   "outputs": [
    {
     "name": "stdout",
     "output_type": "stream",
     "text": [
      "Checking that luad index is up-to-date...       \r"
     ]
    },
    {
     "name": "stderr",
     "output_type": "stream",
     "text": [
      "cptac warning: The GBM dataset is under publication embargo until March 01, 2021. CPTAC is a community resource project and data are made available rapidly after generation for community research use. The embargo allows exploring and utilizing the data, but analysis may not be published until after the embargo date. Please see https://proteomics.cancer.gov/data-portal/about/data-use-agreement or enter cptac.embargo() to open the webpage for more details. (<ipython-input-2-db53e4692cc2>, line 5)\n"
     ]
    },
    {
     "name": "stdout",
     "output_type": "stream",
     "text": [
      "Checking that lscc index is up-to-date...   \r"
     ]
    },
    {
     "name": "stderr",
     "output_type": "stream",
     "text": [
      "cptac warning: The HNSCC data is currently strictly reserved for CPTAC investigators. Otherwise, you are not authorized to access these data. Additionally, even after these data become publicly available, they will be subject to a publication embargo (see https://proteomics.cancer.gov/data-portal/about/data-use-agreement or enter cptac.embargo() to open the webpage for more details). (<ipython-input-2-db53e4692cc2>, line 8)\n"
     ]
    },
    {
     "name": "stdout",
     "output_type": "stream",
     "text": [
      "                                         \r"
     ]
    },
    {
     "name": "stderr",
     "output_type": "stream",
     "text": [
      "cptac warning: The LSCC data is currently strictly reserved for CPTAC investigators. Otherwise, you are not authorized to access these data. Additionally, even after these data become publicly available, they will be subject to a publication embargo (see https://proteomics.cancer.gov/data-portal/about/data-use-agreement or enter cptac.embargo() to open the webpage for more details). (<ipython-input-2-db53e4692cc2>, line 9)\n"
     ]
    }
   ],
   "source": [
    "brca = cptac.Brca()\n",
    "ccrcc = cptac.Ccrcc()\n",
    "colon = cptac.Colon()\n",
    "en = cptac.Endometrial()\n",
    "gbm = cptac.Gbm()\n",
    "luad = cptac.Luad()\n",
    "ovarian = cptac.Ovarian()\n",
    "hnscc  = cptac.Hnscc()\n",
    "lscc = cptac.Lscc()\n",
    "cancers = [brca, ccrcc, colon, en, gbm, luad, ovarian, hnscc, lscc]"
   ]
  },
  {
   "cell_type": "code",
   "execution_count": 3,
   "metadata": {},
   "outputs": [],
   "source": [
    "# https://link.springer.com/article/10.3758/s13428-012-0289-7\n",
    "def compare_correlations(r1, r2, n1, n2):\n",
    "    rp1 = np.arctanh(r1)\n",
    "    rp2 = np.arctanh(r2)\n",
    "    Sr12 = sqrt ((1/n1-3)+(1/n2-3))\n",
    "    z = (rp1-rp2) / Sr12"
   ]
  },
  {
   "cell_type": "code",
   "execution_count": 4,
   "metadata": {},
   "outputs": [],
   "source": [
    "def find_mut_tumor(cancer_type, gene):\n",
    "    try:\n",
    "        gene_multi = cancer_type.multi_join({'proteomics': gene, 'transcriptomics': gene, 'somatic_mutation': gene}, tissue_type = 'tumor', flatten = True)\n",
    "        normal = cancer_type.multi_join({'proteomics': gene, 'transcriptomics': gene}, tissue_type= 'normal', flatten = True)\n",
    "        normal.columns = ['proteomics', 'transcriptomics']\n",
    "        gene_multi.columns = ['proteomics', 'transcriptomics', 'mutation', 'location', 'mutation_status']\n",
    "        trans = list(gene_multi[\"transcriptomics\"])\n",
    "        prot = list(gene_multi['proteomics'])\n",
    "        group = []\n",
    "        for i in gene_multi['mutation_status']:\n",
    "            if type(i) == str:\n",
    "                group.append(\"mutation\")\n",
    "            else:\n",
    "                group.append(\"wt\") \n",
    "        if group.count('wt') < 2 or len(normal) < 2:\n",
    "            return float(\"NaN\")\n",
    "        group.extend(['normal']*len(normal))\n",
    "        prot.extend(list(normal['proteomics']))\n",
    "        trans.extend(list(normal['transcriptomics']))\n",
    "        gene_df = pd.DataFrame({'Type': group, 'Proteomics': prot, 'Transcriptomics': trans})\n",
    "        gene_df = gene_df.dropna()\n",
    "        return gene_df\n",
    "    except:\n",
    "        return float(\"NaN\")"
   ]
  },
  {
   "cell_type": "code",
   "execution_count": null,
   "metadata": {},
   "outputs": [],
   "source": [
    "first_pass = dict()\n",
    "for cancer in cancers:\n",
    "    intersting_genes = []\n",
    "    df = find_mut_tumor(cancer, gene)\n",
    "    for gene in cancer:\n",
    "        if normal different from tumor:\n",
    "            check mut vs wt tumor:\n",
    "    \n",
    "            "
   ]
  }
 ],
 "metadata": {
  "kernelspec": {
   "display_name": "Python 3",
   "language": "python",
   "name": "python3"
  },
  "language_info": {
   "codemirror_mode": {
    "name": "ipython",
    "version": 3
   },
   "file_extension": ".py",
   "mimetype": "text/x-python",
   "name": "python",
   "nbconvert_exporter": "python",
   "pygments_lexer": "ipython3",
   "version": "3.8.3"
  }
 },
 "nbformat": 4,
 "nbformat_minor": 4
}
