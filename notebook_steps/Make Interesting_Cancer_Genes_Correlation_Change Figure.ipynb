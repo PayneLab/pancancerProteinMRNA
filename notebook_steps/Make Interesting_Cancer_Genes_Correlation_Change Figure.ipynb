{
 "cells": [
  {
   "cell_type": "markdown",
   "metadata": {},
   "source": [
    "# Step 1: Import CPTAC Data and Define Correlation Functions"
   ]
  },
  {
   "cell_type": "code",
   "execution_count": 1,
   "metadata": {},
   "outputs": [],
   "source": [
    "import cptac\n",
    "import cptac.utils as ut\n",
    "import scipy\n",
    "import seaborn as sns\n",
    "import matplotlib.pyplot as plt\n",
    "import numpy as np\n",
    "import math\n",
    "import pandas as pd\n",
    "import statistics as st\n",
    "import load_data\n",
    "import get_correlations"
   ]
  },
  {
   "cell_type": "code",
   "execution_count": 2,
   "metadata": {},
   "outputs": [],
   "source": [
    "#Make docstrings for what is required\n",
    "def get_single_gene_correlations(gene, cancer_type_list,type_dict,input_tissue_type = \"tumor\"):\n",
    "    correlation_list = []\n",
    "    type_list = []\n",
    "    pval_list = []\n",
    "    for cancer in cancer_type_list:\n",
    "        correlation,pval,num_samples = get_correlations.correlation_list(cancer, [gene],tissue_type = input_tissue_type)\n",
    "        if len(correlation) == 0:\n",
    "            continue\n",
    "        else:\n",
    "            correlation_list.append(correlation[0])\n",
    "            pval_list.append(pval[0][1])\n",
    "            type_list.append(type_dict[cancer])\n",
    "    return correlation_list, type_list, num_samples, pval_list"
   ]
  },
  {
   "cell_type": "code",
   "execution_count": 3,
   "metadata": {},
   "outputs": [],
   "source": [
    "def make_df_with_genes(gene_list,cancer_list,name_dict,tissue_type):\n",
    "    all_genes = []\n",
    "    all_correlations = []\n",
    "    all_cancer_types = []\n",
    "    all_pvals = []\n",
    "    for gene in gene_list:\n",
    "        gene_corr_list,type_list,num_samples, pval_list = get_single_gene_correlations(gene,cancer_list,name_dict,tissue_type)\n",
    "        gene_x,gene_y = get_x_y(gene_corr_list)\n",
    "        all_genes.extend(gene_x)\n",
    "        all_correlations.extend(gene_y)\n",
    "        all_cancer_types.extend(type_list)\n",
    "        all_pvals.extend(pval_list)\n",
    "    df = pd.DataFrame(list(zip(all_genes,all_correlations,all_cancer_types, all_pvals)), columns =['Gene', 'Correlation','Cancer', 'p-val'])\n",
    "    return(df)"
   ]
  },
  {
   "cell_type": "code",
   "execution_count": 4,
   "metadata": {},
   "outputs": [],
   "source": [
    "def get_x_y(correlation_list):\n",
    "    x = []\n",
    "    y = []\n",
    "    for item in correlation_list:\n",
    "        x.append(item[0])\n",
    "        y.append(item[1])\n",
    "    return x,y"
   ]
  },
  {
   "cell_type": "markdown",
   "metadata": {},
   "source": [
    "# Step 2: Define Desired Cancer Types"
   ]
  },
  {
   "cell_type": "code",
   "execution_count": null,
   "metadata": {},
   "outputs": [
    {
     "name": "stdout",
     "output_type": "stream",
     "text": [
      "Checking that hnscc index is up-to-date...      \r"
     ]
    }
   ],
   "source": [
    "ccrcc = cptac.Ccrcc()\n",
    "en = cptac.Endometrial()\n",
    "luad = cptac.Luad()\n",
    "hnscc  = cptac.Hnscc()\n",
    "lscc = cptac.Lscc()"
   ]
  },
  {
   "cell_type": "code",
   "execution_count": null,
   "metadata": {},
   "outputs": [],
   "source": [
    "cancer_list = [ccrcc,en,luad,hnscc,lscc]"
   ]
  },
  {
   "cell_type": "code",
   "execution_count": null,
   "metadata": {},
   "outputs": [],
   "source": [
    "type_dict = {ccrcc:\"ccrcc\",en:\"endometrial\",luad:\"luad\", hnscc:\"hnscc\",lscc:\"lscc\"}"
   ]
  },
  {
   "cell_type": "markdown",
   "metadata": {},
   "source": [
    "# Step 3: Pick Genes and Make Dataframe"
   ]
  },
  {
   "cell_type": "markdown",
   "metadata": {},
   "source": [
    "The genes shown here were picked from Bailey et al. found [here](https://pubmed.ncbi.nlm.nih.gov/29625053/)"
   ]
  },
  {
   "cell_type": "code",
   "execution_count": null,
   "metadata": {},
   "outputs": [],
   "source": [
    "cancer_genes = ['BRAF','FAT1','IDH1','TP53','KMT2D','KRAS','PIK3CA','PTEN','SPTA1']"
   ]
  },
  {
   "cell_type": "code",
   "execution_count": null,
   "metadata": {},
   "outputs": [],
   "source": [
    "tumor_df = make_df_with_genes(cancer_genes,cancer_list,type_dict,tissue_type = \"tumor\")\n",
    "tumor_df['Tissue'] = ['Tumor'] * len(tumor_df)"
   ]
  },
  {
   "cell_type": "code",
   "execution_count": null,
   "metadata": {},
   "outputs": [],
   "source": [
    "tumor_df"
   ]
  },
  {
   "cell_type": "code",
   "execution_count": null,
   "metadata": {},
   "outputs": [],
   "source": [
    "normal_df = make_df_with_genes(cancer_genes,cancer_list,type_dict,tissue_type = \"normal\")\n",
    "normal_df['Tissue'] = ['Normal'] * len(normal_df)"
   ]
  },
  {
   "cell_type": "code",
   "execution_count": null,
   "metadata": {},
   "outputs": [],
   "source": [
    "normal_df"
   ]
  },
  {
   "cell_type": "code",
   "execution_count": null,
   "metadata": {},
   "outputs": [],
   "source": [
    "# get delta correlation p-values\n",
    "delta_corr_pvals_df = pd.read_csv('p_val.csv')\n",
    "delta_corr_pvals_df\n",
    "delta_corr_pvals_df"
   ]
  },
  {
   "cell_type": "code",
   "execution_count": null,
   "metadata": {},
   "outputs": [],
   "source": [
    "delta_corr_pvals_df[delta_corr_pvals_df.Cancer == 'luad'].reset_index()['BRAF'][0]"
   ]
  },
  {
   "cell_type": "code",
   "execution_count": null,
   "metadata": {},
   "outputs": [],
   "source": [
    "combined_df = pd.merge(normal_df, tumor_df, how = 'outer')\n",
    "combined_df['Significant Correlation'] = combined_df['p-val'] <= 0.05\n",
    "delta_corr_pvals = []\n",
    "for index, row in combined_df.iterrows():\n",
    "    cancer = row['Cancer']\n",
    "    gene = row['Gene']\n",
    "    pval = delta_corr_pvals_df[delta_corr_pvals_df.Cancer == cancer].reset_index()[gene][0]\n",
    "    delta_corr_pvals.append(pval)\n",
    "combined_df['delta_corr_pval'] = delta_corr_pvals\n",
    "combined_df['Significant Delta Correlation'] = combined_df['delta_corr_pval'] <= 0.05"
   ]
  },
  {
   "cell_type": "code",
   "execution_count": null,
   "metadata": {},
   "outputs": [],
   "source": [
    "combined_df"
   ]
  },
  {
   "cell_type": "markdown",
   "metadata": {},
   "source": [
    "# Step 4: Plot Data"
   ]
  },
  {
   "cell_type": "code",
   "execution_count": null,
   "metadata": {
    "scrolled": true
   },
   "outputs": [],
   "source": [
    "g = sns.FacetGrid(combined_df, col ='Gene', height = 3, col_wrap = 3)\n",
    "\n",
    "g.map_dataframe(sns.scatterplot, x = 'Tissue', y = 'Correlation', hue = 'Cancer', palette='tab10', size = 'Significant Correlation', size_order = [True, False])\n",
    "g.map_dataframe(sns.lineplot, x = 'Tissue', y = 'Correlation', hue = 'Cancer', palette='tab10', style = 'Significant Delta Correlation', style_order = [True, False], label = '_Hidden')\n",
    "g.set_axis_labels('Tissue', 'Correlation')\n",
    "#g.add_legend()\n",
    "g.set_titles('{col_name}')\n",
    "current_handles, current_labels = plt.gca().get_legend_handles_labels()\n",
    "del current_labels[9:15]\n",
    "del current_handles[9:15]\n",
    "plt.legend(current_handles, current_labels, bbox_to_anchor=(2.2, 2.2))\n",
    "plt.savefig('Interesting_Cancer_Genes_Correlation_Change.png', bbox_inches='tight')"
   ]
  },
  {
   "cell_type": "code",
   "execution_count": null,
   "metadata": {},
   "outputs": [],
   "source": [
    "# change lines to represent statistical significance of change \n",
    "# also is original correlations statistically meaningful "
   ]
  }
 ],
 "metadata": {
  "kernelspec": {
   "display_name": "Python 3",
   "language": "python",
   "name": "python3"
  },
  "language_info": {
   "codemirror_mode": {
    "name": "ipython",
    "version": 3
   },
   "file_extension": ".py",
   "mimetype": "text/x-python",
   "name": "python",
   "nbconvert_exporter": "python",
   "pygments_lexer": "ipython3",
   "version": "3.8.3"
  }
 },
 "nbformat": 4,
 "nbformat_minor": 4
}
