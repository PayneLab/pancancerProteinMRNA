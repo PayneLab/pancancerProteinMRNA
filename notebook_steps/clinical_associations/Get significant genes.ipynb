{
 "cells": [
  {
   "cell_type": "markdown",
   "metadata": {},
   "source": [
    "## Getting the genes that have a significant P-value for each cancer's delta correlation\n",
    "### Do we want to use all of the significant genes (approx. 5000 genes for each cancer) or just the most significant (i.e. lowest 50 p-values)?"
   ]
  },
  {
   "cell_type": "code",
   "execution_count": 1,
   "metadata": {},
   "outputs": [],
   "source": [
    "import pandas as pd\n",
    "import pcprutils as ut\n",
    "import scipy.odr\n",
    "import altair as alt\n",
    "import numpy as np"
   ]
  },
  {
   "cell_type": "code",
   "execution_count": 2,
   "metadata": {
    "scrolled": true
   },
   "outputs": [
    {
     "data": {
      "text/html": [
       "<div>\n",
       "<style scoped>\n",
       "    .dataframe tbody tr th:only-of-type {\n",
       "        vertical-align: middle;\n",
       "    }\n",
       "\n",
       "    .dataframe tbody tr th {\n",
       "        vertical-align: top;\n",
       "    }\n",
       "\n",
       "    .dataframe thead th {\n",
       "        text-align: right;\n",
       "    }\n",
       "</style>\n",
       "<table border=\"1\" class=\"dataframe\">\n",
       "  <thead>\n",
       "    <tr style=\"text-align: right;\">\n",
       "      <th></th>\n",
       "      <th>Gene</th>\n",
       "      <th>Delta_Correlation</th>\n",
       "      <th>P_Value</th>\n",
       "      <th>FDR</th>\n",
       "      <th>Cancer</th>\n",
       "    </tr>\n",
       "  </thead>\n",
       "  <tbody>\n",
       "    <tr>\n",
       "      <th>0</th>\n",
       "      <td>A1BG</td>\n",
       "      <td>-0.198013</td>\n",
       "      <td>2.451044e-01</td>\n",
       "      <td>4.045115e-01</td>\n",
       "      <td>HNSCC</td>\n",
       "    </tr>\n",
       "    <tr>\n",
       "      <th>1</th>\n",
       "      <td>A2M</td>\n",
       "      <td>-0.118384</td>\n",
       "      <td>4.480278e-01</td>\n",
       "      <td>6.091130e-01</td>\n",
       "      <td>HNSCC</td>\n",
       "    </tr>\n",
       "    <tr>\n",
       "      <th>2</th>\n",
       "      <td>A2ML1</td>\n",
       "      <td>-0.023469</td>\n",
       "      <td>2.918125e-01</td>\n",
       "      <td>4.561968e-01</td>\n",
       "      <td>HNSCC</td>\n",
       "    </tr>\n",
       "    <tr>\n",
       "      <th>3</th>\n",
       "      <td>AAAS</td>\n",
       "      <td>0.275905</td>\n",
       "      <td>1.051756e-01</td>\n",
       "      <td>2.209072e-01</td>\n",
       "      <td>HNSCC</td>\n",
       "    </tr>\n",
       "    <tr>\n",
       "      <th>4</th>\n",
       "      <td>AACS</td>\n",
       "      <td>-0.136836</td>\n",
       "      <td>1.800586e-01</td>\n",
       "      <td>3.266475e-01</td>\n",
       "      <td>HNSCC</td>\n",
       "    </tr>\n",
       "    <tr>\n",
       "      <th>...</th>\n",
       "      <td>...</td>\n",
       "      <td>...</td>\n",
       "      <td>...</td>\n",
       "      <td>...</td>\n",
       "      <td>...</td>\n",
       "    </tr>\n",
       "    <tr>\n",
       "      <th>50684</th>\n",
       "      <td>ZWINT</td>\n",
       "      <td>1.219024</td>\n",
       "      <td>2.267627e-09</td>\n",
       "      <td>1.049863e-07</td>\n",
       "      <td>Endometrial</td>\n",
       "    </tr>\n",
       "    <tr>\n",
       "      <th>50685</th>\n",
       "      <td>ZXDC</td>\n",
       "      <td>-0.346532</td>\n",
       "      <td>2.983295e-01</td>\n",
       "      <td>5.386144e-01</td>\n",
       "      <td>Endometrial</td>\n",
       "    </tr>\n",
       "    <tr>\n",
       "      <th>50686</th>\n",
       "      <td>ZYG11B</td>\n",
       "      <td>0.768196</td>\n",
       "      <td>5.463938e-04</td>\n",
       "      <td>5.319699e-03</td>\n",
       "      <td>Endometrial</td>\n",
       "    </tr>\n",
       "    <tr>\n",
       "      <th>50687</th>\n",
       "      <td>ZYX</td>\n",
       "      <td>0.253630</td>\n",
       "      <td>2.456049e-01</td>\n",
       "      <td>4.795301e-01</td>\n",
       "      <td>Endometrial</td>\n",
       "    </tr>\n",
       "    <tr>\n",
       "      <th>50688</th>\n",
       "      <td>ZZEF1</td>\n",
       "      <td>0.176244</td>\n",
       "      <td>5.839048e-01</td>\n",
       "      <td>7.795750e-01</td>\n",
       "      <td>Endometrial</td>\n",
       "    </tr>\n",
       "  </tbody>\n",
       "</table>\n",
       "<p>50689 rows × 5 columns</p>\n",
       "</div>"
      ],
      "text/plain": [
       "         Gene  Delta_Correlation       P_Value           FDR       Cancer\n",
       "0        A1BG          -0.198013  2.451044e-01  4.045115e-01        HNSCC\n",
       "1         A2M          -0.118384  4.480278e-01  6.091130e-01        HNSCC\n",
       "2       A2ML1          -0.023469  2.918125e-01  4.561968e-01        HNSCC\n",
       "3        AAAS           0.275905  1.051756e-01  2.209072e-01        HNSCC\n",
       "4        AACS          -0.136836  1.800586e-01  3.266475e-01        HNSCC\n",
       "...       ...                ...           ...           ...          ...\n",
       "50684   ZWINT           1.219024  2.267627e-09  1.049863e-07  Endometrial\n",
       "50685    ZXDC          -0.346532  2.983295e-01  5.386144e-01  Endometrial\n",
       "50686  ZYG11B           0.768196  5.463938e-04  5.319699e-03  Endometrial\n",
       "50687     ZYX           0.253630  2.456049e-01  4.795301e-01  Endometrial\n",
       "50688   ZZEF1           0.176244  5.839048e-01  7.795750e-01  Endometrial\n",
       "\n",
       "[50689 rows x 5 columns]"
      ]
     },
     "execution_count": 2,
     "metadata": {},
     "output_type": "execute_result"
    }
   ],
   "source": [
    "delta_correlation_df = pd.read_csv('../data/delta_correlation_df.csv')\n",
    "delta_correlation_df"
   ]
  },
  {
   "cell_type": "code",
   "execution_count": 3,
   "metadata": {
    "scrolled": true
   },
   "outputs": [
    {
     "data": {
      "text/html": [
       "<div>\n",
       "<style scoped>\n",
       "    .dataframe tbody tr th:only-of-type {\n",
       "        vertical-align: middle;\n",
       "    }\n",
       "\n",
       "    .dataframe tbody tr th {\n",
       "        vertical-align: top;\n",
       "    }\n",
       "\n",
       "    .dataframe thead th {\n",
       "        text-align: right;\n",
       "    }\n",
       "</style>\n",
       "<table border=\"1\" class=\"dataframe\">\n",
       "  <thead>\n",
       "    <tr style=\"text-align: right;\">\n",
       "      <th></th>\n",
       "      <th>Gene</th>\n",
       "      <th>Delta_Correlation</th>\n",
       "      <th>P_Value</th>\n",
       "      <th>FDR</th>\n",
       "      <th>Cancer</th>\n",
       "    </tr>\n",
       "  </thead>\n",
       "  <tbody>\n",
       "    <tr>\n",
       "      <th>5</th>\n",
       "      <td>AADAC</td>\n",
       "      <td>-0.538428</td>\n",
       "      <td>2.101571e-06</td>\n",
       "      <td>3.348778e-05</td>\n",
       "      <td>HNSCC</td>\n",
       "    </tr>\n",
       "    <tr>\n",
       "      <th>14</th>\n",
       "      <td>AASDHPPT</td>\n",
       "      <td>0.833326</td>\n",
       "      <td>3.804959e-13</td>\n",
       "      <td>2.248846e-11</td>\n",
       "      <td>HNSCC</td>\n",
       "    </tr>\n",
       "    <tr>\n",
       "      <th>15</th>\n",
       "      <td>AASS</td>\n",
       "      <td>0.273200</td>\n",
       "      <td>7.531252e-05</td>\n",
       "      <td>7.264567e-04</td>\n",
       "      <td>HNSCC</td>\n",
       "    </tr>\n",
       "    <tr>\n",
       "      <th>17</th>\n",
       "      <td>ABAT</td>\n",
       "      <td>0.134938</td>\n",
       "      <td>2.447446e-03</td>\n",
       "      <td>1.250262e-02</td>\n",
       "      <td>HNSCC</td>\n",
       "    </tr>\n",
       "    <tr>\n",
       "      <th>20</th>\n",
       "      <td>ABCA12</td>\n",
       "      <td>0.354247</td>\n",
       "      <td>8.862597e-06</td>\n",
       "      <td>1.172701e-04</td>\n",
       "      <td>HNSCC</td>\n",
       "    </tr>\n",
       "    <tr>\n",
       "      <th>...</th>\n",
       "      <td>...</td>\n",
       "      <td>...</td>\n",
       "      <td>...</td>\n",
       "      <td>...</td>\n",
       "      <td>...</td>\n",
       "    </tr>\n",
       "    <tr>\n",
       "      <th>50666</th>\n",
       "      <td>ZNFX1</td>\n",
       "      <td>0.778662</td>\n",
       "      <td>5.556585e-04</td>\n",
       "      <td>5.391808e-03</td>\n",
       "      <td>Endometrial</td>\n",
       "    </tr>\n",
       "    <tr>\n",
       "      <th>50673</th>\n",
       "      <td>ZNRF2</td>\n",
       "      <td>0.737945</td>\n",
       "      <td>2.571580e-03</td>\n",
       "      <td>1.850902e-02</td>\n",
       "      <td>Endometrial</td>\n",
       "    </tr>\n",
       "    <tr>\n",
       "      <th>50683</th>\n",
       "      <td>ZWILCH</td>\n",
       "      <td>0.734288</td>\n",
       "      <td>5.623849e-05</td>\n",
       "      <td>7.920710e-04</td>\n",
       "      <td>Endometrial</td>\n",
       "    </tr>\n",
       "    <tr>\n",
       "      <th>50684</th>\n",
       "      <td>ZWINT</td>\n",
       "      <td>1.219024</td>\n",
       "      <td>2.267627e-09</td>\n",
       "      <td>1.049863e-07</td>\n",
       "      <td>Endometrial</td>\n",
       "    </tr>\n",
       "    <tr>\n",
       "      <th>50686</th>\n",
       "      <td>ZYG11B</td>\n",
       "      <td>0.768196</td>\n",
       "      <td>5.463938e-04</td>\n",
       "      <td>5.319699e-03</td>\n",
       "      <td>Endometrial</td>\n",
       "    </tr>\n",
       "  </tbody>\n",
       "</table>\n",
       "<p>21306 rows × 5 columns</p>\n",
       "</div>"
      ],
      "text/plain": [
       "           Gene  Delta_Correlation       P_Value           FDR       Cancer\n",
       "5         AADAC          -0.538428  2.101571e-06  3.348778e-05        HNSCC\n",
       "14     AASDHPPT           0.833326  3.804959e-13  2.248846e-11        HNSCC\n",
       "15         AASS           0.273200  7.531252e-05  7.264567e-04        HNSCC\n",
       "17         ABAT           0.134938  2.447446e-03  1.250262e-02        HNSCC\n",
       "20       ABCA12           0.354247  8.862597e-06  1.172701e-04        HNSCC\n",
       "...         ...                ...           ...           ...          ...\n",
       "50666     ZNFX1           0.778662  5.556585e-04  5.391808e-03  Endometrial\n",
       "50673     ZNRF2           0.737945  2.571580e-03  1.850902e-02  Endometrial\n",
       "50683    ZWILCH           0.734288  5.623849e-05  7.920710e-04  Endometrial\n",
       "50684     ZWINT           1.219024  2.267627e-09  1.049863e-07  Endometrial\n",
       "50686    ZYG11B           0.768196  5.463938e-04  5.319699e-03  Endometrial\n",
       "\n",
       "[21306 rows x 5 columns]"
      ]
     },
     "execution_count": 3,
     "metadata": {},
     "output_type": "execute_result"
    }
   ],
   "source": [
    "# Get all significant delta correlations\n",
    "\n",
    "delta_corr_sig = delta_correlation_df.loc[delta_correlation_df['FDR'] < 0.05]\n",
    "delta_corr_sig"
   ]
  },
  {
   "cell_type": "code",
   "execution_count": 4,
   "metadata": {},
   "outputs": [],
   "source": [
    "# Get all significant genes for each specific cancer\n",
    "\n",
    "ccrcc_delta = delta_corr_sig.loc[delta_corr_sig['Cancer'] == 'CCRCC']\n",
    "hnscc_delta = delta_corr_sig.loc[delta_corr_sig['Cancer'] == 'HNSCC']\n",
    "endo_delta = delta_corr_sig.loc[delta_corr_sig['Cancer'] == 'Endometrial']\n",
    "lscc_delta = delta_corr_sig.loc[delta_corr_sig['Cancer'] == 'LSCC']\n",
    "luad_delta = delta_corr_sig.loc[delta_corr_sig['Cancer'] == 'LUAD']"
   ]
  },
  {
   "cell_type": "markdown",
   "metadata": {},
   "source": [
    "## Calculate regression line for all patients for each tissue type for each gene"
   ]
  },
  {
   "cell_type": "code",
   "execution_count": 5,
   "metadata": {},
   "outputs": [
    {
     "name": "stdout",
     "output_type": "stream",
     "text": [
      "Formatting bcmccrcc dataframes...            \r"
     ]
    },
    {
     "name": "stderr",
     "output_type": "stream",
     "text": [
      "/opt/anaconda3/lib/python3.8/site-packages/cptac/dataframe_tools.py:106: FutureWarning: The frame.append method is deprecated and will be removed from pandas in a future version. Use pandas.concat instead.\n",
      "  all_df = tumor.append(normal)\n",
      "/opt/anaconda3/lib/python3.8/site-packages/cptac/dataframe_tools.py:106: FutureWarning: The frame.append method is deprecated and will be removed from pandas in a future version. Use pandas.concat instead.\n",
      "  all_df = tumor.append(normal)\n"
     ]
    },
    {
     "name": "stdout",
     "output_type": "stream",
     "text": [
      "Loading broadccrcc v1.0...                     \r"
     ]
    },
    {
     "name": "stderr",
     "output_type": "stream",
     "text": [
      "/opt/anaconda3/lib/python3.8/site-packages/gtfparse/read_gtf.py:82: FutureWarning: The error_bad_lines argument has been deprecated and will be removed in a future version. Use on_bad_lines in the future.\n",
      "\n",
      "\n",
      "  chunk_iterator = pd.read_csv(\n",
      "/opt/anaconda3/lib/python3.8/site-packages/gtfparse/read_gtf.py:82: FutureWarning: The warn_bad_lines argument has been deprecated and will be removed in a future version. Use on_bad_lines in the future.\n",
      "\n",
      "\n",
      "  chunk_iterator = pd.read_csv(\n"
     ]
    },
    {
     "name": "stdout",
     "output_type": "stream",
     "text": [
      "                          \r",
      "Formatting broadccrcc dataframes...\r"
     ]
    },
    {
     "name": "stderr",
     "output_type": "stream",
     "text": [
      "/opt/anaconda3/lib/python3.8/site-packages/cptac/dataframe_tools.py:106: FutureWarning: The frame.append method is deprecated and will be removed from pandas in a future version. Use pandas.concat instead.\n",
      "  all_df = tumor.append(normal)\n"
     ]
    },
    {
     "name": "stdout",
     "output_type": "stream",
     "text": [
      "Formatting pdcccrcc dataframes...                \r"
     ]
    },
    {
     "name": "stderr",
     "output_type": "stream",
     "text": [
      "/opt/anaconda3/lib/python3.8/site-packages/cptac/dataframe_tools.py:106: FutureWarning: The frame.append method is deprecated and will be removed from pandas in a future version. Use pandas.concat instead.\n",
      "  all_df = tumor.append(normal)\n",
      "/opt/anaconda3/lib/python3.8/site-packages/cptac/dataframe_tools.py:106: FutureWarning: The frame.append method is deprecated and will be removed from pandas in a future version. Use pandas.concat instead.\n",
      "  all_df = tumor.append(normal)\n",
      "/opt/anaconda3/lib/python3.8/site-packages/cptac/dataframe_tools.py:106: FutureWarning: The frame.append method is deprecated and will be removed from pandas in a future version. Use pandas.concat instead.\n",
      "  all_df = tumor.append(normal)\n"
     ]
    },
    {
     "name": "stdout",
     "output_type": "stream",
     "text": [
      "Formatting dataframes...                       \r"
     ]
    },
    {
     "name": "stderr",
     "output_type": "stream",
     "text": [
      "/opt/anaconda3/lib/python3.8/site-packages/cptac/dataframe_tools.py:106: FutureWarning: The frame.append method is deprecated and will be removed from pandas in a future version. Use pandas.concat instead.\n",
      "  all_df = tumor.append(normal)\n",
      "/opt/anaconda3/lib/python3.8/site-packages/cptac/dataframe_tools.py:106: FutureWarning: The frame.append method is deprecated and will be removed from pandas in a future version. Use pandas.concat instead.\n",
      "  all_df = tumor.append(normal)\n"
     ]
    },
    {
     "name": "stdout",
     "output_type": "stream",
     "text": [
      "Loading washuccrcc v1.0.........                 \r"
     ]
    },
    {
     "name": "stderr",
     "output_type": "stream",
     "text": [
      "/opt/anaconda3/lib/python3.8/site-packages/cptac/pancan/washuccrcc.py:136: FutureWarning: The frame.append method is deprecated and will be removed from pandas in a future version. Use pandas.concat instead.\n",
      "  all_df = tumor.append(normal)\n",
      "/opt/anaconda3/lib/python3.8/site-packages/cptac/pancan/washuccrcc.py:136: FutureWarning: The frame.append method is deprecated and will be removed from pandas in a future version. Use pandas.concat instead.\n",
      "  all_df = tumor.append(normal)\n",
      "/opt/anaconda3/lib/python3.8/site-packages/cptac/pancan/washuccrcc.py:136: FutureWarning: The frame.append method is deprecated and will be removed from pandas in a future version. Use pandas.concat instead.\n",
      "  all_df = tumor.append(normal)\n"
     ]
    },
    {
     "name": "stdout",
     "output_type": "stream",
     "text": [
      "Loading washuccrcc v1.0..........\r"
     ]
    },
    {
     "name": "stderr",
     "output_type": "stream",
     "text": [
      "/opt/anaconda3/lib/python3.8/site-packages/gtfparse/read_gtf.py:82: FutureWarning: The error_bad_lines argument has been deprecated and will be removed in a future version. Use on_bad_lines in the future.\n",
      "\n",
      "\n",
      "  chunk_iterator = pd.read_csv(\n",
      "/opt/anaconda3/lib/python3.8/site-packages/gtfparse/read_gtf.py:82: FutureWarning: The warn_bad_lines argument has been deprecated and will be removed in a future version. Use on_bad_lines in the future.\n",
      "\n",
      "\n",
      "  chunk_iterator = pd.read_csv(\n"
     ]
    },
    {
     "name": "stdout",
     "output_type": "stream",
     "text": [
      "Loading washuccrcc v1.0...........\r",
      "Loading washuccrcc v1.0............\r",
      "Loading washuccrcc v1.0.............\r",
      "Loading washuccrcc v1.0..............\r",
      "Loading washuccrcc v1.0...............\r",
      "Loading washuccrcc v1.0................\r",
      "Loading washuccrcc v1.0.................\r",
      "Loading washuccrcc v1.0..................\r",
      "                                         \r",
      "Formatting washuccrcc dataframes...\r"
     ]
    },
    {
     "name": "stderr",
     "output_type": "stream",
     "text": [
      "/opt/anaconda3/lib/python3.8/site-packages/cptac/pancan/washuccrcc.py:215: FutureWarning: The frame.append method is deprecated and will be removed from pandas in a future version. Use pandas.concat instead.\n",
      "  rna_combined = rna_tumor.append(rna_normal)\n",
      "/opt/anaconda3/lib/python3.8/site-packages/cptac/dataframe_tools.py:106: FutureWarning: The frame.append method is deprecated and will be removed from pandas in a future version. Use pandas.concat instead.\n",
      "  all_df = tumor.append(normal)\n",
      "/opt/anaconda3/lib/python3.8/site-packages/cptac/dataframe_tools.py:106: FutureWarning: The frame.append method is deprecated and will be removed from pandas in a future version. Use pandas.concat instead.\n",
      "  all_df = tumor.append(normal)\n",
      "/opt/anaconda3/lib/python3.8/site-packages/cptac/dataframe_tools.py:106: FutureWarning: The frame.append method is deprecated and will be removed from pandas in a future version. Use pandas.concat instead.\n",
      "  all_df = tumor.append(normal)\n",
      "/opt/anaconda3/lib/python3.8/site-packages/cptac/dataframe_tools.py:106: FutureWarning: The frame.append method is deprecated and will be removed from pandas in a future version. Use pandas.concat instead.\n",
      "  all_df = tumor.append(normal)\n",
      "/opt/anaconda3/lib/python3.8/site-packages/cptac/dataframe_tools.py:106: FutureWarning: The frame.append method is deprecated and will be removed from pandas in a future version. Use pandas.concat instead.\n",
      "  all_df = tumor.append(normal)\n",
      "/opt/anaconda3/lib/python3.8/site-packages/cptac/dataframe_tools.py:106: FutureWarning: The frame.append method is deprecated and will be removed from pandas in a future version. Use pandas.concat instead.\n",
      "  all_df = tumor.append(normal)\n",
      "/opt/anaconda3/lib/python3.8/site-packages/cptac/dataframe_tools.py:106: FutureWarning: The frame.append method is deprecated and will be removed from pandas in a future version. Use pandas.concat instead.\n",
      "  all_df = tumor.append(normal)\n",
      "/opt/anaconda3/lib/python3.8/site-packages/cptac/dataframe_tools.py:106: FutureWarning: The frame.append method is deprecated and will be removed from pandas in a future version. Use pandas.concat instead.\n",
      "  all_df = tumor.append(normal)\n",
      "/opt/anaconda3/lib/python3.8/site-packages/cptac/dataframe_tools.py:106: FutureWarning: The frame.append method is deprecated and will be removed from pandas in a future version. Use pandas.concat instead.\n",
      "  all_df = tumor.append(normal)\n"
     ]
    },
    {
     "name": "stdout",
     "output_type": "stream",
     "text": [
      "                                               \r"
     ]
    },
    {
     "name": "stderr",
     "output_type": "stream",
     "text": [
      "/opt/anaconda3/lib/python3.8/site-packages/cptac/dataframe_tools.py:106: FutureWarning: The frame.append method is deprecated and will be removed from pandas in a future version. Use pandas.concat instead.\n",
      "  all_df = tumor.append(normal)\n",
      "/opt/anaconda3/lib/python3.8/site-packages/cptac/dataframe_tools.py:106: FutureWarning: The frame.append method is deprecated and will be removed from pandas in a future version. Use pandas.concat instead.\n",
      "  all_df = tumor.append(normal)\n",
      "/opt/anaconda3/lib/python3.8/site-packages/cptac/dataframe_tools.py:106: FutureWarning: The frame.append method is deprecated and will be removed from pandas in a future version. Use pandas.concat instead.\n",
      "  all_df = tumor.append(normal)\n",
      "/opt/anaconda3/lib/python3.8/site-packages/cptac/dataframe_tools.py:106: FutureWarning: The frame.append method is deprecated and will be removed from pandas in a future version. Use pandas.concat instead.\n",
      "  all_df = tumor.append(normal)\n",
      "/opt/anaconda3/lib/python3.8/site-packages/cptac/dataframe_tools.py:106: FutureWarning: The frame.append method is deprecated and will be removed from pandas in a future version. Use pandas.concat instead.\n",
      "  all_df = tumor.append(normal)\n",
      "/opt/anaconda3/lib/python3.8/site-packages/cptac/dataframe_tools.py:106: FutureWarning: The frame.append method is deprecated and will be removed from pandas in a future version. Use pandas.concat instead.\n",
      "  all_df = tumor.append(normal)\n",
      "/opt/anaconda3/lib/python3.8/site-packages/cptac/dataframe_tools.py:106: FutureWarning: The frame.append method is deprecated and will be removed from pandas in a future version. Use pandas.concat instead.\n",
      "  all_df = tumor.append(normal)\n"
     ]
    },
    {
     "name": "stdout",
     "output_type": "stream",
     "text": [
      "Formatting bcmucec dataframes...            \r"
     ]
    },
    {
     "name": "stderr",
     "output_type": "stream",
     "text": [
      "/opt/anaconda3/lib/python3.8/site-packages/cptac/dataframe_tools.py:106: FutureWarning: The frame.append method is deprecated and will be removed from pandas in a future version. Use pandas.concat instead.\n",
      "  all_df = tumor.append(normal)\n",
      "/opt/anaconda3/lib/python3.8/site-packages/cptac/dataframe_tools.py:106: FutureWarning: The frame.append method is deprecated and will be removed from pandas in a future version. Use pandas.concat instead.\n",
      "  all_df = tumor.append(normal)\n"
     ]
    },
    {
     "name": "stdout",
     "output_type": "stream",
     "text": [
      "Loading broaducec v1.0...                     \r"
     ]
    },
    {
     "name": "stderr",
     "output_type": "stream",
     "text": [
      "/opt/anaconda3/lib/python3.8/site-packages/gtfparse/read_gtf.py:82: FutureWarning: The error_bad_lines argument has been deprecated and will be removed in a future version. Use on_bad_lines in the future.\n",
      "\n",
      "\n",
      "  chunk_iterator = pd.read_csv(\n",
      "/opt/anaconda3/lib/python3.8/site-packages/gtfparse/read_gtf.py:82: FutureWarning: The warn_bad_lines argument has been deprecated and will be removed in a future version. Use on_bad_lines in the future.\n",
      "\n",
      "\n",
      "  chunk_iterator = pd.read_csv(\n"
     ]
    },
    {
     "name": "stdout",
     "output_type": "stream",
     "text": [
      "Loading broaducec v1.0....\r",
      "                          \r",
      "Formatting broaducec dataframes...\r"
     ]
    },
    {
     "name": "stderr",
     "output_type": "stream",
     "text": [
      "/opt/anaconda3/lib/python3.8/site-packages/cptac/dataframe_tools.py:106: FutureWarning: The frame.append method is deprecated and will be removed from pandas in a future version. Use pandas.concat instead.\n",
      "  all_df = tumor.append(normal)\n"
     ]
    },
    {
     "name": "stdout",
     "output_type": "stream",
     "text": [
      "Formatting pdcucec dataframes...                 \r"
     ]
    },
    {
     "name": "stderr",
     "output_type": "stream",
     "text": [
      "/opt/anaconda3/lib/python3.8/site-packages/cptac/dataframe_tools.py:106: FutureWarning: The frame.append method is deprecated and will be removed from pandas in a future version. Use pandas.concat instead.\n",
      "  all_df = tumor.append(normal)\n",
      "/opt/anaconda3/lib/python3.8/site-packages/cptac/dataframe_tools.py:106: FutureWarning: The frame.append method is deprecated and will be removed from pandas in a future version. Use pandas.concat instead.\n",
      "  all_df = tumor.append(normal)\n",
      "/opt/anaconda3/lib/python3.8/site-packages/cptac/dataframe_tools.py:106: FutureWarning: The frame.append method is deprecated and will be removed from pandas in a future version. Use pandas.concat instead.\n",
      "  all_df = tumor.append(normal)\n",
      "/opt/anaconda3/lib/python3.8/site-packages/cptac/dataframe_tools.py:106: FutureWarning: The frame.append method is deprecated and will be removed from pandas in a future version. Use pandas.concat instead.\n",
      "  all_df = tumor.append(normal)\n"
     ]
    },
    {
     "name": "stdout",
     "output_type": "stream",
     "text": [
      "Formatting umichucec dataframes...            \r"
     ]
    },
    {
     "name": "stderr",
     "output_type": "stream",
     "text": [
      "/opt/anaconda3/lib/python3.8/site-packages/cptac/dataframe_tools.py:106: FutureWarning: The frame.append method is deprecated and will be removed from pandas in a future version. Use pandas.concat instead.\n",
      "  all_df = tumor.append(normal)\n",
      "/opt/anaconda3/lib/python3.8/site-packages/cptac/dataframe_tools.py:106: FutureWarning: The frame.append method is deprecated and will be removed from pandas in a future version. Use pandas.concat instead.\n",
      "  all_df = tumor.append(normal)\n"
     ]
    },
    {
     "name": "stdout",
     "output_type": "stream",
     "text": [
      "Loading washuucec v1.0..........                 \r"
     ]
    },
    {
     "name": "stderr",
     "output_type": "stream",
     "text": [
      "/opt/anaconda3/lib/python3.8/site-packages/gtfparse/read_gtf.py:82: FutureWarning: The error_bad_lines argument has been deprecated and will be removed in a future version. Use on_bad_lines in the future.\n",
      "\n",
      "\n",
      "  chunk_iterator = pd.read_csv(\n",
      "/opt/anaconda3/lib/python3.8/site-packages/gtfparse/read_gtf.py:82: FutureWarning: The warn_bad_lines argument has been deprecated and will be removed in a future version. Use on_bad_lines in the future.\n",
      "\n",
      "\n",
      "  chunk_iterator = pd.read_csv(\n"
     ]
    },
    {
     "name": "stdout",
     "output_type": "stream",
     "text": [
      "Loading washuucec v1.0...........\r",
      "Loading washuucec v1.0............\r",
      "Loading washuucec v1.0.............\r",
      "Loading washuucec v1.0..............\r",
      "Loading washuucec v1.0...............\r",
      "Loading washuucec v1.0................\r",
      "Loading washuucec v1.0.................\r",
      "Loading washuucec v1.0..................\r",
      "                                        \r",
      "Formatting washuucec dataframes...\r"
     ]
    },
    {
     "name": "stderr",
     "output_type": "stream",
     "text": [
      "/opt/anaconda3/lib/python3.8/site-packages/cptac/pancan/washuucec.py:210: FutureWarning: The frame.append method is deprecated and will be removed from pandas in a future version. Use pandas.concat instead.\n",
      "  rna_combined = rna_tumor.append(rna_normal)\n",
      "/opt/anaconda3/lib/python3.8/site-packages/cptac/dataframe_tools.py:106: FutureWarning: The frame.append method is deprecated and will be removed from pandas in a future version. Use pandas.concat instead.\n",
      "  all_df = tumor.append(normal)\n",
      "/opt/anaconda3/lib/python3.8/site-packages/cptac/dataframe_tools.py:106: FutureWarning: The frame.append method is deprecated and will be removed from pandas in a future version. Use pandas.concat instead.\n",
      "  all_df = tumor.append(normal)\n",
      "/opt/anaconda3/lib/python3.8/site-packages/cptac/dataframe_tools.py:106: FutureWarning: The frame.append method is deprecated and will be removed from pandas in a future version. Use pandas.concat instead.\n",
      "  all_df = tumor.append(normal)\n",
      "/opt/anaconda3/lib/python3.8/site-packages/cptac/dataframe_tools.py:106: FutureWarning: The frame.append method is deprecated and will be removed from pandas in a future version. Use pandas.concat instead.\n",
      "  all_df = tumor.append(normal)\n",
      "/opt/anaconda3/lib/python3.8/site-packages/cptac/dataframe_tools.py:106: FutureWarning: The frame.append method is deprecated and will be removed from pandas in a future version. Use pandas.concat instead.\n",
      "  all_df = tumor.append(normal)\n",
      "/opt/anaconda3/lib/python3.8/site-packages/cptac/dataframe_tools.py:106: FutureWarning: The frame.append method is deprecated and will be removed from pandas in a future version. Use pandas.concat instead.\n",
      "  all_df = tumor.append(normal)\n",
      "/opt/anaconda3/lib/python3.8/site-packages/cptac/dataframe_tools.py:106: FutureWarning: The frame.append method is deprecated and will be removed from pandas in a future version. Use pandas.concat instead.\n",
      "  all_df = tumor.append(normal)\n",
      "/opt/anaconda3/lib/python3.8/site-packages/cptac/dataframe_tools.py:106: FutureWarning: The frame.append method is deprecated and will be removed from pandas in a future version. Use pandas.concat instead.\n",
      "  all_df = tumor.append(normal)\n",
      "/opt/anaconda3/lib/python3.8/site-packages/cptac/dataframe_tools.py:106: FutureWarning: The frame.append method is deprecated and will be removed from pandas in a future version. Use pandas.concat instead.\n",
      "  all_df = tumor.append(normal)\n"
     ]
    },
    {
     "name": "stdout",
     "output_type": "stream",
     "text": [
      "Formatting harmonized dataframes...            \r"
     ]
    },
    {
     "name": "stderr",
     "output_type": "stream",
     "text": [
      "/opt/anaconda3/lib/python3.8/site-packages/cptac/dataframe_tools.py:106: FutureWarning: The frame.append method is deprecated and will be removed from pandas in a future version. Use pandas.concat instead.\n",
      "  all_df = tumor.append(normal)\n"
     ]
    },
    {
     "name": "stdout",
     "output_type": "stream",
     "text": [
      "                                   \r"
     ]
    },
    {
     "name": "stderr",
     "output_type": "stream",
     "text": [
      "/opt/anaconda3/lib/python3.8/site-packages/cptac/dataframe_tools.py:106: FutureWarning: The frame.append method is deprecated and will be removed from pandas in a future version. Use pandas.concat instead.\n",
      "  all_df = tumor.append(normal)\n",
      "/opt/anaconda3/lib/python3.8/site-packages/cptac/dataframe_tools.py:106: FutureWarning: The frame.append method is deprecated and will be removed from pandas in a future version. Use pandas.concat instead.\n",
      "  all_df = tumor.append(normal)\n",
      "/opt/anaconda3/lib/python3.8/site-packages/cptac/dataframe_tools.py:106: FutureWarning: The frame.append method is deprecated and will be removed from pandas in a future version. Use pandas.concat instead.\n",
      "  all_df = tumor.append(normal)\n",
      "/opt/anaconda3/lib/python3.8/site-packages/cptac/dataframe_tools.py:106: FutureWarning: The frame.append method is deprecated and will be removed from pandas in a future version. Use pandas.concat instead.\n",
      "  all_df = tumor.append(normal)\n",
      "/opt/anaconda3/lib/python3.8/site-packages/cptac/dataframe_tools.py:106: FutureWarning: The frame.append method is deprecated and will be removed from pandas in a future version. Use pandas.concat instead.\n",
      "  all_df = tumor.append(normal)\n",
      "/opt/anaconda3/lib/python3.8/site-packages/cptac/dataframe_tools.py:106: FutureWarning: The frame.append method is deprecated and will be removed from pandas in a future version. Use pandas.concat instead.\n",
      "  all_df = tumor.append(normal)\n"
     ]
    },
    {
     "name": "stdout",
     "output_type": "stream",
     "text": [
      "Formatting bcmhnscc dataframes...            \r"
     ]
    },
    {
     "name": "stderr",
     "output_type": "stream",
     "text": [
      "/opt/anaconda3/lib/python3.8/site-packages/cptac/dataframe_tools.py:106: FutureWarning: The frame.append method is deprecated and will be removed from pandas in a future version. Use pandas.concat instead.\n",
      "  all_df = tumor.append(normal)\n",
      "/opt/anaconda3/lib/python3.8/site-packages/cptac/dataframe_tools.py:106: FutureWarning: The frame.append method is deprecated and will be removed from pandas in a future version. Use pandas.concat instead.\n",
      "  all_df = tumor.append(normal)\n"
     ]
    },
    {
     "name": "stdout",
     "output_type": "stream",
     "text": [
      "Loading broadhnscc v1.0...                     \r"
     ]
    },
    {
     "name": "stderr",
     "output_type": "stream",
     "text": [
      "/opt/anaconda3/lib/python3.8/site-packages/gtfparse/read_gtf.py:82: FutureWarning: The error_bad_lines argument has been deprecated and will be removed in a future version. Use on_bad_lines in the future.\n",
      "\n",
      "\n",
      "  chunk_iterator = pd.read_csv(\n",
      "/opt/anaconda3/lib/python3.8/site-packages/gtfparse/read_gtf.py:82: FutureWarning: The warn_bad_lines argument has been deprecated and will be removed in a future version. Use on_bad_lines in the future.\n",
      "\n",
      "\n",
      "  chunk_iterator = pd.read_csv(\n"
     ]
    },
    {
     "name": "stdout",
     "output_type": "stream",
     "text": [
      "                          \r",
      "Formatting broadhnscc dataframes...\r"
     ]
    },
    {
     "name": "stderr",
     "output_type": "stream",
     "text": [
      "/opt/anaconda3/lib/python3.8/site-packages/cptac/dataframe_tools.py:106: FutureWarning: The frame.append method is deprecated and will be removed from pandas in a future version. Use pandas.concat instead.\n",
      "  all_df = tumor.append(normal)\n"
     ]
    },
    {
     "name": "stdout",
     "output_type": "stream",
     "text": [
      "Formatting pdchnscc dataframes...                \r"
     ]
    },
    {
     "name": "stderr",
     "output_type": "stream",
     "text": [
      "/opt/anaconda3/lib/python3.8/site-packages/cptac/dataframe_tools.py:106: FutureWarning: The frame.append method is deprecated and will be removed from pandas in a future version. Use pandas.concat instead.\n",
      "  all_df = tumor.append(normal)\n",
      "/opt/anaconda3/lib/python3.8/site-packages/cptac/dataframe_tools.py:106: FutureWarning: The frame.append method is deprecated and will be removed from pandas in a future version. Use pandas.concat instead.\n",
      "  all_df = tumor.append(normal)\n",
      "/opt/anaconda3/lib/python3.8/site-packages/cptac/dataframe_tools.py:106: FutureWarning: The frame.append method is deprecated and will be removed from pandas in a future version. Use pandas.concat instead.\n",
      "  all_df = tumor.append(normal)\n"
     ]
    },
    {
     "name": "stdout",
     "output_type": "stream",
     "text": [
      "Formatting umichhnscc dataframes...            \r"
     ]
    },
    {
     "name": "stderr",
     "output_type": "stream",
     "text": [
      "/opt/anaconda3/lib/python3.8/site-packages/cptac/dataframe_tools.py:106: FutureWarning: The frame.append method is deprecated and will be removed from pandas in a future version. Use pandas.concat instead.\n",
      "  all_df = tumor.append(normal)\n",
      "/opt/anaconda3/lib/python3.8/site-packages/cptac/dataframe_tools.py:106: FutureWarning: The frame.append method is deprecated and will be removed from pandas in a future version. Use pandas.concat instead.\n",
      "  all_df = tumor.append(normal)\n"
     ]
    },
    {
     "name": "stdout",
     "output_type": "stream",
     "text": [
      "Loading washuhnscc v1.0......                    \r"
     ]
    },
    {
     "name": "stderr",
     "output_type": "stream",
     "text": [
      "/opt/anaconda3/lib/python3.8/site-packages/cptac/pancan/washuhnscc.py:143: FutureWarning: The frame.append method is deprecated and will be removed from pandas in a future version. Use pandas.concat instead.\n",
      "  all_df = tumor.append(normal)\n",
      "/opt/anaconda3/lib/python3.8/site-packages/cptac/pancan/washuhnscc.py:143: FutureWarning: The frame.append method is deprecated and will be removed from pandas in a future version. Use pandas.concat instead.\n",
      "  all_df = tumor.append(normal)\n",
      "/opt/anaconda3/lib/python3.8/site-packages/cptac/pancan/washuhnscc.py:143: FutureWarning: The frame.append method is deprecated and will be removed from pandas in a future version. Use pandas.concat instead.\n",
      "  all_df = tumor.append(normal)\n"
     ]
    },
    {
     "name": "stdout",
     "output_type": "stream",
     "text": [
      "Loading washuhnscc v1.0..........\r"
     ]
    },
    {
     "name": "stderr",
     "output_type": "stream",
     "text": [
      "/opt/anaconda3/lib/python3.8/site-packages/gtfparse/read_gtf.py:82: FutureWarning: The error_bad_lines argument has been deprecated and will be removed in a future version. Use on_bad_lines in the future.\n",
      "\n",
      "\n",
      "  chunk_iterator = pd.read_csv(\n",
      "/opt/anaconda3/lib/python3.8/site-packages/gtfparse/read_gtf.py:82: FutureWarning: The warn_bad_lines argument has been deprecated and will be removed in a future version. Use on_bad_lines in the future.\n",
      "\n",
      "\n",
      "  chunk_iterator = pd.read_csv(\n"
     ]
    },
    {
     "name": "stdout",
     "output_type": "stream",
     "text": [
      "Loading washuhnscc v1.0...........\r",
      "Loading washuhnscc v1.0............\r",
      "Loading washuhnscc v1.0.............\r",
      "Loading washuhnscc v1.0..............\r",
      "Loading washuhnscc v1.0...............\r",
      "Loading washuhnscc v1.0................\r",
      "Loading washuhnscc v1.0.................\r",
      "Loading washuhnscc v1.0..................\r",
      "                                         \r",
      "Formatting washuhnscc dataframes...\r"
     ]
    },
    {
     "name": "stderr",
     "output_type": "stream",
     "text": [
      "/opt/anaconda3/lib/python3.8/site-packages/cptac/pancan/washuhnscc.py:222: FutureWarning: The frame.append method is deprecated and will be removed from pandas in a future version. Use pandas.concat instead.\n",
      "  rna_combined = rna_tumor.append(rna_normal)\n",
      "/opt/anaconda3/lib/python3.8/site-packages/cptac/dataframe_tools.py:106: FutureWarning: The frame.append method is deprecated and will be removed from pandas in a future version. Use pandas.concat instead.\n",
      "  all_df = tumor.append(normal)\n",
      "/opt/anaconda3/lib/python3.8/site-packages/cptac/dataframe_tools.py:106: FutureWarning: The frame.append method is deprecated and will be removed from pandas in a future version. Use pandas.concat instead.\n",
      "  all_df = tumor.append(normal)\n",
      "/opt/anaconda3/lib/python3.8/site-packages/cptac/dataframe_tools.py:106: FutureWarning: The frame.append method is deprecated and will be removed from pandas in a future version. Use pandas.concat instead.\n",
      "  all_df = tumor.append(normal)\n",
      "/opt/anaconda3/lib/python3.8/site-packages/cptac/dataframe_tools.py:106: FutureWarning: The frame.append method is deprecated and will be removed from pandas in a future version. Use pandas.concat instead.\n",
      "  all_df = tumor.append(normal)\n",
      "/opt/anaconda3/lib/python3.8/site-packages/cptac/dataframe_tools.py:106: FutureWarning: The frame.append method is deprecated and will be removed from pandas in a future version. Use pandas.concat instead.\n",
      "  all_df = tumor.append(normal)\n",
      "/opt/anaconda3/lib/python3.8/site-packages/cptac/dataframe_tools.py:106: FutureWarning: The frame.append method is deprecated and will be removed from pandas in a future version. Use pandas.concat instead.\n",
      "  all_df = tumor.append(normal)\n",
      "/opt/anaconda3/lib/python3.8/site-packages/cptac/dataframe_tools.py:106: FutureWarning: The frame.append method is deprecated and will be removed from pandas in a future version. Use pandas.concat instead.\n",
      "  all_df = tumor.append(normal)\n",
      "/opt/anaconda3/lib/python3.8/site-packages/cptac/dataframe_tools.py:106: FutureWarning: The frame.append method is deprecated and will be removed from pandas in a future version. Use pandas.concat instead.\n",
      "  all_df = tumor.append(normal)\n",
      "/opt/anaconda3/lib/python3.8/site-packages/cptac/dataframe_tools.py:106: FutureWarning: The frame.append method is deprecated and will be removed from pandas in a future version. Use pandas.concat instead.\n",
      "  all_df = tumor.append(normal)\n"
     ]
    },
    {
     "name": "stdout",
     "output_type": "stream",
     "text": [
      "                                               \r"
     ]
    },
    {
     "name": "stderr",
     "output_type": "stream",
     "text": [
      "/opt/anaconda3/lib/python3.8/site-packages/cptac/dataframe_tools.py:106: FutureWarning: The frame.append method is deprecated and will be removed from pandas in a future version. Use pandas.concat instead.\n",
      "  all_df = tumor.append(normal)\n",
      "/opt/anaconda3/lib/python3.8/site-packages/cptac/dataframe_tools.py:106: FutureWarning: The frame.append method is deprecated and will be removed from pandas in a future version. Use pandas.concat instead.\n",
      "  all_df = tumor.append(normal)\n",
      "/opt/anaconda3/lib/python3.8/site-packages/cptac/dataframe_tools.py:106: FutureWarning: The frame.append method is deprecated and will be removed from pandas in a future version. Use pandas.concat instead.\n",
      "  all_df = tumor.append(normal)\n",
      "/opt/anaconda3/lib/python3.8/site-packages/cptac/dataframe_tools.py:106: FutureWarning: The frame.append method is deprecated and will be removed from pandas in a future version. Use pandas.concat instead.\n",
      "  all_df = tumor.append(normal)\n",
      "/opt/anaconda3/lib/python3.8/site-packages/cptac/dataframe_tools.py:106: FutureWarning: The frame.append method is deprecated and will be removed from pandas in a future version. Use pandas.concat instead.\n",
      "  all_df = tumor.append(normal)\n",
      "/opt/anaconda3/lib/python3.8/site-packages/cptac/dataframe_tools.py:106: FutureWarning: The frame.append method is deprecated and will be removed from pandas in a future version. Use pandas.concat instead.\n",
      "  all_df = tumor.append(normal)\n",
      "/opt/anaconda3/lib/python3.8/site-packages/cptac/dataframe_tools.py:106: FutureWarning: The frame.append method is deprecated and will be removed from pandas in a future version. Use pandas.concat instead.\n",
      "  all_df = tumor.append(normal)\n"
     ]
    },
    {
     "name": "stdout",
     "output_type": "stream",
     "text": [
      "Formatting bcmlscc dataframes...            \r"
     ]
    },
    {
     "name": "stderr",
     "output_type": "stream",
     "text": [
      "/opt/anaconda3/lib/python3.8/site-packages/cptac/dataframe_tools.py:106: FutureWarning: The frame.append method is deprecated and will be removed from pandas in a future version. Use pandas.concat instead.\n",
      "  all_df = tumor.append(normal)\n",
      "/opt/anaconda3/lib/python3.8/site-packages/cptac/dataframe_tools.py:106: FutureWarning: The frame.append method is deprecated and will be removed from pandas in a future version. Use pandas.concat instead.\n",
      "  all_df = tumor.append(normal)\n"
     ]
    },
    {
     "name": "stdout",
     "output_type": "stream",
     "text": [
      "Loading broadlscc v1.0...                     \r"
     ]
    },
    {
     "name": "stderr",
     "output_type": "stream",
     "text": [
      "/opt/anaconda3/lib/python3.8/site-packages/gtfparse/read_gtf.py:82: FutureWarning: The error_bad_lines argument has been deprecated and will be removed in a future version. Use on_bad_lines in the future.\n",
      "\n",
      "\n",
      "  chunk_iterator = pd.read_csv(\n",
      "/opt/anaconda3/lib/python3.8/site-packages/gtfparse/read_gtf.py:82: FutureWarning: The warn_bad_lines argument has been deprecated and will be removed in a future version. Use on_bad_lines in the future.\n",
      "\n",
      "\n",
      "  chunk_iterator = pd.read_csv(\n"
     ]
    },
    {
     "name": "stdout",
     "output_type": "stream",
     "text": [
      "                         \r",
      "Formatting broadlscc dataframes...\r"
     ]
    },
    {
     "name": "stderr",
     "output_type": "stream",
     "text": [
      "/opt/anaconda3/lib/python3.8/site-packages/cptac/dataframe_tools.py:106: FutureWarning: The frame.append method is deprecated and will be removed from pandas in a future version. Use pandas.concat instead.\n",
      "  all_df = tumor.append(normal)\n"
     ]
    },
    {
     "name": "stdout",
     "output_type": "stream",
     "text": [
      "Formatting pdclscc dataframes...                 \r"
     ]
    },
    {
     "name": "stderr",
     "output_type": "stream",
     "text": [
      "/opt/anaconda3/lib/python3.8/site-packages/cptac/dataframe_tools.py:106: FutureWarning: The frame.append method is deprecated and will be removed from pandas in a future version. Use pandas.concat instead.\n",
      "  all_df = tumor.append(normal)\n",
      "/opt/anaconda3/lib/python3.8/site-packages/cptac/dataframe_tools.py:106: FutureWarning: The frame.append method is deprecated and will be removed from pandas in a future version. Use pandas.concat instead.\n",
      "  all_df = tumor.append(normal)\n",
      "/opt/anaconda3/lib/python3.8/site-packages/cptac/dataframe_tools.py:106: FutureWarning: The frame.append method is deprecated and will be removed from pandas in a future version. Use pandas.concat instead.\n",
      "  all_df = tumor.append(normal)\n",
      "/opt/anaconda3/lib/python3.8/site-packages/cptac/dataframe_tools.py:106: FutureWarning: The frame.append method is deprecated and will be removed from pandas in a future version. Use pandas.concat instead.\n",
      "  all_df = tumor.append(normal)\n",
      "/opt/anaconda3/lib/python3.8/site-packages/cptac/dataframe_tools.py:106: FutureWarning: The frame.append method is deprecated and will be removed from pandas in a future version. Use pandas.concat instead.\n",
      "  all_df = tumor.append(normal)\n"
     ]
    },
    {
     "name": "stdout",
     "output_type": "stream",
     "text": [
      "Formatting umichlscc dataframes...            \r"
     ]
    },
    {
     "name": "stderr",
     "output_type": "stream",
     "text": [
      "/opt/anaconda3/lib/python3.8/site-packages/cptac/dataframe_tools.py:106: FutureWarning: The frame.append method is deprecated and will be removed from pandas in a future version. Use pandas.concat instead.\n",
      "  all_df = tumor.append(normal)\n",
      "/opt/anaconda3/lib/python3.8/site-packages/cptac/dataframe_tools.py:106: FutureWarning: The frame.append method is deprecated and will be removed from pandas in a future version. Use pandas.concat instead.\n",
      "  all_df = tumor.append(normal)\n"
     ]
    },
    {
     "name": "stdout",
     "output_type": "stream",
     "text": [
      "Loading washulscc v1.0.......                    \r"
     ]
    },
    {
     "name": "stderr",
     "output_type": "stream",
     "text": [
      "/opt/anaconda3/lib/python3.8/site-packages/cptac/pancan/washulscc.py:142: FutureWarning: The frame.append method is deprecated and will be removed from pandas in a future version. Use pandas.concat instead.\n",
      "  all_df = tumor.append(normal)\n",
      "/opt/anaconda3/lib/python3.8/site-packages/cptac/pancan/washulscc.py:142: FutureWarning: The frame.append method is deprecated and will be removed from pandas in a future version. Use pandas.concat instead.\n",
      "  all_df = tumor.append(normal)\n",
      "/opt/anaconda3/lib/python3.8/site-packages/cptac/pancan/washulscc.py:142: FutureWarning: The frame.append method is deprecated and will be removed from pandas in a future version. Use pandas.concat instead.\n",
      "  all_df = tumor.append(normal)\n"
     ]
    },
    {
     "name": "stdout",
     "output_type": "stream",
     "text": [
      "Loading washulscc v1.0..........\r"
     ]
    },
    {
     "name": "stderr",
     "output_type": "stream",
     "text": [
      "/opt/anaconda3/lib/python3.8/site-packages/gtfparse/read_gtf.py:82: FutureWarning: The error_bad_lines argument has been deprecated and will be removed in a future version. Use on_bad_lines in the future.\n",
      "\n",
      "\n",
      "  chunk_iterator = pd.read_csv(\n",
      "/opt/anaconda3/lib/python3.8/site-packages/gtfparse/read_gtf.py:82: FutureWarning: The warn_bad_lines argument has been deprecated and will be removed in a future version. Use on_bad_lines in the future.\n",
      "\n",
      "\n",
      "  chunk_iterator = pd.read_csv(\n"
     ]
    },
    {
     "name": "stdout",
     "output_type": "stream",
     "text": [
      "Loading washulscc v1.0...........\r",
      "Loading washulscc v1.0............\r",
      "Loading washulscc v1.0.............\r",
      "Loading washulscc v1.0..............\r",
      "Loading washulscc v1.0...............\r",
      "Loading washulscc v1.0................\r",
      "Loading washulscc v1.0.................\r",
      "Loading washulscc v1.0..................\r",
      "                                        \r",
      "Formatting washulscc dataframes...\r"
     ]
    },
    {
     "name": "stderr",
     "output_type": "stream",
     "text": [
      "/opt/anaconda3/lib/python3.8/site-packages/cptac/pancan/washulscc.py:221: FutureWarning: The frame.append method is deprecated and will be removed from pandas in a future version. Use pandas.concat instead.\n",
      "  rna_combined = rna_tumor.append(rna_normal)\n",
      "/opt/anaconda3/lib/python3.8/site-packages/cptac/dataframe_tools.py:106: FutureWarning: The frame.append method is deprecated and will be removed from pandas in a future version. Use pandas.concat instead.\n",
      "  all_df = tumor.append(normal)\n",
      "/opt/anaconda3/lib/python3.8/site-packages/cptac/dataframe_tools.py:106: FutureWarning: The frame.append method is deprecated and will be removed from pandas in a future version. Use pandas.concat instead.\n",
      "  all_df = tumor.append(normal)\n",
      "/opt/anaconda3/lib/python3.8/site-packages/cptac/dataframe_tools.py:106: FutureWarning: The frame.append method is deprecated and will be removed from pandas in a future version. Use pandas.concat instead.\n",
      "  all_df = tumor.append(normal)\n",
      "/opt/anaconda3/lib/python3.8/site-packages/cptac/dataframe_tools.py:106: FutureWarning: The frame.append method is deprecated and will be removed from pandas in a future version. Use pandas.concat instead.\n",
      "  all_df = tumor.append(normal)\n",
      "/opt/anaconda3/lib/python3.8/site-packages/cptac/dataframe_tools.py:106: FutureWarning: The frame.append method is deprecated and will be removed from pandas in a future version. Use pandas.concat instead.\n",
      "  all_df = tumor.append(normal)\n",
      "/opt/anaconda3/lib/python3.8/site-packages/cptac/dataframe_tools.py:106: FutureWarning: The frame.append method is deprecated and will be removed from pandas in a future version. Use pandas.concat instead.\n",
      "  all_df = tumor.append(normal)\n",
      "/opt/anaconda3/lib/python3.8/site-packages/cptac/dataframe_tools.py:106: FutureWarning: The frame.append method is deprecated and will be removed from pandas in a future version. Use pandas.concat instead.\n",
      "  all_df = tumor.append(normal)\n",
      "/opt/anaconda3/lib/python3.8/site-packages/cptac/dataframe_tools.py:106: FutureWarning: The frame.append method is deprecated and will be removed from pandas in a future version. Use pandas.concat instead.\n",
      "  all_df = tumor.append(normal)\n",
      "/opt/anaconda3/lib/python3.8/site-packages/cptac/dataframe_tools.py:106: FutureWarning: The frame.append method is deprecated and will be removed from pandas in a future version. Use pandas.concat instead.\n",
      "  all_df = tumor.append(normal)\n"
     ]
    },
    {
     "name": "stdout",
     "output_type": "stream",
     "text": [
      "Formatting harmonized dataframes...            \r"
     ]
    },
    {
     "name": "stderr",
     "output_type": "stream",
     "text": [
      "/opt/anaconda3/lib/python3.8/site-packages/cptac/dataframe_tools.py:106: FutureWarning: The frame.append method is deprecated and will be removed from pandas in a future version. Use pandas.concat instead.\n",
      "  all_df = tumor.append(normal)\n",
      "/opt/anaconda3/lib/python3.8/site-packages/cptac/dataframe_tools.py:106: FutureWarning: The frame.append method is deprecated and will be removed from pandas in a future version. Use pandas.concat instead.\n",
      "  all_df = tumor.append(normal)\n",
      "/opt/anaconda3/lib/python3.8/site-packages/cptac/dataframe_tools.py:106: FutureWarning: The frame.append method is deprecated and will be removed from pandas in a future version. Use pandas.concat instead.\n",
      "  all_df = tumor.append(normal)\n"
     ]
    },
    {
     "name": "stdout",
     "output_type": "stream",
     "text": [
      "                                   \r"
     ]
    },
    {
     "name": "stderr",
     "output_type": "stream",
     "text": [
      "/opt/anaconda3/lib/python3.8/site-packages/cptac/dataframe_tools.py:106: FutureWarning: The frame.append method is deprecated and will be removed from pandas in a future version. Use pandas.concat instead.\n",
      "  all_df = tumor.append(normal)\n",
      "/opt/anaconda3/lib/python3.8/site-packages/cptac/dataframe_tools.py:106: FutureWarning: The frame.append method is deprecated and will be removed from pandas in a future version. Use pandas.concat instead.\n",
      "  all_df = tumor.append(normal)\n",
      "/opt/anaconda3/lib/python3.8/site-packages/cptac/dataframe_tools.py:106: FutureWarning: The frame.append method is deprecated and will be removed from pandas in a future version. Use pandas.concat instead.\n",
      "  all_df = tumor.append(normal)\n",
      "/opt/anaconda3/lib/python3.8/site-packages/cptac/dataframe_tools.py:106: FutureWarning: The frame.append method is deprecated and will be removed from pandas in a future version. Use pandas.concat instead.\n",
      "  all_df = tumor.append(normal)\n"
     ]
    },
    {
     "name": "stdout",
     "output_type": "stream",
     "text": [
      "Formatting bcmluad dataframes...            \r"
     ]
    },
    {
     "name": "stderr",
     "output_type": "stream",
     "text": [
      "/opt/anaconda3/lib/python3.8/site-packages/cptac/dataframe_tools.py:106: FutureWarning: The frame.append method is deprecated and will be removed from pandas in a future version. Use pandas.concat instead.\n",
      "  all_df = tumor.append(normal)\n",
      "/opt/anaconda3/lib/python3.8/site-packages/cptac/dataframe_tools.py:106: FutureWarning: The frame.append method is deprecated and will be removed from pandas in a future version. Use pandas.concat instead.\n",
      "  all_df = tumor.append(normal)\n"
     ]
    },
    {
     "name": "stdout",
     "output_type": "stream",
     "text": [
      "Loading broadluad v1.0...                     \r"
     ]
    },
    {
     "name": "stderr",
     "output_type": "stream",
     "text": [
      "/opt/anaconda3/lib/python3.8/site-packages/gtfparse/read_gtf.py:82: FutureWarning: The error_bad_lines argument has been deprecated and will be removed in a future version. Use on_bad_lines in the future.\n",
      "\n",
      "\n",
      "  chunk_iterator = pd.read_csv(\n",
      "/opt/anaconda3/lib/python3.8/site-packages/gtfparse/read_gtf.py:82: FutureWarning: The warn_bad_lines argument has been deprecated and will be removed in a future version. Use on_bad_lines in the future.\n",
      "\n",
      "\n",
      "  chunk_iterator = pd.read_csv(\n"
     ]
    },
    {
     "name": "stdout",
     "output_type": "stream",
     "text": [
      "Loading broadluad v1.0....\r",
      "                          \r",
      "Formatting broadluad dataframes...\r"
     ]
    },
    {
     "name": "stderr",
     "output_type": "stream",
     "text": [
      "/opt/anaconda3/lib/python3.8/site-packages/cptac/dataframe_tools.py:106: FutureWarning: The frame.append method is deprecated and will be removed from pandas in a future version. Use pandas.concat instead.\n",
      "  all_df = tumor.append(normal)\n"
     ]
    },
    {
     "name": "stdout",
     "output_type": "stream",
     "text": [
      "Formatting pdcluad dataframes...                 \r"
     ]
    },
    {
     "name": "stderr",
     "output_type": "stream",
     "text": [
      "/opt/anaconda3/lib/python3.8/site-packages/cptac/dataframe_tools.py:106: FutureWarning: The frame.append method is deprecated and will be removed from pandas in a future version. Use pandas.concat instead.\n",
      "  all_df = tumor.append(normal)\n",
      "/opt/anaconda3/lib/python3.8/site-packages/cptac/dataframe_tools.py:106: FutureWarning: The frame.append method is deprecated and will be removed from pandas in a future version. Use pandas.concat instead.\n",
      "  all_df = tumor.append(normal)\n",
      "/opt/anaconda3/lib/python3.8/site-packages/cptac/dataframe_tools.py:106: FutureWarning: The frame.append method is deprecated and will be removed from pandas in a future version. Use pandas.concat instead.\n",
      "  all_df = tumor.append(normal)\n",
      "/opt/anaconda3/lib/python3.8/site-packages/cptac/dataframe_tools.py:106: FutureWarning: The frame.append method is deprecated and will be removed from pandas in a future version. Use pandas.concat instead.\n",
      "  all_df = tumor.append(normal)\n"
     ]
    },
    {
     "name": "stdout",
     "output_type": "stream",
     "text": [
      "Formatting umichluad dataframes...            \r"
     ]
    },
    {
     "name": "stderr",
     "output_type": "stream",
     "text": [
      "/opt/anaconda3/lib/python3.8/site-packages/cptac/dataframe_tools.py:106: FutureWarning: The frame.append method is deprecated and will be removed from pandas in a future version. Use pandas.concat instead.\n",
      "  all_df = tumor.append(normal)\n",
      "/opt/anaconda3/lib/python3.8/site-packages/cptac/dataframe_tools.py:106: FutureWarning: The frame.append method is deprecated and will be removed from pandas in a future version. Use pandas.concat instead.\n",
      "  all_df = tumor.append(normal)\n"
     ]
    },
    {
     "name": "stdout",
     "output_type": "stream",
     "text": [
      "Loading washuluad v1.0........                   \r"
     ]
    },
    {
     "name": "stderr",
     "output_type": "stream",
     "text": [
      "/opt/anaconda3/lib/python3.8/site-packages/cptac/pancan/washuluad.py:136: FutureWarning: The frame.append method is deprecated and will be removed from pandas in a future version. Use pandas.concat instead.\n",
      "  all_df = tumor.append(normal)\n",
      "/opt/anaconda3/lib/python3.8/site-packages/cptac/pancan/washuluad.py:136: FutureWarning: The frame.append method is deprecated and will be removed from pandas in a future version. Use pandas.concat instead.\n",
      "  all_df = tumor.append(normal)\n",
      "/opt/anaconda3/lib/python3.8/site-packages/cptac/pancan/washuluad.py:136: FutureWarning: The frame.append method is deprecated and will be removed from pandas in a future version. Use pandas.concat instead.\n",
      "  all_df = tumor.append(normal)\n"
     ]
    },
    {
     "name": "stdout",
     "output_type": "stream",
     "text": [
      "Loading washuluad v1.0..........\r"
     ]
    },
    {
     "name": "stderr",
     "output_type": "stream",
     "text": [
      "/opt/anaconda3/lib/python3.8/site-packages/gtfparse/read_gtf.py:82: FutureWarning: The error_bad_lines argument has been deprecated and will be removed in a future version. Use on_bad_lines in the future.\n",
      "\n",
      "\n",
      "  chunk_iterator = pd.read_csv(\n",
      "/opt/anaconda3/lib/python3.8/site-packages/gtfparse/read_gtf.py:82: FutureWarning: The warn_bad_lines argument has been deprecated and will be removed in a future version. Use on_bad_lines in the future.\n",
      "\n",
      "\n",
      "  chunk_iterator = pd.read_csv(\n"
     ]
    },
    {
     "name": "stdout",
     "output_type": "stream",
     "text": [
      "Loading washuluad v1.0...........\r",
      "Loading washuluad v1.0............\r",
      "Loading washuluad v1.0.............\r",
      "Loading washuluad v1.0..............\r",
      "Loading washuluad v1.0...............\r",
      "Loading washuluad v1.0................\r",
      "Loading washuluad v1.0.................\r",
      "Loading washuluad v1.0..................\r",
      "                                        \r",
      "Formatting washuluad dataframes...\r"
     ]
    },
    {
     "name": "stderr",
     "output_type": "stream",
     "text": [
      "/opt/anaconda3/lib/python3.8/site-packages/cptac/pancan/washuluad.py:215: FutureWarning: The frame.append method is deprecated and will be removed from pandas in a future version. Use pandas.concat instead.\n",
      "  rna_combined = rna_tumor.append(rna_normal)\n",
      "/opt/anaconda3/lib/python3.8/site-packages/cptac/dataframe_tools.py:106: FutureWarning: The frame.append method is deprecated and will be removed from pandas in a future version. Use pandas.concat instead.\n",
      "  all_df = tumor.append(normal)\n",
      "/opt/anaconda3/lib/python3.8/site-packages/cptac/dataframe_tools.py:106: FutureWarning: The frame.append method is deprecated and will be removed from pandas in a future version. Use pandas.concat instead.\n",
      "  all_df = tumor.append(normal)\n",
      "/opt/anaconda3/lib/python3.8/site-packages/cptac/dataframe_tools.py:106: FutureWarning: The frame.append method is deprecated and will be removed from pandas in a future version. Use pandas.concat instead.\n",
      "  all_df = tumor.append(normal)\n",
      "/opt/anaconda3/lib/python3.8/site-packages/cptac/dataframe_tools.py:106: FutureWarning: The frame.append method is deprecated and will be removed from pandas in a future version. Use pandas.concat instead.\n",
      "  all_df = tumor.append(normal)\n",
      "/opt/anaconda3/lib/python3.8/site-packages/cptac/dataframe_tools.py:106: FutureWarning: The frame.append method is deprecated and will be removed from pandas in a future version. Use pandas.concat instead.\n",
      "  all_df = tumor.append(normal)\n",
      "/opt/anaconda3/lib/python3.8/site-packages/cptac/dataframe_tools.py:106: FutureWarning: The frame.append method is deprecated and will be removed from pandas in a future version. Use pandas.concat instead.\n",
      "  all_df = tumor.append(normal)\n",
      "/opt/anaconda3/lib/python3.8/site-packages/cptac/dataframe_tools.py:106: FutureWarning: The frame.append method is deprecated and will be removed from pandas in a future version. Use pandas.concat instead.\n",
      "  all_df = tumor.append(normal)\n",
      "/opt/anaconda3/lib/python3.8/site-packages/cptac/dataframe_tools.py:106: FutureWarning: The frame.append method is deprecated and will be removed from pandas in a future version. Use pandas.concat instead.\n",
      "  all_df = tumor.append(normal)\n",
      "/opt/anaconda3/lib/python3.8/site-packages/cptac/dataframe_tools.py:106: FutureWarning: The frame.append method is deprecated and will be removed from pandas in a future version. Use pandas.concat instead.\n",
      "  all_df = tumor.append(normal)\n"
     ]
    },
    {
     "name": "stdout",
     "output_type": "stream",
     "text": [
      "Formatting harmonized dataframes...            \r"
     ]
    },
    {
     "name": "stderr",
     "output_type": "stream",
     "text": [
      "/opt/anaconda3/lib/python3.8/site-packages/cptac/dataframe_tools.py:106: FutureWarning: The frame.append method is deprecated and will be removed from pandas in a future version. Use pandas.concat instead.\n",
      "  all_df = tumor.append(normal)\n",
      "/opt/anaconda3/lib/python3.8/site-packages/cptac/dataframe_tools.py:106: FutureWarning: The frame.append method is deprecated and will be removed from pandas in a future version. Use pandas.concat instead.\n",
      "  all_df = tumor.append(normal)\n",
      "/opt/anaconda3/lib/python3.8/site-packages/cptac/dataframe_tools.py:106: FutureWarning: The frame.append method is deprecated and will be removed from pandas in a future version. Use pandas.concat instead.\n",
      "  all_df = tumor.append(normal)\n",
      "/opt/anaconda3/lib/python3.8/site-packages/cptac/dataframe_tools.py:106: FutureWarning: The frame.append method is deprecated and will be removed from pandas in a future version. Use pandas.concat instead.\n",
      "  all_df = tumor.append(normal)\n"
     ]
    },
    {
     "name": "stdout",
     "output_type": "stream",
     "text": [
      "                                   \r"
     ]
    },
    {
     "name": "stderr",
     "output_type": "stream",
     "text": [
      "/opt/anaconda3/lib/python3.8/site-packages/cptac/dataframe_tools.py:106: FutureWarning: The frame.append method is deprecated and will be removed from pandas in a future version. Use pandas.concat instead.\n",
      "  all_df = tumor.append(normal)\n",
      "/opt/anaconda3/lib/python3.8/site-packages/cptac/dataframe_tools.py:106: FutureWarning: The frame.append method is deprecated and will be removed from pandas in a future version. Use pandas.concat instead.\n",
      "  all_df = tumor.append(normal)\n",
      "/opt/anaconda3/lib/python3.8/site-packages/cptac/dataframe_tools.py:106: FutureWarning: The frame.append method is deprecated and will be removed from pandas in a future version. Use pandas.concat instead.\n",
      "  all_df = tumor.append(normal)\n"
     ]
    }
   ],
   "source": [
    "prot_trans = ut.load_prot_trans([\n",
    "    \"ccrcc\",\n",
    "    \"endometrial\",\n",
    "    \"hnscc\",\n",
    "    \"lscc\",\n",
    "    \"luad\",\n",
    "],True)"
   ]
  },
  {
   "cell_type": "code",
   "execution_count": 6,
   "metadata": {},
   "outputs": [],
   "source": [
    "def get_regression(corr_df, prot_trans_df):\n",
    "    \n",
    "    sig_prot_trans = prot_trans_df[prot_trans_df[\"Gene\"].isin(corr_df[\"Gene\"])]\n",
    "    \n",
    "    def get_odr(df):\n",
    "        \n",
    "        def f(B, x):\n",
    "            return B[0]*x + B[1]\n",
    "        \n",
    "        linear = scipy.odr.Model(f)\n",
    "        data = scipy.odr.Data(df[\"Transcriptomics\"], df[\"Proteomics\"])\n",
    "        odr = scipy.odr.ODR(data, linear, beta0=[1, 1])\n",
    "        output = odr.run()\n",
    "        \n",
    "        return output.beta\n",
    "    \n",
    "    results = sig_prot_trans.\\\n",
    "    groupby([\"Tissue\", \"Gene\"]).\\\n",
    "    apply(get_odr).\\\n",
    "    reset_index(drop=False).\\\n",
    "    rename(columns={0: \"beta\"})\n",
    "    \n",
    "    mb = pd.DataFrame(results[\"beta\"].tolist(), columns=[\"m\", \"b\"])\n",
    "    results = pd.concat([results, mb], axis=1).drop(columns=[\"beta\"])\n",
    "    \n",
    "    return results\n",
    "\n",
    "hnscc_results = get_regression(hnscc_delta, prot_trans[\"hnscc\"])\n",
    "luad_results = get_regression(luad_delta, prot_trans[\"luad\"])\n",
    "lscc_results = get_regression(lscc_delta, prot_trans[\"lscc\"])\n",
    "ccrcc_results = get_regression(ccrcc_delta, prot_trans[\"ccrcc\"])\n",
    "endo_results = get_regression(endo_delta, prot_trans[\"endometrial\"])"
   ]
  },
  {
   "cell_type": "code",
   "execution_count": 7,
   "metadata": {},
   "outputs": [],
   "source": [
    "def make_chart(df, m, b):\n",
    "\n",
    "    scatter = alt.Chart(df).mark_circle().encode(\n",
    "        x=\"Transcriptomics\",\n",
    "        y=\"Proteomics\",\n",
    "        color=\"Tissue\",\n",
    "        tooltip=[\"Patient_ID\"]\n",
    "    )\n",
    "    \n",
    "    x = np.arange(14)\n",
    "    y = m * x + b\n",
    "    \n",
    "    df = pd.DataFrame({\"x\":x, \"y\": y})\n",
    "    \n",
    "    line = alt.Chart(df).mark_line().encode(\n",
    "        x='x',\n",
    "        y='y'\n",
    "    )\n",
    "    \n",
    "    return scatter+line"
   ]
  },
  {
   "cell_type": "code",
   "execution_count": 8,
   "metadata": {},
   "outputs": [],
   "source": [
    "#for gene in hnscc_results['Gene']:\n",
    "gene = 'AADAC'\n",
    "tissue_type = ['Tumor', 'Normal']\n",
    "\n",
    "chart = []\n",
    "\n",
    "for tissue in tissue_type:\n",
    "    pr_tr_cancer = prot_trans['hnscc']\n",
    "    gene_df = pr_tr_cancer.loc[(pr_tr_cancer['Gene'] == gene) & (pr_tr_cancer['Tissue'] == tissue)]\n",
    "    gene_slope = hnscc_results.loc[(hnscc_results['Gene'] == gene) & (hnscc_results['Tissue'] == tissue)]\n",
    "    m = gene_slope['m'].values[0]\n",
    "    b = gene_slope['b'].values[0]\n",
    "    \n",
    "    chart.append(make_chart(gene_df, m, b))\n",
    "\n",
    "a = alt.vconcat(*chart)"
   ]
  },
  {
   "cell_type": "code",
   "execution_count": 9,
   "metadata": {},
   "outputs": [],
   "source": [
    "hnscc_results.to_csv('hnscc_regression.tsv', sep='\\t', index=False)\n",
    "ccrcc_results.to_csv('ccrcc_regression.tsv', sep='\\t', index=False)\n",
    "lscc_results.to_csv('lscc_regression.tsv', sep='\\t', index=False)\n",
    "luad_results.to_csv('luad_regression.tsv', sep='\\t', index=False)\n",
    "endo_results.to_csv('endometrial_regression.tsv', sep='\\t', index=False)"
   ]
  },
  {
   "cell_type": "code",
   "execution_count": null,
   "metadata": {},
   "outputs": [],
   "source": []
  }
 ],
 "metadata": {
  "kernelspec": {
   "display_name": "Python 3",
   "language": "python",
   "name": "python3"
  },
  "language_info": {
   "codemirror_mode": {
    "name": "ipython",
    "version": 3
   },
   "file_extension": ".py",
   "mimetype": "text/x-python",
   "name": "python",
   "nbconvert_exporter": "python",
   "pygments_lexer": "ipython3",
   "version": "3.8.3"
  }
 },
 "nbformat": 4,
 "nbformat_minor": 5
}
