{
 "cells": [
  {
   "cell_type": "code",
   "execution_count": 1,
   "metadata": {},
   "outputs": [],
   "source": [
    "import cptac\n",
    "import pandas as pd\n",
    "import scipy.stats as stats\n",
    "import cptac.utils as ut\n",
    "import scipy\n",
    "import statsmodels.stats.multitest as ssm\n",
    "import numpy as np"
   ]
  },
  {
   "cell_type": "code",
   "execution_count": 2,
   "metadata": {},
   "outputs": [
    {
     "name": "stdout",
     "output_type": "stream",
     "text": [
      "                                                \r"
     ]
    },
    {
     "name": "stderr",
     "output_type": "stream",
     "text": [
      "cptac warning: The LSCC data is currently strictly reserved for CPTAC investigators. Otherwise, you are not authorized to access these data. Additionally, even after these data become publicly available, they will be subject to a publication embargo (see https://proteomics.cancer.gov/data-portal/about/data-use-agreement or enter cptac.embargo() to open the webpage for more details). (<ipython-input-2-5c25f03e6d4a>, line 5)\n"
     ]
    }
   ],
   "source": [
    "ccrcc = cptac.Ccrcc()\n",
    "en = cptac.Endometrial()\n",
    "luad = cptac.Luad()\n",
    "hnscc  = cptac.Hnscc()\n",
    "lscc = cptac.Lscc()"
   ]
  },
  {
   "cell_type": "code",
   "execution_count": 3,
   "metadata": {},
   "outputs": [],
   "source": [
    "cancers = [ccrcc, en, luad, hnscc, lscc]\n",
    "cancer_names = ['CCRCC', 'Endometrial', 'LUAD', 'HNSCC', 'LSCC']"
   ]
  },
  {
   "cell_type": "code",
   "execution_count": 4,
   "metadata": {},
   "outputs": [],
   "source": [
    "def log2_fold_change(tumor, normal):\n",
    "    tumor = np.mean(tumor)\n",
    "    normal = np.mean(normal)\n",
    "    if normal == 0 or tumor == 0:\n",
    "        return(float('Nan'))\n",
    "    fold_change = tumor / normal\n",
    "    fold_change = abs(fold_change)\n",
    "    log2_change = np.log2(fold_change)\n",
    "    return log2_change    "
   ]
  },
  {
   "cell_type": "code",
   "execution_count": null,
   "metadata": {},
   "outputs": [
    {
     "name": "stderr",
     "output_type": "stream",
     "text": [
      "cptac warning: Due to dropping the specified levels, dataframe now has 907 duplicated column headers. (<ipython-input-5-a6967ad66291>, line 5)\n",
      "cptac warning: Due to dropping the specified levels, dataframe now has 907 duplicated column headers. (<ipython-input-5-a6967ad66291>, line 11)\n",
      "C:\\Users\\nanel\\anaconda3\\lib\\site-packages\\scipy\\stats\\stats.py:7114: RuntimeWarning: invalid value encountered in double_scalars\n",
      "  z = (s - expected) / np.sqrt(n1*n2*(n1+n2+1)/12.0)\n",
      "C:\\Users\\nanel\\anaconda3\\lib\\site-packages\\scipy\\stats\\_distn_infrastructure.py:1932: RuntimeWarning: invalid value encountered in less_equal\n",
      "  cond2 = cond0 & (x <= _a)\n"
     ]
    }
   ],
   "source": [
    "diff_expression_dfs = []\n",
    "for cancer, cancer_name in zip(cancers, cancer_names):\n",
    "    prot_normal_df = cancer.get_proteomics('normal')\n",
    "    if isinstance(prot_normal_df.columns, pd.MultiIndex):\n",
    "        prot_normal_df = ut.reduce_multiindex(df= prot_normal_df, levels_to_drop = 'Database_ID')\n",
    "    prot_normal_df.reset_index(inplace = True)\n",
    "    prot_normal_df = prot_normal_df.melt(id_vars = 'Patient_ID', var_name = 'Gene', value_name = 'Proteomic')\n",
    "    prot_normal_df['Tissue'] = ['normal'] * len(prot_normal_df)\n",
    "    prot_tumor_df = cancer.get_proteomics('tumor')\n",
    "    if(isinstance(prot_tumor_df.columns, pd.MultiIndex)):\n",
    "        prot_tumor_df = ut.reduce_multiindex(df= prot_tumor_df, levels_to_drop = 'Database_ID')\n",
    "    prot_tumor_df.reset_index(inplace = True)\n",
    "    prot_tumor_df = prot_tumor_df.melt(id_vars = 'Patient_ID', var_name = 'Gene', value_name = 'Proteomic')\n",
    "    prot_tumor_df['Tissue'] = ['tumor'] * len(prot_tumor_df)\n",
    "    prot_df = pd.merge(prot_tumor_df, prot_normal_df, how = 'outer')\n",
    "    prot_df = prot_df.dropna()\n",
    "    fold_change = prot_df.groupby('Gene').apply(\n",
    "        lambda df: log2_fold_change(df[df['Tissue']=='tumor'].Proteomic,\n",
    "                                    df[df['Tissue']=='normal'].Proteomic))\n",
    "    fold_change = pd.DataFrame(fold_change, columns = ['Log2_fold_change'])\n",
    "    fold_change.reset_index(inplace = True)\n",
    "    ranksums = prot_df.groupby('Gene').apply(lambda df: stats.ranksums(\n",
    "        df[df['Tissue']=='tumor'].Proteomic,\n",
    "        df[df['Tissue']=='normal'].Proteomic))\n",
    "    ranksums = pd.DataFrame.from_records(ranksums, index = ranksums.index, columns = ['statistic', 'pval'])\n",
    "    ranksums.reset_index(inplace = True)\n",
    "    ranksums = ranksums.dropna()\n",
    "    ranksums['FDR'] = ssm.fdrcorrection(ranksums['pval'])[1]\n",
    "    ranksums['Cancer'] = [cancer_name] * len(ranksums)\n",
    "    diff_expression_df = pd.merge(ranksums, fold_change)\n",
    "    diff_expression_dfs.append(diff_expression_df)\n",
    "diff_expression_df = pd.concat(diff_expression_dfs)\n",
    "diff_expression_df.to_csv('data/Proteomics_differential_expression_df.csv', index = False)\n",
    "diff_expression_df"
   ]
  },
  {
   "cell_type": "code",
   "execution_count": null,
   "metadata": {},
   "outputs": [],
   "source": []
  }
 ],
 "metadata": {
  "kernelspec": {
   "display_name": "Python 3",
   "language": "python",
   "name": "python3"
  },
  "language_info": {
   "codemirror_mode": {
    "name": "ipython",
    "version": 3
   },
   "file_extension": ".py",
   "mimetype": "text/x-python",
   "name": "python",
   "nbconvert_exporter": "python",
   "pygments_lexer": "ipython3",
   "version": "3.8.3"
  }
 },
 "nbformat": 4,
 "nbformat_minor": 4
}
