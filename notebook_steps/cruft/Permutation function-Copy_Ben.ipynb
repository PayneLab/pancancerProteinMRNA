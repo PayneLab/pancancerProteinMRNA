{
 "cells": [
  {
   "cell_type": "code",
   "execution_count": 1,
   "metadata": {},
   "outputs": [],
   "source": [
    "def permute(df,original_correlation, label_1, label_2, permutation_times):\n",
    "    permutation_list = []\n",
    "    permu_df = copy.deepcopy(df)\n",
    "    z_score = (original_correlation - permutation_list.mean()) / permutation_list.stdev()\n",
    "\n",
    "    for i in range(permutation_times):\n",
    "        permu_df[\"Type\"] = np.random.permutation(permu_df[\"Type\"])\n",
    "        permu_is_label_1 = permu_df[\"Type\"] == label_1\n",
    "        permu_is_label_2 = permu_df[\"Type\"] == label_2\n",
    "        label_1_correlation,label_1_pval = scipy.stats.pearsonr(permu_df[permu_is_label_1][\"Proteomics\"], permu_df[permu_is_label_1][\"Transcriptomics\"])\n",
    "        label_2_correlation,label_2_pval = scipy.stats.pearsonr(permu_df[permu_is_label_2][\"Proteomics\"], permu_df[permu_is_label_2][\"Transcriptomics\"])\n",
    "        delta = label_1_correlation - label_2_correlation\n",
    "        permutation_list.append(delta)\n",
    "        \n",
    "    z_score = (original_correlation - np.mean(permutation_list)) / np.std(permutation_list)\n",
    "    p_val = scipy.stats.norm.sf(abs(z_score))*2\n",
    "    return p_val"
   ]
  }
 ],
 "metadata": {
  "kernelspec": {
   "display_name": "Python 3",
   "language": "python",
   "name": "python3"
  },
  "language_info": {
   "codemirror_mode": {
    "name": "ipython",
    "version": 3
   },
   "file_extension": ".py",
   "mimetype": "text/x-python",
   "name": "python",
   "nbconvert_exporter": "python",
   "pygments_lexer": "ipython3",
   "version": "3.8.3"
  }
 },
 "nbformat": 4,
 "nbformat_minor": 4
}
