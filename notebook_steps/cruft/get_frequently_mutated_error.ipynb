{
 "cells": [
  {
   "cell_type": "code",
   "execution_count": 1,
   "metadata": {},
   "outputs": [],
   "source": [
    "import cptac\n",
    "import pandas as pd\n",
    "import cptac.utils as ut"
   ]
  },
  {
   "cell_type": "code",
   "execution_count": 2,
   "metadata": {},
   "outputs": [
    {
     "name": "stdout",
     "output_type": "stream",
     "text": [
      "                                         \r"
     ]
    }
   ],
   "source": [
    "luad = cptac.Luad()"
   ]
  },
  {
   "cell_type": "code",
   "execution_count": 3,
   "metadata": {},
   "outputs": [
    {
     "data": {
      "text/html": [
       "<div>\n",
       "<style scoped>\n",
       "    .dataframe tbody tr th:only-of-type {\n",
       "        vertical-align: middle;\n",
       "    }\n",
       "\n",
       "    .dataframe tbody tr th {\n",
       "        vertical-align: top;\n",
       "    }\n",
       "\n",
       "    .dataframe thead th {\n",
       "        text-align: right;\n",
       "    }\n",
       "</style>\n",
       "<table border=\"1\" class=\"dataframe\">\n",
       "  <thead>\n",
       "    <tr style=\"text-align: right;\">\n",
       "      <th>Name</th>\n",
       "      <th>Gene</th>\n",
       "      <th>Unique_Samples_Mut</th>\n",
       "      <th>Missense_Mut</th>\n",
       "      <th>Truncation_Mut</th>\n",
       "    </tr>\n",
       "  </thead>\n",
       "  <tbody>\n",
       "    <tr>\n",
       "      <th>0</th>\n",
       "      <td>ABCA13</td>\n",
       "      <td>0.118182</td>\n",
       "      <td>0.109091</td>\n",
       "      <td>0.009091</td>\n",
       "    </tr>\n",
       "    <tr>\n",
       "      <th>1</th>\n",
       "      <td>ACTN2</td>\n",
       "      <td>0.136364</td>\n",
       "      <td>0.127273</td>\n",
       "      <td>0.009091</td>\n",
       "    </tr>\n",
       "    <tr>\n",
       "      <th>2</th>\n",
       "      <td>ADAMTS12</td>\n",
       "      <td>0.154545</td>\n",
       "      <td>0.145455</td>\n",
       "      <td>0.018182</td>\n",
       "    </tr>\n",
       "    <tr>\n",
       "      <th>3</th>\n",
       "      <td>ADAMTS20</td>\n",
       "      <td>0.118182</td>\n",
       "      <td>0.100000</td>\n",
       "      <td>0.027273</td>\n",
       "    </tr>\n",
       "    <tr>\n",
       "      <th>4</th>\n",
       "      <td>ADCY2</td>\n",
       "      <td>0.136364</td>\n",
       "      <td>0.109091</td>\n",
       "      <td>0.027273</td>\n",
       "    </tr>\n",
       "    <tr>\n",
       "      <th>...</th>\n",
       "      <td>...</td>\n",
       "      <td>...</td>\n",
       "      <td>...</td>\n",
       "      <td>...</td>\n",
       "    </tr>\n",
       "    <tr>\n",
       "      <th>101</th>\n",
       "      <td>XIRP2</td>\n",
       "      <td>0.163636</td>\n",
       "      <td>0.154545</td>\n",
       "      <td>0.009091</td>\n",
       "    </tr>\n",
       "    <tr>\n",
       "      <th>102</th>\n",
       "      <td>ZFHX4</td>\n",
       "      <td>0.236364</td>\n",
       "      <td>0.218182</td>\n",
       "      <td>0.045455</td>\n",
       "    </tr>\n",
       "    <tr>\n",
       "      <th>103</th>\n",
       "      <td>ZNF469</td>\n",
       "      <td>0.127273</td>\n",
       "      <td>0.118182</td>\n",
       "      <td>0.009091</td>\n",
       "    </tr>\n",
       "    <tr>\n",
       "      <th>104</th>\n",
       "      <td>ZNF536</td>\n",
       "      <td>0.118182</td>\n",
       "      <td>0.118182</td>\n",
       "      <td>0.000000</td>\n",
       "    </tr>\n",
       "    <tr>\n",
       "      <th>105</th>\n",
       "      <td>ZNF804A</td>\n",
       "      <td>0.127273</td>\n",
       "      <td>0.100000</td>\n",
       "      <td>0.027273</td>\n",
       "    </tr>\n",
       "  </tbody>\n",
       "</table>\n",
       "<p>106 rows × 4 columns</p>\n",
       "</div>"
      ],
      "text/plain": [
       "Name      Gene  Unique_Samples_Mut  Missense_Mut  Truncation_Mut\n",
       "0       ABCA13            0.118182      0.109091        0.009091\n",
       "1        ACTN2            0.136364      0.127273        0.009091\n",
       "2     ADAMTS12            0.154545      0.145455        0.018182\n",
       "3     ADAMTS20            0.118182      0.100000        0.027273\n",
       "4        ADCY2            0.136364      0.109091        0.027273\n",
       "..         ...                 ...           ...             ...\n",
       "101      XIRP2            0.163636      0.154545        0.009091\n",
       "102      ZFHX4            0.236364      0.218182        0.045455\n",
       "103     ZNF469            0.127273      0.118182        0.009091\n",
       "104     ZNF536            0.118182      0.118182        0.000000\n",
       "105    ZNF804A            0.127273      0.100000        0.027273\n",
       "\n",
       "[106 rows x 4 columns]"
      ]
     },
     "execution_count": 3,
     "metadata": {},
     "output_type": "execute_result"
    }
   ],
   "source": [
    "freq_mut = ut.get_frequently_mutated(luad)\n",
    "freq_mut"
   ]
  },
  {
   "cell_type": "code",
   "execution_count": 4,
   "metadata": {},
   "outputs": [
    {
     "name": "stderr",
     "output_type": "stream",
     "text": [
      "C:\\Users\\nanel\\anaconda3\\lib\\site-packages\\setuptools\\distutils_patch.py:25: UserWarning: Distutils was imported before Setuptools. This usage is discouraged and may exhibit undesirable behaviors or errors. Please use Setuptools' objects directly or at least import Setuptools first.\n",
      "  warnings.warn(\n"
     ]
    },
    {
     "name": "stdout",
     "output_type": "stream",
     "text": [
      "\n",
      "INSTALLED VERSIONS\n",
      "------------------\n",
      "commit           : f2c8480af2f25efdbd803218b9d87980f416563e\n",
      "python           : 3.8.3.final.0\n",
      "python-bits      : 64\n",
      "OS               : Windows\n",
      "OS-release       : 10\n",
      "Version          : 10.0.19041\n",
      "machine          : AMD64\n",
      "processor        : Intel64 Family 6 Model 78 Stepping 3, GenuineIntel\n",
      "byteorder        : little\n",
      "LC_ALL           : None\n",
      "LANG             : None\n",
      "LOCALE           : English_United States.1252\n",
      "\n",
      "pandas           : 1.2.3\n",
      "numpy            : 1.18.5\n",
      "pytz             : 2020.1\n",
      "dateutil         : 2.8.1\n",
      "pip              : 20.1.1\n",
      "setuptools       : 49.2.0.post20200714\n",
      "Cython           : 0.29.21\n",
      "pytest           : 5.4.3\n",
      "hypothesis       : None\n",
      "sphinx           : 3.1.2\n",
      "blosc            : None\n",
      "feather          : None\n",
      "xlsxwriter       : 1.2.9\n",
      "lxml.etree       : 4.5.2\n",
      "html5lib         : 1.1\n",
      "pymysql          : None\n",
      "psycopg2         : None\n",
      "jinja2           : 2.11.2\n",
      "IPython          : 7.16.1\n",
      "pandas_datareader: None\n",
      "bs4              : 4.9.1\n",
      "bottleneck       : 1.3.2\n",
      "fsspec           : 0.7.4\n",
      "fastparquet      : None\n",
      "gcsfs            : None\n",
      "matplotlib       : 3.2.2\n",
      "numexpr          : 2.7.1\n",
      "odfpy            : None\n",
      "openpyxl         : 3.0.4\n",
      "pandas_gbq       : None\n",
      "pyarrow          : 3.0.0\n",
      "pyxlsb           : None\n",
      "s3fs             : None\n",
      "scipy            : 1.5.0\n",
      "sqlalchemy       : 1.3.18\n",
      "tables           : 3.6.1\n",
      "tabulate         : 0.8.7\n",
      "xarray           : None\n",
      "xlrd             : 1.2.0\n",
      "xlwt             : 1.3.0\n",
      "numba            : 0.50.1\n"
     ]
    }
   ],
   "source": [
    "pd.show_versions()"
   ]
  },
  {
   "cell_type": "code",
   "execution_count": 5,
   "metadata": {},
   "outputs": [
    {
     "data": {
      "text/plain": [
       "'0.8.8'"
      ]
     },
     "execution_count": 5,
     "metadata": {},
     "output_type": "execute_result"
    }
   ],
   "source": [
    "cptac.version()"
   ]
  },
  {
   "cell_type": "code",
   "execution_count": null,
   "metadata": {},
   "outputs": [],
   "source": []
  }
 ],
 "metadata": {
  "kernelspec": {
   "display_name": "Python 3",
   "language": "python",
   "name": "python3"
  },
  "language_info": {
   "codemirror_mode": {
    "name": "ipython",
    "version": 3
   },
   "file_extension": ".py",
   "mimetype": "text/x-python",
   "name": "python",
   "nbconvert_exporter": "python",
   "pygments_lexer": "ipython3",
   "version": "3.8.3"
  }
 },
 "nbformat": 4,
 "nbformat_minor": 4
}
