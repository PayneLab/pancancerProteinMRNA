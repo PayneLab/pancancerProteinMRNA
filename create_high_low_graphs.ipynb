{
 "cells": [
  {
   "cell_type": "markdown",
   "metadata": {},
   "source": [
    "# Creating High and Low Variance/Expression Figures"
   ]
  },
  {
   "cell_type": "markdown",
   "metadata": {},
   "source": [
    "## Step 1: Import data"
   ]
  },
  {
   "cell_type": "code",
   "execution_count": 1,
   "metadata": {},
   "outputs": [],
   "source": [
    "import cptac\n",
    "import cptac.utils as ut\n",
    "import scipy\n",
    "import seaborn as sns\n",
    "import matplotlib.pyplot as plt\n",
    "import numpy as np\n",
    "import math\n",
    "import pandas as pd\n",
    "import statistics as st\n",
    "import get_correlations\n",
    "import load_high_low_data # This allows us to load data from paper with pubmed ID 30777892"
   ]
  },
  {
   "cell_type": "code",
   "execution_count": 2,
   "metadata": {},
   "outputs": [],
   "source": [
    "whole_dataframe = load_high_low_data.load_from_file() #Here we load our data from load_high_low_data.py"
   ]
  },
  {
   "cell_type": "code",
   "execution_count": 3,
   "metadata": {},
   "outputs": [
    {
     "name": "stdout",
     "output_type": "stream",
     "text": [
      "Checking that gbm index is up-to-date... \r"
     ]
    },
    {
     "name": "stderr",
     "output_type": "stream",
     "text": [
      "cptac warning: The LSCC data is currently strictly reserved for CPTAC investigators. Otherwise, you are not authorized to access these data. Additionally, even after these data become publicly available, they will be subject to a publication embargo (see https://proteomics.cancer.gov/data-portal/about/data-use-agreement or enter cptac.embargo() to open the webpage for more details). (/Users/benkk/anaconda3/envs/cptac_dev/lib/python3.7/site-packages/ipykernel_launcher.py, line 2)\n"
     ]
    },
    {
     "name": "stdout",
     "output_type": "stream",
     "text": [
      "Checking that colon index is up-to-date...\r"
     ]
    },
    {
     "name": "stderr",
     "output_type": "stream",
     "text": [
      "cptac warning: The GBM dataset is under publication embargo until March 01, 2021. CPTAC is a community resource project and data are made available rapidly after generation for community research use. The embargo allows exploring and utilizing the data, but analysis may not be published until after the embargo date. Please see https://proteomics.cancer.gov/data-portal/about/data-use-agreement or enter cptac.embargo() to open the webpage for more details. (/Users/benkk/anaconda3/envs/cptac_dev/lib/python3.7/site-packages/ipykernel_launcher.py, line 3)\n"
     ]
    },
    {
     "name": "stdout",
     "output_type": "stream",
     "text": [
      "                                                \r"
     ]
    }
   ],
   "source": [
    "luad = cptac.Luad()\n",
    "lscc = cptac.Lscc()\n",
    "gbm = cptac.Gbm()\n",
    "colon = cptac.Colon()\n",
    "end = cptac.Endometrial()"
   ]
  },
  {
   "cell_type": "markdown",
   "metadata": {},
   "source": [
    "## Step 2: Parse through data"
   ]
  },
  {
   "cell_type": "markdown",
   "metadata": {},
   "source": [
    "Next we take the data we imported and parse it to get lists high/low expression and variability lists."
   ]
  },
  {
   "cell_type": "code",
   "execution_count": 4,
   "metadata": {},
   "outputs": [],
   "source": [
    "#This function takes as a parameter the dataframe retrieved from Wang et al. and returns a list of genes that are\n",
    "#the most/least variable and most/least expressed\n",
    "def get_high_low_lists(complete_dataframe):\n",
    "    genes = complete_dataframe.index\n",
    "    stdev_list = []\n",
    "    mean_list = []\n",
    "    for gene in genes:\n",
    "        if not isinstance(gene, str):\n",
    "            continue\n",
    "        if len(complete_dataframe.loc[gene]) != 29:\n",
    "            continue\n",
    "        stdev_list.append([st.stdev(complete_dataframe.loc[gene]),gene])\n",
    "        mean_list.append([sum(complete_dataframe.loc[gene]) / len(complete_dataframe.loc[gene]),gene])\n",
    "    \n",
    "    final_stdev = sorted(stdev_list)\n",
    "    final_mean = sorted(mean_list)\n",
    "    \n",
    "    most_variable = final_stdev[11847:]\n",
    "    \n",
    "    high_variability = []\n",
    "    for gene in most_variable:\n",
    "        high_variability.append(gene[1])\n",
    "        \n",
    "    least_variable = final_stdev[:500]\n",
    "    low_variability = []\n",
    "    for gene in least_variable:\n",
    "        low_variability.append(gene[1])\n",
    "    \n",
    "    high_expression = final_mean[11847:]\n",
    "    low_expression = final_mean[:500]\n",
    "    \n",
    "    final_high_expression = []\n",
    "    for gene in high_expression:\n",
    "        final_high_expression.append(gene[1])\n",
    "        \n",
    "    final_low_expression = []\n",
    "    for gene in low_expression:\n",
    "        final_low_expression.append(gene[1])\n",
    "    \n",
    "    return high_variability,low_variability,final_high_expression,final_low_expression"
   ]
  },
  {
   "cell_type": "code",
   "execution_count": 5,
   "metadata": {},
   "outputs": [],
   "source": [
    "high_variability,low_variability,high_expression,low_expression = get_high_low_lists(whole_dataframe)"
   ]
  },
  {
   "cell_type": "markdown",
   "metadata": {},
   "source": [
    "## Step 3: Plot Correlations"
   ]
  },
  {
   "cell_type": "markdown",
   "metadata": {},
   "source": [
    "Finally we take our lists and cancer types and plot our desired correlations"
   ]
  },
  {
   "cell_type": "code",
   "execution_count": 6,
   "metadata": {},
   "outputs": [],
   "source": [
    "def plot_correlation(cancer_type, gene_list):\n",
    "    correlation_list_to_graph = get_correlations.correlation_list(cancer_type, gene_list)\n",
    "    correlation_list_to_graph = correlation_list_to_graph[0]\n",
    "    print(correlation_list_to_graph[0])\n",
    "    correlation_list_to_graph = get_correlations.ret_list(correlation_list_to_graph)\n",
    "    sns.distplot(correlation_list_to_graph)"
   ]
  },
  {
   "cell_type": "code",
   "execution_count": 7,
   "metadata": {},
   "outputs": [
    {
     "name": "stderr",
     "output_type": "stream",
     "text": [
      "cptac warning: Due to dropping the specified levels, dataframe now has 745 duplicated column headers. (/Users/benkk/Documents/GitHub/pancancerProteinMRNA/get_correlations.py, line 16)\n"
     ]
    },
    {
     "name": "stdout",
     "output_type": "stream",
     "text": [
      "['THY1', 0.7251053564767009]\n"
     ]
    },
    {
     "data": {
      "image/png": "[encoded data removed]",
      "text/plain": [
       "<Figure size 432x288 with 1 Axes>"
      ]
     },
     "metadata": {
      "needs_background": "light"
     },
     "output_type": "display_data"
    }
   ],
   "source": [
    "plot_correlation(luad,high_variability)"
   ]
  },
  {
   "cell_type": "code",
   "execution_count": 8,
   "metadata": {},
   "outputs": [
    {
     "name": "stderr",
     "output_type": "stream",
     "text": [
      "cptac warning: Due to dropping the specified levels, dataframe now has 745 duplicated column headers. (/Users/benkk/Documents/GitHub/pancancerProteinMRNA/get_correlations.py, line 16)\n"
     ]
    },
    {
     "name": "stdout",
     "output_type": "stream",
     "text": [
      "['ATG16L2', -0.05540117929377982]\n"
     ]
    },
    {
     "data": {
      "image/png": "[encoded data removed]",
      "text/plain": [
       "<Figure size 432x288 with 1 Axes>"
      ]
     },
     "metadata": {
      "needs_background": "light"
     },
     "output_type": "display_data"
    }
   ],
   "source": [
    "plot_correlation(luad, low_variability)"
   ]
  }
 ],
 "metadata": {
  "kernelspec": {
   "display_name": "Python 3",
   "language": "python",
   "name": "python3"
  },
  "language_info": {
   "codemirror_mode": {
    "name": "ipython",
    "version": 3
   },
   "file_extension": ".py",
   "mimetype": "text/x-python",
   "name": "python",
   "nbconvert_exporter": "python",
   "pygments_lexer": "ipython3",
   "version": "3.7.6"
  }
 },
 "nbformat": 4,
 "nbformat_minor": 4
}
